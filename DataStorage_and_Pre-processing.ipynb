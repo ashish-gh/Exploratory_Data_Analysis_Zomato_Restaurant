{
 "cells": [
  {
   "cell_type": "markdown",
   "metadata": {},
   "source": [
    "# Data Collection and Storage"
   ]
  },
  {
   "cell_type": "markdown",
   "metadata": {},
   "source": [
    "### Importing libraries"
   ]
  },
  {
   "cell_type": "code",
   "execution_count": 27,
   "metadata": {},
   "outputs": [],
   "source": [
    "# python os library\n",
    "import json,os,re,datetime\n",
    "import csv\n",
    "\n",
    "# pandas library\n",
    "import pandas as pd\n",
    "from pandas import DataFrame"
   ]
  },
  {
   "cell_type": "code",
   "execution_count": 41,
   "metadata": {},
   "outputs": [
    {
     "name": "stdout",
     "output_type": "stream",
     "text": [
      "['file1.json']\n"
     ]
    }
   ],
   "source": [
    "# path to un-processed data\n",
    "path_to_folder = \"raw_data\"\n",
    "\n",
    "# path to processed data\n",
    "path_to_json = 'processed_data'\n",
    "\n",
    "#looping in the folder \"data\" where the the json files are placed \n",
    "json_files = [pos_json for pos_json in os.listdir(path_to_folder) if pos_json.endswith('.json')] \n",
    "\n",
    "# printing list of json files \n",
    "print (json_files) "
   ]
  },
  {
   "cell_type": "markdown",
   "metadata": {},
   "source": [
    "`raw_data` folder contains json data fetched from Zomato API. It contains 10 files from different cities of California, USA. "
   ]
  },
  {
   "cell_type": "code",
   "execution_count": null,
   "metadata": {},
   "outputs": [],
   "source": []
  },
  {
   "cell_type": "code",
   "execution_count": 42,
   "metadata": {},
   "outputs": [],
   "source": [
    "path=\"\"\n",
    "\n",
    "\n",
    "csvfile=open('zom-1.csv', 'w',newline=\"\")\n",
    "writer=csv.writer(csvfile)  \n",
    "writer.writerow(['Restaurant ID','Restaurant Name','Country Code','City','Address','Locality','Locality Verbose','Longitude','Latitude','Cuisines','Average Cost for two','Has Table booking','Has Online delivery','Is delivering now','Switch to order menu','Price range','Aggregate rating','Rating color','Rating text','Votes']) #writer to write the row\n",
    "\n",
    "\n",
    "for js in json_files:\n",
    "    with open(os.path.join(path_to_folder, js),'r', encoding='utf-8', errors=\"ignore\") as json_file: #append the path of file to the source folde\n",
    "        loaded_file = json.load(json_file,strict=False) #load the file to be selected\n",
    "        for i in range(len(loaded_file)):\n",
    "            if 'restaurants' in loaded_file[i].keys():\n",
    "                for j in range(len(loaded_file[i]['restaurants'])):\n",
    "                    if('restaurant' in loaded_file[i]['restaurants'][j].keys()):\n",
    "                        \n",
    "                        currency = loaded_file[i]['restaurants'][j]['restaurant']['currency']\n",
    "                        city=loaded_file[i]['restaurants'][j]['restaurant']['location']['city']\n",
    "                        locality=loaded_file[i]['restaurants'][j]['restaurant']['location']['locality']\n",
    "                        rating_text=loaded_file[i]['restaurants'][j]['restaurant']['user_rating']['rating_text']\n",
    "                        name_res=loaded_file[i]['restaurants'][j]['restaurant']['name'].replace('/',\" \")\n",
    "                        res_id=loaded_file[i]['restaurants'][j]['restaurant']['R']['res_id']\n",
    "                        cuisines = loaded_file[i]['restaurants'][j]['restaurant']['cuisines']\n",
    "                        has_table_booking = loaded_file[i]['restaurants'][j]['restaurant']['has_table_booking']\n",
    "                        has_online_delivery = loaded_file[i]['restaurants'][j]['restaurant']['has_online_delivery']\n",
    "                        city_id = loaded_file[i]['restaurants'][j]['restaurant']['location']['city_id']\n",
    "                        address = loaded_file[i]['restaurants'][j]['restaurant']['location']['address']\n",
    "                        locality_verbose = loaded_file[i]['restaurants'][j]['restaurant']['location']['locality_verbose']\n",
    "                        longitude= loaded_file[i]['restaurants'][j]['restaurant']['location']['longitude']\n",
    "                        latitude= loaded_file[i]['restaurants'][j]['restaurant']['location']['latitude']\n",
    "                        is_delivering_now= loaded_file[i]['restaurants'][j]['restaurant']['is_delivering_now']                        \n",
    "                        country_id=loaded_file[i]['restaurants'][j]['restaurant']['location']['country_id']\n",
    "                        price_range=loaded_file[i]['restaurants'][j]['restaurant']['price_range']\n",
    "                        switch_to_order_menu=loaded_file[i]['restaurants'][j]['restaurant']['switch_to_order_menu']\n",
    "                        aggregate_rating=loaded_file[i]['restaurants'][j]['restaurant']['user_rating']['aggregate_rating']\n",
    "                        rating_color=loaded_file[i]['restaurants'][j]['restaurant']['user_rating']['rating_color']\n",
    "                        votes=loaded_file[i]['restaurants'][j]['restaurant']['user_rating']['votes']\n",
    "                        avg_cost=loaded_file[i]['restaurants'][j]['restaurant']['average_cost_for_two']\n",
    "                        \n",
    "                        writer.writerow([res_id,name_res,country_id,city,address,locality,locality_verbose,longitude,\n",
    "                                         latitude,cuisines,avg_cost,has_table_booking,has_online_delivery,\n",
    "                                         is_delivering_now,switch_to_order_menu,price_range,aggregate_rating,\n",
    "                                         rating_color,rating_text,votes]) \n",
    "                        "
   ]
  },
  {
   "cell_type": "code",
   "execution_count": 43,
   "metadata": {},
   "outputs": [
    {
     "data": {
      "text/html": [
       "<div>\n",
       "<style scoped>\n",
       "    .dataframe tbody tr th:only-of-type {\n",
       "        vertical-align: middle;\n",
       "    }\n",
       "\n",
       "    .dataframe tbody tr th {\n",
       "        vertical-align: top;\n",
       "    }\n",
       "\n",
       "    .dataframe thead th {\n",
       "        text-align: right;\n",
       "    }\n",
       "</style>\n",
       "<table border=\"1\" class=\"dataframe\">\n",
       "  <thead>\n",
       "    <tr style=\"text-align: right;\">\n",
       "      <th></th>\n",
       "      <th>Restaurant ID</th>\n",
       "      <th>Restaurant Name</th>\n",
       "      <th>Country Code</th>\n",
       "      <th>City</th>\n",
       "      <th>Address</th>\n",
       "      <th>Locality</th>\n",
       "      <th>Locality Verbose</th>\n",
       "      <th>Longitude</th>\n",
       "      <th>Latitude</th>\n",
       "      <th>Cuisines</th>\n",
       "      <th>Average Cost for two</th>\n",
       "      <th>Has Table booking</th>\n",
       "      <th>Has Online delivery</th>\n",
       "      <th>Is delivering now</th>\n",
       "      <th>Switch to order menu</th>\n",
       "      <th>Price range</th>\n",
       "      <th>Aggregate rating</th>\n",
       "      <th>Rating color</th>\n",
       "      <th>Rating text</th>\n",
       "      <th>Votes</th>\n",
       "    </tr>\n",
       "  </thead>\n",
       "  <tbody>\n",
       "    <tr>\n",
       "      <th>0</th>\n",
       "      <td>308322.0</td>\n",
       "      <td>Hauz Khas Social</td>\n",
       "      <td>1</td>\n",
       "      <td>New Delhi</td>\n",
       "      <td>9-A &amp; 12, Hauz Khas Village, New Delhi</td>\n",
       "      <td>Hauz Khas Village</td>\n",
       "      <td>Hauz Khas Village, New Delhi</td>\n",
       "      <td>77.194471</td>\n",
       "      <td>28.554285</td>\n",
       "      <td>Continental, American, Asian, North Indian</td>\n",
       "      <td>1600</td>\n",
       "      <td>1</td>\n",
       "      <td>1</td>\n",
       "      <td>0</td>\n",
       "      <td>0</td>\n",
       "      <td>3</td>\n",
       "      <td>4.3</td>\n",
       "      <td>5BA829</td>\n",
       "      <td>Very Good</td>\n",
       "      <td>7931</td>\n",
       "    </tr>\n",
       "    <tr>\n",
       "      <th>1</th>\n",
       "      <td>18037817.0</td>\n",
       "      <td>Qubitos - The Terrace Cafe</td>\n",
       "      <td>1</td>\n",
       "      <td>New Delhi</td>\n",
       "      <td>C-7, Vishal Enclave, Opposite Metro Pillar 417...</td>\n",
       "      <td>Rajouri Garden</td>\n",
       "      <td>Rajouri Garden, New Delhi</td>\n",
       "      <td>77.117701</td>\n",
       "      <td>28.647133</td>\n",
       "      <td>Thai, European, Mexican, North Indian, Chinese...</td>\n",
       "      <td>1500</td>\n",
       "      <td>1</td>\n",
       "      <td>0</td>\n",
       "      <td>0</td>\n",
       "      <td>0</td>\n",
       "      <td>3</td>\n",
       "      <td>4.5</td>\n",
       "      <td>3F7E00</td>\n",
       "      <td>Excellent</td>\n",
       "      <td>778</td>\n",
       "    </tr>\n",
       "    <tr>\n",
       "      <th>2</th>\n",
       "      <td>312345.0</td>\n",
       "      <td>The Hudson Cafe</td>\n",
       "      <td>1</td>\n",
       "      <td>New Delhi</td>\n",
       "      <td>2524, 1st Floor, Hudson Lane, Delhi University...</td>\n",
       "      <td>Delhi University-GTB Nagar</td>\n",
       "      <td>Delhi University-GTB Nagar, New Delhi</td>\n",
       "      <td>77.204317</td>\n",
       "      <td>28.694947</td>\n",
       "      <td>Cafe, Italian, Continental, Chinese</td>\n",
       "      <td>850</td>\n",
       "      <td>0</td>\n",
       "      <td>1</td>\n",
       "      <td>0</td>\n",
       "      <td>0</td>\n",
       "      <td>2</td>\n",
       "      <td>4.4</td>\n",
       "      <td>5BA829</td>\n",
       "      <td>Very Good</td>\n",
       "      <td>1537</td>\n",
       "    </tr>\n",
       "    <tr>\n",
       "      <th>3</th>\n",
       "      <td>307490.0</td>\n",
       "      <td>Summer House Cafe</td>\n",
       "      <td>1</td>\n",
       "      <td>New Delhi</td>\n",
       "      <td>1st Floor, DDA Shopping Complex, Aurobindo Pla...</td>\n",
       "      <td>Hauz Khas</td>\n",
       "      <td>Hauz Khas, New Delhi</td>\n",
       "      <td>77.203809</td>\n",
       "      <td>28.552520</td>\n",
       "      <td>Italian, Continental</td>\n",
       "      <td>1850</td>\n",
       "      <td>1</td>\n",
       "      <td>0</td>\n",
       "      <td>0</td>\n",
       "      <td>0</td>\n",
       "      <td>3</td>\n",
       "      <td>4.1</td>\n",
       "      <td>5BA829</td>\n",
       "      <td>Very Good</td>\n",
       "      <td>1823</td>\n",
       "    </tr>\n",
       "    <tr>\n",
       "      <th>4</th>\n",
       "      <td>18241537.0</td>\n",
       "      <td>38 Barracks</td>\n",
       "      <td>1</td>\n",
       "      <td>New Delhi</td>\n",
       "      <td>M-38, Outer Circle, Connaught Place, New Delhi</td>\n",
       "      <td>Connaught Place</td>\n",
       "      <td>Connaught Place, New Delhi</td>\n",
       "      <td>77.222858</td>\n",
       "      <td>28.633025</td>\n",
       "      <td>North Indian, Italian, Asian, American</td>\n",
       "      <td>1600</td>\n",
       "      <td>1</td>\n",
       "      <td>0</td>\n",
       "      <td>0</td>\n",
       "      <td>0</td>\n",
       "      <td>3</td>\n",
       "      <td>4.4</td>\n",
       "      <td>5BA829</td>\n",
       "      <td>Very Good</td>\n",
       "      <td>840</td>\n",
       "    </tr>\n",
       "  </tbody>\n",
       "</table>\n",
       "</div>"
      ],
      "text/plain": [
       "   Restaurant ID             Restaurant Name  Country Code       City  \\\n",
       "0       308322.0            Hauz Khas Social             1  New Delhi   \n",
       "1     18037817.0  Qubitos - The Terrace Cafe             1  New Delhi   \n",
       "2       312345.0             The Hudson Cafe             1  New Delhi   \n",
       "3       307490.0           Summer House Cafe             1  New Delhi   \n",
       "4     18241537.0                 38 Barracks             1  New Delhi   \n",
       "\n",
       "                                             Address  \\\n",
       "0             9-A & 12, Hauz Khas Village, New Delhi   \n",
       "1  C-7, Vishal Enclave, Opposite Metro Pillar 417...   \n",
       "2  2524, 1st Floor, Hudson Lane, Delhi University...   \n",
       "3  1st Floor, DDA Shopping Complex, Aurobindo Pla...   \n",
       "4     M-38, Outer Circle, Connaught Place, New Delhi   \n",
       "\n",
       "                     Locality                       Locality Verbose  \\\n",
       "0           Hauz Khas Village           Hauz Khas Village, New Delhi   \n",
       "1              Rajouri Garden              Rajouri Garden, New Delhi   \n",
       "2  Delhi University-GTB Nagar  Delhi University-GTB Nagar, New Delhi   \n",
       "3                   Hauz Khas                   Hauz Khas, New Delhi   \n",
       "4             Connaught Place             Connaught Place, New Delhi   \n",
       "\n",
       "   Longitude   Latitude                                           Cuisines  \\\n",
       "0  77.194471  28.554285         Continental, American, Asian, North Indian   \n",
       "1  77.117701  28.647133  Thai, European, Mexican, North Indian, Chinese...   \n",
       "2  77.204317  28.694947                Cafe, Italian, Continental, Chinese   \n",
       "3  77.203809  28.552520                               Italian, Continental   \n",
       "4  77.222858  28.633025             North Indian, Italian, Asian, American   \n",
       "\n",
       "   Average Cost for two  Has Table booking  Has Online delivery  \\\n",
       "0                  1600                  1                    1   \n",
       "1                  1500                  1                    0   \n",
       "2                   850                  0                    1   \n",
       "3                  1850                  1                    0   \n",
       "4                  1600                  1                    0   \n",
       "\n",
       "   Is delivering now  Switch to order menu  Price range  Aggregate rating  \\\n",
       "0                  0                     0            3               4.3   \n",
       "1                  0                     0            3               4.5   \n",
       "2                  0                     0            2               4.4   \n",
       "3                  0                     0            3               4.1   \n",
       "4                  0                     0            3               4.4   \n",
       "\n",
       "  Rating color Rating text  Votes  \n",
       "0       5BA829   Very Good   7931  \n",
       "1       3F7E00   Excellent    778  \n",
       "2       5BA829   Very Good   1537  \n",
       "3       5BA829   Very Good   1823  \n",
       "4       5BA829   Very Good    840  "
      ]
     },
     "execution_count": 43,
     "metadata": {},
     "output_type": "execute_result"
    }
   ],
   "source": [
    "zomato=pd.read_csv('zom-1.csv',sep=',', encoding='latin-1') #read csv\n",
    "zomato.head()"
   ]
  },
  {
   "cell_type": "code",
   "execution_count": 45,
   "metadata": {},
   "outputs": [
    {
     "data": {
      "text/plain": [
       "(1171, 20)"
      ]
     },
     "execution_count": 45,
     "metadata": {},
     "output_type": "execute_result"
    }
   ],
   "source": [
    "zomato.shape"
   ]
  },
  {
   "cell_type": "code",
   "execution_count": 40,
   "metadata": {},
   "outputs": [
    {
     "data": {
      "text/plain": [
       "(9475,)"
      ]
     },
     "execution_count": 40,
     "metadata": {},
     "output_type": "execute_result"
    }
   ],
   "source": [
    "# There are 9475 distinct \n",
    "zomato['Restaurant ID'].unique().shape"
   ]
  },
  {
   "cell_type": "code",
   "execution_count": 49,
   "metadata": {},
   "outputs": [],
   "source": [
    "restaurant_id = \"\"\n",
    "for r in zomato['Restaurant ID']:\n",
    "    restaurant_id += str(r) + str('\\n') \n",
    "    "
   ]
  },
  {
   "cell_type": "code",
   "execution_count": null,
   "metadata": {},
   "outputs": [],
   "source": []
  },
  {
   "cell_type": "code",
   "execution_count": null,
   "metadata": {},
   "outputs": [],
   "source": []
  },
  {
   "cell_type": "code",
   "execution_count": null,
   "metadata": {},
   "outputs": [],
   "source": []
  }
 ],
 "metadata": {
  "kernelspec": {
   "display_name": "Python 3",
   "language": "python",
   "name": "python3"
  },
  "language_info": {
   "codemirror_mode": {
    "name": "ipython",
    "version": 3
   },
   "file_extension": ".py",
   "mimetype": "text/x-python",
   "name": "python",
   "nbconvert_exporter": "python",
   "pygments_lexer": "ipython3",
   "version": "3.7.6"
  }
 },
 "nbformat": 4,
 "nbformat_minor": 4
}
