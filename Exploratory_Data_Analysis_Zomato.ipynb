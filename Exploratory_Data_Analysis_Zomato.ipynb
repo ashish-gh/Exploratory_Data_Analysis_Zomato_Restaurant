{
 "cells": [
  {
   "cell_type": "markdown",
   "metadata": {},
   "source": [
    "# Predicting Zomato Restaurant Rate"
   ]
  },
  {
   "cell_type": "markdown",
   "metadata": {},
   "source": [
    "### 1. Business Problem"
   ]
  },
  {
   "cell_type": "markdown",
   "metadata": {},
   "source": [
    "### 1.1 Problem Description"
   ]
  },
  {
   "cell_type": "markdown",
   "metadata": {},
   "source": [
    "- Does demography of area matters?\n",
    "- Does location of particular type of restraurant depends on people living in that area>\n",
    "- Does theme of restraurant matters?\n",
    "- Is food chain category restraurant likely to have more customers than its counter part?\n",
    "- Are any neighbourhood on similar based on the type of food?\n",
    "- Is particular neighbours is famous for itw own kind of food?\n",
    "- If two neighbours are similar does that mean these are related or particular group of people live in neighbourhood or these are places to eat.\n",
    "- What kind of food is famous in locality.\n",
    "- Do entire locality loves veg food, if yes then locality populated by particular set of people eg Jain, Gujarati,Marwadi who are basically veg.\n"
   ]
  },
  {
   "cell_type": "markdown",
   "metadata": {},
   "source": [
    "### 1.2. Problem Statement\n",
    "The dataset also contains reviews for each of the restaurant which will help in finding overall rating for the place. So we will try to predict rating for particular restaurant."
   ]
  },
  {
   "cell_type": "markdown",
   "metadata": {},
   "source": [
    "### 1.3 Business Objectives"
   ]
  },
  {
   "cell_type": "markdown",
   "metadata": {},
   "source": [
    "### 1.4 Machine Learning  Formulation"
   ]
  },
  {
   "cell_type": "markdown",
   "metadata": {},
   "source": [
    "### 1.5 Performance Metrics"
   ]
  },
  {
   "cell_type": "markdown",
   "metadata": {},
   "source": [
    "## 2. Data"
   ]
  },
  {
   "cell_type": "markdown",
   "metadata": {},
   "source": [
    "### 2.1 Data Download\n",
    "\n",
    "Zomato API was used to download data. Data was fetched from Zomato API by making zomatoWrapper package. Description on zomatoWrapper package can be found here:\n",
    "\n",
    "https://github.com/ashish-gh/zomatoWrapper\n",
    "\n",
    "Zomato API provides data in json which was later stored in .csv file. Particularly two API endpoints were used to fetch data. Finally the data were merged and final csv file was produced. Data storage manipulation process can be found here:\n",
    "\n",
    "https://github.com/ashish-gh/Exploratory_Data_Analysis_Zomato_Restaurant/blob/master/DataStorage_and_Pre-processing.ipynb\n"
   ]
  },
  {
   "cell_type": "markdown",
   "metadata": {},
   "source": [
    "### 2.2 Data Understanding"
   ]
  },
  {
   "cell_type": "code",
   "execution_count": null,
   "metadata": {},
   "outputs": [],
   "source": [
    "import pandas as pd\n",
    "import numpy as np\n",
    "import matplotlib.pyplot as plt\n",
    "import seaborn as sns\n",
    "import ast\n",
    "\n",
    "from wordcloud import WordCloud, STOPWORDS\n",
    "from sklearn.preprocessing import OneHotEncoder\n",
    "\n",
    "from joblib import dump,load\n",
    "#%matplotlib notebook\n",
    "%matplotlib inline\n",
    "\n",
    "import warnings\n",
    "warnings.filterwarnings('ignore')\n",
    "\n",
    "from sklearn.linear_model import LinearRegression\n",
    "from sklearn import linear_model\n",
    "from sklearn.ensemble import RandomForestRegressor\n",
    "from sklearn.preprocessing import OneHotEncoder\n",
    "from sklearn.model_selection import train_test_split\n",
    "from sklearn.metrics import  make_scorer\n",
    "from sklearn.model_selection import GridSearchCV\n",
    "from sklearn import metrics\n",
    "\n",
    "import random\n",
    "from xgboost import XGBClassifier\n",
    "from sklearn.ensemble import RandomForestRegressor"
   ]
  }
 ],
 "metadata": {
  "kernelspec": {
   "display_name": "Python 3",
   "language": "python",
   "name": "python3"
  },
  "language_info": {
   "codemirror_mode": {
    "name": "ipython",
    "version": 3
   },
   "file_extension": ".py",
   "mimetype": "text/x-python",
   "name": "python",
   "nbconvert_exporter": "python",
   "pygments_lexer": "ipython3",
   "version": "3.7.6"
  }
 },
 "nbformat": 4,
 "nbformat_minor": 4
}
