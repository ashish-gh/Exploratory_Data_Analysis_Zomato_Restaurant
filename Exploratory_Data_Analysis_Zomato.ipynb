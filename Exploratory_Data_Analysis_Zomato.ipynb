{
  "nbformat": 4,
  "nbformat_minor": 0,
  "metadata": {
    "kernelspec": {
      "display_name": "Python 3",
      "language": "python",
      "name": "python3"
    },
    "language_info": {
      "codemirror_mode": {
        "name": "ipython",
        "version": 3
      },
      "file_extension": ".py",
      "mimetype": "text/x-python",
      "name": "python",
      "nbconvert_exporter": "python",
      "pygments_lexer": "ipython3",
      "version": "3.7.6"
    },
    "colab": {
      "name": "Exploratory_Data_Analysis_Zomato.ipynb",
      "provenance": []
    }
  },
  "cells": [
    {
      "cell_type": "markdown",
      "metadata": {
        "id": "RFmLk_dj2TDZ",
        "colab_type": "text"
      },
      "source": [
        "# Predicting Zomato Restaurant Rate"
      ]
    },
    {
      "cell_type": "markdown",
      "metadata": {
        "id": "IWuLVbrd2TDb",
        "colab_type": "text"
      },
      "source": [
        "### 1. Business Problem"
      ]
    },
    {
      "cell_type": "markdown",
      "metadata": {
        "id": "GZsufpkN2TDc",
        "colab_type": "text"
      },
      "source": [
        "### 1.1 Problem Description"
      ]
    },
    {
      "cell_type": "markdown",
      "metadata": {
        "id": "xFPuICR92TDe",
        "colab_type": "text"
      },
      "source": [
        "- Does demography of area matters?\n",
        "- Does location of particular type of restraurant depends on people living in that area>\n",
        "- Does theme of restraurant matters?\n",
        "- Is food chain category restraurant likely to have more customers than its counter part?\n",
        "- Are any neighbourhood on similar based on the type of food?\n",
        "- Is particular neighbours is famous for itw own kind of food?\n",
        "- If two neighbours are similar does that mean these are related or particular group of people live in neighbourhood or these are places to eat.\n",
        "- What kind of food is famous in locality.\n",
        "- Do entire locality loves veg food, if yes then locality populated by particular set of people eg Jain, Gujarati,Marwadi who are basically veg.\n"
      ]
    },
    {
      "cell_type": "markdown",
      "metadata": {
        "id": "WyYEmEWA2TDf",
        "colab_type": "text"
      },
      "source": [
        "### 1.2. Problem Statement\n",
        "The dataset also contains reviews for each of the restaurant which will help in finding overall rating for the place. So we will try to predict rating for particular restaurant."
      ]
    },
    {
      "cell_type": "markdown",
      "metadata": {
        "id": "QlnOe52d2TDg",
        "colab_type": "text"
      },
      "source": [
        "### 1.3 Business Objectives"
      ]
    },
    {
      "cell_type": "markdown",
      "metadata": {
        "id": "znYbRCq-2TDh",
        "colab_type": "text"
      },
      "source": [
        "### 1.4 Machine Learning  Formulation"
      ]
    },
    {
      "cell_type": "markdown",
      "metadata": {
        "id": "DrQoJ0Hb2TDj",
        "colab_type": "text"
      },
      "source": [
        "### 1.5 Performance Metrics"
      ]
    },
    {
      "cell_type": "markdown",
      "metadata": {
        "id": "UwGxQStJ2TDk",
        "colab_type": "text"
      },
      "source": [
        "## 2. Data"
      ]
    },
    {
      "cell_type": "markdown",
      "metadata": {
        "id": "CTsf0sNa2TDl",
        "colab_type": "text"
      },
      "source": [
        "### 2.1 Data Download\n",
        "\n",
        "Zomato API was used to download data. Data was fetched from Zomato API by making zomatoWrapper package. Description on zomatoWrapper package can be found here:\n",
        "\n",
        "https://github.com/ashish-gh/zomatoWrapper\n",
        "\n",
        "Zomato API provides data in json which was later stored in .csv file. Particularly two API endpoints were used to fetch data. Finally the data were merged and final csv file was produced. Data storage manipulation process can be found here:\n",
        "\n",
        "https://github.com/ashish-gh/Exploratory_Data_Analysis_Zomato_Restaurant/blob/master/DataStorage_and_Pre-processing.ipynb\n"
      ]
    },
    {
      "cell_type": "markdown",
      "metadata": {
        "id": "5uI66sg32TDm",
        "colab_type": "text"
      },
      "source": [
        "### 2.2 Data Understanding"
      ]
    },
    {
      "cell_type": "code",
      "metadata": {
        "id": "npDXCwTy2TDn",
        "colab_type": "code",
        "colab": {
          "base_uri": "https://localhost:8080/",
          "height": 70
        },
        "outputId": "ade5ff4b-77b6-475d-c82d-6cfd8d48e2bc"
      },
      "source": [
        "import pandas as pd\n",
        "import numpy as np\n",
        "import matplotlib.pyplot as plt\n",
        "import seaborn as sns\n",
        "import ast\n",
        "\n",
        "from wordcloud import WordCloud, STOPWORDS\n",
        "from sklearn.preprocessing import OneHotEncoder\n",
        "\n",
        "from joblib import dump,load\n",
        "#%matplotlib notebook\n",
        "%matplotlib inline\n",
        "\n",
        "import warnings\n",
        "warnings.filterwarnings('ignore')\n",
        "\n",
        "from sklearn.linear_model import LinearRegression\n",
        "from sklearn import linear_model\n",
        "from sklearn.ensemble import RandomForestRegressor\n",
        "from sklearn.preprocessing import OneHotEncoder\n",
        "from sklearn.model_selection import train_test_split\n",
        "from sklearn.metrics import  make_scorer\n",
        "from sklearn.model_selection import GridSearchCV\n",
        "from sklearn import metrics\n",
        "\n",
        "import random\n",
        "from xgboost import XGBClassifier\n",
        "from sklearn.ensemble import RandomForestRegressor"
      ],
      "execution_count": 1,
      "outputs": [
        {
          "output_type": "stream",
          "text": [
            "/usr/local/lib/python3.6/dist-packages/statsmodels/tools/_testing.py:19: FutureWarning: pandas.util.testing is deprecated. Use the functions in the public API at pandas.testing instead.\n",
            "  import pandas.util.testing as tm\n"
          ],
          "name": "stderr"
        }
      ]
    },
    {
      "cell_type": "code",
      "metadata": {
        "id": "IFrnWS6B2hHx",
        "colab_type": "code",
        "colab": {
          "base_uri": "https://localhost:8080/",
          "height": 33
        },
        "outputId": "b8d1d4ff-48af-4c3c-b8d1-52fc291c724d"
      },
      "source": [
        "data = pd.read_csv('zomato_final.csv')\n",
        "data.shape"
      ],
      "execution_count": 158,
      "outputs": [
        {
          "output_type": "execute_result",
          "data": {
            "text/plain": [
              "(840, 21)"
            ]
          },
          "metadata": {
            "tags": []
          },
          "execution_count": 158
        }
      ]
    },
    {
      "cell_type": "code",
      "metadata": {
        "id": "Zqnq-Hm429pg",
        "colab_type": "code",
        "colab": {
          "base_uri": "https://localhost:8080/",
          "height": 552
        },
        "outputId": "afb2899e-ed9f-48e2-867f-45f6340ca78d"
      },
      "source": [
        "data.head()"
      ],
      "execution_count": 159,
      "outputs": [
        {
          "output_type": "execute_result",
          "data": {
            "text/html": [
              "<div>\n",
              "<style scoped>\n",
              "    .dataframe tbody tr th:only-of-type {\n",
              "        vertical-align: middle;\n",
              "    }\n",
              "\n",
              "    .dataframe tbody tr th {\n",
              "        vertical-align: top;\n",
              "    }\n",
              "\n",
              "    .dataframe thead th {\n",
              "        text-align: right;\n",
              "    }\n",
              "</style>\n",
              "<table border=\"1\" class=\"dataframe\">\n",
              "  <thead>\n",
              "    <tr style=\"text-align: right;\">\n",
              "      <th></th>\n",
              "      <th>restaurant_id</th>\n",
              "      <th>restaurant_name</th>\n",
              "      <th>country_code</th>\n",
              "      <th>city</th>\n",
              "      <th>address</th>\n",
              "      <th>locality</th>\n",
              "      <th>locality_verbose</th>\n",
              "      <th>longitude</th>\n",
              "      <th>latitude</th>\n",
              "      <th>cuisines</th>\n",
              "      <th>average_cost_for_two</th>\n",
              "      <th>has_table_booking</th>\n",
              "      <th>has_online_delivery</th>\n",
              "      <th>is_delivering_now</th>\n",
              "      <th>switch_to_orvder_menu</th>\n",
              "      <th>price_range</th>\n",
              "      <th>aggregate_rating</th>\n",
              "      <th>rating_color</th>\n",
              "      <th>rating_text</th>\n",
              "      <th>votes</th>\n",
              "      <th>review</th>\n",
              "    </tr>\n",
              "  </thead>\n",
              "  <tbody>\n",
              "    <tr>\n",
              "      <th>0</th>\n",
              "      <td>16668008</td>\n",
              "      <td>Arigato Sushi</td>\n",
              "      <td>37</td>\n",
              "      <td>Yorkton</td>\n",
              "      <td>14 Second Ave North, Yorkton, SK S3N 1G1</td>\n",
              "      <td>Yorkton</td>\n",
              "      <td>Yorkton, Yorkton</td>\n",
              "      <td>-102.461317</td>\n",
              "      <td>51.210682</td>\n",
              "      <td>Asian</td>\n",
              "      <td>25</td>\n",
              "      <td>0</td>\n",
              "      <td>0</td>\n",
              "      <td>0</td>\n",
              "      <td>0</td>\n",
              "      <td>2</td>\n",
              "      <td>3.3</td>\n",
              "      <td>CDD614</td>\n",
              "      <td>Average</td>\n",
              "      <td>26</td>\n",
              "      <td>['i love arigato sushi!!!! the best restaurant...</td>\n",
              "    </tr>\n",
              "    <tr>\n",
              "      <th>1</th>\n",
              "      <td>801690</td>\n",
              "      <td>Mocha</td>\n",
              "      <td>1</td>\n",
              "      <td>Lucknow</td>\n",
              "      <td>CP-1, 2nd Floor, Anand Plaza, Viram Khand-1, N...</td>\n",
              "      <td>Gomti Nagar</td>\n",
              "      <td>Gomti Nagar, Lucknow</td>\n",
              "      <td>81.001185</td>\n",
              "      <td>26.852810</td>\n",
              "      <td>Cafe, Italian, Continental</td>\n",
              "      <td>800</td>\n",
              "      <td>0</td>\n",
              "      <td>0</td>\n",
              "      <td>0</td>\n",
              "      <td>0</td>\n",
              "      <td>3</td>\n",
              "      <td>4.6</td>\n",
              "      <td>3F7E00</td>\n",
              "      <td>Excellent</td>\n",
              "      <td>567</td>\n",
              "      <td>['I just Simply love This Place.....It is idea...</td>\n",
              "    </tr>\n",
              "    <tr>\n",
              "      <th>2</th>\n",
              "      <td>17558738</td>\n",
              "      <td>Blue House Cafe</td>\n",
              "      <td>216</td>\n",
              "      <td>Vernonia</td>\n",
              "      <td>919 Bridge St, Vernonia, OR 97064</td>\n",
              "      <td>Vernonia</td>\n",
              "      <td>Vernonia, Vernonia</td>\n",
              "      <td>-123.195437</td>\n",
              "      <td>45.858667</td>\n",
              "      <td>Coffee and Tea, Mediterranean</td>\n",
              "      <td>10</td>\n",
              "      <td>0</td>\n",
              "      <td>0</td>\n",
              "      <td>0</td>\n",
              "      <td>0</td>\n",
              "      <td>1</td>\n",
              "      <td>4.3</td>\n",
              "      <td>5BA829</td>\n",
              "      <td>Very Good</td>\n",
              "      <td>88</td>\n",
              "      <td>[\"Delicious. There's not a single dish i've tr...</td>\n",
              "    </tr>\n",
              "    <tr>\n",
              "      <th>3</th>\n",
              "      <td>16611701</td>\n",
              "      <td>Star Buffet</td>\n",
              "      <td>14</td>\n",
              "      <td>Mayfield</td>\n",
              "      <td>58 Hanbury St, Mayfield, NSW</td>\n",
              "      <td>Mayfield</td>\n",
              "      <td>Mayfield, Mayfield</td>\n",
              "      <td>151.734383</td>\n",
              "      <td>-32.899178</td>\n",
              "      <td>Asian</td>\n",
              "      <td>20</td>\n",
              "      <td>0</td>\n",
              "      <td>0</td>\n",
              "      <td>0</td>\n",
              "      <td>0</td>\n",
              "      <td>2</td>\n",
              "      <td>2.9</td>\n",
              "      <td>FFBA00</td>\n",
              "      <td>Average</td>\n",
              "      <td>11</td>\n",
              "      <td>['A lot of food and many varieties, some of th...</td>\n",
              "    </tr>\n",
              "    <tr>\n",
              "      <th>4</th>\n",
              "      <td>2100784</td>\n",
              "      <td>11th Avenue Cafe Bistro</td>\n",
              "      <td>1</td>\n",
              "      <td>Guwahati</td>\n",
              "      <td>Opposite Assam State Museum, Dighalipukhuri, T...</td>\n",
              "      <td>Uzan Bazaar</td>\n",
              "      <td>Uzan Bazaar, Guwahati</td>\n",
              "      <td>91.752314</td>\n",
              "      <td>26.186001</td>\n",
              "      <td>Cafe, American, Italian, Continental</td>\n",
              "      <td>400</td>\n",
              "      <td>0</td>\n",
              "      <td>0</td>\n",
              "      <td>0</td>\n",
              "      <td>0</td>\n",
              "      <td>2</td>\n",
              "      <td>4.1</td>\n",
              "      <td>5BA829</td>\n",
              "      <td>Very Good</td>\n",
              "      <td>377</td>\n",
              "      <td>['11th avenue cafe has always been my favorite...</td>\n",
              "    </tr>\n",
              "  </tbody>\n",
              "</table>\n",
              "</div>"
            ],
            "text/plain": [
              "   restaurant_id  ...                                             review\n",
              "0       16668008  ...  ['i love arigato sushi!!!! the best restaurant...\n",
              "1         801690  ...  ['I just Simply love This Place.....It is idea...\n",
              "2       17558738  ...  [\"Delicious. There's not a single dish i've tr...\n",
              "3       16611701  ...  ['A lot of food and many varieties, some of th...\n",
              "4        2100784  ...  ['11th avenue cafe has always been my favorite...\n",
              "\n",
              "[5 rows x 21 columns]"
            ]
          },
          "metadata": {
            "tags": []
          },
          "execution_count": 159
        }
      ]
    },
    {
      "cell_type": "code",
      "metadata": {
        "id": "UXaq96GS3B29",
        "colab_type": "code",
        "colab": {
          "base_uri": "https://localhost:8080/",
          "height": 472
        },
        "outputId": "a4adddc5-c810-4bbf-a2d1-efebc781f3dc"
      },
      "source": [
        "data.info()"
      ],
      "execution_count": 160,
      "outputs": [
        {
          "output_type": "stream",
          "text": [
            "<class 'pandas.core.frame.DataFrame'>\n",
            "RangeIndex: 840 entries, 0 to 839\n",
            "Data columns (total 21 columns):\n",
            " #   Column                 Non-Null Count  Dtype  \n",
            "---  ------                 --------------  -----  \n",
            " 0   restaurant_id          840 non-null    int64  \n",
            " 1   restaurant_name        840 non-null    object \n",
            " 2   country_code           840 non-null    int64  \n",
            " 3   city                   840 non-null    object \n",
            " 4   address                840 non-null    object \n",
            " 5   locality               840 non-null    object \n",
            " 6   locality_verbose       840 non-null    object \n",
            " 7   longitude              840 non-null    float64\n",
            " 8   latitude               840 non-null    float64\n",
            " 9   cuisines               840 non-null    object \n",
            " 10  average_cost_for_two   840 non-null    int64  \n",
            " 11  has_table_booking      840 non-null    int64  \n",
            " 12  has_online_delivery    840 non-null    int64  \n",
            " 13  is_delivering_now      840 non-null    int64  \n",
            " 14  switch_to_orvder_menu  840 non-null    int64  \n",
            " 15  price_range            840 non-null    int64  \n",
            " 16  aggregate_rating       840 non-null    float64\n",
            " 17  rating_color           840 non-null    object \n",
            " 18  rating_text            840 non-null    object \n",
            " 19  votes                  840 non-null    int64  \n",
            " 20  review                 840 non-null    object \n",
            "dtypes: float64(3), int64(9), object(9)\n",
            "memory usage: 137.9+ KB\n"
          ],
          "name": "stdout"
        }
      ]
    },
    {
      "cell_type": "code",
      "metadata": {
        "id": "tZ4QxI8J3Dfp",
        "colab_type": "code",
        "colab": {
          "base_uri": "https://localhost:8080/",
          "height": 163
        },
        "outputId": "25c67de7-a3b2-4807-ca27-0c4b175b94ab"
      },
      "source": [
        "# country_code,address locality, locaity_verbose, switch_to_orvder_menu, switch_to_orvder_menu, rating_color,\n",
        "data.votes.describe()"
      ],
      "execution_count": 161,
      "outputs": [
        {
          "output_type": "execute_result",
          "data": {
            "text/plain": [
              "count     840.000000\n",
              "mean      201.284524\n",
              "std       472.938189\n",
              "min         0.000000\n",
              "25%         9.000000\n",
              "50%        66.000000\n",
              "75%       211.250000\n",
              "max      4986.000000\n",
              "Name: votes, dtype: float64"
            ]
          },
          "metadata": {
            "tags": []
          },
          "execution_count": 161
        }
      ]
    },
    {
      "cell_type": "markdown",
      "metadata": {
        "id": "hpo43Msl41Eb",
        "colab_type": "text"
      },
      "source": [
        "### Column description"
      ]
    },
    {
      "cell_type": "code",
      "metadata": {
        "id": "uzofCuC53La1",
        "colab_type": "code",
        "colab": {
          "base_uri": "https://localhost:8080/",
          "height": 115
        },
        "outputId": "0cf4f1aa-765c-4770-ea3a-d08a33d6ce3a"
      },
      "source": [
        "data.columns"
      ],
      "execution_count": 162,
      "outputs": [
        {
          "output_type": "execute_result",
          "data": {
            "text/plain": [
              "Index(['restaurant_id', 'restaurant_name', 'country_code', 'city', 'address',\n",
              "       'locality', 'locality_verbose', 'longitude', 'latitude', 'cuisines',\n",
              "       'average_cost_for_two', 'has_table_booking', 'has_online_delivery',\n",
              "       'is_delivering_now', 'switch_to_orvder_menu', 'price_range',\n",
              "       'aggregate_rating', 'rating_color', 'rating_text', 'votes', 'review'],\n",
              "      dtype='object')"
            ]
          },
          "metadata": {
            "tags": []
          },
          "execution_count": 162
        }
      ]
    },
    {
      "cell_type": "markdown",
      "metadata": {
        "id": "7yzPKika46d8",
        "colab_type": "text"
      },
      "source": [
        "- restaurant_id: contains unique id for each restaurant\n",
        "- restaurant_name: contains the name of the restaurant\n",
        "- country_code: containts the country code in which the restaurant is situated\n",
        "- city: \n",
        "\n",
        "- address: contains the address of the restaurant\n",
        "\n",
        "- locality:\n",
        "\n",
        "- locality_verbose:\n",
        "\n",
        "- longitude: \n",
        "\n",
        "- latitude: \n",
        "\n",
        "- cuisines:\n",
        "\n",
        "- average_cost_for_two:\n",
        "\n",
        "- has_table_booking:\n",
        "\n",
        "- has_online_delivery:\n",
        "- is delivering_now:\n",
        "- switch_to_order_now:\n",
        "- price_range \n",
        "- aggregated_rating\n"
      ]
    },
    {
      "cell_type": "markdown",
      "metadata": {
        "id": "_kzME47Z59pX",
        "colab_type": "text"
      },
      "source": [
        "### 2.3 Data preprocess"
      ]
    },
    {
      "cell_type": "code",
      "metadata": {
        "id": "WEtxyeuu44PK",
        "colab_type": "code",
        "colab": {
          "base_uri": "https://localhost:8080/",
          "height": 407
        },
        "outputId": "ef641124-e76b-43bd-d626-3926d23a5a78"
      },
      "source": [
        "# explore columns related to the addrress\n",
        "data.loc[:,['address','city','locality', 'locality_verbose']].sample(8,random_state=1)"
      ],
      "execution_count": 163,
      "outputs": [
        {
          "output_type": "execute_result",
          "data": {
            "text/html": [
              "<div>\n",
              "<style scoped>\n",
              "    .dataframe tbody tr th:only-of-type {\n",
              "        vertical-align: middle;\n",
              "    }\n",
              "\n",
              "    .dataframe tbody tr th {\n",
              "        vertical-align: top;\n",
              "    }\n",
              "\n",
              "    .dataframe thead th {\n",
              "        text-align: right;\n",
              "    }\n",
              "</style>\n",
              "<table border=\"1\" class=\"dataframe\">\n",
              "  <thead>\n",
              "    <tr style=\"text-align: right;\">\n",
              "      <th></th>\n",
              "      <th>address</th>\n",
              "      <th>city</th>\n",
              "      <th>locality</th>\n",
              "      <th>locality_verbose</th>\n",
              "    </tr>\n",
              "  </thead>\n",
              "  <tbody>\n",
              "    <tr>\n",
              "      <th>480</th>\n",
              "      <td>B-422, Sarita Vihar, New Delhi</td>\n",
              "      <td>New Delhi</td>\n",
              "      <td>Sarita Vihar</td>\n",
              "      <td>Sarita Vihar, New Delhi</td>\n",
              "    </tr>\n",
              "    <tr>\n",
              "      <th>111</th>\n",
              "      <td>Shop 9, Market 1, Chittaranjan Park, New Delhi</td>\n",
              "      <td>New Delhi</td>\n",
              "      <td>Chittaranjan Park</td>\n",
              "      <td>Chittaranjan Park, New Delhi</td>\n",
              "    </tr>\n",
              "    <tr>\n",
              "      <th>238</th>\n",
              "      <td>P-11, 2nd Floor, Green Park Extension, Green P...</td>\n",
              "      <td>New Delhi</td>\n",
              "      <td>Green Park</td>\n",
              "      <td>Green Park, New Delhi</td>\n",
              "    </tr>\n",
              "    <tr>\n",
              "      <th>597</th>\n",
              "      <td>7, A Pocket Market, Sarita Vihar, New Delhi</td>\n",
              "      <td>New Delhi</td>\n",
              "      <td>Sarita Vihar</td>\n",
              "      <td>Sarita Vihar, New Delhi</td>\n",
              "    </tr>\n",
              "    <tr>\n",
              "      <th>801</th>\n",
              "      <td>27, C.S.C. Market 2, Chittaranjan Park, New Delhi</td>\n",
              "      <td>New Delhi</td>\n",
              "      <td>Chittaranjan Park</td>\n",
              "      <td>Chittaranjan Park, New Delhi</td>\n",
              "    </tr>\n",
              "    <tr>\n",
              "      <th>624</th>\n",
              "      <td>6, Corner Market, Near Hanuman Temple, Malviya...</td>\n",
              "      <td>New Delhi</td>\n",
              "      <td>Malviya Nagar</td>\n",
              "      <td>Malviya Nagar, New Delhi</td>\n",
              "    </tr>\n",
              "    <tr>\n",
              "      <th>834</th>\n",
              "      <td>Ground Floor, Adjacent To Ambience Towers Car ...</td>\n",
              "      <td>New Delhi</td>\n",
              "      <td>Vasant Kunj</td>\n",
              "      <td>Vasant Kunj, New Delhi</td>\n",
              "    </tr>\n",
              "    <tr>\n",
              "      <th>553</th>\n",
              "      <td>Shop 2, Lower Ground Floor, Epicuria Food Mall...</td>\n",
              "      <td>New Delhi</td>\n",
              "      <td>Epicuria Food Mall, Nehru Place</td>\n",
              "      <td>Epicuria Food Mall, Nehru Place, New Delhi</td>\n",
              "    </tr>\n",
              "  </tbody>\n",
              "</table>\n",
              "</div>"
            ],
            "text/plain": [
              "                                               address  ...                            locality_verbose\n",
              "480                     B-422, Sarita Vihar, New Delhi  ...                     Sarita Vihar, New Delhi\n",
              "111     Shop 9, Market 1, Chittaranjan Park, New Delhi  ...                Chittaranjan Park, New Delhi\n",
              "238  P-11, 2nd Floor, Green Park Extension, Green P...  ...                       Green Park, New Delhi\n",
              "597        7, A Pocket Market, Sarita Vihar, New Delhi  ...                     Sarita Vihar, New Delhi\n",
              "801  27, C.S.C. Market 2, Chittaranjan Park, New Delhi  ...                Chittaranjan Park, New Delhi\n",
              "624  6, Corner Market, Near Hanuman Temple, Malviya...  ...                    Malviya Nagar, New Delhi\n",
              "834  Ground Floor, Adjacent To Ambience Towers Car ...  ...                      Vasant Kunj, New Delhi\n",
              "553  Shop 2, Lower Ground Floor, Epicuria Food Mall...  ...  Epicuria Food Mall, Nehru Place, New Delhi\n",
              "\n",
              "[8 rows x 4 columns]"
            ]
          },
          "metadata": {
            "tags": []
          },
          "execution_count": 163
        }
      ]
    },
    {
      "cell_type": "markdown",
      "metadata": {
        "id": "oE472niT6ePP",
        "colab_type": "text"
      },
      "source": [
        "Here, we can see that among 4 columns 2 represent same information. So just dropping column which are not important.\n",
        "- we are going to keep the `city` column and drop the address, locality, locality_verbose\n",
        "\n",
        "- columns country_code, switch_to_order_menu, rating_color,\n"
      ]
    },
    {
      "cell_type": "code",
      "metadata": {
        "id": "SNpNWMvG6HX2",
        "colab_type": "code",
        "colab": {}
      },
      "source": [
        "# drop unnecessary columns\n",
        "column_to_drop = ['restaurant_id', 'address','locality', 'locality_verbose' ,'country_code','switch_to_orvder_menu', 'rating_color']\n",
        "data.drop(columns=column_to_drop, axis=1,inplace=True)"
      ],
      "execution_count": 0,
      "outputs": []
    },
    {
      "cell_type": "code",
      "metadata": {
        "id": "WU_D6eR-7HZp",
        "colab_type": "code",
        "colab": {
          "base_uri": "https://localhost:8080/",
          "height": 98
        },
        "outputId": "52868bc8-2db9-491d-eacb-4854c883ae11"
      },
      "source": [
        "data.columns"
      ],
      "execution_count": 165,
      "outputs": [
        {
          "output_type": "execute_result",
          "data": {
            "text/plain": [
              "Index(['restaurant_name', 'city', 'longitude', 'latitude', 'cuisines',\n",
              "       'average_cost_for_two', 'has_table_booking', 'has_online_delivery',\n",
              "       'is_delivering_now', 'price_range', 'aggregate_rating', 'rating_text',\n",
              "       'votes', 'review'],\n",
              "      dtype='object')"
            ]
          },
          "metadata": {
            "tags": []
          },
          "execution_count": 165
        }
      ]
    },
    {
      "cell_type": "markdown",
      "metadata": {
        "id": "KKDIXG_f7SmD",
        "colab_type": "text"
      },
      "source": [
        "###  2.3.1 Remove Duplicates\n",
        "\n",
        "**Q.1) Is there duplicate values present in dataset? If yes then many of them are duplicate?**"
      ]
    },
    {
      "cell_type": "code",
      "metadata": {
        "id": "N9KA24lJ7OQg",
        "colab_type": "code",
        "colab": {
          "base_uri": "https://localhost:8080/",
          "height": 33
        },
        "outputId": "17964047-6124-4126-af1f-d8399aa44486"
      },
      "source": [
        "# check for duplicate values\n",
        "print(\"No of Duplicates in dataset:  \",data.duplicated().sum())"
      ],
      "execution_count": 166,
      "outputs": [
        {
          "output_type": "stream",
          "text": [
            "No of Duplicates in dataset:   0\n"
          ],
          "name": "stdout"
        }
      ]
    },
    {
      "cell_type": "markdown",
      "metadata": {
        "id": "ij1lpb3f7dyy",
        "colab_type": "text"
      },
      "source": [
        "### 2.3.1 Removing Null values\n",
        "\n",
        "**Q.2) Is there NULL values present in dataset? If yes then many they are (in %)?**"
      ]
    },
    {
      "cell_type": "code",
      "metadata": {
        "id": "3ZMAuGFA7agm",
        "colab_type": "code",
        "colab": {
          "base_uri": "https://localhost:8080/",
          "height": 261
        },
        "outputId": "2b125c72-fe34-41dd-f619-826b1e4a9efa"
      },
      "source": [
        "# check for null values\n",
        "((data.isna().sum()/data.shape[0])*100).round(2)"
      ],
      "execution_count": 167,
      "outputs": [
        {
          "output_type": "execute_result",
          "data": {
            "text/plain": [
              "restaurant_name         0.0\n",
              "city                    0.0\n",
              "longitude               0.0\n",
              "latitude                0.0\n",
              "cuisines                0.0\n",
              "average_cost_for_two    0.0\n",
              "has_table_booking       0.0\n",
              "has_online_delivery     0.0\n",
              "is_delivering_now       0.0\n",
              "price_range             0.0\n",
              "aggregate_rating        0.0\n",
              "rating_text             0.0\n",
              "votes                   0.0\n",
              "review                  0.0\n",
              "dtype: float64"
            ]
          },
          "metadata": {
            "tags": []
          },
          "execution_count": 167
        }
      ]
    },
    {
      "cell_type": "code",
      "metadata": {
        "id": "YJsPKQtx7urR",
        "colab_type": "code",
        "colab": {
          "base_uri": "https://localhost:8080/",
          "height": 33
        },
        "outputId": "13adef95-1109-41e0-9769-c5c42ebc4a41"
      },
      "source": [
        "type(data.review)"
      ],
      "execution_count": 168,
      "outputs": [
        {
          "output_type": "execute_result",
          "data": {
            "text/plain": [
              "pandas.core.series.Series"
            ]
          },
          "metadata": {
            "tags": []
          },
          "execution_count": 168
        }
      ]
    },
    {
      "cell_type": "code",
      "metadata": {
        "id": "OTd7n43N7j24",
        "colab_type": "code",
        "colab": {
          "base_uri": "https://localhost:8080/",
          "height": 33
        },
        "outputId": "6dac085c-8417-42b1-f034-26d913c5427d"
      },
      "source": [
        "# for restaurant name\n",
        "\n",
        "name_all = \"\"\n",
        "for name in data['review']:\n",
        "    if isinstance(name,str) and len(name)>0:\n",
        "        name = name.lower()\n",
        "        name_all += str(name)+\" \"\n",
        "\n",
        "def has_special_char(text: str) -> bool:\n",
        "    return any(c for c in text if not c.isalnum() and not c.isspace())\n",
        "\n",
        "special_character=\"\"\n",
        "for text in name_all:\n",
        "        if has_special_char(text):\n",
        "            special_character += str(text)        \n",
        "\n",
        "# print(list(set(special_character)))\n",
        "special_character = list(set(special_character))\n",
        "len(special_character)\n"
      ],
      "execution_count": 169,
      "outputs": [
        {
          "output_type": "execute_result",
          "data": {
            "text/plain": [
              "184"
            ]
          },
          "metadata": {
            "tags": []
          },
          "execution_count": 169
        }
      ]
    },
    {
      "cell_type": "code",
      "metadata": {
        "id": "aDi_AAAMCWM1",
        "colab_type": "code",
        "colab": {
          "base_uri": "https://localhost:8080/",
          "height": 53
        },
        "outputId": "a6fa8da0-af67-4de3-9f8d-5f6f5585317e"
      },
      "source": [
        "characters = [''.join(character for character in special_character)]\n",
        "characters"
      ],
      "execution_count": 170,
      "outputs": [
        {
          "output_type": "execute_result",
          "data": {
            "text/plain": [
              "['💰“▪💖&👌😎😂\\U0001f967💯\\U0001f96a♥–😔!-😉🤦👭😈🍖👀🐔😩\\\\🤣\\U0001f9f9🍺🥇[🕺ँ😍📺✨❣>️+🎂🏼😣👎े@%👍⭐🔸😭ं)🍚😡$\\U0001f970📚🍴🍁💁🍜🈶|ि\"😛🍗🌮/😋*ा😃😐🔥🥞]🏻🌯🌶\\U0001f99e🏾₹🙋💗🍝🙈•=🍨💘}\\U0001f91f💥🍟🔆♡\\U0001f92cै😇😁🍷🍻💓^🥘🍩`🥙🤤😱💫⠀💡☺\\'\\U0001f929🙅🤗🙏ू😊✔🍹😘😬🚬🤘😑;\\U0001f92e🍱♂👿💕😕➡🌟~‘👅’💸💞🥂💟🍔्🤢ी🍰🤔❤☕😠\\U0001f92a🍸?”🙃🙂:#(,▫।…_😀︎🌸ु☝😜✌🍽🥖—{📍👣.💙']"
            ]
          },
          "metadata": {
            "tags": []
          },
          "execution_count": 170
        }
      ]
    },
    {
      "cell_type": "code",
      "metadata": {
        "id": "5fSNlLfEB3J6",
        "colab_type": "code",
        "colab": {
          "base_uri": "https://localhost:8080/",
          "height": 50
        },
        "outputId": "20124c16-f2fa-4a85-8e4d-8a7fbcfe2564"
      },
      "source": [
        "import re\n",
        "import nltk\n",
        "from nltk.corpus import stopwords\n",
        "nltk.download('stopwords')\n",
        "\n",
        "def clean_text(text):\n",
        "    text = text.lower()    \n",
        "    \n",
        "    text = re.sub(r'[_\"\\-;%()|+&=*%.,!?:#$@\\[\\]/]', '', text)\n",
        "    \n",
        "    text = re.sub(r'>\\u200b“–\\\\`🍅‐♥•°„', '', text)\n",
        "    \n",
        "    text = re.sub(r'\\'', '', text)\n",
        "    \n",
        "    text = re.sub(r'  ', ' ', text)\n",
        "    \n",
        "    text = re.sub(r'\\d+', '', text)    \n",
        "    \n",
        "    text = text.split()\n",
        "    \n",
        "    text =  [word for word in text if not word in set(stopwords.words(\"english\"))]\n",
        "    \n",
        "#     stops = set(stopwords.words(\"english\"))\n",
        "#     stops = set(stopwords.words(\"english\"))\n",
        "#     text = [w for w in text if not w in stops]\n",
        "#     text = \" \".join(text)\n",
        "\n",
        "    text = ' '.join(text)\n",
        "\n",
        "\n",
        "    return text\n"
      ],
      "execution_count": 171,
      "outputs": [
        {
          "output_type": "stream",
          "text": [
            "[nltk_data] Downloading package stopwords to /root/nltk_data...\n",
            "[nltk_data]   Package stopwords is already up-to-date!\n"
          ],
          "name": "stdout"
        }
      ]
    },
    {
      "cell_type": "code",
      "metadata": {
        "id": "9BmqEXlD7qd9",
        "colab_type": "code",
        "colab": {
          "base_uri": "https://localhost:8080/",
          "height": 212
        },
        "outputId": "e82301e7-740c-4227-eab4-aef7c160d77d"
      },
      "source": [
        "data.review = data.review.apply(lambda x: clean_text(x))\n",
        "data.review"
      ],
      "execution_count": 172,
      "outputs": [
        {
          "output_type": "execute_result",
          "data": {
            "text/plain": [
              "0      love arigato sushi best restaurant yorkton alw...\n",
              "1      simply love placeit ideal breakfastlunchdinner...\n",
              "2      delicious theres single dish ive tried blue ho...\n",
              "3      lot food many varieties sushi fresh love many ...\n",
              "4      th avenue cafe always favoriteloved cheesy mea...\n",
              "                             ...                        \n",
              "835    angels always excellent confectionery chocolat...\n",
              "836    owner much bad cheat staff salary product fres...\n",
              "837    casual meet office collegues ordered pasta alf...\n",
              "838    guy serving sense explain drinks showed drink ...\n",
              "839    nan service need improve food tastes great aff...\n",
              "Name: review, Length: 840, dtype: object"
            ]
          },
          "metadata": {
            "tags": []
          },
          "execution_count": 172
        }
      ]
    },
    {
      "cell_type": "code",
      "metadata": {
        "id": "wyJKFfKC9Njw",
        "colab_type": "code",
        "colab": {}
      },
      "source": [
        "# def no_special_character(text: str) -> bool:\n",
        "#     return any(c for c in text if c.isalnum() and c.isspace())"
      ],
      "execution_count": 0,
      "outputs": []
    },
    {
      "cell_type": "code",
      "metadata": {
        "id": "WU6p6GmsFYtN",
        "colab_type": "code",
        "colab": {}
      },
      "source": [
        "# # data['process_text'] = data.review.apply(lambda x: no_special_character(x))\n",
        "# process_text=\"\"\n",
        "# for text in data.review:\n",
        "#         if has_special_char(text):\n",
        "#             process_text += str(text)        \n",
        "\n",
        "# process_text"
      ],
      "execution_count": 0,
      "outputs": []
    },
    {
      "cell_type": "code",
      "metadata": {
        "id": "miWsqAN-FkiQ",
        "colab_type": "code",
        "colab": {
          "base_uri": "https://localhost:8080/",
          "height": 212
        },
        "outputId": "f49ea8b0-c87a-4575-d76d-610334788209"
      },
      "source": [
        "data.cuisines"
      ],
      "execution_count": 175,
      "outputs": [
        {
          "output_type": "execute_result",
          "data": {
            "text/plain": [
              "0                                            Asian\n",
              "1                       Cafe, Italian, Continental\n",
              "2                    Coffee and Tea, Mediterranean\n",
              "3                                            Asian\n",
              "4             Cafe, American, Italian, Continental\n",
              "                          ...                     \n",
              "835                    Bakery, Desserts, Fast Food\n",
              "836                                 Cafe, Desserts\n",
              "837             Finger Food, North Indian, Italian\n",
              "838             North Indian, Street Food, Mughlai\n",
              "839    North Indian, Chinese, South Indian, Mithai\n",
              "Name: cuisines, Length: 840, dtype: object"
            ]
          },
          "metadata": {
            "tags": []
          },
          "execution_count": 175
        }
      ]
    },
    {
      "cell_type": "code",
      "metadata": {
        "id": "uozqZbwsFmim",
        "colab_type": "code",
        "colab": {
          "base_uri": "https://localhost:8080/",
          "height": 212
        },
        "outputId": "1cbfbb6e-0674-4c91-9eb4-8eb9de376637"
      },
      "source": [
        "data.cuisines = data.cuisines.apply(lambda x: clean_text(x))\n",
        "data.cuisines"
      ],
      "execution_count": 176,
      "outputs": [
        {
          "output_type": "execute_result",
          "data": {
            "text/plain": [
              "0                                         asian\n",
              "1                      cafe italian continental\n",
              "2                      coffee tea mediterranean\n",
              "3                                         asian\n",
              "4             cafe american italian continental\n",
              "                         ...                   \n",
              "835                   bakery desserts fast food\n",
              "836                               cafe desserts\n",
              "837            finger food north indian italian\n",
              "838            north indian street food mughlai\n",
              "839    north indian chinese south indian mithai\n",
              "Name: cuisines, Length: 840, dtype: object"
            ]
          },
          "metadata": {
            "tags": []
          },
          "execution_count": 176
        }
      ]
    },
    {
      "cell_type": "markdown",
      "metadata": {
        "id": "t2iRGGVGHOyx",
        "colab_type": "text"
      },
      "source": [
        "### 2.4 Data Visualizations"
      ]
    },
    {
      "cell_type": "code",
      "metadata": {
        "id": "L8R-_UTfG1qV",
        "colab_type": "code",
        "colab": {
          "base_uri": "https://localhost:8080/",
          "height": 311
        },
        "outputId": "fd62f0be-a8b8-4e3b-a03f-657d3bde4183"
      },
      "source": [
        "# sns.distplot(data.aggregate_rating, kde=False, bins=20)\n",
        "\n",
        "data.aggregate_rating.hist(color='blue')\n",
        "plt.axvline(x= data.aggregate_rating.mean(),ls='--',color='red')\n",
        "plt.title('Average Rating of Restaurants',weight='bold')\n",
        "plt.xlabel('Rating')\n",
        "plt.ylabel('No of Restaurants')\n",
        "print(\"Mean is : \",data.aggregate_rating.mean())"
      ],
      "execution_count": 108,
      "outputs": [
        {
          "output_type": "stream",
          "text": [
            "Mean is :  2.954047619047617\n"
          ],
          "name": "stdout"
        },
        {
          "output_type": "display_data",
          "data": {
            "image/png": "[encoded data removed]",
            "text/plain": [
              "<Figure size 432x288 with 1 Axes>"
            ]
          },
          "metadata": {
            "tags": [],
            "needs_background": "light"
          }
        }
      ]
    },
    {
      "cell_type": "code",
      "metadata": {
        "id": "VUI3i17IMNvN",
        "colab_type": "code",
        "colab": {
          "base_uri": "https://localhost:8080/",
          "height": 311
        },
        "outputId": "3bd039b7-e715-45cc-89e4-1754dbe09eb4"
      },
      "source": [
        "# data.rating_text.hist(color='blue')\n",
        "sns.countplot(x=data.rating_text, data=data)\n",
        "plt.title('Reviews Restaurants',weight='bold')\n",
        "plt.xlabel('Rating')\n",
        "plt.ylabel('No of revies')"
      ],
      "execution_count": 136,
      "outputs": [
        {
          "output_type": "execute_result",
          "data": {
            "text/plain": [
              "Text(0, 0.5, 'No of revies')"
            ]
          },
          "metadata": {
            "tags": []
          },
          "execution_count": 136
        },
        {
          "output_type": "display_data",
          "data": {
            "image/png": "[encoded data removed]",
            "text/plain": [
              "<Figure size 432x288 with 1 Axes>"
            ]
          },
          "metadata": {
            "tags": [],
            "needs_background": "light"
          }
        }
      ]
    },
    {
      "cell_type": "markdown",
      "metadata": {
        "id": "-PzRSi7YJJus",
        "colab_type": "text"
      },
      "source": [
        "#### Observation"
      ]
    },
    {
      "cell_type": "markdown",
      "metadata": {
        "id": "rHj-Txm6JSpm",
        "colab_type": "text"
      },
      "source": [
        "**Q.5) Which are the top 20 restaurant**"
      ]
    },
    {
      "cell_type": "code",
      "metadata": {
        "id": "rcVaCK9fHlol",
        "colab_type": "code",
        "colab": {
          "base_uri": "https://localhost:8080/",
          "height": 563
        },
        "outputId": "74b3c6d7-9642-435e-dd30-377eee3fd036"
      },
      "source": [
        "\n",
        "plt.figure(figsize=(12,6))\n",
        "ax =data.restaurant_name.value_counts()[:20].plot(kind='bar')\n",
        "ax.legend(['* Restaurants'])\n",
        "plt.xlabel('No of Restaurants')\n",
        "plt.ylabel('Count of Restaurant')\n",
        "plt.title(\"Name Vs Number of Restaurants\", fontsize=20, weight='bold')"
      ],
      "execution_count": 120,
      "outputs": [
        {
          "output_type": "execute_result",
          "data": {
            "text/plain": [
              "Text(0.5, 1.0, 'Name Vs Number of Restaurants')"
            ]
          },
          "metadata": {
            "tags": []
          },
          "execution_count": 120
        },
        {
          "output_type": "display_data",
          "data": {
            "image/png": "[encoded data removed]",
            "text/plain": [
              "<Figure size 864x432 with 1 Axes>"
            ]
          },
          "metadata": {
            "tags": [],
            "needs_background": "light"
          }
        }
      ]
    },
    {
      "cell_type": "code",
      "metadata": {
        "id": "13MxGDHcJZOR",
        "colab_type": "code",
        "colab": {}
      },
      "source": [
        ""
      ],
      "execution_count": 0,
      "outputs": []
    },
    {
      "cell_type": "markdown",
      "metadata": {
        "id": "n4nS21v6LXcL",
        "colab_type": "text"
      },
      "source": [
        "## 3. Model"
      ]
    },
    {
      "cell_type": "code",
      "metadata": {
        "id": "hzz-8mndLtpJ",
        "colab_type": "code",
        "colab": {
          "base_uri": "https://localhost:8080/",
          "height": 326
        },
        "outputId": "3254a488-eee8-4920-bc87-22ad1c4414c2"
      },
      "source": [
        "data.info()"
      ],
      "execution_count": 199,
      "outputs": [
        {
          "output_type": "stream",
          "text": [
            "<class 'pandas.core.frame.DataFrame'>\n",
            "RangeIndex: 840 entries, 0 to 839\n",
            "Data columns (total 12 columns):\n",
            " #   Column               Non-Null Count  Dtype  \n",
            "---  ------               --------------  -----  \n",
            " 0   restaurant_name      840 non-null    object \n",
            " 1   city                 840 non-null    object \n",
            " 2   cuisines             840 non-null    object \n",
            " 3   average_cost         840 non-null    int64  \n",
            " 4   has_table_booking    840 non-null    uint8  \n",
            " 5   has_online_delivery  840 non-null    int64  \n",
            " 6   is_delivering_now    840 non-null    uint8  \n",
            " 7   price_range          840 non-null    int64  \n",
            " 8   rate                 840 non-null    float64\n",
            " 9   rating_text          840 non-null    object \n",
            " 10  votes                840 non-null    int64  \n",
            " 11  review               840 non-null    object \n",
            "dtypes: float64(1), int64(4), object(5), uint8(2)\n",
            "memory usage: 67.4+ KB\n"
          ],
          "name": "stdout"
        }
      ]
    },
    {
      "cell_type": "code",
      "metadata": {
        "id": "FZtlREiILxNV",
        "colab_type": "code",
        "colab": {}
      },
      "source": [
        "# drop unnecessary columns\n",
        "column_to_drop = ['longitude','latitude']\n",
        "data.drop(columns=column_to_drop, axis=1,inplace=True)"
      ],
      "execution_count": 0,
      "outputs": []
    },
    {
      "cell_type": "markdown",
      "metadata": {
        "id": "umwhMjLJQulg",
        "colab_type": "text"
      },
      "source": [
        "### 3.1 Converting to dummy variables"
      ]
    },
    {
      "cell_type": "code",
      "metadata": {
        "id": "9ShUOFtkO0ex",
        "colab_type": "code",
        "colab": {
          "base_uri": "https://localhost:8080/",
          "height": 736
        },
        "outputId": "0bf8b1d8-a564-4b45-bf57-4ccb47089d4f"
      },
      "source": [
        "# pd.get_dummies ==> Convert categorical variable into dummy/indicator variables.(OneHot encoding)\n",
        "\n",
        "data['has_table_booking']= pd.get_dummies(data.has_table_booking, drop_first=True)\n",
        "data['has_table_booking']= pd.get_dummies(data.has_table_booking, drop_first=True)\n",
        "data['is_delivering_now']= pd.get_dummies(data.is_delivering_now, drop_first=True)\n",
        "\n",
        "data "
      ],
      "execution_count": 180,
      "outputs": [
        {
          "output_type": "execute_result",
          "data": {
            "text/html": [
              "<div>\n",
              "<style scoped>\n",
              "    .dataframe tbody tr th:only-of-type {\n",
              "        vertical-align: middle;\n",
              "    }\n",
              "\n",
              "    .dataframe tbody tr th {\n",
              "        vertical-align: top;\n",
              "    }\n",
              "\n",
              "    .dataframe thead th {\n",
              "        text-align: right;\n",
              "    }\n",
              "</style>\n",
              "<table border=\"1\" class=\"dataframe\">\n",
              "  <thead>\n",
              "    <tr style=\"text-align: right;\">\n",
              "      <th></th>\n",
              "      <th>restaurant_name</th>\n",
              "      <th>city</th>\n",
              "      <th>cuisines</th>\n",
              "      <th>average_cost_for_two</th>\n",
              "      <th>has_table_booking</th>\n",
              "      <th>has_online_delivery</th>\n",
              "      <th>is_delivering_now</th>\n",
              "      <th>price_range</th>\n",
              "      <th>aggregate_rating</th>\n",
              "      <th>rating_text</th>\n",
              "      <th>votes</th>\n",
              "      <th>review</th>\n",
              "    </tr>\n",
              "  </thead>\n",
              "  <tbody>\n",
              "    <tr>\n",
              "      <th>0</th>\n",
              "      <td>Arigato Sushi</td>\n",
              "      <td>Yorkton</td>\n",
              "      <td>asian</td>\n",
              "      <td>25</td>\n",
              "      <td>0</td>\n",
              "      <td>0</td>\n",
              "      <td>0</td>\n",
              "      <td>2</td>\n",
              "      <td>3.3</td>\n",
              "      <td>Average</td>\n",
              "      <td>26</td>\n",
              "      <td>love arigato sushi best restaurant yorkton alw...</td>\n",
              "    </tr>\n",
              "    <tr>\n",
              "      <th>1</th>\n",
              "      <td>Mocha</td>\n",
              "      <td>Lucknow</td>\n",
              "      <td>cafe italian continental</td>\n",
              "      <td>800</td>\n",
              "      <td>0</td>\n",
              "      <td>0</td>\n",
              "      <td>0</td>\n",
              "      <td>3</td>\n",
              "      <td>4.6</td>\n",
              "      <td>Excellent</td>\n",
              "      <td>567</td>\n",
              "      <td>simply love placeit ideal breakfastlunchdinner...</td>\n",
              "    </tr>\n",
              "    <tr>\n",
              "      <th>2</th>\n",
              "      <td>Blue House Cafe</td>\n",
              "      <td>Vernonia</td>\n",
              "      <td>coffee tea mediterranean</td>\n",
              "      <td>10</td>\n",
              "      <td>0</td>\n",
              "      <td>0</td>\n",
              "      <td>0</td>\n",
              "      <td>1</td>\n",
              "      <td>4.3</td>\n",
              "      <td>Very Good</td>\n",
              "      <td>88</td>\n",
              "      <td>delicious theres single dish ive tried blue ho...</td>\n",
              "    </tr>\n",
              "    <tr>\n",
              "      <th>3</th>\n",
              "      <td>Star Buffet</td>\n",
              "      <td>Mayfield</td>\n",
              "      <td>asian</td>\n",
              "      <td>20</td>\n",
              "      <td>0</td>\n",
              "      <td>0</td>\n",
              "      <td>0</td>\n",
              "      <td>2</td>\n",
              "      <td>2.9</td>\n",
              "      <td>Average</td>\n",
              "      <td>11</td>\n",
              "      <td>lot food many varieties sushi fresh love many ...</td>\n",
              "    </tr>\n",
              "    <tr>\n",
              "      <th>4</th>\n",
              "      <td>11th Avenue Cafe Bistro</td>\n",
              "      <td>Guwahati</td>\n",
              "      <td>cafe american italian continental</td>\n",
              "      <td>400</td>\n",
              "      <td>0</td>\n",
              "      <td>0</td>\n",
              "      <td>0</td>\n",
              "      <td>2</td>\n",
              "      <td>4.1</td>\n",
              "      <td>Very Good</td>\n",
              "      <td>377</td>\n",
              "      <td>th avenue cafe always favoriteloved cheesy mea...</td>\n",
              "    </tr>\n",
              "    <tr>\n",
              "      <th>...</th>\n",
              "      <td>...</td>\n",
              "      <td>...</td>\n",
              "      <td>...</td>\n",
              "      <td>...</td>\n",
              "      <td>...</td>\n",
              "      <td>...</td>\n",
              "      <td>...</td>\n",
              "      <td>...</td>\n",
              "      <td>...</td>\n",
              "      <td>...</td>\n",
              "      <td>...</td>\n",
              "      <td>...</td>\n",
              "    </tr>\n",
              "    <tr>\n",
              "      <th>835</th>\n",
              "      <td>Angels in my Kitchen</td>\n",
              "      <td>New Delhi</td>\n",
              "      <td>bakery desserts fast food</td>\n",
              "      <td>350</td>\n",
              "      <td>0</td>\n",
              "      <td>1</td>\n",
              "      <td>0</td>\n",
              "      <td>1</td>\n",
              "      <td>3.7</td>\n",
              "      <td>Good</td>\n",
              "      <td>248</td>\n",
              "      <td>angels always excellent confectionery chocolat...</td>\n",
              "    </tr>\n",
              "    <tr>\n",
              "      <th>836</th>\n",
              "      <td>Red Mango</td>\n",
              "      <td>New Delhi</td>\n",
              "      <td>cafe desserts</td>\n",
              "      <td>700</td>\n",
              "      <td>0</td>\n",
              "      <td>1</td>\n",
              "      <td>0</td>\n",
              "      <td>2</td>\n",
              "      <td>3.7</td>\n",
              "      <td>Good</td>\n",
              "      <td>185</td>\n",
              "      <td>owner much bad cheat staff salary product fres...</td>\n",
              "    </tr>\n",
              "    <tr>\n",
              "      <th>837</th>\n",
              "      <td>The Beer Cafe</td>\n",
              "      <td>New Delhi</td>\n",
              "      <td>finger food north indian italian</td>\n",
              "      <td>1250</td>\n",
              "      <td>0</td>\n",
              "      <td>0</td>\n",
              "      <td>0</td>\n",
              "      <td>3</td>\n",
              "      <td>3.8</td>\n",
              "      <td>Good</td>\n",
              "      <td>170</td>\n",
              "      <td>casual meet office collegues ordered pasta alf...</td>\n",
              "    </tr>\n",
              "    <tr>\n",
              "      <th>838</th>\n",
              "      <td>Punjabi By Nature Express</td>\n",
              "      <td>New Delhi</td>\n",
              "      <td>north indian street food mughlai</td>\n",
              "      <td>600</td>\n",
              "      <td>0</td>\n",
              "      <td>0</td>\n",
              "      <td>0</td>\n",
              "      <td>2</td>\n",
              "      <td>3.5</td>\n",
              "      <td>Good</td>\n",
              "      <td>206</td>\n",
              "      <td>guy serving sense explain drinks showed drink ...</td>\n",
              "    </tr>\n",
              "    <tr>\n",
              "      <th>839</th>\n",
              "      <td>Shree Bhagatram</td>\n",
              "      <td>New Delhi</td>\n",
              "      <td>north indian chinese south indian mithai</td>\n",
              "      <td>650</td>\n",
              "      <td>0</td>\n",
              "      <td>1</td>\n",
              "      <td>0</td>\n",
              "      <td>2</td>\n",
              "      <td>3.3</td>\n",
              "      <td>Average</td>\n",
              "      <td>199</td>\n",
              "      <td>nan service need improve food tastes great aff...</td>\n",
              "    </tr>\n",
              "  </tbody>\n",
              "</table>\n",
              "<p>840 rows × 12 columns</p>\n",
              "</div>"
            ],
            "text/plain": [
              "               restaurant_name  ...                                             review\n",
              "0                Arigato Sushi  ...  love arigato sushi best restaurant yorkton alw...\n",
              "1                        Mocha  ...  simply love placeit ideal breakfastlunchdinner...\n",
              "2              Blue House Cafe  ...  delicious theres single dish ive tried blue ho...\n",
              "3                  Star Buffet  ...  lot food many varieties sushi fresh love many ...\n",
              "4      11th Avenue Cafe Bistro  ...  th avenue cafe always favoriteloved cheesy mea...\n",
              "..                         ...  ...                                                ...\n",
              "835       Angels in my Kitchen  ...  angels always excellent confectionery chocolat...\n",
              "836                  Red Mango  ...  owner much bad cheat staff salary product fres...\n",
              "837              The Beer Cafe  ...  casual meet office collegues ordered pasta alf...\n",
              "838  Punjabi By Nature Express  ...  guy serving sense explain drinks showed drink ...\n",
              "839            Shree Bhagatram  ...  nan service need improve food tastes great aff...\n",
              "\n",
              "[840 rows x 12 columns]"
            ]
          },
          "metadata": {
            "tags": []
          },
          "execution_count": 180
        }
      ]
    },
    {
      "cell_type": "code",
      "metadata": {
        "id": "3pNNwjwKQ9D3",
        "colab_type": "code",
        "colab": {
          "base_uri": "https://localhost:8080/",
          "height": 115
        },
        "outputId": "088866c8-f1c3-4096-d65a-30729efdf118"
      },
      "source": [
        "#  cuisines converted to categorical features\n",
        "\n",
        "data['cuisines'] = data['cuisines'].astype(str).apply(lambda x: ' '.join(sorted(x.split())))\n",
        "data['cuisines'].value_counts().head()"
      ],
      "execution_count": 181,
      "outputs": [
        {
          "output_type": "execute_result",
          "data": {
            "text/plain": [
              "indian north                    63\n",
              "indian mughlai north            47\n",
              "chinese indian mughlai north    36\n",
              "chinese indian north            36\n",
              "chinese                         31\n",
              "Name: cuisines, dtype: int64"
            ]
          },
          "metadata": {
            "tags": []
          },
          "execution_count": 181
        }
      ]
    },
    {
      "cell_type": "code",
      "metadata": {
        "id": "3m38kylnRwUI",
        "colab_type": "code",
        "colab": {}
      },
      "source": [
        "data = data.rename(columns={\n",
        "    'average_cost_for_two':'average_cost',\n",
        "    'aggregate_rating':'rate'\n",
        "    })"
      ],
      "execution_count": 0,
      "outputs": []
    },
    {
      "cell_type": "code",
      "metadata": {
        "id": "EIDeAiXwRcMD",
        "colab_type": "code",
        "colab": {}
      },
      "source": [
        ""
      ],
      "execution_count": 0,
      "outputs": []
    },
    {
      "cell_type": "code",
      "metadata": {
        "id": "yS1NmiJLTzUO",
        "colab_type": "code",
        "colab": {}
      },
      "source": [
        ""
      ],
      "execution_count": 0,
      "outputs": []
    },
    {
      "cell_type": "markdown",
      "metadata": {
        "id": "WPexY0_0T4I6",
        "colab_type": "text"
      },
      "source": [
        "## 3.2 Splitting data for Model Building"
      ]
    },
    {
      "cell_type": "code",
      "metadata": {
        "id": "hW04NojYRy4B",
        "colab_type": "code",
        "colab": {}
      },
      "source": [
        "# build x & y dataset\n",
        "x = data.drop(['restaurant_name','rate'],axis = 1)\n",
        "y = data['rate']"
      ],
      "execution_count": 0,
      "outputs": []
    },
    {
      "cell_type": "code",
      "metadata": {
        "id": "CCvf6ebfUWBV",
        "colab_type": "code",
        "colab": {
          "base_uri": "https://localhost:8080/",
          "height": 33
        },
        "outputId": "8d961a6c-79ee-4d22-b21c-8299568c7e97"
      },
      "source": [
        "x.shape, y.shape"
      ],
      "execution_count": 194,
      "outputs": [
        {
          "output_type": "execute_result",
          "data": {
            "text/plain": [
              "((840, 10), (840,))"
            ]
          },
          "metadata": {
            "tags": []
          },
          "execution_count": 194
        }
      ]
    },
    {
      "cell_type": "code",
      "metadata": {
        "id": "t9peI-ZiUyEJ",
        "colab_type": "code",
        "colab": {}
      },
      "source": [
        "from sklearn.model_selection import train_test_split\n",
        "X_train,X_test,y_train,y_test = train_test_split(x,y,test_size = 0.3,random_state = 33)"
      ],
      "execution_count": 0,
      "outputs": []
    },
    {
      "cell_type": "code",
      "metadata": {
        "id": "URBmX1hlUz0J",
        "colab_type": "code",
        "colab": {
          "base_uri": "https://localhost:8080/",
          "height": 33
        },
        "outputId": "374575d5-7de6-4cd2-d2ea-b4106d8dd263"
      },
      "source": [
        "X_train.shape, X_test.shape, y_train.shape, y_test.shape"
      ],
      "execution_count": 196,
      "outputs": [
        {
          "output_type": "execute_result",
          "data": {
            "text/plain": [
              "((588, 10), (252, 10), (588,), (252,))"
            ]
          },
          "metadata": {
            "tags": []
          },
          "execution_count": 196
        }
      ]
    },
    {
      "cell_type": "code",
      "metadata": {
        "id": "KWf6RHVRU0-e",
        "colab_type": "code",
        "colab": {}
      },
      "source": [
        "# One hot encoder\n",
        "enc = OneHotEncoder( handle_unknown='ignore')"
      ],
      "execution_count": 0,
      "outputs": []
    },
    {
      "cell_type": "code",
      "metadata": {
        "id": "BhHiqkAjU6dT",
        "colab_type": "code",
        "colab": {}
      },
      "source": [
        "## ALWAYS AVOID DATA LEAKAGE\n",
        "\n",
        "# this method is for training data set\n",
        "def one_hot_fit_transform(df,name):\n",
        "    output_data = df[name].values.reshape(-1, 1)\n",
        "    return enc.fit_transform(output_data).toarray()\n",
        "\n",
        "# this method is for test data set\n",
        "def one_hot_transform(df,name):\n",
        "    output_data1 = df[name].values.reshape(-1, 1)\n",
        "    return enc.transform(output_data1).toarray()"
      ],
      "execution_count": 0,
      "outputs": []
    },
    {
      "cell_type": "code",
      "metadata": {
        "id": "au1_aY9UU9h8",
        "colab_type": "code",
        "colab": {}
      },
      "source": [
        "# one hot encoding apply to 'rest_type' features on train/test dataset\n",
        "tr_dummy_rating_text = one_hot_fit_transform(X_train,'rating_text' )\n",
        "te_dummy_rating_text = one_hot_transform(X_test,'rating_text' )\n",
        "\n",
        "# one hot encoding apply to 'location' features on train/test dataset\n",
        "tr_dummy_city = one_hot_fit_transform(X_train,'city' )\n",
        "te_dummy_city= one_hot_transform(X_test,'city')\n",
        "\n",
        "# one hot encoding apply to 'cuisines' features on train/test dataset\n",
        "tr_dummy_cuisines = one_hot_fit_transform(X_train,'cuisines' )\n",
        "te_dummy_cuisines = one_hot_transform(X_test,'cuisines')"
      ],
      "execution_count": 0,
      "outputs": []
    },
    {
      "cell_type": "code",
      "metadata": {
        "id": "gJBr1-9vVaX7",
        "colab_type": "code",
        "colab": {
          "base_uri": "https://localhost:8080/",
          "height": 33
        },
        "outputId": "0da049a1-9dfe-4b43-e963-54878ce6b3fc"
      },
      "source": [
        "tr_dummy_rating_text.shape, te_dummy_rating_text.shape"
      ],
      "execution_count": 202,
      "outputs": [
        {
          "output_type": "execute_result",
          "data": {
            "text/plain": [
              "((588, 6), (252, 6))"
            ]
          },
          "metadata": {
            "tags": []
          },
          "execution_count": 202
        }
      ]
    },
    {
      "cell_type": "code",
      "metadata": {
        "id": "-wlVJU_uVb5B",
        "colab_type": "code",
        "colab": {
          "base_uri": "https://localhost:8080/",
          "height": 33
        },
        "outputId": "27890482-80df-4e70-a5bd-1723f1af45f6"
      },
      "source": [
        "tr_dummy_cuisines.shape, te_dummy_cuisines.shape"
      ],
      "execution_count": 203,
      "outputs": [
        {
          "output_type": "execute_result",
          "data": {
            "text/plain": [
              "((588, 212), (252, 212))"
            ]
          },
          "metadata": {
            "tags": []
          },
          "execution_count": 203
        }
      ]
    },
    {
      "cell_type": "code",
      "metadata": {
        "id": "_5gyvE9rVhwP",
        "colab_type": "code",
        "colab": {
          "base_uri": "https://localhost:8080/",
          "height": 33
        },
        "outputId": "fa809e46-db28-49c8-a7e5-91ce59426f41"
      },
      "source": [
        "tr_dummy_city.shape, te_dummy_city.shape"
      ],
      "execution_count": 204,
      "outputs": [
        {
          "output_type": "execute_result",
          "data": {
            "text/plain": [
              "((588, 17), (252, 17))"
            ]
          },
          "metadata": {
            "tags": []
          },
          "execution_count": 204
        }
      ]
    },
    {
      "cell_type": "code",
      "metadata": {
        "id": "TpYqTZiSVjAf",
        "colab_type": "code",
        "colab": {
          "base_uri": "https://localhost:8080/",
          "height": 33
        },
        "outputId": "923a9179-5c5d-46c4-eb79-d7e3c171a2cd"
      },
      "source": [
        "## combine all 'one-hot' encoded features as Tr.\n",
        "tr =pd.DataFrame(pd.np.column_stack([ tr_dummy_rating_text,tr_dummy_city, tr_dummy_cuisines]))\n",
        "\n",
        "## CONCAT both dataframe ### ie Tr and X_train(original dataframe)\n",
        "## https://stackoverflow.com/questions/45963799/pandas-concat-resulting-in-nan-rows\n",
        "\n",
        "l1=X_train.values.tolist()\n",
        "l2=tr.values.tolist()\n",
        "\n",
        "for i in range(len(l1)):\n",
        "    l1[i].extend(l2[i])\n",
        "\n",
        "X_train=pd.DataFrame(l1,columns=X_train.columns.tolist()+tr.columns.tolist())\n",
        "X_train.shape"
      ],
      "execution_count": 223,
      "outputs": [
        {
          "output_type": "execute_result",
          "data": {
            "text/plain": [
              "(588, 477)"
            ]
          },
          "metadata": {
            "tags": []
          },
          "execution_count": 223
        }
      ]
    },
    {
      "cell_type": "code",
      "metadata": {
        "id": "6N8jqjIIVoVi",
        "colab_type": "code",
        "colab": {
          "base_uri": "https://localhost:8080/",
          "height": 33
        },
        "outputId": "33da4b2c-6419-4cb4-92f4-bb7bb4497c84"
      },
      "source": [
        "## combine all 'one-hot' encoded features as Te.\n",
        "te =pd.DataFrame(pd.np.column_stack([ te_dummy_rating_text,te_dummy_city,te_dummy_cuisines]))\n",
        "\n",
        "## CONCAT both dataframe ### ie Te and X_test(original dataframe)\n",
        "## https://stackoverflow.com/questions/45963799/pandas-concat-resulting-in-nan-rows\n",
        "\n",
        "l3=X_test.values.tolist()\n",
        "l4=te.values.tolist()\n",
        "for i in range(len(l3)):\n",
        "    l3[i].extend(l4[i])\n",
        "\n",
        "X_test=pd.DataFrame(l3,columns=X_test.columns.tolist()+te.columns.tolist())\n",
        "X_test.shape"
      ],
      "execution_count": 224,
      "outputs": [
        {
          "output_type": "execute_result",
          "data": {
            "text/plain": [
              "(252, 477)"
            ]
          },
          "metadata": {
            "tags": []
          },
          "execution_count": 224
        }
      ]
    },
    {
      "cell_type": "code",
      "metadata": {
        "id": "0O9bWvn0VsEq",
        "colab_type": "code",
        "colab": {}
      },
      "source": [
        "# after onehot encoding DONE. 'location','rest_type','cuisines' are redundant features. REMOVE them.\n",
        "\n",
        "# X_train =X_train.drop(['city','rating_text','cuisines','review'],axis = 1)\n",
        "# X_test =X_test.drop(['city','rating_text','cuisines','review'],axis = 1)\n",
        "\n",
        "X_train =X_train.drop(['review'],axis = 1)\n",
        "X_test =X_test.drop(['review'],axis = 1)"
      ],
      "execution_count": 0,
      "outputs": []
    },
    {
      "cell_type": "code",
      "metadata": {
        "id": "7X-RatjNVxVF",
        "colab_type": "code",
        "colab": {
          "base_uri": "https://localhost:8080/",
          "height": 152
        },
        "outputId": "ffed07b6-dbf6-4061-ccbb-b48bac400a8a"
      },
      "source": [
        "X_train.head(2)"
      ],
      "execution_count": 228,
      "outputs": [
        {
          "output_type": "execute_result",
          "data": {
            "text/html": [
              "<div>\n",
              "<style scoped>\n",
              "    .dataframe tbody tr th:only-of-type {\n",
              "        vertical-align: middle;\n",
              "    }\n",
              "\n",
              "    .dataframe tbody tr th {\n",
              "        vertical-align: top;\n",
              "    }\n",
              "\n",
              "    .dataframe thead th {\n",
              "        text-align: right;\n",
              "    }\n",
              "</style>\n",
              "<table border=\"1\" class=\"dataframe\">\n",
              "  <thead>\n",
              "    <tr style=\"text-align: right;\">\n",
              "      <th></th>\n",
              "      <th>average_cost</th>\n",
              "      <th>has_table_booking</th>\n",
              "      <th>has_online_delivery</th>\n",
              "      <th>is_delivering_now</th>\n",
              "      <th>price_range</th>\n",
              "      <th>votes</th>\n",
              "      <th>0</th>\n",
              "      <th>1</th>\n",
              "      <th>2</th>\n",
              "      <th>3</th>\n",
              "      <th>4</th>\n",
              "      <th>5</th>\n",
              "      <th>6</th>\n",
              "      <th>7</th>\n",
              "      <th>8</th>\n",
              "      <th>9</th>\n",
              "      <th>10</th>\n",
              "      <th>11</th>\n",
              "      <th>12</th>\n",
              "      <th>13</th>\n",
              "      <th>14</th>\n",
              "      <th>15</th>\n",
              "      <th>16</th>\n",
              "      <th>17</th>\n",
              "      <th>18</th>\n",
              "      <th>19</th>\n",
              "      <th>20</th>\n",
              "      <th>21</th>\n",
              "      <th>22</th>\n",
              "      <th>23</th>\n",
              "      <th>24</th>\n",
              "      <th>25</th>\n",
              "      <th>26</th>\n",
              "      <th>27</th>\n",
              "      <th>28</th>\n",
              "      <th>29</th>\n",
              "      <th>30</th>\n",
              "      <th>31</th>\n",
              "      <th>32</th>\n",
              "      <th>33</th>\n",
              "      <th>...</th>\n",
              "      <th>195</th>\n",
              "      <th>196</th>\n",
              "      <th>197</th>\n",
              "      <th>198</th>\n",
              "      <th>199</th>\n",
              "      <th>200</th>\n",
              "      <th>201</th>\n",
              "      <th>202</th>\n",
              "      <th>203</th>\n",
              "      <th>204</th>\n",
              "      <th>205</th>\n",
              "      <th>206</th>\n",
              "      <th>207</th>\n",
              "      <th>208</th>\n",
              "      <th>209</th>\n",
              "      <th>210</th>\n",
              "      <th>211</th>\n",
              "      <th>212</th>\n",
              "      <th>213</th>\n",
              "      <th>214</th>\n",
              "      <th>215</th>\n",
              "      <th>216</th>\n",
              "      <th>217</th>\n",
              "      <th>218</th>\n",
              "      <th>219</th>\n",
              "      <th>220</th>\n",
              "      <th>221</th>\n",
              "      <th>222</th>\n",
              "      <th>223</th>\n",
              "      <th>224</th>\n",
              "      <th>225</th>\n",
              "      <th>226</th>\n",
              "      <th>227</th>\n",
              "      <th>228</th>\n",
              "      <th>229</th>\n",
              "      <th>230</th>\n",
              "      <th>231</th>\n",
              "      <th>232</th>\n",
              "      <th>233</th>\n",
              "      <th>234</th>\n",
              "    </tr>\n",
              "  </thead>\n",
              "  <tbody>\n",
              "    <tr>\n",
              "      <th>0</th>\n",
              "      <td>550</td>\n",
              "      <td>0</td>\n",
              "      <td>1</td>\n",
              "      <td>0</td>\n",
              "      <td>2</td>\n",
              "      <td>21</td>\n",
              "      <td>0.0</td>\n",
              "      <td>0.0</td>\n",
              "      <td>1.0</td>\n",
              "      <td>0.0</td>\n",
              "      <td>0.0</td>\n",
              "      <td>0.0</td>\n",
              "      <td>0.0</td>\n",
              "      <td>0.0</td>\n",
              "      <td>0.0</td>\n",
              "      <td>0.0</td>\n",
              "      <td>0.0</td>\n",
              "      <td>0.0</td>\n",
              "      <td>0.0</td>\n",
              "      <td>1.0</td>\n",
              "      <td>0.0</td>\n",
              "      <td>0.0</td>\n",
              "      <td>0.0</td>\n",
              "      <td>0.0</td>\n",
              "      <td>0.0</td>\n",
              "      <td>0.0</td>\n",
              "      <td>0.0</td>\n",
              "      <td>0.0</td>\n",
              "      <td>0.0</td>\n",
              "      <td>0.0</td>\n",
              "      <td>0.0</td>\n",
              "      <td>0.0</td>\n",
              "      <td>0.0</td>\n",
              "      <td>0.0</td>\n",
              "      <td>0.0</td>\n",
              "      <td>0.0</td>\n",
              "      <td>0.0</td>\n",
              "      <td>0.0</td>\n",
              "      <td>0.0</td>\n",
              "      <td>0.0</td>\n",
              "      <td>...</td>\n",
              "      <td>0.0</td>\n",
              "      <td>0.0</td>\n",
              "      <td>0.0</td>\n",
              "      <td>0.0</td>\n",
              "      <td>0.0</td>\n",
              "      <td>0.0</td>\n",
              "      <td>0.0</td>\n",
              "      <td>0.0</td>\n",
              "      <td>0.0</td>\n",
              "      <td>0.0</td>\n",
              "      <td>0.0</td>\n",
              "      <td>0.0</td>\n",
              "      <td>0.0</td>\n",
              "      <td>0.0</td>\n",
              "      <td>0.0</td>\n",
              "      <td>0.0</td>\n",
              "      <td>0.0</td>\n",
              "      <td>0.0</td>\n",
              "      <td>0.0</td>\n",
              "      <td>0.0</td>\n",
              "      <td>0.0</td>\n",
              "      <td>0.0</td>\n",
              "      <td>0.0</td>\n",
              "      <td>0.0</td>\n",
              "      <td>0.0</td>\n",
              "      <td>0.0</td>\n",
              "      <td>0.0</td>\n",
              "      <td>0.0</td>\n",
              "      <td>0.0</td>\n",
              "      <td>0.0</td>\n",
              "      <td>0.0</td>\n",
              "      <td>0.0</td>\n",
              "      <td>0.0</td>\n",
              "      <td>0.0</td>\n",
              "      <td>0.0</td>\n",
              "      <td>0.0</td>\n",
              "      <td>0.0</td>\n",
              "      <td>0.0</td>\n",
              "      <td>0.0</td>\n",
              "      <td>0.0</td>\n",
              "    </tr>\n",
              "    <tr>\n",
              "      <th>1</th>\n",
              "      <td>500</td>\n",
              "      <td>0</td>\n",
              "      <td>1</td>\n",
              "      <td>0</td>\n",
              "      <td>2</td>\n",
              "      <td>167</td>\n",
              "      <td>0.0</td>\n",
              "      <td>0.0</td>\n",
              "      <td>1.0</td>\n",
              "      <td>0.0</td>\n",
              "      <td>0.0</td>\n",
              "      <td>0.0</td>\n",
              "      <td>0.0</td>\n",
              "      <td>0.0</td>\n",
              "      <td>0.0</td>\n",
              "      <td>0.0</td>\n",
              "      <td>0.0</td>\n",
              "      <td>0.0</td>\n",
              "      <td>0.0</td>\n",
              "      <td>1.0</td>\n",
              "      <td>0.0</td>\n",
              "      <td>0.0</td>\n",
              "      <td>0.0</td>\n",
              "      <td>0.0</td>\n",
              "      <td>0.0</td>\n",
              "      <td>0.0</td>\n",
              "      <td>0.0</td>\n",
              "      <td>0.0</td>\n",
              "      <td>0.0</td>\n",
              "      <td>0.0</td>\n",
              "      <td>0.0</td>\n",
              "      <td>0.0</td>\n",
              "      <td>0.0</td>\n",
              "      <td>0.0</td>\n",
              "      <td>0.0</td>\n",
              "      <td>0.0</td>\n",
              "      <td>0.0</td>\n",
              "      <td>0.0</td>\n",
              "      <td>0.0</td>\n",
              "      <td>0.0</td>\n",
              "      <td>...</td>\n",
              "      <td>0.0</td>\n",
              "      <td>0.0</td>\n",
              "      <td>0.0</td>\n",
              "      <td>0.0</td>\n",
              "      <td>0.0</td>\n",
              "      <td>0.0</td>\n",
              "      <td>0.0</td>\n",
              "      <td>0.0</td>\n",
              "      <td>0.0</td>\n",
              "      <td>0.0</td>\n",
              "      <td>0.0</td>\n",
              "      <td>0.0</td>\n",
              "      <td>0.0</td>\n",
              "      <td>0.0</td>\n",
              "      <td>0.0</td>\n",
              "      <td>0.0</td>\n",
              "      <td>0.0</td>\n",
              "      <td>0.0</td>\n",
              "      <td>0.0</td>\n",
              "      <td>0.0</td>\n",
              "      <td>0.0</td>\n",
              "      <td>0.0</td>\n",
              "      <td>0.0</td>\n",
              "      <td>0.0</td>\n",
              "      <td>0.0</td>\n",
              "      <td>0.0</td>\n",
              "      <td>0.0</td>\n",
              "      <td>0.0</td>\n",
              "      <td>0.0</td>\n",
              "      <td>0.0</td>\n",
              "      <td>0.0</td>\n",
              "      <td>0.0</td>\n",
              "      <td>0.0</td>\n",
              "      <td>0.0</td>\n",
              "      <td>0.0</td>\n",
              "      <td>0.0</td>\n",
              "      <td>0.0</td>\n",
              "      <td>0.0</td>\n",
              "      <td>0.0</td>\n",
              "      <td>0.0</td>\n",
              "    </tr>\n",
              "  </tbody>\n",
              "</table>\n",
              "<p>2 rows × 476 columns</p>\n",
              "</div>"
            ],
            "text/plain": [
              "   average_cost  has_table_booking  has_online_delivery  ...  232  233  234\n",
              "0           550                  0                    1  ...  0.0  0.0  0.0\n",
              "1           500                  0                    1  ...  0.0  0.0  0.0\n",
              "\n",
              "[2 rows x 476 columns]"
            ]
          },
          "metadata": {
            "tags": []
          },
          "execution_count": 228
        }
      ]
    },
    {
      "cell_type": "code",
      "metadata": {
        "id": "CWoJZunlWrFX",
        "colab_type": "code",
        "colab": {
          "base_uri": "https://localhost:8080/",
          "height": 33
        },
        "outputId": "c0a7a518-434c-4fc6-a3b4-e4e8b06507aa"
      },
      "source": [
        "X_train.shape, X_test.shape, y_train.shape, y_test.shape"
      ],
      "execution_count": 233,
      "outputs": [
        {
          "output_type": "execute_result",
          "data": {
            "text/plain": [
              "((588, 476), (252, 476), (588,), (252,))"
            ]
          },
          "metadata": {
            "tags": []
          },
          "execution_count": 233
        }
      ]
    },
    {
      "cell_type": "code",
      "metadata": {
        "id": "vDqJ-lwxW1aS",
        "colab_type": "code",
        "colab": {
          "base_uri": "https://localhost:8080/",
          "height": 50
        },
        "outputId": "8e5ffea4-9b64-4ad6-b3a4-232c5680a011"
      },
      "source": [
        "print(x.shape)\n",
        "print(y.shape)"
      ],
      "execution_count": 234,
      "outputs": [
        {
          "output_type": "stream",
          "text": [
            "(840, 10)\n",
            "(840,)\n"
          ],
          "name": "stdout"
        }
      ]
    },
    {
      "cell_type": "code",
      "metadata": {
        "id": "iT02sRq7W3iN",
        "colab_type": "code",
        "colab": {
          "base_uri": "https://localhost:8080/",
          "height": 33
        },
        "outputId": "492550d7-15b6-4a3d-e45d-1309ef8f5ab8"
      },
      "source": [
        "dump(X_train, 'max_features_pkl/more_feature_X_train')\n",
        "dump(X_test, 'max_features_pkl/more_feature_X_test')\n",
        "dump(y_train, 'max_features_pkl/more_feature_y_train')\n",
        "dump(y_test, 'max_features_pkl/more_feature_y_test')"
      ],
      "execution_count": 235,
      "outputs": [
        {
          "output_type": "execute_result",
          "data": {
            "text/plain": [
              "['max_features_pkl/more_feature_y_test']"
            ]
          },
          "metadata": {
            "tags": []
          },
          "execution_count": 235
        }
      ]
    },
    {
      "cell_type": "code",
      "metadata": {
        "id": "dk2CFkKdXBUY",
        "colab_type": "code",
        "colab": {}
      },
      "source": [
        "X_train= load('max_features_pkl/more_feature_X_train') \n",
        "X_test= load('max_features_pkl/more_feature_X_test')\n",
        "y_train= load('max_features_pkl/more_feature_y_train')\n",
        "y_test= load('max_features_pkl/more_feature_y_test')"
      ],
      "execution_count": 0,
      "outputs": []
    },
    {
      "cell_type": "code",
      "metadata": {
        "id": "_B64Xcd9WGOI",
        "colab_type": "code",
        "colab": {}
      },
      "source": [
        "from sklearn.metrics import  make_scorer\n",
        "from sklearn.model_selection import GridSearchCV\n",
        "from sklearn import metrics\n",
        "\n",
        "\n",
        "def mse(y, y_pred):\n",
        "    return np.mean((y_pred - y)**2) \n",
        "\n",
        "mse_scorer = make_scorer(mse, greater_is_better=False)"
      ],
      "execution_count": 0,
      "outputs": []
    },
    {
      "cell_type": "markdown",
      "metadata": {
        "id": "4AUF1Kr0WGYz",
        "colab_type": "text"
      },
      "source": [
        "## Building Random Model(For Worst case MSE)"
      ]
    },
    {
      "cell_type": "code",
      "metadata": {
        "id": "ddd_9K1PV0L5",
        "colab_type": "code",
        "colab": {
          "base_uri": "https://localhost:8080/",
          "height": 33
        },
        "outputId": "8a247728-870f-49c1-ac1f-8f8a5136574b"
      },
      "source": [
        "import random\n",
        "\n",
        "rand_pred= np.zeros(y_test.shape[0])\n",
        "for i in range(y_test.shape[0]):\n",
        "    rand_probs = round(random.uniform(1.0, 5.0),2)\n",
        "    rand_pred[i] = rand_probs\n",
        "\n",
        "mse(y_test, rand_pred)"
      ],
      "execution_count": 238,
      "outputs": [
        {
          "output_type": "execute_result",
          "data": {
            "text/plain": [
              "2.7511571428571426"
            ]
          },
          "metadata": {
            "tags": []
          },
          "execution_count": 238
        }
      ]
    },
    {
      "cell_type": "markdown",
      "metadata": {
        "id": "r2gwCT0lWaF1",
        "colab_type": "text"
      },
      "source": [
        "Here we can see that random model provide 2.53 MSE value. We can take this as a cut off. Any model which has MSE less than random model is considered as better model."
      ]
    },
    {
      "cell_type": "markdown",
      "metadata": {
        "id": "-rOs9-yEWdVG",
        "colab_type": "text"
      },
      "source": [
        "## Model -1 Linear Regression"
      ]
    },
    {
      "cell_type": "code",
      "metadata": {
        "id": "drN5Xgz7WPhZ",
        "colab_type": "code",
        "colab": {
          "base_uri": "https://localhost:8080/",
          "height": 33
        },
        "outputId": "48fd05ce-6469-42be-ae36-deb256251b23"
      },
      "source": [
        "from sklearn.linear_model import LinearRegression\n",
        "lr = LinearRegression()\n",
        "lr.fit(X_train,y_train)\n",
        "y_pred_lr = lr.predict(X_test)\n",
        "\n",
        "mse(y_test, y_pred_lr)"
      ],
      "execution_count": 239,
      "outputs": [
        {
          "output_type": "execute_result",
          "data": {
            "text/plain": [
              "0.043071651020757946"
            ]
          },
          "metadata": {
            "tags": []
          },
          "execution_count": 239
        }
      ]
    },
    {
      "cell_type": "markdown",
      "metadata": {
        "id": "Qzra_WGOZJCT",
        "colab_type": "text"
      },
      "source": [
        "## Model -2 Random Forest Regressor"
      ]
    },
    {
      "cell_type": "code",
      "metadata": {
        "id": "RhCcZhc0WiDT",
        "colab_type": "code",
        "colab": {
          "base_uri": "https://localhost:8080/",
          "height": 33
        },
        "outputId": "1baf7c46-af4e-4f5f-c00d-5b657661e461"
      },
      "source": [
        "from sklearn.ensemble import RandomForestRegressor\n",
        "\n",
        "rfr = RandomForestRegressor()\n",
        "rfr.fit(X_train,y_train)\n",
        "y_pred_rfr = rfr.predict(X_test)\n",
        "\n",
        "mse(y_test, y_pred_rfr)"
      ],
      "execution_count": 240,
      "outputs": [
        {
          "output_type": "execute_result",
          "data": {
            "text/plain": [
              "0.03890772615079349"
            ]
          },
          "metadata": {
            "tags": []
          },
          "execution_count": 240
        }
      ]
    },
    {
      "cell_type": "code",
      "metadata": {
        "id": "kZuV3dLxZKtd",
        "colab_type": "code",
        "colab": {
          "base_uri": "https://localhost:8080/",
          "height": 82
        },
        "outputId": "a42ab380-4b09-49e0-998b-cf957309b9e7"
      },
      "source": [
        "tuned_parameters = {'n_estimators': [500]}\n",
        "\n",
        "grd_regressor = GridSearchCV(RandomForestRegressor(), tuned_parameters, cv=10, \n",
        "                   n_jobs=-1, verbose=1, scoring=mse_scorer)\n",
        "grd_regressor.fit(X_train, y_train)\n",
        "\n",
        "y_pred_grd = grd_regressor.predict(X_test)\n",
        "\n",
        "mse(y_test, y_pred_grd)"
      ],
      "execution_count": 248,
      "outputs": [
        {
          "output_type": "stream",
          "text": [
            "Fitting 10 folds for each of 1 candidates, totalling 10 fits\n"
          ],
          "name": "stdout"
        },
        {
          "output_type": "stream",
          "text": [
            "[Parallel(n_jobs=-1)]: Using backend LokyBackend with 2 concurrent workers.\n",
            "[Parallel(n_jobs=-1)]: Done  10 out of  10 | elapsed:   26.7s finished\n"
          ],
          "name": "stderr"
        },
        {
          "output_type": "execute_result",
          "data": {
            "text/plain": [
              "0.03799677087809369"
            ]
          },
          "metadata": {
            "tags": []
          },
          "execution_count": 248
        }
      ]
    },
    {
      "cell_type": "markdown",
      "metadata": {
        "id": "L2GSbAtqZ2F6",
        "colab_type": "text"
      },
      "source": [
        "After above experiment we got below result\n",
        "\n",
        "- MSE:  0.04004986221340383 == 50(n_estimators)\n",
        "- MSE:  0.03807506691137555 == 100 (n_estimators)\n",
        "- MSE:  0.0377001297623944 == 150 (n_estimators)\n",
        "- MSE:  0.03828087737268492 ==200(n_estimators)\n",
        "- MSE:  0.03799677087809369 ===500 (n_estimators)\n",
        "\n",
        "Final n_estimators choose 150\n"
      ]
    },
    {
      "cell_type": "markdown",
      "metadata": {
        "id": "eXIdft5Aatwv",
        "colab_type": "text"
      },
      "source": [
        "### Best Parameter Model"
      ]
    },
    {
      "cell_type": "code",
      "metadata": {
        "id": "Q3Ow5uMNZc2C",
        "colab_type": "code",
        "colab": {
          "base_uri": "https://localhost:8080/",
          "height": 33
        },
        "outputId": "195ab1c7-f926-4fc3-e746-e792679bad12"
      },
      "source": [
        "\n",
        "rfr = RandomForestRegressor(max_depth=None,n_estimators=150,min_samples_split= 2)\n",
        "rfr.fit(X_train,y_train)\n",
        "y_pred_rfr = rfr.predict(X_test)\n",
        "\n",
        "mse(y_test, y_pred_rfr)"
      ],
      "execution_count": 249,
      "outputs": [
        {
          "output_type": "execute_result",
          "data": {
            "text/plain": [
              "0.03767799373424765"
            ]
          },
          "metadata": {
            "tags": []
          },
          "execution_count": 249
        }
      ]
    },
    {
      "cell_type": "code",
      "metadata": {
        "id": "HwdyxVvWapr9",
        "colab_type": "code",
        "colab": {}
      },
      "source": [
        ""
      ],
      "execution_count": 0,
      "outputs": []
    },
    {
      "cell_type": "code",
      "metadata": {
        "id": "KzHn0ePuayxv",
        "colab_type": "code",
        "colab": {
          "base_uri": "https://localhost:8080/",
          "height": 391
        },
        "outputId": "3614cd44-56cf-4f2b-e73d-ad81a68e9402"
      },
      "source": [
        "Randpred = pd.DataFrame({ \"actual\": y_test, \"pred\": y_pred_rfr })\n",
        "Randpred"
      ],
      "execution_count": 250,
      "outputs": [
        {
          "output_type": "execute_result",
          "data": {
            "text/html": [
              "<div>\n",
              "<style scoped>\n",
              "    .dataframe tbody tr th:only-of-type {\n",
              "        vertical-align: middle;\n",
              "    }\n",
              "\n",
              "    .dataframe tbody tr th {\n",
              "        vertical-align: top;\n",
              "    }\n",
              "\n",
              "    .dataframe thead th {\n",
              "        text-align: right;\n",
              "    }\n",
              "</style>\n",
              "<table border=\"1\" class=\"dataframe\">\n",
              "  <thead>\n",
              "    <tr style=\"text-align: right;\">\n",
              "      <th></th>\n",
              "      <th>actual</th>\n",
              "      <th>pred</th>\n",
              "    </tr>\n",
              "  </thead>\n",
              "  <tbody>\n",
              "    <tr>\n",
              "      <th>660</th>\n",
              "      <td>0.0</td>\n",
              "      <td>0.000000</td>\n",
              "    </tr>\n",
              "    <tr>\n",
              "      <th>622</th>\n",
              "      <td>3.7</td>\n",
              "      <td>3.751333</td>\n",
              "    </tr>\n",
              "    <tr>\n",
              "      <th>645</th>\n",
              "      <td>0.0</td>\n",
              "      <td>0.000000</td>\n",
              "    </tr>\n",
              "    <tr>\n",
              "      <th>286</th>\n",
              "      <td>3.1</td>\n",
              "      <td>2.980667</td>\n",
              "    </tr>\n",
              "    <tr>\n",
              "      <th>457</th>\n",
              "      <td>2.8</td>\n",
              "      <td>3.200667</td>\n",
              "    </tr>\n",
              "    <tr>\n",
              "      <th>...</th>\n",
              "      <td>...</td>\n",
              "      <td>...</td>\n",
              "    </tr>\n",
              "    <tr>\n",
              "      <th>170</th>\n",
              "      <td>3.2</td>\n",
              "      <td>3.159333</td>\n",
              "    </tr>\n",
              "    <tr>\n",
              "      <th>42</th>\n",
              "      <td>4.0</td>\n",
              "      <td>4.122667</td>\n",
              "    </tr>\n",
              "    <tr>\n",
              "      <th>516</th>\n",
              "      <td>4.1</td>\n",
              "      <td>4.064667</td>\n",
              "    </tr>\n",
              "    <tr>\n",
              "      <th>184</th>\n",
              "      <td>3.2</td>\n",
              "      <td>2.986222</td>\n",
              "    </tr>\n",
              "    <tr>\n",
              "      <th>155</th>\n",
              "      <td>3.7</td>\n",
              "      <td>3.745544</td>\n",
              "    </tr>\n",
              "  </tbody>\n",
              "</table>\n",
              "<p>252 rows × 2 columns</p>\n",
              "</div>"
            ],
            "text/plain": [
              "     actual      pred\n",
              "660     0.0  0.000000\n",
              "622     3.7  3.751333\n",
              "645     0.0  0.000000\n",
              "286     3.1  2.980667\n",
              "457     2.8  3.200667\n",
              "..      ...       ...\n",
              "170     3.2  3.159333\n",
              "42      4.0  4.122667\n",
              "516     4.1  4.064667\n",
              "184     3.2  2.986222\n",
              "155     3.7  3.745544\n",
              "\n",
              "[252 rows x 2 columns]"
            ]
          },
          "metadata": {
            "tags": []
          },
          "execution_count": 250
        }
      ]
    },
    {
      "cell_type": "code",
      "metadata": {
        "id": "hoLlwry0azPn",
        "colab_type": "code",
        "colab": {}
      },
      "source": [
        ""
      ],
      "execution_count": 0,
      "outputs": []
    }
  ]
}