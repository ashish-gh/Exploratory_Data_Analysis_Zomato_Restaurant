{
  "nbformat": 4,
  "nbformat_minor": 0,
  "metadata": {
    "kernelspec": {
      "display_name": "Python 3",
      "language": "python",
      "name": "python3"
    },
    "language_info": {
      "codemirror_mode": {
        "name": "ipython",
        "version": 3
      },
      "file_extension": ".py",
      "mimetype": "text/x-python",
      "name": "python",
      "nbconvert_exporter": "python",
      "pygments_lexer": "ipython3",
      "version": "3.7.6"
    },
    "colab": {
      "name": "Exploratory_Data_Analysis_Zomato.ipynb",
      "provenance": []
    }
  },
  "cells": [
    {
      "cell_type": "markdown",
      "metadata": {
        "id": "RFmLk_dj2TDZ",
        "colab_type": "text"
      },
      "source": [
        "# Predicting Zomato Restaurant Rate"
      ]
    },
    {
      "cell_type": "markdown",
      "metadata": {
        "id": "IWuLVbrd2TDb",
        "colab_type": "text"
      },
      "source": [
        "### 1. Business Problem"
      ]
    },
    {
      "cell_type": "markdown",
      "metadata": {
        "id": "GZsufpkN2TDc",
        "colab_type": "text"
      },
      "source": [
        "### 1.1 Problem Description"
      ]
    },
    {
      "cell_type": "markdown",
      "metadata": {
        "id": "xFPuICR92TDe",
        "colab_type": "text"
      },
      "source": [
        "- Does demography of area matters?\n",
        "- Does location of particular type of restraurant depends on people living in that area>\n",
        "- Does theme of restraurant matters?\n",
        "- Is food chain category restraurant likely to have more customers than its counter part?\n",
        "- Are any neighbourhood on similar based on the type of food?\n",
        "- Is particular neighbours is famous for itw own kind of food?\n",
        "- If two neighbours are similar does that mean these are related or particular group of people live in neighbourhood or these are places to eat.\n",
        "- What kind of food is famous in locality.\n",
        "- Do entire locality loves veg food, if yes then locality populated by particular set of people eg Jain, Gujarati,Marwadi who are basically veg.\n"
      ]
    },
    {
      "cell_type": "markdown",
      "metadata": {
        "id": "WyYEmEWA2TDf",
        "colab_type": "text"
      },
      "source": [
        "### 1.2. Problem Statement\n",
        "The dataset also contains reviews for each of the restaurant which will help in finding overall rating for the place. So we will try to predict rating for particular restaurant."
      ]
    },
    {
      "cell_type": "markdown",
      "metadata": {
        "id": "QlnOe52d2TDg",
        "colab_type": "text"
      },
      "source": [
        "### 1.3 Business Objectives"
      ]
    },
    {
      "cell_type": "markdown",
      "metadata": {
        "id": "znYbRCq-2TDh",
        "colab_type": "text"
      },
      "source": [
        "### 1.4 Machine Learning  Formulation"
      ]
    },
    {
      "cell_type": "markdown",
      "metadata": {
        "id": "DrQoJ0Hb2TDj",
        "colab_type": "text"
      },
      "source": [
        "### 1.5 Performance Metrics"
      ]
    },
    {
      "cell_type": "markdown",
      "metadata": {
        "id": "UwGxQStJ2TDk",
        "colab_type": "text"
      },
      "source": [
        "## 2. Data"
      ]
    },
    {
      "cell_type": "markdown",
      "metadata": {
        "id": "CTsf0sNa2TDl",
        "colab_type": "text"
      },
      "source": [
        "### 2.1 Data Download\n",
        "\n",
        "Zomato API was used to download data. Data was fetched from Zomato API by making zomatoWrapper package. Description on zomatoWrapper package can be found here:\n",
        "\n",
        "https://github.com/ashish-gh/zomatoWrapper\n",
        "\n",
        "Zomato API provides data in json which was later stored in .csv file. Particularly two API endpoints were used to fetch data. Finally the data were merged and final csv file was produced. Data storage manipulation process can be found here:\n",
        "\n",
        "https://github.com/ashish-gh/Exploratory_Data_Analysis_Zomato_Restaurant/blob/master/DataStorage_and_Pre-processing.ipynb\n"
      ]
    },
    {
      "cell_type": "markdown",
      "metadata": {
        "id": "5uI66sg32TDm",
        "colab_type": "text"
      },
      "source": [
        "### 2.2 Data Understanding"
      ]
    },
    {
      "cell_type": "code",
      "metadata": {
        "id": "npDXCwTy2TDn",
        "colab_type": "code",
        "outputId": "07063547-cdd2-4b7f-f9c6-c28282d2355d",
        "colab": {
          "base_uri": "https://localhost:8080/",
          "height": 70
        }
      },
      "source": [
        "import pandas as pd\n",
        "import numpy as np\n",
        "import matplotlib.pyplot as plt\n",
        "import seaborn as sns\n",
        "import ast\n",
        "\n",
        "from wordcloud import WordCloud, STOPWORDS\n",
        "from sklearn.preprocessing import OneHotEncoder\n",
        "\n",
        "from joblib import dump,load\n",
        "#%matplotlib notebook\n",
        "%matplotlib inline\n",
        "\n",
        "import warnings\n",
        "warnings.filterwarnings('ignore')\n",
        "\n",
        "from sklearn.linear_model import LinearRegression\n",
        "from sklearn import linear_model\n",
        "from sklearn.ensemble import RandomForestRegressor\n",
        "from sklearn.preprocessing import OneHotEncoder\n",
        "from sklearn.model_selection import train_test_split\n",
        "from sklearn.metrics import  make_scorer\n",
        "from sklearn.model_selection import GridSearchCV\n",
        "from sklearn import metrics\n",
        "\n",
        "import random\n",
        "from xgboost import XGBClassifier\n",
        "from sklearn.ensemble import RandomForestRegressor"
      ],
      "execution_count": 2,
      "outputs": [
        {
          "output_type": "stream",
          "text": [
            "/usr/local/lib/python3.6/dist-packages/statsmodels/tools/_testing.py:19: FutureWarning: pandas.util.testing is deprecated. Use the functions in the public API at pandas.testing instead.\n",
            "  import pandas.util.testing as tm\n"
          ],
          "name": "stderr"
        }
      ]
    },
    {
      "cell_type": "code",
      "metadata": {
        "id": "IFrnWS6B2hHx",
        "colab_type": "code",
        "outputId": "e3b66edf-0095-4acb-9374-403f4dc5f8a4",
        "colab": {
          "base_uri": "https://localhost:8080/",
          "height": 33
        }
      },
      "source": [
        "data = pd.read_csv('zomato_final.csv')\n",
        "data.shape"
      ],
      "execution_count": 3,
      "outputs": [
        {
          "output_type": "execute_result",
          "data": {
            "text/plain": [
              "(840, 21)"
            ]
          },
          "metadata": {
            "tags": []
          },
          "execution_count": 3
        }
      ]
    },
    {
      "cell_type": "code",
      "metadata": {
        "id": "Zqnq-Hm429pg",
        "colab_type": "code",
        "outputId": "d6140e33-61e7-40d9-9d8f-85c2fde39f58",
        "colab": {
          "base_uri": "https://localhost:8080/",
          "height": 552
        }
      },
      "source": [
        "data.head()"
      ],
      "execution_count": 4,
      "outputs": [
        {
          "output_type": "execute_result",
          "data": {
            "text/html": [
              "<div>\n",
              "<style scoped>\n",
              "    .dataframe tbody tr th:only-of-type {\n",
              "        vertical-align: middle;\n",
              "    }\n",
              "\n",
              "    .dataframe tbody tr th {\n",
              "        vertical-align: top;\n",
              "    }\n",
              "\n",
              "    .dataframe thead th {\n",
              "        text-align: right;\n",
              "    }\n",
              "</style>\n",
              "<table border=\"1\" class=\"dataframe\">\n",
              "  <thead>\n",
              "    <tr style=\"text-align: right;\">\n",
              "      <th></th>\n",
              "      <th>restaurant_id</th>\n",
              "      <th>restaurant_name</th>\n",
              "      <th>country_code</th>\n",
              "      <th>city</th>\n",
              "      <th>address</th>\n",
              "      <th>locality</th>\n",
              "      <th>locality_verbose</th>\n",
              "      <th>longitude</th>\n",
              "      <th>latitude</th>\n",
              "      <th>cuisines</th>\n",
              "      <th>average_cost_for_two</th>\n",
              "      <th>has_table_booking</th>\n",
              "      <th>has_online_delivery</th>\n",
              "      <th>is_delivering_now</th>\n",
              "      <th>switch_to_orvder_menu</th>\n",
              "      <th>price_range</th>\n",
              "      <th>aggregate_rating</th>\n",
              "      <th>rating_color</th>\n",
              "      <th>rating_text</th>\n",
              "      <th>votes</th>\n",
              "      <th>review</th>\n",
              "    </tr>\n",
              "  </thead>\n",
              "  <tbody>\n",
              "    <tr>\n",
              "      <th>0</th>\n",
              "      <td>16668008</td>\n",
              "      <td>Arigato Sushi</td>\n",
              "      <td>37</td>\n",
              "      <td>Yorkton</td>\n",
              "      <td>14 Second Ave North, Yorkton, SK S3N 1G1</td>\n",
              "      <td>Yorkton</td>\n",
              "      <td>Yorkton, Yorkton</td>\n",
              "      <td>-102.461317</td>\n",
              "      <td>51.210682</td>\n",
              "      <td>Asian</td>\n",
              "      <td>25</td>\n",
              "      <td>0</td>\n",
              "      <td>0</td>\n",
              "      <td>0</td>\n",
              "      <td>0</td>\n",
              "      <td>2</td>\n",
              "      <td>3.3</td>\n",
              "      <td>CDD614</td>\n",
              "      <td>Average</td>\n",
              "      <td>26</td>\n",
              "      <td>['i love arigato sushi!!!! the best restaurant...</td>\n",
              "    </tr>\n",
              "    <tr>\n",
              "      <th>1</th>\n",
              "      <td>801690</td>\n",
              "      <td>Mocha</td>\n",
              "      <td>1</td>\n",
              "      <td>Lucknow</td>\n",
              "      <td>CP-1, 2nd Floor, Anand Plaza, Viram Khand-1, N...</td>\n",
              "      <td>Gomti Nagar</td>\n",
              "      <td>Gomti Nagar, Lucknow</td>\n",
              "      <td>81.001185</td>\n",
              "      <td>26.852810</td>\n",
              "      <td>Cafe, Italian, Continental</td>\n",
              "      <td>800</td>\n",
              "      <td>0</td>\n",
              "      <td>0</td>\n",
              "      <td>0</td>\n",
              "      <td>0</td>\n",
              "      <td>3</td>\n",
              "      <td>4.6</td>\n",
              "      <td>3F7E00</td>\n",
              "      <td>Excellent</td>\n",
              "      <td>567</td>\n",
              "      <td>['I just Simply love This Place.....It is idea...</td>\n",
              "    </tr>\n",
              "    <tr>\n",
              "      <th>2</th>\n",
              "      <td>17558738</td>\n",
              "      <td>Blue House Cafe</td>\n",
              "      <td>216</td>\n",
              "      <td>Vernonia</td>\n",
              "      <td>919 Bridge St, Vernonia, OR 97064</td>\n",
              "      <td>Vernonia</td>\n",
              "      <td>Vernonia, Vernonia</td>\n",
              "      <td>-123.195437</td>\n",
              "      <td>45.858667</td>\n",
              "      <td>Coffee and Tea, Mediterranean</td>\n",
              "      <td>10</td>\n",
              "      <td>0</td>\n",
              "      <td>0</td>\n",
              "      <td>0</td>\n",
              "      <td>0</td>\n",
              "      <td>1</td>\n",
              "      <td>4.3</td>\n",
              "      <td>5BA829</td>\n",
              "      <td>Very Good</td>\n",
              "      <td>88</td>\n",
              "      <td>[\"Delicious. There's not a single dish i've tr...</td>\n",
              "    </tr>\n",
              "    <tr>\n",
              "      <th>3</th>\n",
              "      <td>16611701</td>\n",
              "      <td>Star Buffet</td>\n",
              "      <td>14</td>\n",
              "      <td>Mayfield</td>\n",
              "      <td>58 Hanbury St, Mayfield, NSW</td>\n",
              "      <td>Mayfield</td>\n",
              "      <td>Mayfield, Mayfield</td>\n",
              "      <td>151.734383</td>\n",
              "      <td>-32.899178</td>\n",
              "      <td>Asian</td>\n",
              "      <td>20</td>\n",
              "      <td>0</td>\n",
              "      <td>0</td>\n",
              "      <td>0</td>\n",
              "      <td>0</td>\n",
              "      <td>2</td>\n",
              "      <td>2.9</td>\n",
              "      <td>FFBA00</td>\n",
              "      <td>Average</td>\n",
              "      <td>11</td>\n",
              "      <td>['A lot of food and many varieties, some of th...</td>\n",
              "    </tr>\n",
              "    <tr>\n",
              "      <th>4</th>\n",
              "      <td>2100784</td>\n",
              "      <td>11th Avenue Cafe Bistro</td>\n",
              "      <td>1</td>\n",
              "      <td>Guwahati</td>\n",
              "      <td>Opposite Assam State Museum, Dighalipukhuri, T...</td>\n",
              "      <td>Uzan Bazaar</td>\n",
              "      <td>Uzan Bazaar, Guwahati</td>\n",
              "      <td>91.752314</td>\n",
              "      <td>26.186001</td>\n",
              "      <td>Cafe, American, Italian, Continental</td>\n",
              "      <td>400</td>\n",
              "      <td>0</td>\n",
              "      <td>0</td>\n",
              "      <td>0</td>\n",
              "      <td>0</td>\n",
              "      <td>2</td>\n",
              "      <td>4.1</td>\n",
              "      <td>5BA829</td>\n",
              "      <td>Very Good</td>\n",
              "      <td>377</td>\n",
              "      <td>['11th avenue cafe has always been my favorite...</td>\n",
              "    </tr>\n",
              "  </tbody>\n",
              "</table>\n",
              "</div>"
            ],
            "text/plain": [
              "   restaurant_id  ...                                             review\n",
              "0       16668008  ...  ['i love arigato sushi!!!! the best restaurant...\n",
              "1         801690  ...  ['I just Simply love This Place.....It is idea...\n",
              "2       17558738  ...  [\"Delicious. There's not a single dish i've tr...\n",
              "3       16611701  ...  ['A lot of food and many varieties, some of th...\n",
              "4        2100784  ...  ['11th avenue cafe has always been my favorite...\n",
              "\n",
              "[5 rows x 21 columns]"
            ]
          },
          "metadata": {
            "tags": []
          },
          "execution_count": 4
        }
      ]
    },
    {
      "cell_type": "code",
      "metadata": {
        "id": "UXaq96GS3B29",
        "colab_type": "code",
        "outputId": "0415728f-8fc4-4075-f197-5111c7cd181e",
        "colab": {
          "base_uri": "https://localhost:8080/",
          "height": 472
        }
      },
      "source": [
        "data.info()"
      ],
      "execution_count": 5,
      "outputs": [
        {
          "output_type": "stream",
          "text": [
            "<class 'pandas.core.frame.DataFrame'>\n",
            "RangeIndex: 840 entries, 0 to 839\n",
            "Data columns (total 21 columns):\n",
            " #   Column                 Non-Null Count  Dtype  \n",
            "---  ------                 --------------  -----  \n",
            " 0   restaurant_id          840 non-null    int64  \n",
            " 1   restaurant_name        840 non-null    object \n",
            " 2   country_code           840 non-null    int64  \n",
            " 3   city                   840 non-null    object \n",
            " 4   address                840 non-null    object \n",
            " 5   locality               840 non-null    object \n",
            " 6   locality_verbose       840 non-null    object \n",
            " 7   longitude              840 non-null    float64\n",
            " 8   latitude               840 non-null    float64\n",
            " 9   cuisines               840 non-null    object \n",
            " 10  average_cost_for_two   840 non-null    int64  \n",
            " 11  has_table_booking      840 non-null    int64  \n",
            " 12  has_online_delivery    840 non-null    int64  \n",
            " 13  is_delivering_now      840 non-null    int64  \n",
            " 14  switch_to_orvder_menu  840 non-null    int64  \n",
            " 15  price_range            840 non-null    int64  \n",
            " 16  aggregate_rating       840 non-null    float64\n",
            " 17  rating_color           840 non-null    object \n",
            " 18  rating_text            840 non-null    object \n",
            " 19  votes                  840 non-null    int64  \n",
            " 20  review                 840 non-null    object \n",
            "dtypes: float64(3), int64(9), object(9)\n",
            "memory usage: 137.9+ KB\n"
          ],
          "name": "stdout"
        }
      ]
    },
    {
      "cell_type": "code",
      "metadata": {
        "id": "tZ4QxI8J3Dfp",
        "colab_type": "code",
        "outputId": "db2e7428-562d-4cd2-a601-54fe7b42ea9e",
        "colab": {
          "base_uri": "https://localhost:8080/",
          "height": 163
        }
      },
      "source": [
        "# country_code,address locality, locaity_verbose, switch_to_orvder_menu, switch_to_orvder_menu, rating_color,\n",
        "data.votes.describe()"
      ],
      "execution_count": 6,
      "outputs": [
        {
          "output_type": "execute_result",
          "data": {
            "text/plain": [
              "count     840.000000\n",
              "mean      201.284524\n",
              "std       472.938189\n",
              "min         0.000000\n",
              "25%         9.000000\n",
              "50%        66.000000\n",
              "75%       211.250000\n",
              "max      4986.000000\n",
              "Name: votes, dtype: float64"
            ]
          },
          "metadata": {
            "tags": []
          },
          "execution_count": 6
        }
      ]
    },
    {
      "cell_type": "markdown",
      "metadata": {
        "id": "hpo43Msl41Eb",
        "colab_type": "text"
      },
      "source": [
        "### Column description"
      ]
    },
    {
      "cell_type": "code",
      "metadata": {
        "id": "uzofCuC53La1",
        "colab_type": "code",
        "outputId": "598cebc1-48e9-40c0-c0c5-ec30c177a38d",
        "colab": {
          "base_uri": "https://localhost:8080/",
          "height": 0
        }
      },
      "source": [
        "data.columns"
      ],
      "execution_count": 7,
      "outputs": [
        {
          "output_type": "execute_result",
          "data": {
            "text/plain": [
              "Index(['restaurant_id', 'restaurant_name', 'country_code', 'city', 'address',\n",
              "       'locality', 'locality_verbose', 'longitude', 'latitude', 'cuisines',\n",
              "       'average_cost_for_two', 'has_table_booking', 'has_online_delivery',\n",
              "       'is_delivering_now', 'switch_to_orvder_menu', 'price_range',\n",
              "       'aggregate_rating', 'rating_color', 'rating_text', 'votes', 'review'],\n",
              "      dtype='object')"
            ]
          },
          "metadata": {
            "tags": []
          },
          "execution_count": 7
        }
      ]
    },
    {
      "cell_type": "markdown",
      "metadata": {
        "id": "7yzPKika46d8",
        "colab_type": "text"
      },
      "source": [
        "- restaurant_id: contains unique id for each restaurant\n",
        "- restaurant_name: contains the name of the restaurant\n",
        "- country_code: containts the country code in which the restaurant is situated\n",
        "- city: \n",
        "\n",
        "- address: contains the address of the restaurant\n",
        "\n",
        "- locality:\n",
        "\n",
        "- locality_verbose:\n",
        "\n",
        "- longitude: \n",
        "\n",
        "- latitude: \n",
        "\n",
        "- cuisines:\n",
        "\n",
        "- average_cost_for_two:\n",
        "\n",
        "- has_table_booking:\n",
        "\n",
        "- has_online_delivery:\n",
        "- is delivering_now:\n",
        "- switch_to_order_now:\n",
        "- price_range \n",
        "- aggregated_rating\n"
      ]
    },
    {
      "cell_type": "markdown",
      "metadata": {
        "id": "_kzME47Z59pX",
        "colab_type": "text"
      },
      "source": [
        "### 2.3 Data preprocess"
      ]
    },
    {
      "cell_type": "code",
      "metadata": {
        "id": "WEtxyeuu44PK",
        "colab_type": "code",
        "outputId": "b7e2aa6b-e7db-43f7-f708-11fe86c0e6ae",
        "colab": {
          "base_uri": "https://localhost:8080/",
          "height": 0
        }
      },
      "source": [
        "# explore columns related to the addrress\n",
        "data.loc[:,['address','city','locality', 'locality_verbose']].sample(8,random_state=1)"
      ],
      "execution_count": 8,
      "outputs": [
        {
          "output_type": "execute_result",
          "data": {
            "text/html": [
              "<div>\n",
              "<style scoped>\n",
              "    .dataframe tbody tr th:only-of-type {\n",
              "        vertical-align: middle;\n",
              "    }\n",
              "\n",
              "    .dataframe tbody tr th {\n",
              "        vertical-align: top;\n",
              "    }\n",
              "\n",
              "    .dataframe thead th {\n",
              "        text-align: right;\n",
              "    }\n",
              "</style>\n",
              "<table border=\"1\" class=\"dataframe\">\n",
              "  <thead>\n",
              "    <tr style=\"text-align: right;\">\n",
              "      <th></th>\n",
              "      <th>address</th>\n",
              "      <th>city</th>\n",
              "      <th>locality</th>\n",
              "      <th>locality_verbose</th>\n",
              "    </tr>\n",
              "  </thead>\n",
              "  <tbody>\n",
              "    <tr>\n",
              "      <th>480</th>\n",
              "      <td>B-422, Sarita Vihar, New Delhi</td>\n",
              "      <td>New Delhi</td>\n",
              "      <td>Sarita Vihar</td>\n",
              "      <td>Sarita Vihar, New Delhi</td>\n",
              "    </tr>\n",
              "    <tr>\n",
              "      <th>111</th>\n",
              "      <td>Shop 9, Market 1, Chittaranjan Park, New Delhi</td>\n",
              "      <td>New Delhi</td>\n",
              "      <td>Chittaranjan Park</td>\n",
              "      <td>Chittaranjan Park, New Delhi</td>\n",
              "    </tr>\n",
              "    <tr>\n",
              "      <th>238</th>\n",
              "      <td>P-11, 2nd Floor, Green Park Extension, Green P...</td>\n",
              "      <td>New Delhi</td>\n",
              "      <td>Green Park</td>\n",
              "      <td>Green Park, New Delhi</td>\n",
              "    </tr>\n",
              "    <tr>\n",
              "      <th>597</th>\n",
              "      <td>7, A Pocket Market, Sarita Vihar, New Delhi</td>\n",
              "      <td>New Delhi</td>\n",
              "      <td>Sarita Vihar</td>\n",
              "      <td>Sarita Vihar, New Delhi</td>\n",
              "    </tr>\n",
              "    <tr>\n",
              "      <th>801</th>\n",
              "      <td>27, C.S.C. Market 2, Chittaranjan Park, New Delhi</td>\n",
              "      <td>New Delhi</td>\n",
              "      <td>Chittaranjan Park</td>\n",
              "      <td>Chittaranjan Park, New Delhi</td>\n",
              "    </tr>\n",
              "    <tr>\n",
              "      <th>624</th>\n",
              "      <td>6, Corner Market, Near Hanuman Temple, Malviya...</td>\n",
              "      <td>New Delhi</td>\n",
              "      <td>Malviya Nagar</td>\n",
              "      <td>Malviya Nagar, New Delhi</td>\n",
              "    </tr>\n",
              "    <tr>\n",
              "      <th>834</th>\n",
              "      <td>Ground Floor, Adjacent To Ambience Towers Car ...</td>\n",
              "      <td>New Delhi</td>\n",
              "      <td>Vasant Kunj</td>\n",
              "      <td>Vasant Kunj, New Delhi</td>\n",
              "    </tr>\n",
              "    <tr>\n",
              "      <th>553</th>\n",
              "      <td>Shop 2, Lower Ground Floor, Epicuria Food Mall...</td>\n",
              "      <td>New Delhi</td>\n",
              "      <td>Epicuria Food Mall, Nehru Place</td>\n",
              "      <td>Epicuria Food Mall, Nehru Place, New Delhi</td>\n",
              "    </tr>\n",
              "  </tbody>\n",
              "</table>\n",
              "</div>"
            ],
            "text/plain": [
              "                                               address  ...                            locality_verbose\n",
              "480                     B-422, Sarita Vihar, New Delhi  ...                     Sarita Vihar, New Delhi\n",
              "111     Shop 9, Market 1, Chittaranjan Park, New Delhi  ...                Chittaranjan Park, New Delhi\n",
              "238  P-11, 2nd Floor, Green Park Extension, Green P...  ...                       Green Park, New Delhi\n",
              "597        7, A Pocket Market, Sarita Vihar, New Delhi  ...                     Sarita Vihar, New Delhi\n",
              "801  27, C.S.C. Market 2, Chittaranjan Park, New Delhi  ...                Chittaranjan Park, New Delhi\n",
              "624  6, Corner Market, Near Hanuman Temple, Malviya...  ...                    Malviya Nagar, New Delhi\n",
              "834  Ground Floor, Adjacent To Ambience Towers Car ...  ...                      Vasant Kunj, New Delhi\n",
              "553  Shop 2, Lower Ground Floor, Epicuria Food Mall...  ...  Epicuria Food Mall, Nehru Place, New Delhi\n",
              "\n",
              "[8 rows x 4 columns]"
            ]
          },
          "metadata": {
            "tags": []
          },
          "execution_count": 8
        }
      ]
    },
    {
      "cell_type": "markdown",
      "metadata": {
        "id": "oE472niT6ePP",
        "colab_type": "text"
      },
      "source": [
        "Here, we can see that among 4 columns 2 represent same information. So just dropping column which are not important.\n",
        "- we are going to keep the `city` column and drop the address, locality, locality_verbose\n",
        "\n",
        "- columns country_code, switch_to_order_menu, rating_color,\n"
      ]
    },
    {
      "cell_type": "code",
      "metadata": {
        "id": "SNpNWMvG6HX2",
        "colab_type": "code",
        "colab": {}
      },
      "source": [
        "# drop unnecessary columns\n",
        "column_to_drop = ['restaurant_id', 'address','locality', 'locality_verbose' ,'country_code','switch_to_orvder_menu', 'rating_color']\n",
        "data.drop(columns=column_to_drop, axis=1,inplace=True)"
      ],
      "execution_count": 0,
      "outputs": []
    },
    {
      "cell_type": "code",
      "metadata": {
        "id": "WU_D6eR-7HZp",
        "colab_type": "code",
        "outputId": "151602ac-d398-4898-85cd-1ccf65415328",
        "colab": {
          "base_uri": "https://localhost:8080/",
          "height": 0
        }
      },
      "source": [
        "data.columns"
      ],
      "execution_count": 10,
      "outputs": [
        {
          "output_type": "execute_result",
          "data": {
            "text/plain": [
              "Index(['restaurant_name', 'city', 'longitude', 'latitude', 'cuisines',\n",
              "       'average_cost_for_two', 'has_table_booking', 'has_online_delivery',\n",
              "       'is_delivering_now', 'price_range', 'aggregate_rating', 'rating_text',\n",
              "       'votes', 'review'],\n",
              "      dtype='object')"
            ]
          },
          "metadata": {
            "tags": []
          },
          "execution_count": 10
        }
      ]
    },
    {
      "cell_type": "markdown",
      "metadata": {
        "id": "KKDIXG_f7SmD",
        "colab_type": "text"
      },
      "source": [
        "###  2.3.1 Remove Duplicates\n",
        "\n",
        "**Q.1) Is there duplicate values present in dataset? If yes then many of them are duplicate?**"
      ]
    },
    {
      "cell_type": "code",
      "metadata": {
        "id": "N9KA24lJ7OQg",
        "colab_type": "code",
        "outputId": "0a28b534-c1a7-466b-823d-0da8064dce31",
        "colab": {
          "base_uri": "https://localhost:8080/",
          "height": 0
        }
      },
      "source": [
        "# check for duplicate values\n",
        "print(\"No of Duplicates in dataset:  \",data.duplicated().sum())"
      ],
      "execution_count": 11,
      "outputs": [
        {
          "output_type": "stream",
          "text": [
            "No of Duplicates in dataset:   0\n"
          ],
          "name": "stdout"
        }
      ]
    },
    {
      "cell_type": "markdown",
      "metadata": {
        "id": "ij1lpb3f7dyy",
        "colab_type": "text"
      },
      "source": [
        "### 2.3.1 Removing Null values\n",
        "\n",
        "**Q.2) Is there NULL values present in dataset? If yes then many they are (in %)?**"
      ]
    },
    {
      "cell_type": "code",
      "metadata": {
        "id": "3ZMAuGFA7agm",
        "colab_type": "code",
        "outputId": "d292b9aa-98c9-4742-e864-57f2ccac2589",
        "colab": {
          "base_uri": "https://localhost:8080/",
          "height": 261
        }
      },
      "source": [
        "# check for null values\n",
        "((data.isna().sum()/data.shape[0])*100).round(2)"
      ],
      "execution_count": 12,
      "outputs": [
        {
          "output_type": "execute_result",
          "data": {
            "text/plain": [
              "restaurant_name         0.0\n",
              "city                    0.0\n",
              "longitude               0.0\n",
              "latitude                0.0\n",
              "cuisines                0.0\n",
              "average_cost_for_two    0.0\n",
              "has_table_booking       0.0\n",
              "has_online_delivery     0.0\n",
              "is_delivering_now       0.0\n",
              "price_range             0.0\n",
              "aggregate_rating        0.0\n",
              "rating_text             0.0\n",
              "votes                   0.0\n",
              "review                  0.0\n",
              "dtype: float64"
            ]
          },
          "metadata": {
            "tags": []
          },
          "execution_count": 12
        }
      ]
    },
    {
      "cell_type": "code",
      "metadata": {
        "id": "YJsPKQtx7urR",
        "colab_type": "code",
        "outputId": "bb3cf4ad-5e2a-4e3c-fda5-40666165cacc",
        "colab": {
          "base_uri": "https://localhost:8080/",
          "height": 33
        }
      },
      "source": [
        "type(data.review)"
      ],
      "execution_count": 13,
      "outputs": [
        {
          "output_type": "execute_result",
          "data": {
            "text/plain": [
              "pandas.core.series.Series"
            ]
          },
          "metadata": {
            "tags": []
          },
          "execution_count": 13
        }
      ]
    },
    {
      "cell_type": "code",
      "metadata": {
        "id": "OTd7n43N7j24",
        "colab_type": "code",
        "outputId": "30c0b5d9-8693-4b20-8bde-11b0c95f461e",
        "colab": {
          "base_uri": "https://localhost:8080/",
          "height": 33
        }
      },
      "source": [
        "# for restaurant name\n",
        "\n",
        "name_all = \"\"\n",
        "for name in data['review']:\n",
        "    if isinstance(name,str) and len(name)>0:\n",
        "        name = name.lower()\n",
        "        name_all += str(name)+\" \"\n",
        "\n",
        "def has_special_char(text: str) -> bool:\n",
        "    return any(c for c in text if not c.isalnum() and not c.isspace())\n",
        "\n",
        "special_character=\"\"\n",
        "for text in name_all:\n",
        "        if has_special_char(text):\n",
        "            special_character += str(text)        \n",
        "\n",
        "# print(list(set(special_character)))\n",
        "special_character = list(set(special_character))\n",
        "len(special_character)\n"
      ],
      "execution_count": 14,
      "outputs": [
        {
          "output_type": "execute_result",
          "data": {
            "text/plain": [
              "184"
            ]
          },
          "metadata": {
            "tags": []
          },
          "execution_count": 14
        }
      ]
    },
    {
      "cell_type": "code",
      "metadata": {
        "id": "aDi_AAAMCWM1",
        "colab_type": "code",
        "outputId": "41c37c1f-1771-40fd-f429-bd73ff4d3ce1",
        "colab": {
          "base_uri": "https://localhost:8080/",
          "height": 53
        }
      },
      "source": [
        "characters = [''.join(character for character in special_character)]\n",
        "characters"
      ],
      "execution_count": 15,
      "outputs": [
        {
          "output_type": "execute_result",
          "data": {
            "text/plain": [
              "['🍺💞🔆☺▫🍟😍ि🤣\\U0001f967😡🍰🍖🥙🎂&्ा💗️💙💰\"💯♡📺😕💓🌮\\U0001f92c🏾#😉.👿😭े👣😜😩💕@😊”ु\\U0001f970😬😇^🍸🤗🌟—:💁🍻•~🤔💘🏼🏻‘!☝’♥…>ं😛,▪✨_🈶🙋🚬\\\\😑🌯📍🕺👅🍴₹🙈\\U0001f96a🍨\\U0001f91f\\U0001f92a।\\U0001f99e⠀❤💡\\U0001f92e☕`)😣🙅👍😔;🙂😱♂[🍩🤢👀🙏(😁🍹😐\\'😂ै🤘🥂|💖“😃+🍁🌶😘%︎👭🍱😈👌🤦🥖🌸🥞🙃💟\\U0001f929😎🥇✔❣🔸?🍜👎🍝}$💥💸ँ{➡🍽⭐🐔ू✌–📚🍚/=🍔]\\U0001f9f9🥘*😋🔥ी🍗😀💫😠🍷-🤤']"
            ]
          },
          "metadata": {
            "tags": []
          },
          "execution_count": 15
        }
      ]
    },
    {
      "cell_type": "code",
      "metadata": {
        "id": "5fSNlLfEB3J6",
        "colab_type": "code",
        "outputId": "56911cc5-0ac5-4051-bebc-a92c92a89a35",
        "colab": {
          "base_uri": "https://localhost:8080/",
          "height": 50
        }
      },
      "source": [
        "import re\n",
        "import nltk\n",
        "from nltk.corpus import stopwords\n",
        "nltk.download('stopwords')\n",
        "\n",
        "def clean_text(text):\n",
        "    text = text.lower()    \n",
        "    \n",
        "    text = re.sub(r'[_\"\\-;%()|+&=*%.,!?:#$@\\[\\]/]', '', text)\n",
        "    \n",
        "    text = re.sub(r'>\\u200b“–\\\\`🍅‐♥•°„', '', text)\n",
        "    \n",
        "    text = re.sub(r'\\'', '', text)\n",
        "    \n",
        "    text = re.sub(r'  ', ' ', text)\n",
        "    \n",
        "    text = re.sub(r'\\d+', '', text)    \n",
        "    \n",
        "    text = text.split()\n",
        "    \n",
        "    text =  [word for word in text if not word in set(stopwords.words(\"english\"))]\n",
        "    \n",
        "#     stops = set(stopwords.words(\"english\"))\n",
        "#     stops = set(stopwords.words(\"english\"))\n",
        "#     text = [w for w in text if not w in stops]\n",
        "#     text = \" \".join(text)\n",
        "\n",
        "    text = ' '.join(text)\n",
        "\n",
        "\n",
        "    return text\n"
      ],
      "execution_count": 16,
      "outputs": [
        {
          "output_type": "stream",
          "text": [
            "[nltk_data] Downloading package stopwords to /root/nltk_data...\n",
            "[nltk_data]   Unzipping corpora/stopwords.zip.\n"
          ],
          "name": "stdout"
        }
      ]
    },
    {
      "cell_type": "code",
      "metadata": {
        "id": "9BmqEXlD7qd9",
        "colab_type": "code",
        "outputId": "448fcace-ad6a-4b57-c8e0-0523d3539cc8",
        "colab": {
          "base_uri": "https://localhost:8080/",
          "height": 212
        }
      },
      "source": [
        "data.review = data.review.apply(lambda x: clean_text(x))\n",
        "data.review"
      ],
      "execution_count": 17,
      "outputs": [
        {
          "output_type": "execute_result",
          "data": {
            "text/plain": [
              "0      love arigato sushi best restaurant yorkton alw...\n",
              "1      simply love placeit ideal breakfastlunchdinner...\n",
              "2      delicious theres single dish ive tried blue ho...\n",
              "3      lot food many varieties sushi fresh love many ...\n",
              "4      th avenue cafe always favoriteloved cheesy mea...\n",
              "                             ...                        \n",
              "835    angels always excellent confectionery chocolat...\n",
              "836    owner much bad cheat staff salary product fres...\n",
              "837    casual meet office collegues ordered pasta alf...\n",
              "838    guy serving sense explain drinks showed drink ...\n",
              "839    nan service need improve food tastes great aff...\n",
              "Name: review, Length: 840, dtype: object"
            ]
          },
          "metadata": {
            "tags": []
          },
          "execution_count": 17
        }
      ]
    },
    {
      "cell_type": "code",
      "metadata": {
        "id": "wyJKFfKC9Njw",
        "colab_type": "code",
        "colab": {}
      },
      "source": [
        "# def no_special_character(text: str) -> bool:\n",
        "#     return any(c for c in text if c.isalnum() and c.isspace())"
      ],
      "execution_count": 0,
      "outputs": []
    },
    {
      "cell_type": "code",
      "metadata": {
        "id": "WU6p6GmsFYtN",
        "colab_type": "code",
        "colab": {}
      },
      "source": [
        "# # data['process_text'] = data.review.apply(lambda x: no_special_character(x))\n",
        "# process_text=\"\"\n",
        "# for text in data.review:\n",
        "#         if has_special_char(text):\n",
        "#             process_text += str(text)        \n",
        "\n",
        "# process_text"
      ],
      "execution_count": 0,
      "outputs": []
    },
    {
      "cell_type": "code",
      "metadata": {
        "id": "miWsqAN-FkiQ",
        "colab_type": "code",
        "outputId": "6bbe6f61-2466-4901-fbf4-d9742e66f59f",
        "colab": {
          "base_uri": "https://localhost:8080/",
          "height": 212
        }
      },
      "source": [
        "data.cuisines"
      ],
      "execution_count": 20,
      "outputs": [
        {
          "output_type": "execute_result",
          "data": {
            "text/plain": [
              "0                                            Asian\n",
              "1                       Cafe, Italian, Continental\n",
              "2                    Coffee and Tea, Mediterranean\n",
              "3                                            Asian\n",
              "4             Cafe, American, Italian, Continental\n",
              "                          ...                     \n",
              "835                    Bakery, Desserts, Fast Food\n",
              "836                                 Cafe, Desserts\n",
              "837             Finger Food, North Indian, Italian\n",
              "838             North Indian, Street Food, Mughlai\n",
              "839    North Indian, Chinese, South Indian, Mithai\n",
              "Name: cuisines, Length: 840, dtype: object"
            ]
          },
          "metadata": {
            "tags": []
          },
          "execution_count": 20
        }
      ]
    },
    {
      "cell_type": "code",
      "metadata": {
        "id": "uozqZbwsFmim",
        "colab_type": "code",
        "outputId": "dc215e8c-2629-4f61-a613-351c45f51b41",
        "colab": {
          "base_uri": "https://localhost:8080/",
          "height": 212
        }
      },
      "source": [
        "data.cuisines = data.cuisines.apply(lambda x: clean_text(x))\n",
        "data.cuisines"
      ],
      "execution_count": 21,
      "outputs": [
        {
          "output_type": "execute_result",
          "data": {
            "text/plain": [
              "0                                         asian\n",
              "1                      cafe italian continental\n",
              "2                      coffee tea mediterranean\n",
              "3                                         asian\n",
              "4             cafe american italian continental\n",
              "                         ...                   \n",
              "835                   bakery desserts fast food\n",
              "836                               cafe desserts\n",
              "837            finger food north indian italian\n",
              "838            north indian street food mughlai\n",
              "839    north indian chinese south indian mithai\n",
              "Name: cuisines, Length: 840, dtype: object"
            ]
          },
          "metadata": {
            "tags": []
          },
          "execution_count": 21
        }
      ]
    },
    {
      "cell_type": "markdown",
      "metadata": {
        "id": "t2iRGGVGHOyx",
        "colab_type": "text"
      },
      "source": [
        "### 2.4 Data Visualizations"
      ]
    },
    {
      "cell_type": "code",
      "metadata": {
        "id": "L8R-_UTfG1qV",
        "colab_type": "code",
        "outputId": "34230d5e-7b91-4399-bc8c-6018b5125c86",
        "colab": {
          "base_uri": "https://localhost:8080/",
          "height": 0
        }
      },
      "source": [
        "# sns.distplot(data.aggregate_rating, kde=False, bins=20)\n",
        "\n",
        "data.aggregate_rating.hist(color='blue')\n",
        "plt.axvline(x= data.aggregate_rating.mean(),ls='--',color='red')\n",
        "plt.title('Average Rating of Restaurants',weight='bold')\n",
        "plt.xlabel('Rating')\n",
        "plt.ylabel('No of Restaurants')\n",
        "print(\"Mean is : \",data.aggregate_rating.mean())"
      ],
      "execution_count": 22,
      "outputs": [
        {
          "output_type": "stream",
          "text": [
            "Mean is :  2.954047619047617\n"
          ],
          "name": "stdout"
        },
        {
          "output_type": "display_data",
          "data": {
            "image/png": "[encoded data removed]",
            "text/plain": [
              "<Figure size 432x288 with 1 Axes>"
            ]
          },
          "metadata": {
            "tags": [],
            "needs_background": "light"
          }
        }
      ]
    },
    {
      "cell_type": "code",
      "metadata": {
        "id": "VUI3i17IMNvN",
        "colab_type": "code",
        "outputId": "16f06f7b-21b7-471b-9cba-bca348ca962f",
        "colab": {
          "base_uri": "https://localhost:8080/",
          "height": 0
        }
      },
      "source": [
        "# data.rating_text.hist(color='blue')\n",
        "sns.countplot(x=data.rating_text, data=data)\n",
        "plt.title('Reviews Restaurants',weight='bold')\n",
        "plt.xlabel('Rating')\n",
        "plt.ylabel('No of revies')"
      ],
      "execution_count": 23,
      "outputs": [
        {
          "output_type": "execute_result",
          "data": {
            "text/plain": [
              "Text(0, 0.5, 'No of revies')"
            ]
          },
          "metadata": {
            "tags": []
          },
          "execution_count": 23
        },
        {
          "output_type": "display_data",
          "data": {
            "image/png": "[encoded data removed]",
            "text/plain": [
              "<Figure size 432x288 with 1 Axes>"
            ]
          },
          "metadata": {
            "tags": [],
            "needs_background": "light"
          }
        }
      ]
    },
    {
      "cell_type": "markdown",
      "metadata": {
        "id": "-PzRSi7YJJus",
        "colab_type": "text"
      },
      "source": [
        "#### Observation"
      ]
    },
    {
      "cell_type": "markdown",
      "metadata": {
        "id": "rHj-Txm6JSpm",
        "colab_type": "text"
      },
      "source": [
        "**Q.5) Which are the top 20 restaurant**"
      ]
    },
    {
      "cell_type": "code",
      "metadata": {
        "id": "rcVaCK9fHlol",
        "colab_type": "code",
        "outputId": "712d8747-d83d-4619-bbc5-8c4d5ef5450d",
        "colab": {
          "base_uri": "https://localhost:8080/",
          "height": 0
        }
      },
      "source": [
        "\n",
        "plt.figure(figsize=(12,6))\n",
        "ax =data.restaurant_name.value_counts()[:20].plot(kind='bar')\n",
        "ax.legend(['* Restaurants'])\n",
        "plt.xlabel('No of Restaurants')\n",
        "plt.ylabel('Count of Restaurant')\n",
        "plt.title(\"Name Vs Number of Restaurants\", fontsize=20, weight='bold')"
      ],
      "execution_count": 24,
      "outputs": [
        {
          "output_type": "execute_result",
          "data": {
            "text/plain": [
              "Text(0.5, 1.0, 'Name Vs Number of Restaurants')"
            ]
          },
          "metadata": {
            "tags": []
          },
          "execution_count": 24
        },
        {
          "output_type": "display_data",
          "data": {
            "image/png": "[encoded data removed]",
            "text/plain": [
              "<Figure size 864x432 with 1 Axes>"
            ]
          },
          "metadata": {
            "tags": [],
            "needs_background": "light"
          }
        }
      ]
    },
    {
      "cell_type": "code",
      "metadata": {
        "id": "13MxGDHcJZOR",
        "colab_type": "code",
        "colab": {}
      },
      "source": [
        ""
      ],
      "execution_count": 0,
      "outputs": []
    },
    {
      "cell_type": "markdown",
      "metadata": {
        "id": "n4nS21v6LXcL",
        "colab_type": "text"
      },
      "source": [
        "## 3. Model"
      ]
    },
    {
      "cell_type": "code",
      "metadata": {
        "id": "hzz-8mndLtpJ",
        "colab_type": "code",
        "outputId": "ccd6f601-5133-4112-b18b-c29bbd90e1d0",
        "colab": {
          "base_uri": "https://localhost:8080/",
          "height": 358
        }
      },
      "source": [
        "data.info()"
      ],
      "execution_count": 25,
      "outputs": [
        {
          "output_type": "stream",
          "text": [
            "<class 'pandas.core.frame.DataFrame'>\n",
            "RangeIndex: 840 entries, 0 to 839\n",
            "Data columns (total 14 columns):\n",
            " #   Column                Non-Null Count  Dtype  \n",
            "---  ------                --------------  -----  \n",
            " 0   restaurant_name       840 non-null    object \n",
            " 1   city                  840 non-null    object \n",
            " 2   longitude             840 non-null    float64\n",
            " 3   latitude              840 non-null    float64\n",
            " 4   cuisines              840 non-null    object \n",
            " 5   average_cost_for_two  840 non-null    int64  \n",
            " 6   has_table_booking     840 non-null    int64  \n",
            " 7   has_online_delivery   840 non-null    int64  \n",
            " 8   is_delivering_now     840 non-null    int64  \n",
            " 9   price_range           840 non-null    int64  \n",
            " 10  aggregate_rating      840 non-null    float64\n",
            " 11  rating_text           840 non-null    object \n",
            " 12  votes                 840 non-null    int64  \n",
            " 13  review                840 non-null    object \n",
            "dtypes: float64(3), int64(6), object(5)\n",
            "memory usage: 92.0+ KB\n"
          ],
          "name": "stdout"
        }
      ]
    },
    {
      "cell_type": "code",
      "metadata": {
        "id": "FZtlREiILxNV",
        "colab_type": "code",
        "colab": {}
      },
      "source": [
        "# drop unnecessary columns\n",
        "column_to_drop = ['longitude','latitude']\n",
        "data.drop(columns=column_to_drop, axis=1,inplace=True)"
      ],
      "execution_count": 0,
      "outputs": []
    },
    {
      "cell_type": "markdown",
      "metadata": {
        "id": "umwhMjLJQulg",
        "colab_type": "text"
      },
      "source": [
        "### 3.1 Converting to dummy variables"
      ]
    },
    {
      "cell_type": "code",
      "metadata": {
        "id": "9ShUOFtkO0ex",
        "colab_type": "code",
        "outputId": "9f9bc2a4-b2d7-4dbd-cc08-95d0321b0d6a",
        "colab": {
          "base_uri": "https://localhost:8080/",
          "height": 736
        }
      },
      "source": [
        "# pd.get_dummies ==> Convert categorical variable into dummy/indicator variables.(OneHot encoding)\n",
        "\n",
        "data['has_table_booking']= pd.get_dummies(data.has_table_booking, drop_first=True)\n",
        "data['has_table_booking']= pd.get_dummies(data.has_table_booking, drop_first=True)\n",
        "data['is_delivering_now']= pd.get_dummies(data.is_delivering_now, drop_first=True)\n",
        "\n",
        "data "
      ],
      "execution_count": 27,
      "outputs": [
        {
          "output_type": "execute_result",
          "data": {
            "text/html": [
              "<div>\n",
              "<style scoped>\n",
              "    .dataframe tbody tr th:only-of-type {\n",
              "        vertical-align: middle;\n",
              "    }\n",
              "\n",
              "    .dataframe tbody tr th {\n",
              "        vertical-align: top;\n",
              "    }\n",
              "\n",
              "    .dataframe thead th {\n",
              "        text-align: right;\n",
              "    }\n",
              "</style>\n",
              "<table border=\"1\" class=\"dataframe\">\n",
              "  <thead>\n",
              "    <tr style=\"text-align: right;\">\n",
              "      <th></th>\n",
              "      <th>restaurant_name</th>\n",
              "      <th>city</th>\n",
              "      <th>cuisines</th>\n",
              "      <th>average_cost_for_two</th>\n",
              "      <th>has_table_booking</th>\n",
              "      <th>has_online_delivery</th>\n",
              "      <th>is_delivering_now</th>\n",
              "      <th>price_range</th>\n",
              "      <th>aggregate_rating</th>\n",
              "      <th>rating_text</th>\n",
              "      <th>votes</th>\n",
              "      <th>review</th>\n",
              "    </tr>\n",
              "  </thead>\n",
              "  <tbody>\n",
              "    <tr>\n",
              "      <th>0</th>\n",
              "      <td>Arigato Sushi</td>\n",
              "      <td>Yorkton</td>\n",
              "      <td>asian</td>\n",
              "      <td>25</td>\n",
              "      <td>0</td>\n",
              "      <td>0</td>\n",
              "      <td>0</td>\n",
              "      <td>2</td>\n",
              "      <td>3.3</td>\n",
              "      <td>Average</td>\n",
              "      <td>26</td>\n",
              "      <td>love arigato sushi best restaurant yorkton alw...</td>\n",
              "    </tr>\n",
              "    <tr>\n",
              "      <th>1</th>\n",
              "      <td>Mocha</td>\n",
              "      <td>Lucknow</td>\n",
              "      <td>cafe italian continental</td>\n",
              "      <td>800</td>\n",
              "      <td>0</td>\n",
              "      <td>0</td>\n",
              "      <td>0</td>\n",
              "      <td>3</td>\n",
              "      <td>4.6</td>\n",
              "      <td>Excellent</td>\n",
              "      <td>567</td>\n",
              "      <td>simply love placeit ideal breakfastlunchdinner...</td>\n",
              "    </tr>\n",
              "    <tr>\n",
              "      <th>2</th>\n",
              "      <td>Blue House Cafe</td>\n",
              "      <td>Vernonia</td>\n",
              "      <td>coffee tea mediterranean</td>\n",
              "      <td>10</td>\n",
              "      <td>0</td>\n",
              "      <td>0</td>\n",
              "      <td>0</td>\n",
              "      <td>1</td>\n",
              "      <td>4.3</td>\n",
              "      <td>Very Good</td>\n",
              "      <td>88</td>\n",
              "      <td>delicious theres single dish ive tried blue ho...</td>\n",
              "    </tr>\n",
              "    <tr>\n",
              "      <th>3</th>\n",
              "      <td>Star Buffet</td>\n",
              "      <td>Mayfield</td>\n",
              "      <td>asian</td>\n",
              "      <td>20</td>\n",
              "      <td>0</td>\n",
              "      <td>0</td>\n",
              "      <td>0</td>\n",
              "      <td>2</td>\n",
              "      <td>2.9</td>\n",
              "      <td>Average</td>\n",
              "      <td>11</td>\n",
              "      <td>lot food many varieties sushi fresh love many ...</td>\n",
              "    </tr>\n",
              "    <tr>\n",
              "      <th>4</th>\n",
              "      <td>11th Avenue Cafe Bistro</td>\n",
              "      <td>Guwahati</td>\n",
              "      <td>cafe american italian continental</td>\n",
              "      <td>400</td>\n",
              "      <td>0</td>\n",
              "      <td>0</td>\n",
              "      <td>0</td>\n",
              "      <td>2</td>\n",
              "      <td>4.1</td>\n",
              "      <td>Very Good</td>\n",
              "      <td>377</td>\n",
              "      <td>th avenue cafe always favoriteloved cheesy mea...</td>\n",
              "    </tr>\n",
              "    <tr>\n",
              "      <th>...</th>\n",
              "      <td>...</td>\n",
              "      <td>...</td>\n",
              "      <td>...</td>\n",
              "      <td>...</td>\n",
              "      <td>...</td>\n",
              "      <td>...</td>\n",
              "      <td>...</td>\n",
              "      <td>...</td>\n",
              "      <td>...</td>\n",
              "      <td>...</td>\n",
              "      <td>...</td>\n",
              "      <td>...</td>\n",
              "    </tr>\n",
              "    <tr>\n",
              "      <th>835</th>\n",
              "      <td>Angels in my Kitchen</td>\n",
              "      <td>New Delhi</td>\n",
              "      <td>bakery desserts fast food</td>\n",
              "      <td>350</td>\n",
              "      <td>0</td>\n",
              "      <td>1</td>\n",
              "      <td>0</td>\n",
              "      <td>1</td>\n",
              "      <td>3.7</td>\n",
              "      <td>Good</td>\n",
              "      <td>248</td>\n",
              "      <td>angels always excellent confectionery chocolat...</td>\n",
              "    </tr>\n",
              "    <tr>\n",
              "      <th>836</th>\n",
              "      <td>Red Mango</td>\n",
              "      <td>New Delhi</td>\n",
              "      <td>cafe desserts</td>\n",
              "      <td>700</td>\n",
              "      <td>0</td>\n",
              "      <td>1</td>\n",
              "      <td>0</td>\n",
              "      <td>2</td>\n",
              "      <td>3.7</td>\n",
              "      <td>Good</td>\n",
              "      <td>185</td>\n",
              "      <td>owner much bad cheat staff salary product fres...</td>\n",
              "    </tr>\n",
              "    <tr>\n",
              "      <th>837</th>\n",
              "      <td>The Beer Cafe</td>\n",
              "      <td>New Delhi</td>\n",
              "      <td>finger food north indian italian</td>\n",
              "      <td>1250</td>\n",
              "      <td>0</td>\n",
              "      <td>0</td>\n",
              "      <td>0</td>\n",
              "      <td>3</td>\n",
              "      <td>3.8</td>\n",
              "      <td>Good</td>\n",
              "      <td>170</td>\n",
              "      <td>casual meet office collegues ordered pasta alf...</td>\n",
              "    </tr>\n",
              "    <tr>\n",
              "      <th>838</th>\n",
              "      <td>Punjabi By Nature Express</td>\n",
              "      <td>New Delhi</td>\n",
              "      <td>north indian street food mughlai</td>\n",
              "      <td>600</td>\n",
              "      <td>0</td>\n",
              "      <td>0</td>\n",
              "      <td>0</td>\n",
              "      <td>2</td>\n",
              "      <td>3.5</td>\n",
              "      <td>Good</td>\n",
              "      <td>206</td>\n",
              "      <td>guy serving sense explain drinks showed drink ...</td>\n",
              "    </tr>\n",
              "    <tr>\n",
              "      <th>839</th>\n",
              "      <td>Shree Bhagatram</td>\n",
              "      <td>New Delhi</td>\n",
              "      <td>north indian chinese south indian mithai</td>\n",
              "      <td>650</td>\n",
              "      <td>0</td>\n",
              "      <td>1</td>\n",
              "      <td>0</td>\n",
              "      <td>2</td>\n",
              "      <td>3.3</td>\n",
              "      <td>Average</td>\n",
              "      <td>199</td>\n",
              "      <td>nan service need improve food tastes great aff...</td>\n",
              "    </tr>\n",
              "  </tbody>\n",
              "</table>\n",
              "<p>840 rows × 12 columns</p>\n",
              "</div>"
            ],
            "text/plain": [
              "               restaurant_name  ...                                             review\n",
              "0                Arigato Sushi  ...  love arigato sushi best restaurant yorkton alw...\n",
              "1                        Mocha  ...  simply love placeit ideal breakfastlunchdinner...\n",
              "2              Blue House Cafe  ...  delicious theres single dish ive tried blue ho...\n",
              "3                  Star Buffet  ...  lot food many varieties sushi fresh love many ...\n",
              "4      11th Avenue Cafe Bistro  ...  th avenue cafe always favoriteloved cheesy mea...\n",
              "..                         ...  ...                                                ...\n",
              "835       Angels in my Kitchen  ...  angels always excellent confectionery chocolat...\n",
              "836                  Red Mango  ...  owner much bad cheat staff salary product fres...\n",
              "837              The Beer Cafe  ...  casual meet office collegues ordered pasta alf...\n",
              "838  Punjabi By Nature Express  ...  guy serving sense explain drinks showed drink ...\n",
              "839            Shree Bhagatram  ...  nan service need improve food tastes great aff...\n",
              "\n",
              "[840 rows x 12 columns]"
            ]
          },
          "metadata": {
            "tags": []
          },
          "execution_count": 27
        }
      ]
    },
    {
      "cell_type": "code",
      "metadata": {
        "id": "3pNNwjwKQ9D3",
        "colab_type": "code",
        "outputId": "da8bdfd3-9756-4a62-f804-e8f1073a3cb7",
        "colab": {
          "base_uri": "https://localhost:8080/",
          "height": 115
        }
      },
      "source": [
        "#  cuisines converted to categorical features\n",
        "\n",
        "data['cuisines'] = data['cuisines'].astype(str).apply(lambda x: ' '.join(sorted(x.split())))\n",
        "data['cuisines'].value_counts().head()"
      ],
      "execution_count": 28,
      "outputs": [
        {
          "output_type": "execute_result",
          "data": {
            "text/plain": [
              "indian north                    63\n",
              "indian mughlai north            47\n",
              "chinese indian north            36\n",
              "chinese indian mughlai north    36\n",
              "chinese                         31\n",
              "Name: cuisines, dtype: int64"
            ]
          },
          "metadata": {
            "tags": []
          },
          "execution_count": 28
        }
      ]
    },
    {
      "cell_type": "code",
      "metadata": {
        "id": "3m38kylnRwUI",
        "colab_type": "code",
        "colab": {}
      },
      "source": [
        "data = data.rename(columns={\n",
        "    'average_cost_for_two':'average_cost',\n",
        "    'aggregate_rating':'rate'\n",
        "    })"
      ],
      "execution_count": 0,
      "outputs": []
    },
    {
      "cell_type": "code",
      "metadata": {
        "id": "EIDeAiXwRcMD",
        "colab_type": "code",
        "colab": {}
      },
      "source": [
        ""
      ],
      "execution_count": 0,
      "outputs": []
    },
    {
      "cell_type": "code",
      "metadata": {
        "id": "yS1NmiJLTzUO",
        "colab_type": "code",
        "colab": {}
      },
      "source": [
        ""
      ],
      "execution_count": 0,
      "outputs": []
    },
    {
      "cell_type": "markdown",
      "metadata": {
        "id": "WPexY0_0T4I6",
        "colab_type": "text"
      },
      "source": [
        "## 3.2 Splitting data for Model Building"
      ]
    },
    {
      "cell_type": "code",
      "metadata": {
        "id": "hW04NojYRy4B",
        "colab_type": "code",
        "colab": {}
      },
      "source": [
        "# build x & y dataset\n",
        "x = data.drop(['restaurant_name','rate'],axis = 1)\n",
        "y = data['rate']"
      ],
      "execution_count": 0,
      "outputs": []
    },
    {
      "cell_type": "code",
      "metadata": {
        "id": "CCvf6ebfUWBV",
        "colab_type": "code",
        "outputId": "4d9dbdd1-8e6c-4847-eaae-b472ef3efe14",
        "colab": {
          "base_uri": "https://localhost:8080/",
          "height": 33
        }
      },
      "source": [
        "x.shape, y.shape"
      ],
      "execution_count": 31,
      "outputs": [
        {
          "output_type": "execute_result",
          "data": {
            "text/plain": [
              "((840, 10), (840,))"
            ]
          },
          "metadata": {
            "tags": []
          },
          "execution_count": 31
        }
      ]
    },
    {
      "cell_type": "code",
      "metadata": {
        "id": "t9peI-ZiUyEJ",
        "colab_type": "code",
        "colab": {}
      },
      "source": [
        "from sklearn.model_selection import train_test_split\n",
        "X_train,X_test,y_train,y_test = train_test_split(x,y,test_size = 0.3,random_state = 33)"
      ],
      "execution_count": 0,
      "outputs": []
    },
    {
      "cell_type": "code",
      "metadata": {
        "id": "URBmX1hlUz0J",
        "colab_type": "code",
        "outputId": "40b11855-5305-4f6c-b554-dcd4061dc30f",
        "colab": {
          "base_uri": "https://localhost:8080/",
          "height": 33
        }
      },
      "source": [
        "X_train.shape, X_test.shape, y_train.shape, y_test.shape"
      ],
      "execution_count": 33,
      "outputs": [
        {
          "output_type": "execute_result",
          "data": {
            "text/plain": [
              "((588, 10), (252, 10), (588,), (252,))"
            ]
          },
          "metadata": {
            "tags": []
          },
          "execution_count": 33
        }
      ]
    },
    {
      "cell_type": "code",
      "metadata": {
        "id": "KWf6RHVRU0-e",
        "colab_type": "code",
        "colab": {}
      },
      "source": [
        "# One hot encoder\n",
        "enc = OneHotEncoder( handle_unknown='ignore')"
      ],
      "execution_count": 0,
      "outputs": []
    },
    {
      "cell_type": "code",
      "metadata": {
        "id": "BhHiqkAjU6dT",
        "colab_type": "code",
        "colab": {}
      },
      "source": [
        "## ALWAYS AVOID DATA LEAKAGE\n",
        "\n",
        "# this method is for training data set\n",
        "def one_hot_fit_transform(df,name):\n",
        "    output_data = df[name].values.reshape(-1, 1)\n",
        "    return enc.fit_transform(output_data).toarray()\n",
        "\n",
        "# this method is for test data set\n",
        "def one_hot_transform(df,name):\n",
        "    output_data1 = df[name].values.reshape(-1, 1)\n",
        "    return enc.transform(output_data1).toarray()"
      ],
      "execution_count": 0,
      "outputs": []
    },
    {
      "cell_type": "code",
      "metadata": {
        "id": "au1_aY9UU9h8",
        "colab_type": "code",
        "colab": {}
      },
      "source": [
        "# one hot encoding apply to 'rest_type' features on train/test dataset\n",
        "tr_dummy_rating_text = one_hot_fit_transform(X_train,'rating_text' )\n",
        "te_dummy_rating_text = one_hot_transform(X_test,'rating_text' )\n",
        "\n",
        "# one hot encoding apply to 'location' features on train/test dataset\n",
        "tr_dummy_city = one_hot_fit_transform(X_train,'city' )\n",
        "te_dummy_city= one_hot_transform(X_test,'city')\n",
        "\n",
        "# one hot encoding apply to 'cuisines' features on train/test dataset\n",
        "tr_dummy_cuisines = one_hot_fit_transform(X_train,'cuisines' )\n",
        "te_dummy_cuisines = one_hot_transform(X_test,'cuisines')"
      ],
      "execution_count": 0,
      "outputs": []
    },
    {
      "cell_type": "code",
      "metadata": {
        "id": "gJBr1-9vVaX7",
        "colab_type": "code",
        "outputId": "e381b4a2-1891-46a6-d43a-b2c326ed32e0",
        "colab": {
          "base_uri": "https://localhost:8080/",
          "height": 33
        }
      },
      "source": [
        "tr_dummy_rating_text.shape, te_dummy_rating_text.shape"
      ],
      "execution_count": 37,
      "outputs": [
        {
          "output_type": "execute_result",
          "data": {
            "text/plain": [
              "((588, 6), (252, 6))"
            ]
          },
          "metadata": {
            "tags": []
          },
          "execution_count": 37
        }
      ]
    },
    {
      "cell_type": "code",
      "metadata": {
        "id": "-wlVJU_uVb5B",
        "colab_type": "code",
        "outputId": "871766cb-8eaa-4d13-c835-5820649f2bcd",
        "colab": {
          "base_uri": "https://localhost:8080/",
          "height": 33
        }
      },
      "source": [
        "tr_dummy_cuisines.shape, te_dummy_cuisines.shape"
      ],
      "execution_count": 38,
      "outputs": [
        {
          "output_type": "execute_result",
          "data": {
            "text/plain": [
              "((588, 212), (252, 212))"
            ]
          },
          "metadata": {
            "tags": []
          },
          "execution_count": 38
        }
      ]
    },
    {
      "cell_type": "code",
      "metadata": {
        "id": "_5gyvE9rVhwP",
        "colab_type": "code",
        "outputId": "76d887fa-b3f8-478c-9eaa-113115d72384",
        "colab": {
          "base_uri": "https://localhost:8080/",
          "height": 33
        }
      },
      "source": [
        "tr_dummy_city.shape, te_dummy_city.shape"
      ],
      "execution_count": 39,
      "outputs": [
        {
          "output_type": "execute_result",
          "data": {
            "text/plain": [
              "((588, 17), (252, 17))"
            ]
          },
          "metadata": {
            "tags": []
          },
          "execution_count": 39
        }
      ]
    },
    {
      "cell_type": "code",
      "metadata": {
        "id": "TpYqTZiSVjAf",
        "colab_type": "code",
        "outputId": "f187711c-d8b9-4b4f-d4e6-7640815552af",
        "colab": {
          "base_uri": "https://localhost:8080/",
          "height": 33
        }
      },
      "source": [
        "## combine all 'one-hot' encoded features as Tr.\n",
        "tr =pd.DataFrame(pd.np.column_stack([ tr_dummy_rating_text,tr_dummy_city, tr_dummy_cuisines]))\n",
        "\n",
        "## CONCAT both dataframe ### ie Tr and X_train(original dataframe)\n",
        "## https://stackoverflow.com/questions/45963799/pandas-concat-resulting-in-nan-rows\n",
        "\n",
        "l1=X_train.values.tolist()\n",
        "l2=tr.values.tolist()\n",
        "\n",
        "for i in range(len(l1)):\n",
        "    l1[i].extend(l2[i])\n",
        "\n",
        "X_train=pd.DataFrame(l1,columns=X_train.columns.tolist()+tr.columns.tolist())\n",
        "X_train.shape"
      ],
      "execution_count": 40,
      "outputs": [
        {
          "output_type": "execute_result",
          "data": {
            "text/plain": [
              "(588, 245)"
            ]
          },
          "metadata": {
            "tags": []
          },
          "execution_count": 40
        }
      ]
    },
    {
      "cell_type": "code",
      "metadata": {
        "id": "6N8jqjIIVoVi",
        "colab_type": "code",
        "outputId": "72d91da9-aee5-4c75-ec86-398e4c9d0da8",
        "colab": {
          "base_uri": "https://localhost:8080/",
          "height": 33
        }
      },
      "source": [
        "## combine all 'one-hot' encoded features as Te.\n",
        "te =pd.DataFrame(pd.np.column_stack([ te_dummy_rating_text,te_dummy_city,te_dummy_cuisines]))\n",
        "\n",
        "## CONCAT both dataframe ### ie Te and X_test(original dataframe)\n",
        "## https://stackoverflow.com/questions/45963799/pandas-concat-resulting-in-nan-rows\n",
        "\n",
        "l3=X_test.values.tolist()\n",
        "l4=te.values.tolist()\n",
        "for i in range(len(l3)):\n",
        "    l3[i].extend(l4[i])\n",
        "\n",
        "X_test=pd.DataFrame(l3,columns=X_test.columns.tolist()+te.columns.tolist())\n",
        "X_test.shape"
      ],
      "execution_count": 41,
      "outputs": [
        {
          "output_type": "execute_result",
          "data": {
            "text/plain": [
              "(252, 245)"
            ]
          },
          "metadata": {
            "tags": []
          },
          "execution_count": 41
        }
      ]
    },
    {
      "cell_type": "code",
      "metadata": {
        "id": "0O9bWvn0VsEq",
        "colab_type": "code",
        "colab": {}
      },
      "source": [
        "# after onehot encoding DONE. 'location','rest_type','cuisines' are redundant features. REMOVE them.\n",
        "\n",
        "X_train =X_train.drop(['city','rating_text','cuisines','review'],axis = 1)\n",
        "X_test =X_test.drop(['city','rating_text','cuisines','review'],axis = 1)"
      ],
      "execution_count": 0,
      "outputs": []
    },
    {
      "cell_type": "code",
      "metadata": {
        "id": "7X-RatjNVxVF",
        "colab_type": "code",
        "outputId": "6535fe88-a595-4c07-9152-607c62901ef6",
        "colab": {
          "base_uri": "https://localhost:8080/",
          "height": 152
        }
      },
      "source": [
        "X_train.head(2)"
      ],
      "execution_count": 54,
      "outputs": [
        {
          "output_type": "execute_result",
          "data": {
            "text/html": [
              "<div>\n",
              "<style scoped>\n",
              "    .dataframe tbody tr th:only-of-type {\n",
              "        vertical-align: middle;\n",
              "    }\n",
              "\n",
              "    .dataframe tbody tr th {\n",
              "        vertical-align: top;\n",
              "    }\n",
              "\n",
              "    .dataframe thead th {\n",
              "        text-align: right;\n",
              "    }\n",
              "</style>\n",
              "<table border=\"1\" class=\"dataframe\">\n",
              "  <thead>\n",
              "    <tr style=\"text-align: right;\">\n",
              "      <th></th>\n",
              "      <th>average_cost</th>\n",
              "      <th>has_table_booking</th>\n",
              "      <th>has_online_delivery</th>\n",
              "      <th>is_delivering_now</th>\n",
              "      <th>price_range</th>\n",
              "      <th>votes</th>\n",
              "      <th>0</th>\n",
              "      <th>1</th>\n",
              "      <th>2</th>\n",
              "      <th>3</th>\n",
              "      <th>4</th>\n",
              "      <th>5</th>\n",
              "      <th>6</th>\n",
              "      <th>7</th>\n",
              "      <th>8</th>\n",
              "      <th>9</th>\n",
              "      <th>10</th>\n",
              "      <th>11</th>\n",
              "      <th>12</th>\n",
              "      <th>13</th>\n",
              "      <th>14</th>\n",
              "      <th>15</th>\n",
              "      <th>16</th>\n",
              "      <th>17</th>\n",
              "      <th>18</th>\n",
              "      <th>19</th>\n",
              "      <th>20</th>\n",
              "      <th>21</th>\n",
              "      <th>22</th>\n",
              "      <th>23</th>\n",
              "      <th>24</th>\n",
              "      <th>25</th>\n",
              "      <th>26</th>\n",
              "      <th>27</th>\n",
              "      <th>28</th>\n",
              "      <th>29</th>\n",
              "      <th>30</th>\n",
              "      <th>31</th>\n",
              "      <th>32</th>\n",
              "      <th>33</th>\n",
              "      <th>...</th>\n",
              "      <th>195</th>\n",
              "      <th>196</th>\n",
              "      <th>197</th>\n",
              "      <th>198</th>\n",
              "      <th>199</th>\n",
              "      <th>200</th>\n",
              "      <th>201</th>\n",
              "      <th>202</th>\n",
              "      <th>203</th>\n",
              "      <th>204</th>\n",
              "      <th>205</th>\n",
              "      <th>206</th>\n",
              "      <th>207</th>\n",
              "      <th>208</th>\n",
              "      <th>209</th>\n",
              "      <th>210</th>\n",
              "      <th>211</th>\n",
              "      <th>212</th>\n",
              "      <th>213</th>\n",
              "      <th>214</th>\n",
              "      <th>215</th>\n",
              "      <th>216</th>\n",
              "      <th>217</th>\n",
              "      <th>218</th>\n",
              "      <th>219</th>\n",
              "      <th>220</th>\n",
              "      <th>221</th>\n",
              "      <th>222</th>\n",
              "      <th>223</th>\n",
              "      <th>224</th>\n",
              "      <th>225</th>\n",
              "      <th>226</th>\n",
              "      <th>227</th>\n",
              "      <th>228</th>\n",
              "      <th>229</th>\n",
              "      <th>230</th>\n",
              "      <th>231</th>\n",
              "      <th>232</th>\n",
              "      <th>233</th>\n",
              "      <th>234</th>\n",
              "    </tr>\n",
              "  </thead>\n",
              "  <tbody>\n",
              "    <tr>\n",
              "      <th>0</th>\n",
              "      <td>550</td>\n",
              "      <td>0</td>\n",
              "      <td>1</td>\n",
              "      <td>0</td>\n",
              "      <td>2</td>\n",
              "      <td>21</td>\n",
              "      <td>0.0</td>\n",
              "      <td>0.0</td>\n",
              "      <td>1.0</td>\n",
              "      <td>0.0</td>\n",
              "      <td>0.0</td>\n",
              "      <td>0.0</td>\n",
              "      <td>0.0</td>\n",
              "      <td>0.0</td>\n",
              "      <td>0.0</td>\n",
              "      <td>0.0</td>\n",
              "      <td>0.0</td>\n",
              "      <td>0.0</td>\n",
              "      <td>0.0</td>\n",
              "      <td>1.0</td>\n",
              "      <td>0.0</td>\n",
              "      <td>0.0</td>\n",
              "      <td>0.0</td>\n",
              "      <td>0.0</td>\n",
              "      <td>0.0</td>\n",
              "      <td>0.0</td>\n",
              "      <td>0.0</td>\n",
              "      <td>0.0</td>\n",
              "      <td>0.0</td>\n",
              "      <td>0.0</td>\n",
              "      <td>0.0</td>\n",
              "      <td>0.0</td>\n",
              "      <td>0.0</td>\n",
              "      <td>0.0</td>\n",
              "      <td>0.0</td>\n",
              "      <td>0.0</td>\n",
              "      <td>0.0</td>\n",
              "      <td>0.0</td>\n",
              "      <td>0.0</td>\n",
              "      <td>0.0</td>\n",
              "      <td>...</td>\n",
              "      <td>0.0</td>\n",
              "      <td>0.0</td>\n",
              "      <td>0.0</td>\n",
              "      <td>0.0</td>\n",
              "      <td>0.0</td>\n",
              "      <td>0.0</td>\n",
              "      <td>0.0</td>\n",
              "      <td>0.0</td>\n",
              "      <td>0.0</td>\n",
              "      <td>0.0</td>\n",
              "      <td>0.0</td>\n",
              "      <td>0.0</td>\n",
              "      <td>0.0</td>\n",
              "      <td>0.0</td>\n",
              "      <td>0.0</td>\n",
              "      <td>0.0</td>\n",
              "      <td>0.0</td>\n",
              "      <td>0.0</td>\n",
              "      <td>0.0</td>\n",
              "      <td>0.0</td>\n",
              "      <td>0.0</td>\n",
              "      <td>0.0</td>\n",
              "      <td>0.0</td>\n",
              "      <td>0.0</td>\n",
              "      <td>0.0</td>\n",
              "      <td>0.0</td>\n",
              "      <td>0.0</td>\n",
              "      <td>0.0</td>\n",
              "      <td>0.0</td>\n",
              "      <td>0.0</td>\n",
              "      <td>0.0</td>\n",
              "      <td>0.0</td>\n",
              "      <td>0.0</td>\n",
              "      <td>0.0</td>\n",
              "      <td>0.0</td>\n",
              "      <td>0.0</td>\n",
              "      <td>0.0</td>\n",
              "      <td>0.0</td>\n",
              "      <td>0.0</td>\n",
              "      <td>0.0</td>\n",
              "    </tr>\n",
              "    <tr>\n",
              "      <th>1</th>\n",
              "      <td>500</td>\n",
              "      <td>0</td>\n",
              "      <td>1</td>\n",
              "      <td>0</td>\n",
              "      <td>2</td>\n",
              "      <td>167</td>\n",
              "      <td>0.0</td>\n",
              "      <td>0.0</td>\n",
              "      <td>1.0</td>\n",
              "      <td>0.0</td>\n",
              "      <td>0.0</td>\n",
              "      <td>0.0</td>\n",
              "      <td>0.0</td>\n",
              "      <td>0.0</td>\n",
              "      <td>0.0</td>\n",
              "      <td>0.0</td>\n",
              "      <td>0.0</td>\n",
              "      <td>0.0</td>\n",
              "      <td>0.0</td>\n",
              "      <td>1.0</td>\n",
              "      <td>0.0</td>\n",
              "      <td>0.0</td>\n",
              "      <td>0.0</td>\n",
              "      <td>0.0</td>\n",
              "      <td>0.0</td>\n",
              "      <td>0.0</td>\n",
              "      <td>0.0</td>\n",
              "      <td>0.0</td>\n",
              "      <td>0.0</td>\n",
              "      <td>0.0</td>\n",
              "      <td>0.0</td>\n",
              "      <td>0.0</td>\n",
              "      <td>0.0</td>\n",
              "      <td>0.0</td>\n",
              "      <td>0.0</td>\n",
              "      <td>0.0</td>\n",
              "      <td>0.0</td>\n",
              "      <td>0.0</td>\n",
              "      <td>0.0</td>\n",
              "      <td>0.0</td>\n",
              "      <td>...</td>\n",
              "      <td>0.0</td>\n",
              "      <td>0.0</td>\n",
              "      <td>0.0</td>\n",
              "      <td>0.0</td>\n",
              "      <td>0.0</td>\n",
              "      <td>0.0</td>\n",
              "      <td>0.0</td>\n",
              "      <td>0.0</td>\n",
              "      <td>0.0</td>\n",
              "      <td>0.0</td>\n",
              "      <td>0.0</td>\n",
              "      <td>0.0</td>\n",
              "      <td>0.0</td>\n",
              "      <td>0.0</td>\n",
              "      <td>0.0</td>\n",
              "      <td>0.0</td>\n",
              "      <td>0.0</td>\n",
              "      <td>0.0</td>\n",
              "      <td>0.0</td>\n",
              "      <td>0.0</td>\n",
              "      <td>0.0</td>\n",
              "      <td>0.0</td>\n",
              "      <td>0.0</td>\n",
              "      <td>0.0</td>\n",
              "      <td>0.0</td>\n",
              "      <td>0.0</td>\n",
              "      <td>0.0</td>\n",
              "      <td>0.0</td>\n",
              "      <td>0.0</td>\n",
              "      <td>0.0</td>\n",
              "      <td>0.0</td>\n",
              "      <td>0.0</td>\n",
              "      <td>0.0</td>\n",
              "      <td>0.0</td>\n",
              "      <td>0.0</td>\n",
              "      <td>0.0</td>\n",
              "      <td>0.0</td>\n",
              "      <td>0.0</td>\n",
              "      <td>0.0</td>\n",
              "      <td>0.0</td>\n",
              "    </tr>\n",
              "  </tbody>\n",
              "</table>\n",
              "<p>2 rows × 241 columns</p>\n",
              "</div>"
            ],
            "text/plain": [
              "   average_cost  has_table_booking  has_online_delivery  ...  232  233  234\n",
              "0           550                  0                    1  ...  0.0  0.0  0.0\n",
              "1           500                  0                    1  ...  0.0  0.0  0.0\n",
              "\n",
              "[2 rows x 241 columns]"
            ]
          },
          "metadata": {
            "tags": []
          },
          "execution_count": 54
        }
      ]
    },
    {
      "cell_type": "code",
      "metadata": {
        "id": "CWoJZunlWrFX",
        "colab_type": "code",
        "outputId": "015f4731-2674-4669-aaff-7139422f1c84",
        "colab": {
          "base_uri": "https://localhost:8080/",
          "height": 33
        }
      },
      "source": [
        "X_train.shape, X_test.shape, y_train.shape, y_test.shape"
      ],
      "execution_count": 55,
      "outputs": [
        {
          "output_type": "execute_result",
          "data": {
            "text/plain": [
              "((588, 241), (252, 241), (588,), (252,))"
            ]
          },
          "metadata": {
            "tags": []
          },
          "execution_count": 55
        }
      ]
    },
    {
      "cell_type": "code",
      "metadata": {
        "id": "vDqJ-lwxW1aS",
        "colab_type": "code",
        "outputId": "57241942-0464-4a97-a764-02b2398d0d72",
        "colab": {
          "base_uri": "https://localhost:8080/",
          "height": 50
        }
      },
      "source": [
        "print(x.shape)\n",
        "print(y.shape)"
      ],
      "execution_count": 56,
      "outputs": [
        {
          "output_type": "stream",
          "text": [
            "(840, 10)\n",
            "(840,)\n"
          ],
          "name": "stdout"
        }
      ]
    },
    {
      "cell_type": "code",
      "metadata": {
        "id": "iT02sRq7W3iN",
        "colab_type": "code",
        "outputId": "9554cabd-b0dc-4561-e452-97f7e198a568",
        "colab": {
          "base_uri": "https://localhost:8080/",
          "height": 33
        }
      },
      "source": [
        "dump(X_train, 'max_features_pkl/more_feature_X_train')\n",
        "dump(X_test, 'max_features_pkl/more_feature_X_test')\n",
        "dump(y_train, 'max_features_pkl/more_feature_y_train')\n",
        "dump(y_test, 'max_features_pkl/more_feature_y_test')"
      ],
      "execution_count": 57,
      "outputs": [
        {
          "output_type": "execute_result",
          "data": {
            "text/plain": [
              "['max_features_pkl/more_feature_y_test']"
            ]
          },
          "metadata": {
            "tags": []
          },
          "execution_count": 57
        }
      ]
    },
    {
      "cell_type": "code",
      "metadata": {
        "id": "dk2CFkKdXBUY",
        "colab_type": "code",
        "colab": {}
      },
      "source": [
        "X_train= load('max_features_pkl/more_feature_X_train') \n",
        "X_test= load('max_features_pkl/more_feature_X_test')\n",
        "y_train= load('max_features_pkl/more_feature_y_train')\n",
        "y_test= load('max_features_pkl/more_feature_y_test')"
      ],
      "execution_count": 0,
      "outputs": []
    },
    {
      "cell_type": "code",
      "metadata": {
        "id": "_B64Xcd9WGOI",
        "colab_type": "code",
        "colab": {}
      },
      "source": [
        "from sklearn.metrics import  make_scorer\n",
        "from sklearn.model_selection import GridSearchCV\n",
        "from sklearn import metrics\n",
        "\n",
        "\n",
        "def mse(y, y_pred):\n",
        "    return np.mean((y_pred - y)**2) \n",
        "\n",
        "mse_scorer = make_scorer(mse, greater_is_better=False)"
      ],
      "execution_count": 0,
      "outputs": []
    },
    {
      "cell_type": "markdown",
      "metadata": {
        "id": "4AUF1Kr0WGYz",
        "colab_type": "text"
      },
      "source": [
        "## Building Random Model(For Worst case MSE)"
      ]
    },
    {
      "cell_type": "code",
      "metadata": {
        "id": "ddd_9K1PV0L5",
        "colab_type": "code",
        "outputId": "ed1d7c0b-640b-4cc1-d979-43820a69f713",
        "colab": {
          "base_uri": "https://localhost:8080/",
          "height": 33
        }
      },
      "source": [
        "import random\n",
        "\n",
        "rand_pred= np.zeros(y_test.shape[0])\n",
        "for i in range(y_test.shape[0]):\n",
        "    rand_probs = round(random.uniform(1.0, 5.0),2)\n",
        "    rand_pred[i] = rand_probs\n",
        "\n",
        "mse(y_test, rand_pred)"
      ],
      "execution_count": 119,
      "outputs": [
        {
          "output_type": "execute_result",
          "data": {
            "text/plain": [
              "2.825807539682541"
            ]
          },
          "metadata": {
            "tags": []
          },
          "execution_count": 119
        }
      ]
    },
    {
      "cell_type": "markdown",
      "metadata": {
        "id": "r2gwCT0lWaF1",
        "colab_type": "text"
      },
      "source": [
        "Here we can see that random model provide 2.53 MSE value. We can take this as a cut off. Any model which has MSE less than random model is considered as better model."
      ]
    },
    {
      "cell_type": "markdown",
      "metadata": {
        "id": "-rOs9-yEWdVG",
        "colab_type": "text"
      },
      "source": [
        "## Model -1 Linear Regression"
      ]
    },
    {
      "cell_type": "code",
      "metadata": {
        "id": "drN5Xgz7WPhZ",
        "colab_type": "code",
        "outputId": "1f66d770-69f0-450f-ab83-d2b2de922482",
        "colab": {
          "base_uri": "https://localhost:8080/",
          "height": 33
        }
      },
      "source": [
        "from sklearn.linear_model import LinearRegression\n",
        "lr = LinearRegression()\n",
        "lr.fit(X_train,y_train)\n",
        "y_pred_lr = lr.predict(X_test)\n",
        "\n",
        "mse(y_test, y_pred_lr)"
      ],
      "execution_count": 120,
      "outputs": [
        {
          "output_type": "execute_result",
          "data": {
            "text/plain": [
              "0.04307165102083918"
            ]
          },
          "metadata": {
            "tags": []
          },
          "execution_count": 120
        }
      ]
    },
    {
      "cell_type": "markdown",
      "metadata": {
        "id": "Qzra_WGOZJCT",
        "colab_type": "text"
      },
      "source": [
        "## Model -2 Random Forest Regressor"
      ]
    },
    {
      "cell_type": "code",
      "metadata": {
        "id": "RhCcZhc0WiDT",
        "colab_type": "code",
        "outputId": "25a3ed50-affe-473a-e4e5-5d883a938d99",
        "colab": {
          "base_uri": "https://localhost:8080/",
          "height": 33
        }
      },
      "source": [
        "from sklearn.ensemble import RandomForestRegressor\n",
        "\n",
        "rfr = RandomForestRegressor()\n",
        "rfr.fit(X_train,y_train)\n",
        "y_pred_rfr = rfr.predict(X_test)\n",
        "\n",
        "mse(y_test, y_pred_rfr)"
      ],
      "execution_count": 121,
      "outputs": [
        {
          "output_type": "execute_result",
          "data": {
            "text/plain": [
              "0.03838209645502626"
            ]
          },
          "metadata": {
            "tags": []
          },
          "execution_count": 121
        }
      ]
    },
    {
      "cell_type": "markdown",
      "metadata": {
        "id": "4vcgtPCCcW0-",
        "colab_type": "text"
      },
      "source": [
        "### Feature Importance"
      ]
    },
    {
      "cell_type": "code",
      "metadata": {
        "id": "CU9hJl9pcaPL",
        "colab_type": "code",
        "colab": {
          "base_uri": "https://localhost:8080/",
          "height": 265
        },
        "outputId": "8429e7c9-6f16-45d1-ef7c-c8a2329ca36a"
      },
      "source": [
        "import matplotlib.pyplot as plt\n",
        "\n",
        "#plot graph of feature importances for better visualization\n",
        "feat_importances = pd.Series(rfr.feature_importances_, index=X_train.columns)\n",
        "feat_importances.nlargest(10).plot(kind='barh')\n",
        "plt.show()"
      ],
      "execution_count": 122,
      "outputs": [
        {
          "output_type": "display_data",
          "data": {
            "image/png": "[encoded data removed]",
            "text/plain": [
              "<Figure size 432x288 with 1 Axes>"
            ]
          },
          "metadata": {
            "tags": [],
            "needs_background": "light"
          }
        }
      ]
    },
    {
      "cell_type": "code",
      "metadata": {
        "id": "kZuV3dLxZKtd",
        "colab_type": "code",
        "outputId": "78893859-b6cb-4c82-dc7e-4712520d2463",
        "colab": {
          "base_uri": "https://localhost:8080/",
          "height": 82
        }
      },
      "source": [
        "tuned_parameters = {'n_estimators': [150]}\n",
        "\n",
        "grd_regressor = GridSearchCV(RandomForestRegressor(), tuned_parameters, cv=10, \n",
        "                   n_jobs=-1, verbose=1, scoring=mse_scorer)\n",
        "grd_regressor.fit(X_train, y_train)\n",
        "\n",
        "y_pred_grd = grd_regressor.predict(X_test)\n",
        "\n",
        "mse(y_test, y_pred_grd)"
      ],
      "execution_count": 63,
      "outputs": [
        {
          "output_type": "stream",
          "text": [
            "Fitting 10 folds for each of 1 candidates, totalling 10 fits\n"
          ],
          "name": "stdout"
        },
        {
          "output_type": "stream",
          "text": [
            "[Parallel(n_jobs=-1)]: Using backend LokyBackend with 2 concurrent workers.\n",
            "[Parallel(n_jobs=-1)]: Done  10 out of  10 | elapsed:   18.8s finished\n"
          ],
          "name": "stderr"
        },
        {
          "output_type": "execute_result",
          "data": {
            "text/plain": [
              "0.03780327174958705"
            ]
          },
          "metadata": {
            "tags": []
          },
          "execution_count": 63
        }
      ]
    },
    {
      "cell_type": "markdown",
      "metadata": {
        "id": "L2GSbAtqZ2F6",
        "colab_type": "text"
      },
      "source": [
        "After above experiment we got below result\n",
        "\n",
        "- MSE:  0.04004986221340383 == 50(n_estimators)\n",
        "- MSE:  0.03807506691137555 == 100 (n_estimators)\n",
        "- MSE:  0.0377001297623944 == 150 (n_estimators)\n",
        "- MSE:  0.03828087737268492 ==200(n_estimators)\n",
        "- MSE:  0.03799677087809369 ===500 (n_estimators)\n",
        "\n",
        "Final n_estimators choose 150\n"
      ]
    },
    {
      "cell_type": "markdown",
      "metadata": {
        "id": "eXIdft5Aatwv",
        "colab_type": "text"
      },
      "source": [
        "### Best Parameter Model"
      ]
    },
    {
      "cell_type": "code",
      "metadata": {
        "id": "Q3Ow5uMNZc2C",
        "colab_type": "code",
        "outputId": "9925ddd2-01ec-45af-8807-c768f19e7616",
        "colab": {
          "base_uri": "https://localhost:8080/",
          "height": 33
        }
      },
      "source": [
        "\n",
        "rfr = RandomForestRegressor(max_depth=None,n_estimators=150,min_samples_split= 2)\n",
        "rfr.fit(X_train,y_train)\n",
        "y_pred_rfr = rfr.predict(X_test)\n",
        "\n",
        "mse(y_test, y_pred_rfr)"
      ],
      "execution_count": 64,
      "outputs": [
        {
          "output_type": "execute_result",
          "data": {
            "text/plain": [
              "0.03749880657211414"
            ]
          },
          "metadata": {
            "tags": []
          },
          "execution_count": 64
        }
      ]
    },
    {
      "cell_type": "code",
      "metadata": {
        "id": "KzHn0ePuayxv",
        "colab_type": "code",
        "outputId": "fdf983c1-66f2-4d8e-9a50-d99a37c9956e",
        "colab": {
          "base_uri": "https://localhost:8080/",
          "height": 391
        }
      },
      "source": [
        "Randpred = pd.DataFrame({ \"actual\": y_test, \"pred\": y_pred_rfr })\n",
        "Randpred"
      ],
      "execution_count": 65,
      "outputs": [
        {
          "output_type": "execute_result",
          "data": {
            "text/html": [
              "<div>\n",
              "<style scoped>\n",
              "    .dataframe tbody tr th:only-of-type {\n",
              "        vertical-align: middle;\n",
              "    }\n",
              "\n",
              "    .dataframe tbody tr th {\n",
              "        vertical-align: top;\n",
              "    }\n",
              "\n",
              "    .dataframe thead th {\n",
              "        text-align: right;\n",
              "    }\n",
              "</style>\n",
              "<table border=\"1\" class=\"dataframe\">\n",
              "  <thead>\n",
              "    <tr style=\"text-align: right;\">\n",
              "      <th></th>\n",
              "      <th>actual</th>\n",
              "      <th>pred</th>\n",
              "    </tr>\n",
              "  </thead>\n",
              "  <tbody>\n",
              "    <tr>\n",
              "      <th>660</th>\n",
              "      <td>0.0</td>\n",
              "      <td>0.000000</td>\n",
              "    </tr>\n",
              "    <tr>\n",
              "      <th>622</th>\n",
              "      <td>3.7</td>\n",
              "      <td>3.767000</td>\n",
              "    </tr>\n",
              "    <tr>\n",
              "      <th>645</th>\n",
              "      <td>0.0</td>\n",
              "      <td>0.000000</td>\n",
              "    </tr>\n",
              "    <tr>\n",
              "      <th>286</th>\n",
              "      <td>3.1</td>\n",
              "      <td>2.962667</td>\n",
              "    </tr>\n",
              "    <tr>\n",
              "      <th>457</th>\n",
              "      <td>2.8</td>\n",
              "      <td>3.248667</td>\n",
              "    </tr>\n",
              "    <tr>\n",
              "      <th>...</th>\n",
              "      <td>...</td>\n",
              "      <td>...</td>\n",
              "    </tr>\n",
              "    <tr>\n",
              "      <th>170</th>\n",
              "      <td>3.2</td>\n",
              "      <td>3.121333</td>\n",
              "    </tr>\n",
              "    <tr>\n",
              "      <th>42</th>\n",
              "      <td>4.0</td>\n",
              "      <td>4.130000</td>\n",
              "    </tr>\n",
              "    <tr>\n",
              "      <th>516</th>\n",
              "      <td>4.1</td>\n",
              "      <td>4.056000</td>\n",
              "    </tr>\n",
              "    <tr>\n",
              "      <th>184</th>\n",
              "      <td>3.2</td>\n",
              "      <td>2.985944</td>\n",
              "    </tr>\n",
              "    <tr>\n",
              "      <th>155</th>\n",
              "      <td>3.7</td>\n",
              "      <td>3.780944</td>\n",
              "    </tr>\n",
              "  </tbody>\n",
              "</table>\n",
              "<p>252 rows × 2 columns</p>\n",
              "</div>"
            ],
            "text/plain": [
              "     actual      pred\n",
              "660     0.0  0.000000\n",
              "622     3.7  3.767000\n",
              "645     0.0  0.000000\n",
              "286     3.1  2.962667\n",
              "457     2.8  3.248667\n",
              "..      ...       ...\n",
              "170     3.2  3.121333\n",
              "42      4.0  4.130000\n",
              "516     4.1  4.056000\n",
              "184     3.2  2.985944\n",
              "155     3.7  3.780944\n",
              "\n",
              "[252 rows x 2 columns]"
            ]
          },
          "metadata": {
            "tags": []
          },
          "execution_count": 65
        }
      ]
    },
    {
      "cell_type": "markdown",
      "metadata": {
        "id": "9upyTwobbvG6",
        "colab_type": "text"
      },
      "source": [
        "### MSE = 0.0377 , It is good Model still can we still improved Model?"
      ]
    },
    {
      "cell_type": "markdown",
      "metadata": {
        "id": "lWW0j9I3i4hx",
        "colab_type": "text"
      },
      "source": [
        "## Model 3: Natural Language Processing\n",
        "\n",
        "### 3.1 NLP on review data"
      ]
    },
    {
      "cell_type": "code",
      "metadata": {
        "id": "Gznv5h3ljBtx",
        "colab_type": "code",
        "colab": {
          "base_uri": "https://localhost:8080/",
          "height": 552
        },
        "outputId": "039dbcbc-4ac9-4b0c-b987-fca9d2f5a391"
      },
      "source": [
        "data_nlp = pd.read_csv('zomato_final.csv')\n",
        "data_nlp.head()"
      ],
      "execution_count": 182,
      "outputs": [
        {
          "output_type": "execute_result",
          "data": {
            "text/html": [
              "<div>\n",
              "<style scoped>\n",
              "    .dataframe tbody tr th:only-of-type {\n",
              "        vertical-align: middle;\n",
              "    }\n",
              "\n",
              "    .dataframe tbody tr th {\n",
              "        vertical-align: top;\n",
              "    }\n",
              "\n",
              "    .dataframe thead th {\n",
              "        text-align: right;\n",
              "    }\n",
              "</style>\n",
              "<table border=\"1\" class=\"dataframe\">\n",
              "  <thead>\n",
              "    <tr style=\"text-align: right;\">\n",
              "      <th></th>\n",
              "      <th>restaurant_id</th>\n",
              "      <th>restaurant_name</th>\n",
              "      <th>country_code</th>\n",
              "      <th>city</th>\n",
              "      <th>address</th>\n",
              "      <th>locality</th>\n",
              "      <th>locality_verbose</th>\n",
              "      <th>longitude</th>\n",
              "      <th>latitude</th>\n",
              "      <th>cuisines</th>\n",
              "      <th>average_cost_for_two</th>\n",
              "      <th>has_table_booking</th>\n",
              "      <th>has_online_delivery</th>\n",
              "      <th>is_delivering_now</th>\n",
              "      <th>switch_to_orvder_menu</th>\n",
              "      <th>price_range</th>\n",
              "      <th>aggregate_rating</th>\n",
              "      <th>rating_color</th>\n",
              "      <th>rating_text</th>\n",
              "      <th>votes</th>\n",
              "      <th>review</th>\n",
              "    </tr>\n",
              "  </thead>\n",
              "  <tbody>\n",
              "    <tr>\n",
              "      <th>0</th>\n",
              "      <td>16668008</td>\n",
              "      <td>Arigato Sushi</td>\n",
              "      <td>37</td>\n",
              "      <td>Yorkton</td>\n",
              "      <td>14 Second Ave North, Yorkton, SK S3N 1G1</td>\n",
              "      <td>Yorkton</td>\n",
              "      <td>Yorkton, Yorkton</td>\n",
              "      <td>-102.461317</td>\n",
              "      <td>51.210682</td>\n",
              "      <td>Asian</td>\n",
              "      <td>25</td>\n",
              "      <td>0</td>\n",
              "      <td>0</td>\n",
              "      <td>0</td>\n",
              "      <td>0</td>\n",
              "      <td>2</td>\n",
              "      <td>3.3</td>\n",
              "      <td>CDD614</td>\n",
              "      <td>Average</td>\n",
              "      <td>26</td>\n",
              "      <td>['i love arigato sushi!!!! the best restaurant...</td>\n",
              "    </tr>\n",
              "    <tr>\n",
              "      <th>1</th>\n",
              "      <td>801690</td>\n",
              "      <td>Mocha</td>\n",
              "      <td>1</td>\n",
              "      <td>Lucknow</td>\n",
              "      <td>CP-1, 2nd Floor, Anand Plaza, Viram Khand-1, N...</td>\n",
              "      <td>Gomti Nagar</td>\n",
              "      <td>Gomti Nagar, Lucknow</td>\n",
              "      <td>81.001185</td>\n",
              "      <td>26.852810</td>\n",
              "      <td>Cafe, Italian, Continental</td>\n",
              "      <td>800</td>\n",
              "      <td>0</td>\n",
              "      <td>0</td>\n",
              "      <td>0</td>\n",
              "      <td>0</td>\n",
              "      <td>3</td>\n",
              "      <td>4.6</td>\n",
              "      <td>3F7E00</td>\n",
              "      <td>Excellent</td>\n",
              "      <td>567</td>\n",
              "      <td>['I just Simply love This Place.....It is idea...</td>\n",
              "    </tr>\n",
              "    <tr>\n",
              "      <th>2</th>\n",
              "      <td>17558738</td>\n",
              "      <td>Blue House Cafe</td>\n",
              "      <td>216</td>\n",
              "      <td>Vernonia</td>\n",
              "      <td>919 Bridge St, Vernonia, OR 97064</td>\n",
              "      <td>Vernonia</td>\n",
              "      <td>Vernonia, Vernonia</td>\n",
              "      <td>-123.195437</td>\n",
              "      <td>45.858667</td>\n",
              "      <td>Coffee and Tea, Mediterranean</td>\n",
              "      <td>10</td>\n",
              "      <td>0</td>\n",
              "      <td>0</td>\n",
              "      <td>0</td>\n",
              "      <td>0</td>\n",
              "      <td>1</td>\n",
              "      <td>4.3</td>\n",
              "      <td>5BA829</td>\n",
              "      <td>Very Good</td>\n",
              "      <td>88</td>\n",
              "      <td>[\"Delicious. There's not a single dish i've tr...</td>\n",
              "    </tr>\n",
              "    <tr>\n",
              "      <th>3</th>\n",
              "      <td>16611701</td>\n",
              "      <td>Star Buffet</td>\n",
              "      <td>14</td>\n",
              "      <td>Mayfield</td>\n",
              "      <td>58 Hanbury St, Mayfield, NSW</td>\n",
              "      <td>Mayfield</td>\n",
              "      <td>Mayfield, Mayfield</td>\n",
              "      <td>151.734383</td>\n",
              "      <td>-32.899178</td>\n",
              "      <td>Asian</td>\n",
              "      <td>20</td>\n",
              "      <td>0</td>\n",
              "      <td>0</td>\n",
              "      <td>0</td>\n",
              "      <td>0</td>\n",
              "      <td>2</td>\n",
              "      <td>2.9</td>\n",
              "      <td>FFBA00</td>\n",
              "      <td>Average</td>\n",
              "      <td>11</td>\n",
              "      <td>['A lot of food and many varieties, some of th...</td>\n",
              "    </tr>\n",
              "    <tr>\n",
              "      <th>4</th>\n",
              "      <td>2100784</td>\n",
              "      <td>11th Avenue Cafe Bistro</td>\n",
              "      <td>1</td>\n",
              "      <td>Guwahati</td>\n",
              "      <td>Opposite Assam State Museum, Dighalipukhuri, T...</td>\n",
              "      <td>Uzan Bazaar</td>\n",
              "      <td>Uzan Bazaar, Guwahati</td>\n",
              "      <td>91.752314</td>\n",
              "      <td>26.186001</td>\n",
              "      <td>Cafe, American, Italian, Continental</td>\n",
              "      <td>400</td>\n",
              "      <td>0</td>\n",
              "      <td>0</td>\n",
              "      <td>0</td>\n",
              "      <td>0</td>\n",
              "      <td>2</td>\n",
              "      <td>4.1</td>\n",
              "      <td>5BA829</td>\n",
              "      <td>Very Good</td>\n",
              "      <td>377</td>\n",
              "      <td>['11th avenue cafe has always been my favorite...</td>\n",
              "    </tr>\n",
              "  </tbody>\n",
              "</table>\n",
              "</div>"
            ],
            "text/plain": [
              "   restaurant_id  ...                                             review\n",
              "0       16668008  ...  ['i love arigato sushi!!!! the best restaurant...\n",
              "1         801690  ...  ['I just Simply love This Place.....It is idea...\n",
              "2       17558738  ...  [\"Delicious. There's not a single dish i've tr...\n",
              "3       16611701  ...  ['A lot of food and many varieties, some of th...\n",
              "4        2100784  ...  ['11th avenue cafe has always been my favorite...\n",
              "\n",
              "[5 rows x 21 columns]"
            ]
          },
          "metadata": {
            "tags": []
          },
          "execution_count": 182
        }
      ]
    },
    {
      "cell_type": "code",
      "metadata": {
        "id": "TrRSHOwOjQe4",
        "colab_type": "code",
        "colab": {
          "base_uri": "https://localhost:8080/",
          "height": 50
        },
        "outputId": "4f6d2b55-4e75-4a3b-d5b9-d6b9e96d8ee4"
      },
      "source": [
        "import re\n",
        "import nltk\n",
        "from nltk.corpus import stopwords\n",
        "nltk.download('stopwords')\n",
        "\n",
        "word_counter = []\n",
        "def clean_text(text):\n",
        "    \n",
        "    text = text.lower()    \n",
        "    \n",
        "    text = re.sub(r'[_\"\\-;%()|+&=*%.,!?:#$@\\[\\]/]', '', text)\n",
        "    \n",
        "    text = re.sub(r'>\\u200b“–\\\\`🍅‐♥•°„', '', text)\n",
        "    \n",
        "    text = re.sub(r'\\'', '', text)\n",
        "    \n",
        "    text = re.sub(r'  ', ' ', text)\n",
        "    \n",
        "    text = re.sub(r'\\d+', '', text)    \n",
        "    \n",
        "    text = text.split()\n",
        "    \n",
        "    text =  [word for word in text if not word in set(stopwords.words(\"english\"))]\n",
        "    \n",
        "    text = ' '.join(text)\n",
        "\n",
        "    count = len(text.split())\n",
        "    \n",
        "    word_counter.append(count)\n",
        "    \n",
        "    return text\n"
      ],
      "execution_count": 183,
      "outputs": [
        {
          "output_type": "stream",
          "text": [
            "[nltk_data] Downloading package stopwords to /root/nltk_data...\n",
            "[nltk_data]   Package stopwords is already up-to-date!\n"
          ],
          "name": "stdout"
        }
      ]
    },
    {
      "cell_type": "code",
      "metadata": {
        "id": "8pPgSSBekWko",
        "colab_type": "code",
        "colab": {}
      },
      "source": [
        "def decontracted(phrase):\n",
        "    # specific\n",
        "    phrase = re.sub(r\"won't\", \"will not\", phrase)\n",
        "    phrase = re.sub(r\"can\\'t\", \"can not\", phrase)\n",
        "\n",
        "    # general\n",
        "    phrase = re.sub(r\"n\\'t\", \" not\", phrase)\n",
        "    phrase = re.sub(r\"\\'re\", \" are\", phrase)\n",
        "    phrase = re.sub(r\"\\'s\", \" is\", phrase)\n",
        "    phrase = re.sub(r\"\\'d\", \" would\", phrase)\n",
        "    phrase = re.sub(r\"\\'ll\", \" will\", phrase)\n",
        "    phrase = re.sub(r\"\\'t\", \" not\", phrase)\n",
        "    phrase = re.sub(r\"\\'ve\", \" have\", phrase)\n",
        "    phrase = re.sub(r\"\\'m\", \" am\", phrase)\n",
        "    return phrase"
      ],
      "execution_count": 0,
      "outputs": []
    },
    {
      "cell_type": "code",
      "metadata": {
        "id": "gWmqicc6kcpW",
        "colab_type": "code",
        "colab": {
          "base_uri": "https://localhost:8080/",
          "height": 53
        },
        "outputId": "73541665-54cb-4893-c244-31b6accbf9d5"
      },
      "source": [
        "data_nlp.review = data_nlp.review.apply(lambda x: clean_text(x))\n",
        "data_nlp.review = data_nlp.review.apply(lambda x: decontracted(x))\n",
        "data_nlp.review[1]"
      ],
      "execution_count": 185,
      "outputs": [
        {
          "output_type": "execute_result",
          "data": {
            "text/plain": [
              "'simply love placeit ideal breakfastlunchdinnerall three mealsand snacking course shakescoffees preparations top quality full flavours shortcoming pocket friendlyand people don’t smoke hukkah might feel uncomfortable 😣else open air view really beautiful ignoring drawbacksthis place excellent recommended 😊 place thrice everytime great experience quite huge lively place loved ambience interiors service food exceptionally great also place always crowded might wait get place dine place servess bestt food \\U0001f96a🍔🍴🍱 delicious yummy food soft drinks available 🥂🥂 lot food options good quality food better services \\U0001f9f9💡 affordable rates 💸💸💸💸 foodie makess roam around area allow taste delicious food 🍴🍱🍱🍔\\U0001f96a\\U0001f96a must visit cafee'"
            ]
          },
          "metadata": {
            "tags": []
          },
          "execution_count": 185
        }
      ]
    },
    {
      "cell_type": "code",
      "metadata": {
        "id": "mto4dkZ-kfLs",
        "colab_type": "code",
        "colab": {}
      },
      "source": [
        "data_nlp['word_count'] = word_counter"
      ],
      "execution_count": 0,
      "outputs": []
    },
    {
      "cell_type": "code",
      "metadata": {
        "id": "9G85-CvJl8Pe",
        "colab_type": "code",
        "colab": {
          "base_uri": "https://localhost:8080/",
          "height": 736
        },
        "outputId": "23861514-d67f-4e7f-cb1f-679f0cd79f07"
      },
      "source": [
        "# dropping unwanted columns\n",
        "data_nlp = data_nlp.drop(['restaurant_id', 'restaurant_name', 'country_code', 'address','locality', 'locality_verbose', 'longitude', 'latitude', 'cuisines',\n",
        "        'switch_to_orvder_menu','rating_text' ,'price_range', 'rating_color',],axis = 1)\n",
        "data_nlp"
      ],
      "execution_count": 188,
      "outputs": [
        {
          "output_type": "execute_result",
          "data": {
            "text/html": [
              "<div>\n",
              "<style scoped>\n",
              "    .dataframe tbody tr th:only-of-type {\n",
              "        vertical-align: middle;\n",
              "    }\n",
              "\n",
              "    .dataframe tbody tr th {\n",
              "        vertical-align: top;\n",
              "    }\n",
              "\n",
              "    .dataframe thead th {\n",
              "        text-align: right;\n",
              "    }\n",
              "</style>\n",
              "<table border=\"1\" class=\"dataframe\">\n",
              "  <thead>\n",
              "    <tr style=\"text-align: right;\">\n",
              "      <th></th>\n",
              "      <th>city</th>\n",
              "      <th>average_cost_for_two</th>\n",
              "      <th>has_table_booking</th>\n",
              "      <th>has_online_delivery</th>\n",
              "      <th>is_delivering_now</th>\n",
              "      <th>aggregate_rating</th>\n",
              "      <th>votes</th>\n",
              "      <th>review</th>\n",
              "      <th>word_count</th>\n",
              "    </tr>\n",
              "  </thead>\n",
              "  <tbody>\n",
              "    <tr>\n",
              "      <th>0</th>\n",
              "      <td>Yorkton</td>\n",
              "      <td>25</td>\n",
              "      <td>0</td>\n",
              "      <td>0</td>\n",
              "      <td>0</td>\n",
              "      <td>3.3</td>\n",
              "      <td>26</td>\n",
              "      <td>love arigato sushi best restaurant yorkton alw...</td>\n",
              "      <td>247</td>\n",
              "    </tr>\n",
              "    <tr>\n",
              "      <th>1</th>\n",
              "      <td>Lucknow</td>\n",
              "      <td>800</td>\n",
              "      <td>0</td>\n",
              "      <td>0</td>\n",
              "      <td>0</td>\n",
              "      <td>4.6</td>\n",
              "      <td>567</td>\n",
              "      <td>simply love placeit ideal breakfastlunchdinner...</td>\n",
              "      <td>99</td>\n",
              "    </tr>\n",
              "    <tr>\n",
              "      <th>2</th>\n",
              "      <td>Vernonia</td>\n",
              "      <td>10</td>\n",
              "      <td>0</td>\n",
              "      <td>0</td>\n",
              "      <td>0</td>\n",
              "      <td>4.3</td>\n",
              "      <td>88</td>\n",
              "      <td>delicious theres single dish ive tried blue ho...</td>\n",
              "      <td>55</td>\n",
              "    </tr>\n",
              "    <tr>\n",
              "      <th>3</th>\n",
              "      <td>Mayfield</td>\n",
              "      <td>20</td>\n",
              "      <td>0</td>\n",
              "      <td>0</td>\n",
              "      <td>0</td>\n",
              "      <td>2.9</td>\n",
              "      <td>11</td>\n",
              "      <td>lot food many varieties sushi fresh love many ...</td>\n",
              "      <td>306</td>\n",
              "    </tr>\n",
              "    <tr>\n",
              "      <th>4</th>\n",
              "      <td>Guwahati</td>\n",
              "      <td>400</td>\n",
              "      <td>0</td>\n",
              "      <td>0</td>\n",
              "      <td>0</td>\n",
              "      <td>4.1</td>\n",
              "      <td>377</td>\n",
              "      <td>th avenue cafe always favoriteloved cheesy mea...</td>\n",
              "      <td>48</td>\n",
              "    </tr>\n",
              "    <tr>\n",
              "      <th>...</th>\n",
              "      <td>...</td>\n",
              "      <td>...</td>\n",
              "      <td>...</td>\n",
              "      <td>...</td>\n",
              "      <td>...</td>\n",
              "      <td>...</td>\n",
              "      <td>...</td>\n",
              "      <td>...</td>\n",
              "      <td>...</td>\n",
              "    </tr>\n",
              "    <tr>\n",
              "      <th>835</th>\n",
              "      <td>New Delhi</td>\n",
              "      <td>350</td>\n",
              "      <td>0</td>\n",
              "      <td>1</td>\n",
              "      <td>0</td>\n",
              "      <td>3.7</td>\n",
              "      <td>248</td>\n",
              "      <td>angels always excellent confectionery chocolat...</td>\n",
              "      <td>76</td>\n",
              "    </tr>\n",
              "    <tr>\n",
              "      <th>836</th>\n",
              "      <td>New Delhi</td>\n",
              "      <td>700</td>\n",
              "      <td>0</td>\n",
              "      <td>1</td>\n",
              "      <td>0</td>\n",
              "      <td>3.7</td>\n",
              "      <td>185</td>\n",
              "      <td>owner much bad cheat staff salary product fres...</td>\n",
              "      <td>108</td>\n",
              "    </tr>\n",
              "    <tr>\n",
              "      <th>837</th>\n",
              "      <td>New Delhi</td>\n",
              "      <td>1250</td>\n",
              "      <td>0</td>\n",
              "      <td>0</td>\n",
              "      <td>0</td>\n",
              "      <td>3.8</td>\n",
              "      <td>170</td>\n",
              "      <td>casual meet office collegues ordered pasta alf...</td>\n",
              "      <td>73</td>\n",
              "    </tr>\n",
              "    <tr>\n",
              "      <th>838</th>\n",
              "      <td>New Delhi</td>\n",
              "      <td>600</td>\n",
              "      <td>0</td>\n",
              "      <td>0</td>\n",
              "      <td>0</td>\n",
              "      <td>3.5</td>\n",
              "      <td>206</td>\n",
              "      <td>guy serving sense explain drinks showed drink ...</td>\n",
              "      <td>155</td>\n",
              "    </tr>\n",
              "    <tr>\n",
              "      <th>839</th>\n",
              "      <td>New Delhi</td>\n",
              "      <td>650</td>\n",
              "      <td>0</td>\n",
              "      <td>1</td>\n",
              "      <td>0</td>\n",
              "      <td>3.3</td>\n",
              "      <td>199</td>\n",
              "      <td>nan service need improve food tastes great aff...</td>\n",
              "      <td>31</td>\n",
              "    </tr>\n",
              "  </tbody>\n",
              "</table>\n",
              "<p>840 rows × 9 columns</p>\n",
              "</div>"
            ],
            "text/plain": [
              "          city  ...  word_count\n",
              "0      Yorkton  ...         247\n",
              "1      Lucknow  ...          99\n",
              "2     Vernonia  ...          55\n",
              "3     Mayfield  ...         306\n",
              "4     Guwahati  ...          48\n",
              "..         ...  ...         ...\n",
              "835  New Delhi  ...          76\n",
              "836  New Delhi  ...         108\n",
              "837  New Delhi  ...          73\n",
              "838  New Delhi  ...         155\n",
              "839  New Delhi  ...          31\n",
              "\n",
              "[840 rows x 9 columns]"
            ]
          },
          "metadata": {
            "tags": []
          },
          "execution_count": 188
        }
      ]
    },
    {
      "cell_type": "markdown",
      "metadata": {
        "id": "J-tbprFN5f46",
        "colab_type": "text"
      },
      "source": [
        "### Exporting clean text review"
      ]
    },
    {
      "cell_type": "code",
      "metadata": {
        "id": "SgpmLt4V5mYn",
        "colab_type": "code",
        "colab": {}
      },
      "source": [
        "data_nlp.to_csv (r'preprocessed_review.csv', index = False, header=True)"
      ],
      "execution_count": 0,
      "outputs": []
    },
    {
      "cell_type": "code",
      "metadata": {
        "id": "waIhvrxil9iG",
        "colab_type": "code",
        "colab": {
          "base_uri": "https://localhost:8080/",
          "height": 66
        },
        "outputId": "c9a695bc-003e-47c0-a25f-f4b9da13f766"
      },
      "source": [
        "from sklearn.feature_extraction.text import CountVectorizer\n",
        "\n",
        "y = data_nlp['aggregate_rating']\n",
        "X = data_nlp.drop(['aggregate_rating'],axis = 1)\n",
        "\n",
        "\n",
        "# Splitting into x and y into train and test set\n",
        "X_train, x_test, y_train, y_test = train_test_split(X, y, test_size = 0.2, random_state = 42)\n",
        "# Splitting train set into tr and cv set\n",
        "x_tr, x_cv, y_tr, y_cv = train_test_split(X_train, y_train, test_size = 0.2,random_state = 42)\n",
        "\n",
        "x_tr_txt = x_tr['review']\n",
        "x_cv_txt = x_cv['review']\n",
        "x_test_txt = x_test['review']\n",
        "\n",
        "print(x_tr_txt.shape,y_tr.shape )\n",
        "print(x_cv_txt.shape,y_cv.shape )\n",
        "print(x_test_txt.shape,y_test.shape )\n",
        "\n",
        "x_tr_txt = x_tr['review']\n",
        "x_cv_txt = x_cv['review']\n",
        "x_test_txt = x_test['review']"
      ],
      "execution_count": 190,
      "outputs": [
        {
          "output_type": "stream",
          "text": [
            "(537,) (537,)\n",
            "(135,) (135,)\n",
            "(168,) (168,)\n"
          ],
          "name": "stdout"
        }
      ]
    },
    {
      "cell_type": "code",
      "metadata": {
        "id": "Zz2noXKHmQ4S",
        "colab_type": "code",
        "colab": {
          "base_uri": "https://localhost:8080/",
          "height": 98
        },
        "outputId": "5795cf8f-95c2-40fd-85cc-a9a00df4604b"
      },
      "source": [
        "count_vect = CountVectorizer(ngram_range=(1,1), min_df=10) #in scikit-learn\n",
        "# train data\n",
        "X_train_bow = count_vect.fit_transform(x_tr_txt)\n",
        "\n",
        "# test data\n",
        "x_cv_bow = count_vect.transform(x_cv_txt)\n",
        "x_test_bow = count_vect.transform(x_test_txt)\n",
        "\n",
        "\n",
        "print('X_train_bow',X_train_bow.shape)\n",
        "print('==='*10)\n",
        "print('x_cv_bow',x_cv_bow.shape)\n",
        "print('==='*10)\n",
        "print('x_test_bow',x_test_bow.shape)"
      ],
      "execution_count": 191,
      "outputs": [
        {
          "output_type": "stream",
          "text": [
            "X_train_bow (537, 856)\n",
            "==============================\n",
            "x_cv_bow (135, 856)\n",
            "==============================\n",
            "x_test_bow (168, 856)\n"
          ],
          "name": "stdout"
        }
      ]
    },
    {
      "cell_type": "markdown",
      "metadata": {
        "id": "Q0YFrI3SnaMy",
        "colab_type": "text"
      },
      "source": [
        "### Linear regression on NLP"
      ]
    },
    {
      "cell_type": "code",
      "metadata": {
        "id": "Np-NVmgYmSLA",
        "colab_type": "code",
        "colab": {
          "base_uri": "https://localhost:8080/",
          "height": 33
        },
        "outputId": "d210de6b-cde1-4fef-a663-0707103b70a3"
      },
      "source": [
        "from sklearn.linear_model import LinearRegression\n",
        "lr = LinearRegression()\n",
        "lr.fit(X_train_bow,y_tr)\n",
        "y_pred_lr = lr.predict(x_cv_bow)\n",
        "\n",
        "mse(y_cv, y_pred_lr)"
      ],
      "execution_count": 192,
      "outputs": [
        {
          "output_type": "execute_result",
          "data": {
            "text/plain": [
              "13.277268709073342"
            ]
          },
          "metadata": {
            "tags": []
          },
          "execution_count": 192
        }
      ]
    },
    {
      "cell_type": "markdown",
      "metadata": {
        "id": "t10ZmQkwniep",
        "colab_type": "text"
      },
      "source": [
        "### Random Forest on NLP"
      ]
    },
    {
      "cell_type": "code",
      "metadata": {
        "id": "UDzfElq2ngkH",
        "colab_type": "code",
        "colab": {
          "base_uri": "https://localhost:8080/",
          "height": 33
        },
        "outputId": "6eaa4d20-39e8-41e3-f144-baf74952a6a3"
      },
      "source": [
        "from sklearn.ensemble import RandomForestRegressor\n",
        "\n",
        "rfr = RandomForestRegressor()\n",
        "rfr.fit(X_train_bow,y_tr)\n",
        "y_pred_rfr = rfr.predict(x_cv_bow)\n",
        "\n",
        "mse(y_cv, y_pred_rfr)"
      ],
      "execution_count": 193,
      "outputs": [
        {
          "output_type": "execute_result",
          "data": {
            "text/plain": [
              "1.5741879925925928"
            ]
          },
          "metadata": {
            "tags": []
          },
          "execution_count": 193
        }
      ]
    },
    {
      "cell_type": "markdown",
      "metadata": {
        "id": "haYYZL_VnxiZ",
        "colab_type": "text"
      },
      "source": [
        "#### observation"
      ]
    },
    {
      "cell_type": "markdown",
      "metadata": {
        "id": "qQA3xjYnn4-3",
        "colab_type": "text"
      },
      "source": [
        "### LSTM Model"
      ]
    },
    {
      "cell_type": "code",
      "metadata": {
        "id": "jslHm_GcnmIX",
        "colab_type": "code",
        "colab": {
          "base_uri": "https://localhost:8080/",
          "height": 33
        },
        "outputId": "38c2799f-d143-48dd-c115-9f9d6da96f56"
      },
      "source": [
        "\n",
        "X = data['review']\n",
        "y = data['rate']\n",
        "\n",
        "# split the data set into train and test\n",
        "X_train, x_test, y_train, y_test = train_test_split(X, y, test_size=0.3,random_state=0, shuffle=True)\n",
        "\n",
        "print(X_train.shape, x_test.shape, y_train.shape, y_test.shape)\n"
      ],
      "execution_count": 128,
      "outputs": [
        {
          "output_type": "stream",
          "text": [
            "(588,) (252,) (588,) (252,)\n"
          ],
          "name": "stdout"
        }
      ]
    },
    {
      "cell_type": "code",
      "metadata": {
        "id": "WIKBW8qvn-c3",
        "colab_type": "code",
        "colab": {
          "base_uri": "https://localhost:8080/",
          "height": 50
        },
        "outputId": "ef4d9faf-36c9-4c95-c0c9-0542aef84a38"
      },
      "source": [
        "from keras.preprocessing.text import Tokenizer\n",
        "from keras.preprocessing.sequence import pad_sequences\n",
        "from keras.layers import Input, Embedding, Flatten, LSTM, Dense, Dropout\n",
        "from keras.models import Sequential, Model\n",
        "from keras.utils import plot_model\n",
        "\n",
        "max_review_length = 600\n",
        "top_words = 10000\n",
        "\n",
        "## pass through tokenizer\n",
        "tk = Tokenizer(lower = True, num_words= top_words)\n",
        "tk.fit_on_texts(X_train)\n",
        "X_train_seq = tk.texts_to_sequences(X_train)\n",
        "## add padding\n",
        "X_train_pad = pad_sequences(X_train_seq, maxlen=max_review_length)\n",
        "X_test_seq = tk.texts_to_sequences(x_test)\n",
        "X_test_pad = pad_sequences(X_test_seq, maxlen=max_review_length)\n",
        "\n",
        "print('train data shape ', X_train_pad.shape)\n",
        "print('test data shape', X_test_pad.shape)"
      ],
      "execution_count": 134,
      "outputs": [
        {
          "output_type": "stream",
          "text": [
            "train data shape  (588, 600)\n",
            "test data shape (252, 600)\n"
          ],
          "name": "stdout"
        }
      ]
    },
    {
      "cell_type": "code",
      "metadata": {
        "id": "JMYCllwBoYw2",
        "colab_type": "code",
        "colab": {
          "base_uri": "https://localhost:8080/",
          "height": 293
        },
        "outputId": "caf17671-f71e-4ccd-b7ee-d63235347f24"
      },
      "source": [
        "\n",
        "# create the model\n",
        "embedding_vecor_length = 256\n",
        "model = Sequential()\n",
        "model.add(Embedding(top_words+1, embedding_vecor_length, input_length=max_review_length))\n",
        "model.add(LSTM(200))  # returns a sequence of vectors of dimension 32\n",
        "model.add(Dropout(0.5))\n",
        "model.add(Dense(1, activation='linear'))\n",
        "model.compile(loss='mean_squared_error', optimizer='adam')\n",
        "print(model.summary())"
      ],
      "execution_count": 135,
      "outputs": [
        {
          "output_type": "stream",
          "text": [
            "Model: \"sequential_2\"\n",
            "_________________________________________________________________\n",
            "Layer (type)                 Output Shape              Param #   \n",
            "=================================================================\n",
            "embedding_2 (Embedding)      (None, 600, 256)          2560256   \n",
            "_________________________________________________________________\n",
            "lstm_2 (LSTM)                (None, 200)               365600    \n",
            "_________________________________________________________________\n",
            "dropout_1 (Dropout)          (None, 200)               0         \n",
            "_________________________________________________________________\n",
            "dense_1 (Dense)              (None, 1)                 201       \n",
            "=================================================================\n",
            "Total params: 2,926,057\n",
            "Trainable params: 2,926,057\n",
            "Non-trainable params: 0\n",
            "_________________________________________________________________\n",
            "None\n"
          ],
          "name": "stdout"
        }
      ]
    },
    {
      "cell_type": "markdown",
      "metadata": {
        "id": "xyLsnud1q8Sv",
        "colab_type": "text"
      },
      "source": [
        "## LSTM parameter calculation\n",
        "\n",
        "embedding_vecor_length = 256\n",
        "\n",
        "top words = 10000+1 = 10001\n",
        "\n",
        "params at emdedding layers = 10001* 256 = 2560256\n",
        "\n",
        "lstm params = 4(nm + n^2 + n)\n",
        "where,  n = no of units; <br>\n",
        "m = input dimensions\n",
        "\n",
        "\n",
        "here lstm units (n) = 200 and m = 256 dimensions\n",
        "params at lstm_1: 4 (200 * 256  +  200^2  +  200) = 365600\n",
        "\n",
        "at dropout there no training happens, so params 0\n",
        "\n",
        "at dense,\n",
        "\n",
        "(input dim + 1 (bias))* no of units\n",
        "\n",
        "(200+1) * 1 = 201\n",
        "\n",
        "final trainable params,  (2560256 + 365600 + 201) = 2,926,057\n"
      ]
    },
    {
      "cell_type": "code",
      "metadata": {
        "id": "6PvzLRxeqGUF",
        "colab_type": "code",
        "colab": {
          "base_uri": "https://localhost:8080/",
          "height": 703
        },
        "outputId": "1e5fd4f3-9e82-4213-82e8-c1179daf6051"
      },
      "source": [
        "history = model.fit(X_train_pad, y_train, validation_data=(X_test_pad, y_test), \n",
        "                    epochs=20, \n",
        "                    verbose=1\n",
        "                    )"
      ],
      "execution_count": 136,
      "outputs": [
        {
          "output_type": "stream",
          "text": [
            "Train on 588 samples, validate on 252 samples\n",
            "Epoch 1/20\n",
            "588/588 [==============================] - 43s 74ms/step - loss: 6.1991 - val_loss: 1.7774\n",
            "Epoch 2/20\n",
            "588/588 [==============================] - 43s 73ms/step - loss: 1.9170 - val_loss: 1.6138\n",
            "Epoch 3/20\n",
            "588/588 [==============================] - 42s 72ms/step - loss: 1.6458 - val_loss: 1.5904\n",
            "Epoch 4/20\n",
            "588/588 [==============================] - 42s 72ms/step - loss: 1.3471 - val_loss: 1.5969\n",
            "Epoch 5/20\n",
            "588/588 [==============================] - 42s 72ms/step - loss: 0.7912 - val_loss: 1.6896\n",
            "Epoch 6/20\n",
            "588/588 [==============================] - 43s 72ms/step - loss: 0.4677 - val_loss: 1.7462\n",
            "Epoch 7/20\n",
            "588/588 [==============================] - 43s 73ms/step - loss: 0.2834 - val_loss: 1.6980\n",
            "Epoch 8/20\n",
            "588/588 [==============================] - 43s 72ms/step - loss: 0.2446 - val_loss: 1.7395\n",
            "Epoch 9/20\n",
            "588/588 [==============================] - 43s 72ms/step - loss: 0.2061 - val_loss: 1.7307\n",
            "Epoch 10/20\n",
            "588/588 [==============================] - 43s 72ms/step - loss: 0.1826 - val_loss: 1.7478\n",
            "Epoch 11/20\n",
            "588/588 [==============================] - 42s 72ms/step - loss: 0.1535 - val_loss: 1.7789\n",
            "Epoch 12/20\n",
            "588/588 [==============================] - 42s 72ms/step - loss: 0.1484 - val_loss: 1.7552\n",
            "Epoch 13/20\n",
            "588/588 [==============================] - 43s 73ms/step - loss: 0.1263 - val_loss: 1.7935\n",
            "Epoch 14/20\n",
            "588/588 [==============================] - 43s 72ms/step - loss: 0.1578 - val_loss: 1.7536\n",
            "Epoch 15/20\n",
            "588/588 [==============================] - 42s 72ms/step - loss: 0.1524 - val_loss: 1.7766\n",
            "Epoch 16/20\n",
            "588/588 [==============================] - 43s 73ms/step - loss: 0.1224 - val_loss: 1.7889\n",
            "Epoch 17/20\n",
            "588/588 [==============================] - 43s 73ms/step - loss: 0.1108 - val_loss: 1.8189\n",
            "Epoch 18/20\n",
            "588/588 [==============================] - 42s 72ms/step - loss: 0.1131 - val_loss: 1.7708\n",
            "Epoch 19/20\n",
            "588/588 [==============================] - 43s 72ms/step - loss: 0.1206 - val_loss: 1.8181\n",
            "Epoch 20/20\n",
            "588/588 [==============================] - 43s 72ms/step - loss: 0.1207 - val_loss: 1.7770\n"
          ],
          "name": "stdout"
        }
      ]
    },
    {
      "cell_type": "code",
      "metadata": {
        "id": "x1Yf3N8FtqkO",
        "colab_type": "code",
        "colab": {
          "base_uri": "https://localhost:8080/",
          "height": 33
        },
        "outputId": "aea5873b-1409-46bc-ce8f-36601130b2a7"
      },
      "source": [
        "# evaluate the model\n",
        "train_mse = model.evaluate(X_train_pad, y_train, verbose=0)\n",
        "test_mse = model.evaluate(X_test_pad, y_test, verbose=0)\n",
        "print('Train: %.3f, Test: %.3f' % (train_mse, test_mse))"
      ],
      "execution_count": 138,
      "outputs": [
        {
          "output_type": "stream",
          "text": [
            "Train: 0.028, Test: 1.777\n"
          ],
          "name": "stdout"
        }
      ]
    },
    {
      "cell_type": "code",
      "metadata": {
        "id": "SeX1NCuGtrCd",
        "colab_type": "code",
        "colab": {
          "base_uri": "https://localhost:8080/",
          "height": 281
        },
        "outputId": "e4370605-1950-4732-9bc3-5907c9a6489a"
      },
      "source": [
        "# # plot loss during training\n",
        "\n",
        "plt.title('Loss / Mean Squared Error')\n",
        "plt.plot(history.history['loss'], label='train')\n",
        "plt.plot(history.history['val_loss'], label='test')\n",
        "plt.legend()\n",
        "plt.show()"
      ],
      "execution_count": 145,
      "outputs": [
        {
          "output_type": "display_data",
          "data": {
            "image/png": "[encoded data removed]",
            "text/plain": [
              "<Figure size 432x288 with 1 Axes>"
            ]
          },
          "metadata": {
            "tags": [],
            "needs_background": "light"
          }
        }
      ]
    },
    {
      "cell_type": "markdown",
      "metadata": {
        "id": "W4_WUYbiz71H",
        "colab_type": "text"
      },
      "source": [
        "## Observation\n",
        "\n"
      ]
    },
    {
      "cell_type": "code",
      "metadata": {
        "id": "L_gSW9ArySw4",
        "colab_type": "code",
        "colab": {
          "base_uri": "https://localhost:8080/",
          "height": 33
        },
        "outputId": "571c220b-9cb8-4d17-e4e7-56713d588a6b"
      },
      "source": [
        "# serialize model to JSON\n",
        "model_json = model.to_json()\n",
        "with open(\"model.json\", \"w\") as json_file:\n",
        "    json_file.write(model_json)\n",
        "# serialize weights to HDF5\n",
        "model.save_weights(\"model.h5\")\n",
        "print(\"Saved model to disk\")"
      ],
      "execution_count": 146,
      "outputs": [
        {
          "output_type": "stream",
          "text": [
            "Saved model to disk\n"
          ],
          "name": "stdout"
        }
      ]
    },
    {
      "cell_type": "code",
      "metadata": {
        "id": "Oeo63P0J0RFt",
        "colab_type": "code",
        "colab": {}
      },
      "source": [
        "from keras.models import model_from_json\n",
        "\n",
        "# load json and create model\n",
        "json_file = open('model.json', 'r')\n",
        "loaded_model_json = json_file.read()\n",
        "json_file.close()\n",
        "loaded_model = model_from_json(loaded_model_json)\n",
        "# load weights into new model\n",
        "loaded_model.load_weights(\"model.h5\")"
      ],
      "execution_count": 0,
      "outputs": []
    },
    {
      "cell_type": "code",
      "metadata": {
        "id": "oNwWLxdE0WeQ",
        "colab_type": "code",
        "colab": {}
      },
      "source": [
        "y_pred_lstm = loaded_model.predict(X_test_pad)"
      ],
      "execution_count": 0,
      "outputs": []
    },
    {
      "cell_type": "code",
      "metadata": {
        "id": "-r07KCUw0YF9",
        "colab_type": "code",
        "colab": {}
      },
      "source": [
        "y_pred_lstm = y_pred_lstm.flatten()"
      ],
      "execution_count": 0,
      "outputs": []
    },
    {
      "cell_type": "code",
      "metadata": {
        "id": "9Gb6-pW40ZD4",
        "colab_type": "code",
        "colab": {
          "base_uri": "https://localhost:8080/",
          "height": 33
        },
        "outputId": "f0d48a4d-6fb7-4932-cc40-2246eea45e9d"
      },
      "source": [
        "y_pred_lstm.shape, y_test.shape"
      ],
      "execution_count": 150,
      "outputs": [
        {
          "output_type": "execute_result",
          "data": {
            "text/plain": [
              "((252,), (252,))"
            ]
          },
          "metadata": {
            "tags": []
          },
          "execution_count": 150
        }
      ]
    },
    {
      "cell_type": "code",
      "metadata": {
        "id": "9xPxxKBm0Z85",
        "colab_type": "code",
        "colab": {
          "base_uri": "https://localhost:8080/",
          "height": 391
        },
        "outputId": "5fd0ea8f-a39b-486b-c754-ec3c135e5ff1"
      },
      "source": [
        "lstmpred = pd.DataFrame({ \"actual\": y_test, \"pred\": y_pred_lstm })\n",
        "lstmpred"
      ],
      "execution_count": 151,
      "outputs": [
        {
          "output_type": "execute_result",
          "data": {
            "text/html": [
              "<div>\n",
              "<style scoped>\n",
              "    .dataframe tbody tr th:only-of-type {\n",
              "        vertical-align: middle;\n",
              "    }\n",
              "\n",
              "    .dataframe tbody tr th {\n",
              "        vertical-align: top;\n",
              "    }\n",
              "\n",
              "    .dataframe thead th {\n",
              "        text-align: right;\n",
              "    }\n",
              "</style>\n",
              "<table border=\"1\" class=\"dataframe\">\n",
              "  <thead>\n",
              "    <tr style=\"text-align: right;\">\n",
              "      <th></th>\n",
              "      <th>actual</th>\n",
              "      <th>pred</th>\n",
              "    </tr>\n",
              "  </thead>\n",
              "  <tbody>\n",
              "    <tr>\n",
              "      <th>375</th>\n",
              "      <td>2.5</td>\n",
              "      <td>3.480440</td>\n",
              "    </tr>\n",
              "    <tr>\n",
              "      <th>145</th>\n",
              "      <td>4.2</td>\n",
              "      <td>3.171870</td>\n",
              "    </tr>\n",
              "    <tr>\n",
              "      <th>642</th>\n",
              "      <td>0.0</td>\n",
              "      <td>2.624021</td>\n",
              "    </tr>\n",
              "    <tr>\n",
              "      <th>231</th>\n",
              "      <td>3.5</td>\n",
              "      <td>4.050784</td>\n",
              "    </tr>\n",
              "    <tr>\n",
              "      <th>668</th>\n",
              "      <td>2.7</td>\n",
              "      <td>3.896542</td>\n",
              "    </tr>\n",
              "    <tr>\n",
              "      <th>...</th>\n",
              "      <td>...</td>\n",
              "      <td>...</td>\n",
              "    </tr>\n",
              "    <tr>\n",
              "      <th>428</th>\n",
              "      <td>4.1</td>\n",
              "      <td>3.453871</td>\n",
              "    </tr>\n",
              "    <tr>\n",
              "      <th>361</th>\n",
              "      <td>3.3</td>\n",
              "      <td>3.188988</td>\n",
              "    </tr>\n",
              "    <tr>\n",
              "      <th>310</th>\n",
              "      <td>2.5</td>\n",
              "      <td>3.497883</td>\n",
              "    </tr>\n",
              "    <tr>\n",
              "      <th>769</th>\n",
              "      <td>3.5</td>\n",
              "      <td>3.417632</td>\n",
              "    </tr>\n",
              "    <tr>\n",
              "      <th>242</th>\n",
              "      <td>3.4</td>\n",
              "      <td>2.733844</td>\n",
              "    </tr>\n",
              "  </tbody>\n",
              "</table>\n",
              "<p>252 rows × 2 columns</p>\n",
              "</div>"
            ],
            "text/plain": [
              "     actual      pred\n",
              "375     2.5  3.480440\n",
              "145     4.2  3.171870\n",
              "642     0.0  2.624021\n",
              "231     3.5  4.050784\n",
              "668     2.7  3.896542\n",
              "..      ...       ...\n",
              "428     4.1  3.453871\n",
              "361     3.3  3.188988\n",
              "310     2.5  3.497883\n",
              "769     3.5  3.417632\n",
              "242     3.4  2.733844\n",
              "\n",
              "[252 rows x 2 columns]"
            ]
          },
          "metadata": {
            "tags": []
          },
          "execution_count": 151
        }
      ]
    },
    {
      "cell_type": "markdown",
      "metadata": {
        "id": "skUplD6s3iy8",
        "colab_type": "text"
      },
      "source": [
        "# 4. All Features\n",
        "\n",
        "**Text data**\n",
        "1. review\n",
        "\n",
        "\n",
        "**Categorical data**\n",
        "1. \n",
        "2.\n",
        "3.\n",
        "4.\n",
        "5.\n",
        "\n",
        "**Numerical data**\n",
        "1. \n",
        "2.\n",
        "3.\n",
        "4."
      ]
    },
    {
      "cell_type": "markdown",
      "metadata": {
        "id": "dFnDNa6o4B5F",
        "colab_type": "text"
      },
      "source": [
        "#### Plan of attack:\n",
        "\n",
        "\n",
        "- Step1:  For text features, we will use pre-trained **Word2Vec** model, introduce word embedding, pass throgh LSTM layer then flatten the output.\n",
        "\n",
        "- Step2 : Similarly we will perform embedding on categorical data and flatten it.\n",
        "- Step3 : Merge all numerical features and scale it.\n",
        "- Step4 : We will concate all the feature under one block.\n",
        "- Step5 : pass this blob through NN, let's the output.\n",
        "\n",
        "\n"
      ]
    },
    {
      "cell_type": "markdown",
      "metadata": {
        "id": "Co94uHrM4fxK",
        "colab_type": "text"
      },
      "source": [
        "## word 2 vec model"
      ]
    },
    {
      "cell_type": "code",
      "metadata": {
        "id": "TDhSd59X3ls5",
        "colab_type": "code",
        "colab": {
          "base_uri": "https://localhost:8080/",
          "height": 232
        },
        "outputId": "4ccfdb35-023e-4501-8046-206ffc50f74d"
      },
      "source": [
        "\n",
        "!wget -c \"https://s3.amazonaws.com/dl4j-distribution/GoogleNews-vectors-negative300.bin.gz\"\n",
        "# \n",
        "import gensim\n",
        "from gensim import models\n",
        "\n",
        "word2vec = models.KeyedVectors.load_word2vec_format('GoogleNews-vectors-negative300.bin.gz', binary=True)\n",
        "print('Found %s word vectors of word2vec' % len(word2vec.vocab))\n",
        "\n",
        "# model = gensim.models.Word2Vec.load_word2vec_format('GoogleNews-vectors-negative300.bin.gz', binary=True)  "
      ],
      "execution_count": 154,
      "outputs": [
        {
          "output_type": "stream",
          "text": [
            "--2020-06-04 10:30:35--  https://s3.amazonaws.com/dl4j-distribution/GoogleNews-vectors-negative300.bin.gz\n",
            "Resolving s3.amazonaws.com (s3.amazonaws.com)... 52.216.17.179\n",
            "Connecting to s3.amazonaws.com (s3.amazonaws.com)|52.216.17.179|:443... connected.\n",
            "HTTP request sent, awaiting response... 200 OK\n",
            "Length: 1647046227 (1.5G) [application/x-gzip]\n",
            "Saving to: ‘GoogleNews-vectors-negative300.bin.gz’\n",
            "\n",
            "GoogleNews-vectors- 100%[===================>]   1.53G  69.3MB/s    in 25s     \n",
            "\n",
            "2020-06-04 10:31:01 (62.7 MB/s) - ‘GoogleNews-vectors-negative300.bin.gz’ saved [1647046227/1647046227]\n",
            "\n",
            "Found 3000000 word vectors of word2vec\n"
          ],
          "name": "stdout"
        }
      ]
    },
    {
      "cell_type": "markdown",
      "metadata": {
        "id": "5LcjY93O4zbU",
        "colab_type": "text"
      },
      "source": [
        "### Embedding layer for text data"
      ]
    },
    {
      "cell_type": "code",
      "metadata": {
        "id": "QvKUk1Rj4I_T",
        "colab_type": "code",
        "colab": {}
      },
      "source": [
        "#importing clean text \n",
        "data_nlp = pd.read_csv('preprocessed_review.csv')\n",
        "\n",
        "# seperating feature and target column\n",
        "y = data_nlp['aggregate_rating']\n",
        "X = data_nlp.drop(['aggregate_rating'],axis = 1)"
      ],
      "execution_count": 0,
      "outputs": []
    },
    {
      "cell_type": "code",
      "metadata": {
        "id": "aPE8Jr8r5G9R",
        "colab_type": "code",
        "colab": {}
      },
      "source": [
        "# Define params\n",
        "\n",
        "MAX_SEQUENCE_LENGTH = 500\n",
        "MAX_NUM_WORDS = 1000\n",
        "EMBEDDING_DIM = 300"
      ],
      "execution_count": 0,
      "outputs": []
    },
    {
      "cell_type": "code",
      "metadata": {
        "id": "VcUGvD2D5Zb6",
        "colab_type": "code",
        "colab": {
          "base_uri": "https://localhost:8080/",
          "height": 66
        },
        "outputId": "6b0fbb4c-aee7-44e8-cc97-bc05bf7f0e8c"
      },
      "source": [
        "## preproces\n",
        "\n",
        "# Splitting into x and y into train and test set\n",
        "X_train, x_test, y_train, y_test = train_test_split(X, y, test_size = 0.2, random_state = 42)\n",
        "\n",
        "# Splitting train set into tr and cv set\n",
        "x_tr, x_cv, y_tr, y_cv = train_test_split(X_train, y_train, test_size = 0.2,random_state = 42)\n",
        "\n",
        "x_tr_txt = x_tr['review']\n",
        "x_cv_txt = x_cv['review']\n",
        "x_test_txt = x_test['review']\n",
        "\n",
        "print(x_tr_txt.shape,y_tr.shape )\n",
        "print(x_cv_txt.shape,y_cv.shape )\n",
        "print(x_test_txt.shape,y_test.shape )\n",
        "\n",
        "x_tr_txt = x_tr['review']\n",
        "x_cv_txt = x_cv['review']\n",
        "x_test_txt = x_test['review']"
      ],
      "execution_count": 197,
      "outputs": [
        {
          "output_type": "stream",
          "text": [
            "(537,) (537,)\n",
            "(135,) (135,)\n",
            "(168,) (168,)\n"
          ],
          "name": "stdout"
        }
      ]
    },
    {
      "cell_type": "code",
      "metadata": {
        "id": "lM8uhOmj8F0Y",
        "colab_type": "code",
        "colab": {
          "base_uri": "https://localhost:8080/",
          "height": 66
        },
        "outputId": "2abd2f6a-b72d-4790-fe7f-6917f0cf630b"
      },
      "source": [
        "## vectorize a text corpus, here we given vocab_size\n",
        "tk = Tokenizer(lower = True, num_words= MAX_NUM_WORDS)\n",
        "\n",
        "## train\n",
        "tk.fit_on_texts(x_tr_txt)\n",
        "X_train_seq = tk.texts_to_sequences(x_tr_txt)\n",
        "X_train_pad = pad_sequences(X_train_seq, maxlen=MAX_SEQUENCE_LENGTH) \n",
        "## MAX_SEQUENCE_LENGTH = 500\n",
        "\n",
        "\n",
        "## test\n",
        "X_test_seq = tk.texts_to_sequences(x_test_txt)\n",
        "X_test_pad = pad_sequences(X_test_seq, maxlen=MAX_SEQUENCE_LENGTH) \n",
        "## MAX_SEQUENCE_LENGTH = 500\n",
        "\n",
        "## cv\n",
        "X_cv_seq = tk.texts_to_sequences(x_cv_txt)\n",
        "X_cv_pad = pad_sequences(X_cv_seq, maxlen=MAX_SEQUENCE_LENGTH) \n",
        "## MAX_SEQUENCE_LENGTH = 500\n",
        "\n",
        "print('train data shape ', X_train_pad.shape)\n",
        "print('CV data shape ', X_cv_pad.shape)\n",
        "print('test data shape', X_test_pad.shape)\n"
      ],
      "execution_count": 198,
      "outputs": [
        {
          "output_type": "stream",
          "text": [
            "train data shape  (537, 500)\n",
            "CV data shape  (135, 500)\n",
            "test data shape (168, 500)\n"
          ],
          "name": "stdout"
        }
      ]
    },
    {
      "cell_type": "code",
      "metadata": {
        "id": "QZx7HQ3x8Iwi",
        "colab_type": "code",
        "colab": {
          "base_uri": "https://localhost:8080/",
          "height": 82
        },
        "outputId": "b2758496-b430-4932-ba7f-3793cfe2fead"
      },
      "source": [
        "print('Preparing embedding matrix.')\n",
        "\n",
        "nb_words = min(MAX_NUM_WORDS, len(tk.word_index))+1\n",
        "\n",
        "embedding_matrix_w2v = np.zeros((MAX_NUM_WORDS, EMBEDDING_DIM))\n",
        "for word, i in tk.word_index.items():\n",
        "    if i >= MAX_NUM_WORDS:\n",
        "        continue\n",
        "      \n",
        "    if word in word2vec.vocab:\n",
        "        embedding_matrix_w2v[i] = word2vec.word_vec(word)\n",
        "print('Null word embeddings: %d' % np.sum(np.sum(embedding_matrix_w2v, axis=1) == 0))\n",
        "        \n",
        "print(\"Number for unique words in train data:\", len(tk.word_index) + 1)\n",
        "print(\"Shape of train weight matrix:\", embedding_matrix_w2v.shape)"
      ],
      "execution_count": 199,
      "outputs": [
        {
          "output_type": "stream",
          "text": [
            "Preparing embedding matrix.\n",
            "Null word embeddings: 32\n",
            "Number for unique words in train data: 8370\n",
            "Shape of train weight matrix: (1000, 300)\n"
          ],
          "name": "stdout"
        }
      ]
    },
    {
      "cell_type": "code",
      "metadata": {
        "id": "eVllCGoH8MkY",
        "colab_type": "code",
        "colab": {}
      },
      "source": [
        "# Creating an input layer\n",
        "input_size = min(MAX_NUM_WORDS, len(tk.word_index) + 1)\n",
        "input_lay = Input(shape = (MAX_SEQUENCE_LENGTH, ), name = \"input_text_data\")\n",
        "\n",
        "# Creating an embedding layer\n",
        "embedding_layer = Embedding(input_dim = input_size,\n",
        "                            output_dim = EMBEDDING_DIM,\n",
        "                            weights=[embedding_matrix_w2v],\n",
        "                            input_length=MAX_SEQUENCE_LENGTH,\n",
        "                            trainable=True, name = \"lstm_text_data\")(input_lay)\n",
        "# LSTM layer\n",
        "emb_lay_text = LSTM(256, return_sequences = True, dropout = 0.3)(embedding_layer)\n",
        "\n",
        "# Flatten\n",
        "flatten_1 = Flatten()(emb_lay_text)"
      ],
      "execution_count": 0,
      "outputs": []
    },
    {
      "cell_type": "markdown",
      "metadata": {
        "id": "7npLRU949AfP",
        "colab_type": "text"
      },
      "source": [
        "### Embedding layer for Categorical Features\n"
      ]
    },
    {
      "cell_type": "code",
      "metadata": {
        "id": "Yx5KYn6zARhP",
        "colab_type": "code",
        "colab": {
          "base_uri": "https://localhost:8080/",
          "height": 261
        },
        "outputId": "c58173ec-98fe-42f6-a50c-621e1dc00f7a"
      },
      "source": [
        "X.info()"
      ],
      "execution_count": 201,
      "outputs": [
        {
          "output_type": "stream",
          "text": [
            "<class 'pandas.core.frame.DataFrame'>\n",
            "RangeIndex: 840 entries, 0 to 839\n",
            "Data columns (total 8 columns):\n",
            " #   Column                Non-Null Count  Dtype \n",
            "---  ------                --------------  ----- \n",
            " 0   city                  840 non-null    object\n",
            " 1   average_cost_for_two  840 non-null    int64 \n",
            " 2   has_table_booking     840 non-null    int64 \n",
            " 3   has_online_delivery   840 non-null    int64 \n",
            " 4   is_delivering_now     840 non-null    int64 \n",
            " 5   votes                 840 non-null    int64 \n",
            " 6   review                840 non-null    object\n",
            " 7   word_count            840 non-null    int64 \n",
            "dtypes: int64(6), object(2)\n",
            "memory usage: 52.6+ KB\n"
          ],
          "name": "stdout"
        }
      ]
    },
    {
      "cell_type": "code",
      "metadata": {
        "id": "uCCZ1eAw8Os2",
        "colab_type": "code",
        "colab": {
          "base_uri": "https://localhost:8080/",
          "height": 102
        },
        "outputId": "083ef5fb-35bf-4f18-eb85-b7b431dbd01b"
      },
      "source": [
        "## city\n",
        "\n",
        "tokenizer = Tokenizer()\n",
        "tokenizer.fit_on_texts(x_tr.city)\n",
        "city_tr = np.array(tokenizer.texts_to_sequences(x_tr.city))\n",
        "city_cv = np.array(tokenizer.texts_to_sequences(x_cv.city))\n",
        "city_ts = np.array(tokenizer.texts_to_sequences(x_test.city))\n",
        "\n",
        "print(city_tr.shape)\n",
        "print(city_cv.shape)\n",
        "print(city_ts.shape)\n",
        "\n",
        "print(tokenizer.word_index)"
      ],
      "execution_count": 203,
      "outputs": [
        {
          "output_type": "stream",
          "text": [
            "(537,)\n",
            "(135,)\n",
            "(168,)\n",
            "{'new': 1, 'delhi': 2, 'gurgaon': 3, 'mayfield': 4, 'guwahati': 5, 'yorkton': 6, 'hepburn': 7, 'springs': 8, 'cochrane': 9, 'vineland': 10, 'station': 11, 'dicky': 12, 'beach': 13, 'lucknow': 14, 'puducherry': 15, 'trentham': 16, 'east': 17, 'potrero': 18, 'inverloch': 19}\n"
          ],
          "name": "stdout"
        }
      ]
    },
    {
      "cell_type": "code",
      "metadata": {
        "id": "aIKJuYPK9TVu",
        "colab_type": "code",
        "colab": {}
      },
      "source": [
        "# Unique values\n",
        "city_uni = x_tr['city'].nunique()\n",
        "embedding_dim_city = 2\n",
        "\n",
        "# Creating an input layer\n",
        "input_city = Input(shape = (1,), name = \"input_city\")\n",
        "\n",
        "# Creating an embedding layer\n",
        "embedd_city = Embedding(input_dim = city_uni+1, output_dim = embedding_dim_city,trainable = True, \n",
        "                              name = \"city_embedding_layer\")(input_city)\n",
        "# Flatten Book table                              \n",
        "flatten_city = Flatten()(embedd_city)\n"
      ],
      "execution_count": 0,
      "outputs": []
    },
    {
      "cell_type": "markdown",
      "metadata": {
        "id": "rBKkW2sACGYn",
        "colab_type": "text"
      },
      "source": [
        "### Embedding layer for Numerical Features\n"
      ]
    },
    {
      "cell_type": "code",
      "metadata": {
        "id": "3liUk0Lo9U6q",
        "colab_type": "code",
        "colab": {}
      },
      "source": [
        "## reshape the numerical features to (-1,1)\n",
        "\n",
        "# Train data\n",
        "tr_1 = x_tr['votes'].values.reshape(-1, 1)\n",
        "tr_2 = x_tr['average_cost_for_two'].values.reshape(-1, 1)\n",
        "tr_3 = x_tr['word_count'].values.reshape(-1, 1)\n",
        "tr_4 = x_tr['has_table_booking'].values.reshape(-1, 1)\n",
        "tr_5 = x_tr['has_online_delivery'].values.reshape(-1, 1)\n",
        "tr_6 = x_tr['is_delivering_now'].values.reshape(-1, 1)\n",
        "\n",
        "# CV\n",
        "cv_1 = x_cv['votes'].values.reshape(-1, 1)\n",
        "cv_2 = x_cv['average_cost_for_two'].values.reshape(-1, 1)\n",
        "cv_3 = x_cv['word_count'].values.reshape(-1, 1)\n",
        "cv_4 = x_cv['has_table_booking'].values.reshape(-1, 1)\n",
        "cv_5 = x_cv['has_online_delivery'].values.reshape(-1, 1)\n",
        "cv_6 = x_cv['is_delivering_now'].values.reshape(-1, 1)\n",
        "\n",
        "\n",
        "# Test Data\n",
        "test_1 = x_test['votes'].values.reshape(-1, 1)\n",
        "test_2 = x_test['average_cost_for_two'].values.reshape(-1, 1)\n",
        "test_3 = x_test['word_count'].values.reshape(-1, 1)\n",
        "test_4 = x_test['has_table_booking'].values.reshape(-1, 1)\n",
        "test_5 = x_test['has_online_delivery'].values.reshape(-1, 1)\n",
        "test_6 = x_test['is_delivering_now'].values.reshape(-1, 1)"
      ],
      "execution_count": 0,
      "outputs": []
    },
    {
      "cell_type": "code",
      "metadata": {
        "id": "nYsciNjRBbxa",
        "colab_type": "code",
        "colab": {}
      },
      "source": [
        "## Concate features\n",
        "\n",
        "# Train\n",
        "tr_num = np.concatenate((tr_1, tr_2, tr_3, tr_4, tr_5, tr_6), axis = 1)\n",
        "\n",
        "# CV\n",
        "cv_num = np.concatenate((cv_1, cv_2, cv_3, cv_4, cv_5, cv_6), axis = 1)\n",
        "\n",
        "# Test\n",
        "test_num = np.concatenate((test_1, test_2, test_3, test_4, test_5, test_6), axis = 1)"
      ],
      "execution_count": 0,
      "outputs": []
    },
    {
      "cell_type": "code",
      "metadata": {
        "id": "WQJ-eYb2BoNa",
        "colab_type": "code",
        "colab": {}
      },
      "source": [
        "from sklearn.preprocessing import StandardScaler\n",
        "scaler = StandardScaler()\n",
        "\n",
        "tr_num = scaler.fit_transform(tr_num)\n",
        "\n",
        "# always avoid data leakage\n",
        "cv_num = scaler.transform(cv_num)\n",
        "test_num = scaler.transform(test_num)"
      ],
      "execution_count": 0,
      "outputs": []
    },
    {
      "cell_type": "code",
      "metadata": {
        "id": "_XOwuFU4C_WD",
        "colab_type": "code",
        "colab": {}
      },
      "source": [
        "inp_num = Input(shape=(6,), name = \"numerical_features\")\n",
        "emb_num = Dense(128, activation = \"relu\")(inp_num)"
      ],
      "execution_count": 0,
      "outputs": []
    },
    {
      "cell_type": "code",
      "metadata": {
        "id": "Q6YPdUgFDB6F",
        "colab_type": "code",
        "colab": {}
      },
      "source": [
        "from keras.layers import concatenate\n",
        "\n",
        "# Concatenating all\n",
        "con_lay = concatenate([flatten_1,flatten_city, emb_num])"
      ],
      "execution_count": 0,
      "outputs": []
    },
    {
      "cell_type": "code",
      "metadata": {
        "id": "g7SxqR8nDLIP",
        "colab_type": "code",
        "colab": {
          "base_uri": "https://localhost:8080/",
          "height": 455
        },
        "outputId": "ca5412e6-c09a-422a-be46-9ea31546aa8a"
      },
      "source": [
        "# Dense Layer 1\n",
        "DL1 = Dense(896, activation = 'relu')(con_lay)\n",
        "\n",
        "# Dropout 1\n",
        "DP1 = Dropout(0.5)(DL1)\n",
        "\n",
        "# Output\n",
        "output = Dense(1, activation = 'linear', name= 'model_1_output')(DP1)\n",
        "\n",
        "# READ THIS\n",
        "# Model\n",
        "# rename input_lay = input_text\n",
        "# rename input_city = input_categorical\n",
        "# rename input_numerical = input_numerical\n",
        "# \n",
        "model1 = Model(inputs = [input_lay,input_city,inp_num], outputs = output)\n",
        "\n",
        "plot_model(model1, show_shapes=True,show_layer_names=True, to_file='model1.png')"
      ],
      "execution_count": 236,
      "outputs": [
        {
          "output_type": "execute_result",
          "data": {
            "image/png": "[encoded data removed]",
            "text/plain": [
              "<IPython.core.display.Image object>"
            ]
          },
          "metadata": {
            "tags": []
          },
          "execution_count": 236
        }
      ]
    },
    {
      "cell_type": "code",
      "metadata": {
        "id": "TGPfFtkTDYJ6",
        "colab_type": "code",
        "colab": {}
      },
      "source": [
        "# Train data\n",
        "tr_data_1 = [X_train_pad, city_tr,  tr_num ]\n",
        "\n",
        "# CV data\n",
        "cv_data_1 = [X_cv_pad, city_cv,  cv_num]\n",
        "\n",
        "# Test data\n",
        "test_data_1 = [X_test_pad, city_ts, test_num]\n"
      ],
      "execution_count": 0,
      "outputs": []
    },
    {
      "cell_type": "code",
      "metadata": {
        "id": "JOWQ6DQ8EL9h",
        "colab_type": "code",
        "colab": {
          "base_uri": "https://localhost:8080/",
          "height": 602
        },
        "outputId": "1da1a4a5-9197-4bbb-90a7-48d4532dea6e"
      },
      "source": [
        "model1.summary()"
      ],
      "execution_count": 238,
      "outputs": [
        {
          "output_type": "stream",
          "text": [
            "Model: \"model_5\"\n",
            "__________________________________________________________________________________________________\n",
            "Layer (type)                    Output Shape         Param #     Connected to                     \n",
            "==================================================================================================\n",
            "input_text_data (InputLayer)    (None, 500)          0                                            \n",
            "__________________________________________________________________________________________________\n",
            "lstm_text_data (Embedding)      (None, 500, 300)     300000      input_text_data[0][0]            \n",
            "__________________________________________________________________________________________________\n",
            "input_city (InputLayer)         (None, 1)            0                                            \n",
            "__________________________________________________________________________________________________\n",
            "lstm_5 (LSTM)                   (None, 500, 256)     570368      lstm_text_data[0][0]             \n",
            "__________________________________________________________________________________________________\n",
            "city_embedding_layer (Embedding (None, 1, 2)         30          input_city[0][0]                 \n",
            "__________________________________________________________________________________________________\n",
            "numerical_features (InputLayer) (None, 6)            0                                            \n",
            "__________________________________________________________________________________________________\n",
            "flatten_3 (Flatten)             (None, 128000)       0           lstm_5[0][0]                     \n",
            "__________________________________________________________________________________________________\n",
            "flatten_4 (Flatten)             (None, 2)            0           city_embedding_layer[0][0]       \n",
            "__________________________________________________________________________________________________\n",
            "dense_9 (Dense)                 (None, 128)          896         numerical_features[0][0]         \n",
            "__________________________________________________________________________________________________\n",
            "concatenate_3 (Concatenate)     (None, 128130)       0           flatten_3[0][0]                  \n",
            "                                                                 flatten_4[0][0]                  \n",
            "                                                                 dense_9[0][0]                    \n",
            "__________________________________________________________________________________________________\n",
            "dense_11 (Dense)                (None, 896)          114805376   concatenate_3[0][0]              \n",
            "__________________________________________________________________________________________________\n",
            "dropout_7 (Dropout)             (None, 896)          0           dense_11[0][0]                   \n",
            "__________________________________________________________________________________________________\n",
            "model_1_output (Dense)          (None, 1)            897         dropout_7[0][0]                  \n",
            "==================================================================================================\n",
            "Total params: 115,677,567\n",
            "Trainable params: 115,677,567\n",
            "Non-trainable params: 0\n",
            "__________________________________________________________________________________________________\n"
          ],
          "name": "stdout"
        }
      ]
    },
    {
      "cell_type": "markdown",
      "metadata": {
        "id": "6_hoOHKAEQ9o",
        "colab_type": "text"
      },
      "source": [
        "### Neural network param calculations,\n",
        "\n",
        "\n",
        "<!-- at input text = 300 * 1000 = 300000 <br>\n",
        "at LSTM layer = 4 (256 * 300 + 256 ^ 2 + 256 ) = 570368<br>\n",
        "at dense_9 layer = (6+1(bias)) * 128 = 896 <br>\n",
        "at dense_18 layer = (128132 + 1 (bias) ) * 512 = 114807168 <br>\n",
        "at model_1_output = (896+1) * 1 = 897 <br>\n",
        "<br>\n",
        "<br>\n",
        "total params adding all = 300000 + 570368 + 896 + 114807168 + 897 = 115677537\n",
        "\n",
        " -->\n"
      ]
    },
    {
      "cell_type": "code",
      "metadata": {
        "id": "SWTNjOTzENVo",
        "colab_type": "code",
        "colab": {}
      },
      "source": [
        ""
      ],
      "execution_count": 0,
      "outputs": []
    },
    {
      "cell_type": "code",
      "metadata": {
        "id": "ZiJ8GaQhIJZ4",
        "colab_type": "code",
        "colab": {}
      },
      "source": [
        ""
      ],
      "execution_count": 0,
      "outputs": []
    }
  ]
}