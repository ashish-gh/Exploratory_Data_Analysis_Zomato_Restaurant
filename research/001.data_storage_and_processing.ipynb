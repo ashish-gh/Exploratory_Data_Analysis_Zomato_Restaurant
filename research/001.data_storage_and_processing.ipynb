{
 "cells": [
  {
   "cell_type": "markdown",
   "metadata": {},
   "source": [
    "# Data Collection and Storage"
   ]
  },
  {
   "cell_type": "markdown",
   "metadata": {},
   "source": [
    "### Importing libraries"
   ]
  },
  {
   "cell_type": "code",
   "execution_count": 17,
   "metadata": {},
   "outputs": [],
   "source": [
    "# python os library\n",
    "import json,os,re,datetime\n",
    "import csv\n",
    "\n",
    "# pandas library\n",
    "import pandas as pd\n",
    "from pandas import DataFrame"
   ]
  },
  {
   "cell_type": "code",
   "execution_count": 33,
   "metadata": {},
   "outputs": [
    {
     "name": "stdout",
     "output_type": "stream",
     "text": [
      "['file2.json', 'file1.json', 'file5.json', 'file3.json', 'file4.json']\n"
     ]
    }
   ],
   "source": [
    "# path to un-processed data\n",
    "path_to_folder = \"raw_data\"\n",
    "\n",
    "# path to processed data\n",
    "path_to_json = 'processed_data'\n",
    "\n",
    "#looping in the folder \"data\" where the the json files are placed \n",
    "json_files = [pos_json for pos_json in os.listdir(path_to_folder) if pos_json.endswith('.json')] \n",
    "\n",
    "# printing list of json files \n",
    "print (json_files) "
   ]
  },
  {
   "cell_type": "markdown",
   "metadata": {},
   "source": [
    "`raw_data` folder contains json data fetched from Zomato API. It contains 10 files from different cities of California, USA. "
   ]
  },
  {
   "cell_type": "code",
   "execution_count": null,
   "metadata": {},
   "outputs": [],
   "source": []
  },
  {
   "cell_type": "code",
   "execution_count": 34,
   "metadata": {},
   "outputs": [],
   "source": [
    "path=\"\"\n",
    "\n",
    "\n",
    "csvfile=open('zomato.csv', 'w',newline=\"\")\n",
    "writer=csv.writer(csvfile)  \n",
    "writer.writerow(['restaurant_id','restaurant_name','country_code','city','address','locality','locality_verbose','longitude','latitude','cuisines','average_cost_for_two','has_table_booking','has_online_delivery','is_delivering_now','switch_to_orvder_menu','price_range','aggregate_rating','rating_color','rating_text','votes']) #writer to write the row\n",
    "\n",
    "\n",
    "for js in json_files:\n",
    "    with open(os.path.join(path_to_folder, js),'r', encoding='utf-8', errors=\"ignore\") as json_file: #append the path of file to the source folde\n",
    "        loaded_file = json.load(json_file,strict=False) #load the file to be selected\n",
    "        for i in range(len(loaded_file)):\n",
    "            if 'restaurants' in loaded_file[i].keys():\n",
    "                for j in range(len(loaded_file[i]['restaurants'])):\n",
    "                    if('restaurant' in loaded_file[i]['restaurants'][j].keys()):\n",
    "                        \n",
    "                        currency = loaded_file[i]['restaurants'][j]['restaurant']['currency']\n",
    "                        city=loaded_file[i]['restaurants'][j]['restaurant']['location']['city']\n",
    "                        locality=loaded_file[i]['restaurants'][j]['restaurant']['location']['locality']\n",
    "                        rating_text=loaded_file[i]['restaurants'][j]['restaurant']['user_rating']['rating_text']\n",
    "                        name_res=loaded_file[i]['restaurants'][j]['restaurant']['name'].replace('/',\" \")\n",
    "                        res_id=loaded_file[i]['restaurants'][j]['restaurant']['R']['res_id']\n",
    "                        cuisines = loaded_file[i]['restaurants'][j]['restaurant']['cuisines']\n",
    "                        has_table_booking = loaded_file[i]['restaurants'][j]['restaurant']['has_table_booking']\n",
    "                        has_online_delivery = loaded_file[i]['restaurants'][j]['restaurant']['has_online_delivery']\n",
    "                        city_id = loaded_file[i]['restaurants'][j]['restaurant']['location']['city_id']\n",
    "                        address = loaded_file[i]['restaurants'][j]['restaurant']['location']['address']\n",
    "                        locality_verbose = loaded_file[i]['restaurants'][j]['restaurant']['location']['locality_verbose']\n",
    "                        longitude= loaded_file[i]['restaurants'][j]['restaurant']['location']['longitude']\n",
    "                        latitude= loaded_file[i]['restaurants'][j]['restaurant']['location']['latitude']\n",
    "                        is_delivering_now= loaded_file[i]['restaurants'][j]['restaurant']['is_delivering_now']                        \n",
    "                        country_id=loaded_file[i]['restaurants'][j]['restaurant']['location']['country_id']\n",
    "                        price_range=loaded_file[i]['restaurants'][j]['restaurant']['price_range']\n",
    "                        switch_to_order_menu=loaded_file[i]['restaurants'][j]['restaurant']['switch_to_order_menu']\n",
    "                        aggregate_rating=loaded_file[i]['restaurants'][j]['restaurant']['user_rating']['aggregate_rating']\n",
    "                        rating_color=loaded_file[i]['restaurants'][j]['restaurant']['user_rating']['rating_color']\n",
    "                        votes=loaded_file[i]['restaurants'][j]['restaurant']['user_rating']['votes']\n",
    "                        avg_cost=loaded_file[i]['restaurants'][j]['restaurant']['average_cost_for_two']\n",
    "                        \n",
    "                        writer.writerow([res_id,name_res,country_id,city,address,locality,locality_verbose,longitude,\n",
    "                                         latitude,cuisines,avg_cost,has_table_booking,has_online_delivery,\n",
    "                                         is_delivering_now,switch_to_order_menu,price_range,aggregate_rating,\n",
    "                                         rating_color,rating_text,votes]) \n",
    "                        "
   ]
  },
  {
   "cell_type": "code",
   "execution_count": 35,
   "metadata": {},
   "outputs": [
    {
     "data": {
      "text/html": [
       "<div>\n",
       "<style scoped>\n",
       "    .dataframe tbody tr th:only-of-type {\n",
       "        vertical-align: middle;\n",
       "    }\n",
       "\n",
       "    .dataframe tbody tr th {\n",
       "        vertical-align: top;\n",
       "    }\n",
       "\n",
       "    .dataframe thead th {\n",
       "        text-align: right;\n",
       "    }\n",
       "</style>\n",
       "<table border=\"1\" class=\"dataframe\">\n",
       "  <thead>\n",
       "    <tr style=\"text-align: right;\">\n",
       "      <th></th>\n",
       "      <th>restaurant_id</th>\n",
       "      <th>restaurant_name</th>\n",
       "      <th>country_code</th>\n",
       "      <th>city</th>\n",
       "      <th>address</th>\n",
       "      <th>locality</th>\n",
       "      <th>locality_verbose</th>\n",
       "      <th>longitude</th>\n",
       "      <th>latitude</th>\n",
       "      <th>cuisines</th>\n",
       "      <th>average_cost_for_two</th>\n",
       "      <th>has_table_booking</th>\n",
       "      <th>has_online_delivery</th>\n",
       "      <th>is_delivering_now</th>\n",
       "      <th>switch_to_orvder_menu</th>\n",
       "      <th>price_range</th>\n",
       "      <th>aggregate_rating</th>\n",
       "      <th>rating_color</th>\n",
       "      <th>rating_text</th>\n",
       "      <th>votes</th>\n",
       "    </tr>\n",
       "  </thead>\n",
       "  <tbody>\n",
       "    <tr>\n",
       "      <th>0</th>\n",
       "      <td>16668008</td>\n",
       "      <td>Arigato Sushi</td>\n",
       "      <td>37</td>\n",
       "      <td>Yorkton</td>\n",
       "      <td>14 Second Ave North, Yorkton, SK S3N 1G1</td>\n",
       "      <td>Yorkton</td>\n",
       "      <td>Yorkton, Yorkton</td>\n",
       "      <td>-102.461317</td>\n",
       "      <td>51.210682</td>\n",
       "      <td>Asian</td>\n",
       "      <td>25</td>\n",
       "      <td>0</td>\n",
       "      <td>0</td>\n",
       "      <td>0</td>\n",
       "      <td>0</td>\n",
       "      <td>2</td>\n",
       "      <td>3.3</td>\n",
       "      <td>CDD614</td>\n",
       "      <td>Average</td>\n",
       "      <td>26</td>\n",
       "    </tr>\n",
       "    <tr>\n",
       "      <th>1</th>\n",
       "      <td>801690</td>\n",
       "      <td>Mocha</td>\n",
       "      <td>1</td>\n",
       "      <td>Lucknow</td>\n",
       "      <td>CP-1, 2nd Floor, Anand Plaza, Viram Khand-1, N...</td>\n",
       "      <td>Gomti Nagar</td>\n",
       "      <td>Gomti Nagar, Lucknow</td>\n",
       "      <td>81.001185</td>\n",
       "      <td>26.852810</td>\n",
       "      <td>Cafe, Italian, Continental</td>\n",
       "      <td>800</td>\n",
       "      <td>0</td>\n",
       "      <td>0</td>\n",
       "      <td>0</td>\n",
       "      <td>0</td>\n",
       "      <td>3</td>\n",
       "      <td>4.6</td>\n",
       "      <td>3F7E00</td>\n",
       "      <td>Excellent</td>\n",
       "      <td>567</td>\n",
       "    </tr>\n",
       "    <tr>\n",
       "      <th>2</th>\n",
       "      <td>17558738</td>\n",
       "      <td>Blue House Cafe</td>\n",
       "      <td>216</td>\n",
       "      <td>Vernonia</td>\n",
       "      <td>919 Bridge St, Vernonia, OR 97064</td>\n",
       "      <td>Vernonia</td>\n",
       "      <td>Vernonia, Vernonia</td>\n",
       "      <td>-123.195437</td>\n",
       "      <td>45.858667</td>\n",
       "      <td>Coffee and Tea, Mediterranean</td>\n",
       "      <td>10</td>\n",
       "      <td>0</td>\n",
       "      <td>0</td>\n",
       "      <td>0</td>\n",
       "      <td>0</td>\n",
       "      <td>1</td>\n",
       "      <td>4.3</td>\n",
       "      <td>5BA829</td>\n",
       "      <td>Very Good</td>\n",
       "      <td>88</td>\n",
       "    </tr>\n",
       "    <tr>\n",
       "      <th>3</th>\n",
       "      <td>16611701</td>\n",
       "      <td>Star Buffet</td>\n",
       "      <td>14</td>\n",
       "      <td>Mayfield</td>\n",
       "      <td>58 Hanbury St, Mayfield, NSW</td>\n",
       "      <td>Mayfield</td>\n",
       "      <td>Mayfield, Mayfield</td>\n",
       "      <td>151.734383</td>\n",
       "      <td>-32.899178</td>\n",
       "      <td>Asian</td>\n",
       "      <td>20</td>\n",
       "      <td>0</td>\n",
       "      <td>0</td>\n",
       "      <td>0</td>\n",
       "      <td>0</td>\n",
       "      <td>2</td>\n",
       "      <td>2.9</td>\n",
       "      <td>FFBA00</td>\n",
       "      <td>Average</td>\n",
       "      <td>11</td>\n",
       "    </tr>\n",
       "    <tr>\n",
       "      <th>4</th>\n",
       "      <td>2100784</td>\n",
       "      <td>11th Avenue Cafe Bistro</td>\n",
       "      <td>1</td>\n",
       "      <td>Guwahati</td>\n",
       "      <td>Opposite Assam State Museum, Dighalipukhuri, T...</td>\n",
       "      <td>Uzan Bazaar</td>\n",
       "      <td>Uzan Bazaar, Guwahati</td>\n",
       "      <td>91.752314</td>\n",
       "      <td>26.186001</td>\n",
       "      <td>Cafe, American, Italian, Continental</td>\n",
       "      <td>400</td>\n",
       "      <td>0</td>\n",
       "      <td>0</td>\n",
       "      <td>0</td>\n",
       "      <td>0</td>\n",
       "      <td>2</td>\n",
       "      <td>4.1</td>\n",
       "      <td>5BA829</td>\n",
       "      <td>Very Good</td>\n",
       "      <td>377</td>\n",
       "    </tr>\n",
       "  </tbody>\n",
       "</table>\n",
       "</div>"
      ],
      "text/plain": [
       "   restaurant_id          restaurant_name  country_code      city  \\\n",
       "0       16668008            Arigato Sushi            37   Yorkton   \n",
       "1         801690                    Mocha             1   Lucknow   \n",
       "2       17558738          Blue House Cafe           216  Vernonia   \n",
       "3       16611701              Star Buffet            14  Mayfield   \n",
       "4        2100784  11th Avenue Cafe Bistro             1  Guwahati   \n",
       "\n",
       "                                             address     locality  \\\n",
       "0           14 Second Ave North, Yorkton, SK S3N 1G1      Yorkton   \n",
       "1  CP-1, 2nd Floor, Anand Plaza, Viram Khand-1, N...  Gomti Nagar   \n",
       "2                  919 Bridge St, Vernonia, OR 97064     Vernonia   \n",
       "3                       58 Hanbury St, Mayfield, NSW     Mayfield   \n",
       "4  Opposite Assam State Museum, Dighalipukhuri, T...  Uzan Bazaar   \n",
       "\n",
       "        locality_verbose   longitude   latitude  \\\n",
       "0       Yorkton, Yorkton -102.461317  51.210682   \n",
       "1   Gomti Nagar, Lucknow   81.001185  26.852810   \n",
       "2     Vernonia, Vernonia -123.195437  45.858667   \n",
       "3     Mayfield, Mayfield  151.734383 -32.899178   \n",
       "4  Uzan Bazaar, Guwahati   91.752314  26.186001   \n",
       "\n",
       "                               cuisines  average_cost_for_two  \\\n",
       "0                                 Asian                    25   \n",
       "1            Cafe, Italian, Continental                   800   \n",
       "2         Coffee and Tea, Mediterranean                    10   \n",
       "3                                 Asian                    20   \n",
       "4  Cafe, American, Italian, Continental                   400   \n",
       "\n",
       "   has_table_booking  has_online_delivery  is_delivering_now  \\\n",
       "0                  0                    0                  0   \n",
       "1                  0                    0                  0   \n",
       "2                  0                    0                  0   \n",
       "3                  0                    0                  0   \n",
       "4                  0                    0                  0   \n",
       "\n",
       "   switch_to_orvder_menu  price_range  aggregate_rating rating_color  \\\n",
       "0                      0            2               3.3       CDD614   \n",
       "1                      0            3               4.6       3F7E00   \n",
       "2                      0            1               4.3       5BA829   \n",
       "3                      0            2               2.9       FFBA00   \n",
       "4                      0            2               4.1       5BA829   \n",
       "\n",
       "  rating_text  votes  \n",
       "0     Average     26  \n",
       "1   Excellent    567  \n",
       "2   Very Good     88  \n",
       "3     Average     11  \n",
       "4   Very Good    377  "
      ]
     },
     "execution_count": 35,
     "metadata": {},
     "output_type": "execute_result"
    }
   ],
   "source": [
    "zomato=pd.read_csv('zomato.csv',sep=',', encoding='latin-1') #read csv\n",
    "zomato.head()"
   ]
  },
  {
   "cell_type": "code",
   "execution_count": 36,
   "metadata": {},
   "outputs": [
    {
     "name": "stdout",
     "output_type": "stream",
     "text": [
      "<class 'pandas.core.frame.DataFrame'>\n",
      "RangeIndex: 29693 entries, 0 to 29692\n",
      "Data columns (total 20 columns):\n",
      " #   Column                 Non-Null Count  Dtype  \n",
      "---  ------                 --------------  -----  \n",
      " 0   restaurant_id          29693 non-null  int64  \n",
      " 1   restaurant_name        29693 non-null  object \n",
      " 2   country_code           29693 non-null  int64  \n",
      " 3   city                   29693 non-null  object \n",
      " 4   address                29693 non-null  object \n",
      " 5   locality               29693 non-null  object \n",
      " 6   locality_verbose       29693 non-null  object \n",
      " 7   longitude              29693 non-null  float64\n",
      " 8   latitude               29693 non-null  float64\n",
      " 9   cuisines               29511 non-null  object \n",
      " 10  average_cost_for_two   29693 non-null  int64  \n",
      " 11  has_table_booking      29693 non-null  int64  \n",
      " 12  has_online_delivery    29693 non-null  int64  \n",
      " 13  is_delivering_now      29693 non-null  int64  \n",
      " 14  switch_to_orvder_menu  29693 non-null  int64  \n",
      " 15  price_range            29693 non-null  int64  \n",
      " 16  aggregate_rating       29693 non-null  float64\n",
      " 17  rating_color           29693 non-null  object \n",
      " 18  rating_text            29693 non-null  object \n",
      " 19  votes                  29693 non-null  int64  \n",
      "dtypes: float64(3), int64(9), object(8)\n",
      "memory usage: 4.5+ MB\n"
     ]
    }
   ],
   "source": [
    "zomato.info()"
   ]
  },
  {
   "cell_type": "code",
   "execution_count": 39,
   "metadata": {},
   "outputs": [
    {
     "name": "stdout",
     "output_type": "stream",
     "text": [
      "Total duplicated:  20174\n"
     ]
    }
   ],
   "source": [
    "print(\"Total duplicated: \" , zomato.duplicated().sum())"
   ]
  },
  {
   "cell_type": "code",
   "execution_count": 41,
   "metadata": {},
   "outputs": [
    {
     "name": "stdout",
     "output_type": "stream",
     "text": [
      "(9519, 20)\n"
     ]
    }
   ],
   "source": [
    "# Droping duplicates\n",
    "zomato.drop_duplicates(inplace=True)\n",
    "print(zomato.shape)\n",
    "\n",
    "# After droping duplicates the number of data is 9519."
   ]
  },
  {
   "cell_type": "code",
   "execution_count": 43,
   "metadata": {},
   "outputs": [
    {
     "data": {
      "text/plain": [
       "(9475,)"
      ]
     },
     "execution_count": 43,
     "metadata": {},
     "output_type": "execute_result"
    }
   ],
   "source": [
    "# # There are 9475 distinct restaurant\n",
    "zomato['restaurant_id'].unique().shape"
   ]
  },
  {
   "cell_type": "markdown",
   "metadata": {},
   "source": [
    "### Now we will get reviews for all the distinct restaurant"
   ]
  },
  {
   "cell_type": "code",
   "execution_count": 115,
   "metadata": {},
   "outputs": [],
   "source": [
    "# Exporting restaurant id.\n",
    "# To be used for making request to zomato API \n",
    "# based on restaurant id\n",
    "\n",
    "path_rest_id = \"processed_data\"\n",
    "out_file = open(os.path.join(path_rest_id,'restaurant_id.txt'), \"w\")\n",
    "for line in zomato['Restaurant_ID'].unique():\n",
    "    out_file.write(str(line))\n",
    "    out_file.write(\"\\n\")\n",
    "out_file.close()"
   ]
  },
  {
   "cell_type": "code",
   "execution_count": 117,
   "metadata": {},
   "outputs": [],
   "source": [
    "# To read rest file\n",
    "read_file = open(os.path.join(path_rest_id,\"restaurant_id.txt\"), \"r\")\n",
    "rest_ID= []\n",
    "for i in read_file:\n",
    "    i = i.replace('\\n', '')\n",
    "    rest_ID.append(i)"
   ]
  },
  {
   "cell_type": "code",
   "execution_count": 44,
   "metadata": {},
   "outputs": [],
   "source": [
    "# Once restarant_id is exported. It is used in zomatoWrapper package to fetch reviews for restaurnat."
   ]
  },
  {
   "cell_type": "code",
   "execution_count": null,
   "metadata": {},
   "outputs": [],
   "source": []
  },
  {
   "cell_type": "markdown",
   "metadata": {},
   "source": [
    "## Get reviews for restaurant"
   ]
  },
  {
   "cell_type": "code",
   "execution_count": 45,
   "metadata": {},
   "outputs": [
    {
     "name": "stdout",
     "output_type": "stream",
     "text": [
      "['reviews_restaurant_0_900.json']\n"
     ]
    }
   ],
   "source": [
    "# path to un-processed data\n",
    "path_to_folder = \"raw_data_reviews\"\n",
    "\n",
    "# path to processed data\n",
    "path_to_json = 'processed_data'\n",
    "\n",
    "#looping in the folder \"data\" where the the json files are placed \n",
    "json_files = [pos_json for pos_json in os.listdir(path_to_folder) if pos_json.endswith('.json')] \n",
    "\n",
    "# printing list of json files \n",
    "print (json_files) "
   ]
  },
  {
   "cell_type": "code",
   "execution_count": 62,
   "metadata": {},
   "outputs": [],
   "source": [
    "path=\"\"\n",
    "\n",
    "csvfile=open('review.csv', 'w',newline=\"\")\n",
    "writer=csv.writer(csvfile)  \n",
    "writer.writerow(['restaurant_id','review']) \n",
    "\n",
    "review = []\n",
    "\n",
    "for js in json_files:\n",
    "    with open(os.path.join(path_to_folder, js),'r', encoding='utf-8', errors=\"ignore\") as json_file: #append the path of file to the source folde\n",
    "        loaded_file = json.load(json_file,strict=False) #load the file to be selected\n",
    "        for i in loaded_file.items():\n",
    "            review = i[0]\n",
    "            restaurant_id = i[1]\n",
    "            \n",
    "            writer.writerow([restaurant_id,review])"
   ]
  },
  {
   "cell_type": "code",
   "execution_count": 63,
   "metadata": {},
   "outputs": [
    {
     "data": {
      "text/html": [
       "<div>\n",
       "<style scoped>\n",
       "    .dataframe tbody tr th:only-of-type {\n",
       "        vertical-align: middle;\n",
       "    }\n",
       "\n",
       "    .dataframe tbody tr th {\n",
       "        vertical-align: top;\n",
       "    }\n",
       "\n",
       "    .dataframe thead th {\n",
       "        text-align: right;\n",
       "    }\n",
       "</style>\n",
       "<table border=\"1\" class=\"dataframe\">\n",
       "  <thead>\n",
       "    <tr style=\"text-align: right;\">\n",
       "      <th></th>\n",
       "      <th>restaurant_id</th>\n",
       "      <th>review</th>\n",
       "    </tr>\n",
       "  </thead>\n",
       "  <tbody>\n",
       "    <tr>\n",
       "      <th>0</th>\n",
       "      <td>16668008</td>\n",
       "      <td>i love arigato sushi!!!! the best restaurant i...</td>\n",
       "    </tr>\n",
       "    <tr>\n",
       "      <th>1</th>\n",
       "      <td>16668008</td>\n",
       "      <td>Was in Yorkton on a work trip and decided to t...</td>\n",
       "    </tr>\n",
       "    <tr>\n",
       "      <th>2</th>\n",
       "      <td>16668008</td>\n",
       "      <td>Had a sushi supper last week. The waitress was...</td>\n",
       "    </tr>\n",
       "    <tr>\n",
       "      <th>3</th>\n",
       "      <td>16668008</td>\n",
       "      <td>I was travelling trough and called in my order...</td>\n",
       "    </tr>\n",
       "    <tr>\n",
       "      <th>4</th>\n",
       "      <td>16668008</td>\n",
       "      <td>Delicious Food.. Yorkton isn't exactly known f...</td>\n",
       "    </tr>\n",
       "  </tbody>\n",
       "</table>\n",
       "</div>"
      ],
      "text/plain": [
       "   restaurant_id                                             review\n",
       "0       16668008  i love arigato sushi!!!! the best restaurant i...\n",
       "1       16668008  Was in Yorkton on a work trip and decided to t...\n",
       "2       16668008  Had a sushi supper last week. The waitress was...\n",
       "3       16668008  I was travelling trough and called in my order...\n",
       "4       16668008  Delicious Food.. Yorkton isn't exactly known f..."
      ]
     },
     "execution_count": 63,
     "metadata": {},
     "output_type": "execute_result"
    }
   ],
   "source": [
    "data = pd.read_csv('review.csv')\n",
    "data.head()"
   ]
  },
  {
   "cell_type": "code",
   "execution_count": 66,
   "metadata": {},
   "outputs": [],
   "source": [
    "dd = data.groupby(\"restaurant_id\")['review'].apply(list)"
   ]
  },
  {
   "cell_type": "code",
   "execution_count": 71,
   "metadata": {},
   "outputs": [
    {
     "data": {
      "text/plain": [
       "(840,)"
      ]
     },
     "execution_count": 71,
     "metadata": {},
     "output_type": "execute_result"
    }
   ],
   "source": [
    "dd.shape"
   ]
  },
  {
   "cell_type": "code",
   "execution_count": 72,
   "metadata": {},
   "outputs": [],
   "source": [
    "zomato_1= zomato.head(900)"
   ]
  },
  {
   "cell_type": "code",
   "execution_count": null,
   "metadata": {},
   "outputs": [],
   "source": []
  },
  {
   "cell_type": "code",
   "execution_count": 73,
   "metadata": {},
   "outputs": [
    {
     "data": {
      "text/html": [
       "<div>\n",
       "<style scoped>\n",
       "    .dataframe tbody tr th:only-of-type {\n",
       "        vertical-align: middle;\n",
       "    }\n",
       "\n",
       "    .dataframe tbody tr th {\n",
       "        vertical-align: top;\n",
       "    }\n",
       "\n",
       "    .dataframe thead th {\n",
       "        text-align: right;\n",
       "    }\n",
       "</style>\n",
       "<table border=\"1\" class=\"dataframe\">\n",
       "  <thead>\n",
       "    <tr style=\"text-align: right;\">\n",
       "      <th></th>\n",
       "      <th>restaurant_id</th>\n",
       "      <th>restaurant_name</th>\n",
       "      <th>country_code</th>\n",
       "      <th>city</th>\n",
       "      <th>address</th>\n",
       "      <th>locality</th>\n",
       "      <th>locality_verbose</th>\n",
       "      <th>longitude</th>\n",
       "      <th>latitude</th>\n",
       "      <th>cuisines</th>\n",
       "      <th>...</th>\n",
       "      <th>has_table_booking</th>\n",
       "      <th>has_online_delivery</th>\n",
       "      <th>is_delivering_now</th>\n",
       "      <th>switch_to_orvder_menu</th>\n",
       "      <th>price_range</th>\n",
       "      <th>aggregate_rating</th>\n",
       "      <th>rating_color</th>\n",
       "      <th>rating_text</th>\n",
       "      <th>votes</th>\n",
       "      <th>review</th>\n",
       "    </tr>\n",
       "  </thead>\n",
       "  <tbody>\n",
       "    <tr>\n",
       "      <th>0</th>\n",
       "      <td>16668008</td>\n",
       "      <td>Arigato Sushi</td>\n",
       "      <td>37</td>\n",
       "      <td>Yorkton</td>\n",
       "      <td>14 Second Ave North, Yorkton, SK S3N 1G1</td>\n",
       "      <td>Yorkton</td>\n",
       "      <td>Yorkton, Yorkton</td>\n",
       "      <td>-102.461317</td>\n",
       "      <td>51.210682</td>\n",
       "      <td>Asian</td>\n",
       "      <td>...</td>\n",
       "      <td>0</td>\n",
       "      <td>0</td>\n",
       "      <td>0</td>\n",
       "      <td>0</td>\n",
       "      <td>2</td>\n",
       "      <td>3.3</td>\n",
       "      <td>CDD614</td>\n",
       "      <td>Average</td>\n",
       "      <td>26</td>\n",
       "      <td>[i love arigato sushi!!!! the best restaurant ...</td>\n",
       "    </tr>\n",
       "    <tr>\n",
       "      <th>1</th>\n",
       "      <td>801690</td>\n",
       "      <td>Mocha</td>\n",
       "      <td>1</td>\n",
       "      <td>Lucknow</td>\n",
       "      <td>CP-1, 2nd Floor, Anand Plaza, Viram Khand-1, N...</td>\n",
       "      <td>Gomti Nagar</td>\n",
       "      <td>Gomti Nagar, Lucknow</td>\n",
       "      <td>81.001185</td>\n",
       "      <td>26.852810</td>\n",
       "      <td>Cafe, Italian, Continental</td>\n",
       "      <td>...</td>\n",
       "      <td>0</td>\n",
       "      <td>0</td>\n",
       "      <td>0</td>\n",
       "      <td>0</td>\n",
       "      <td>3</td>\n",
       "      <td>4.6</td>\n",
       "      <td>3F7E00</td>\n",
       "      <td>Excellent</td>\n",
       "      <td>567</td>\n",
       "      <td>[I just Simply love This Place.....It is ideal...</td>\n",
       "    </tr>\n",
       "    <tr>\n",
       "      <th>2</th>\n",
       "      <td>17558738</td>\n",
       "      <td>Blue House Cafe</td>\n",
       "      <td>216</td>\n",
       "      <td>Vernonia</td>\n",
       "      <td>919 Bridge St, Vernonia, OR 97064</td>\n",
       "      <td>Vernonia</td>\n",
       "      <td>Vernonia, Vernonia</td>\n",
       "      <td>-123.195437</td>\n",
       "      <td>45.858667</td>\n",
       "      <td>Coffee and Tea, Mediterranean</td>\n",
       "      <td>...</td>\n",
       "      <td>0</td>\n",
       "      <td>0</td>\n",
       "      <td>0</td>\n",
       "      <td>0</td>\n",
       "      <td>1</td>\n",
       "      <td>4.3</td>\n",
       "      <td>5BA829</td>\n",
       "      <td>Very Good</td>\n",
       "      <td>88</td>\n",
       "      <td>[Delicious. There's not a single dish i've tri...</td>\n",
       "    </tr>\n",
       "    <tr>\n",
       "      <th>3</th>\n",
       "      <td>16611701</td>\n",
       "      <td>Star Buffet</td>\n",
       "      <td>14</td>\n",
       "      <td>Mayfield</td>\n",
       "      <td>58 Hanbury St, Mayfield, NSW</td>\n",
       "      <td>Mayfield</td>\n",
       "      <td>Mayfield, Mayfield</td>\n",
       "      <td>151.734383</td>\n",
       "      <td>-32.899178</td>\n",
       "      <td>Asian</td>\n",
       "      <td>...</td>\n",
       "      <td>0</td>\n",
       "      <td>0</td>\n",
       "      <td>0</td>\n",
       "      <td>0</td>\n",
       "      <td>2</td>\n",
       "      <td>2.9</td>\n",
       "      <td>FFBA00</td>\n",
       "      <td>Average</td>\n",
       "      <td>11</td>\n",
       "      <td>[A lot of food and many varieties, some of the...</td>\n",
       "    </tr>\n",
       "    <tr>\n",
       "      <th>4</th>\n",
       "      <td>2100784</td>\n",
       "      <td>11th Avenue Cafe Bistro</td>\n",
       "      <td>1</td>\n",
       "      <td>Guwahati</td>\n",
       "      <td>Opposite Assam State Museum, Dighalipukhuri, T...</td>\n",
       "      <td>Uzan Bazaar</td>\n",
       "      <td>Uzan Bazaar, Guwahati</td>\n",
       "      <td>91.752314</td>\n",
       "      <td>26.186001</td>\n",
       "      <td>Cafe, American, Italian, Continental</td>\n",
       "      <td>...</td>\n",
       "      <td>0</td>\n",
       "      <td>0</td>\n",
       "      <td>0</td>\n",
       "      <td>0</td>\n",
       "      <td>2</td>\n",
       "      <td>4.1</td>\n",
       "      <td>5BA829</td>\n",
       "      <td>Very Good</td>\n",
       "      <td>377</td>\n",
       "      <td>[11th avenue cafe has always been my favorite....</td>\n",
       "    </tr>\n",
       "  </tbody>\n",
       "</table>\n",
       "<p>5 rows × 21 columns</p>\n",
       "</div>"
      ],
      "text/plain": [
       "   restaurant_id          restaurant_name  country_code      city  \\\n",
       "0       16668008            Arigato Sushi            37   Yorkton   \n",
       "1         801690                    Mocha             1   Lucknow   \n",
       "2       17558738          Blue House Cafe           216  Vernonia   \n",
       "3       16611701              Star Buffet            14  Mayfield   \n",
       "4        2100784  11th Avenue Cafe Bistro             1  Guwahati   \n",
       "\n",
       "                                             address     locality  \\\n",
       "0           14 Second Ave North, Yorkton, SK S3N 1G1      Yorkton   \n",
       "1  CP-1, 2nd Floor, Anand Plaza, Viram Khand-1, N...  Gomti Nagar   \n",
       "2                  919 Bridge St, Vernonia, OR 97064     Vernonia   \n",
       "3                       58 Hanbury St, Mayfield, NSW     Mayfield   \n",
       "4  Opposite Assam State Museum, Dighalipukhuri, T...  Uzan Bazaar   \n",
       "\n",
       "        locality_verbose   longitude   latitude  \\\n",
       "0       Yorkton, Yorkton -102.461317  51.210682   \n",
       "1   Gomti Nagar, Lucknow   81.001185  26.852810   \n",
       "2     Vernonia, Vernonia -123.195437  45.858667   \n",
       "3     Mayfield, Mayfield  151.734383 -32.899178   \n",
       "4  Uzan Bazaar, Guwahati   91.752314  26.186001   \n",
       "\n",
       "                               cuisines  ...  has_table_booking  \\\n",
       "0                                 Asian  ...                  0   \n",
       "1            Cafe, Italian, Continental  ...                  0   \n",
       "2         Coffee and Tea, Mediterranean  ...                  0   \n",
       "3                                 Asian  ...                  0   \n",
       "4  Cafe, American, Italian, Continental  ...                  0   \n",
       "\n",
       "   has_online_delivery  is_delivering_now  switch_to_orvder_menu  price_range  \\\n",
       "0                    0                  0                      0            2   \n",
       "1                    0                  0                      0            3   \n",
       "2                    0                  0                      0            1   \n",
       "3                    0                  0                      0            2   \n",
       "4                    0                  0                      0            2   \n",
       "\n",
       "   aggregate_rating  rating_color rating_text votes  \\\n",
       "0               3.3        CDD614     Average    26   \n",
       "1               4.6        3F7E00   Excellent   567   \n",
       "2               4.3        5BA829   Very Good    88   \n",
       "3               2.9        FFBA00     Average    11   \n",
       "4               4.1        5BA829   Very Good   377   \n",
       "\n",
       "                                              review  \n",
       "0  [i love arigato sushi!!!! the best restaurant ...  \n",
       "1  [I just Simply love This Place.....It is ideal...  \n",
       "2  [Delicious. There's not a single dish i've tri...  \n",
       "3  [A lot of food and many varieties, some of the...  \n",
       "4  [11th avenue cafe has always been my favorite....  \n",
       "\n",
       "[5 rows x 21 columns]"
      ]
     },
     "execution_count": 73,
     "metadata": {},
     "output_type": "execute_result"
    }
   ],
   "source": [
    "df_merge_col = pd.merge(zomato_1,dd , on='restaurant_id')\n",
    "df_merge_col.head()"
   ]
  },
  {
   "cell_type": "markdown",
   "metadata": {},
   "source": [
    "### Saving merged dataframe to csv"
   ]
  },
  {
   "cell_type": "code",
   "execution_count": 75,
   "metadata": {},
   "outputs": [],
   "source": [
    "df_merge_col.to_csv(os.path.join(path_to_json,'zomato_final.csv'), encoding='utf-8', index=False)"
   ]
  },
  {
   "cell_type": "code",
   "execution_count": 79,
   "metadata": {},
   "outputs": [
    {
     "data": {
      "text/plain": [
       "(840, 21)"
      ]
     },
     "execution_count": 79,
     "metadata": {},
     "output_type": "execute_result"
    }
   ],
   "source": [
    "df_merge_col.shape"
   ]
  },
  {
   "cell_type": "code",
   "execution_count": null,
   "metadata": {},
   "outputs": [],
   "source": []
  },
  {
   "cell_type": "code",
   "execution_count": null,
   "metadata": {},
   "outputs": [],
   "source": []
  }
 ],
 "metadata": {
  "kernelspec": {
   "display_name": "Python 3",
   "language": "python",
   "name": "python3"
  },
  "language_info": {
   "codemirror_mode": {
    "name": "ipython",
    "version": 3
   },
   "file_extension": ".py",
   "mimetype": "text/x-python",
   "name": "python",
   "nbconvert_exporter": "python",
   "pygments_lexer": "ipython3",
   "version": "3.7.6"
  }
 },
 "nbformat": 4,
 "nbformat_minor": 4
}
