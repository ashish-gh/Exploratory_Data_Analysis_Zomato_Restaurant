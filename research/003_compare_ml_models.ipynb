{
  "nbformat": 4,
  "nbformat_minor": 0,
  "metadata": {
    "kernelspec": {
      "display_name": "Python 3",
      "language": "python",
      "name": "python3"
    },
    "language_info": {
      "codemirror_mode": {
        "name": "ipython",
        "version": 3
      },
      "file_extension": ".py",
      "mimetype": "text/x-python",
      "name": "python",
      "nbconvert_exporter": "python",
      "pygments_lexer": "ipython3",
      "version": "3.7.6"
    },
    "colab": {
      "name": "compare_models.ipynb",
      "provenance": [],
      "collapsed_sections": []
    },
    "accelerator": "GPU"
  },
  "cells": [
    {
      "cell_type": "code",
      "metadata": {
        "id": "npDXCwTy2TDn",
        "colab_type": "code",
        "colab": {}
      },
      "source": [
        "import pandas as pd\n",
        "import numpy as np\n",
        "\n",
        "#%matplotlib notebook\n",
        "%matplotlib inline\n",
        "\n",
        "import warnings\n",
        "warnings.filterwarnings('ignore')\n",
        "\n",
        "from sklearn.linear_model import LinearRegression\n",
        "from sklearn import linear_model\n",
        "from sklearn.ensemble import RandomForestRegressor\n",
        "from sklearn.preprocessing import OneHotEncoder\n",
        "from sklearn.model_selection import train_test_split\n",
        "from sklearn.metrics import  make_scorer\n",
        "from sklearn.model_selection import GridSearchCV\n",
        "from sklearn import metrics\n",
        "\n",
        "# \n",
        "from sklearn.feature_extraction.text import CountVectorizer\n",
        "\n",
        "# \n",
        "import random\n",
        "from xgboost import XGBClassifier\n",
        "from sklearn.ensemble import RandomForestRegressor\n",
        "\n",
        "# \n",
        "from keras.preprocessing.text import Tokenizer\n",
        "from keras.preprocessing.sequence import pad_sequences\n",
        "from keras.layers import Input, Embedding, Flatten, LSTM, Dense, Dropout\n",
        "from keras.models import Sequential, Model\n",
        "from keras.utils import plot_model\n"
      ],
      "execution_count": 0,
      "outputs": []
    },
    {
      "cell_type": "markdown",
      "metadata": {
        "id": "TZBAHxuUmF5f",
        "colab_type": "text"
      },
      "source": [
        "## 1. Load data"
      ]
    },
    {
      "cell_type": "code",
      "metadata": {
        "id": "SQZghdi-j-XY",
        "colab_type": "code",
        "colab": {
          "base_uri": "https://localhost:8080/",
          "height": 191
        },
        "outputId": "274e5a6e-58c1-4eac-90e2-989469f0fc35"
      },
      "source": [
        "#importing clean text \n",
        "data = pd.read_csv('preprocessed_data.csv')\n",
        "data.head()"
      ],
      "execution_count": 3,
      "outputs": [
        {
          "output_type": "execute_result",
          "data": {
            "text/html": [
              "<div>\n",
              "<style scoped>\n",
              "    .dataframe tbody tr th:only-of-type {\n",
              "        vertical-align: middle;\n",
              "    }\n",
              "\n",
              "    .dataframe tbody tr th {\n",
              "        vertical-align: top;\n",
              "    }\n",
              "\n",
              "    .dataframe thead th {\n",
              "        text-align: right;\n",
              "    }\n",
              "</style>\n",
              "<table border=\"1\" class=\"dataframe\">\n",
              "  <thead>\n",
              "    <tr style=\"text-align: right;\">\n",
              "      <th></th>\n",
              "      <th>city</th>\n",
              "      <th>average_cost_for_two</th>\n",
              "      <th>has_table_booking</th>\n",
              "      <th>has_online_delivery</th>\n",
              "      <th>is_delivering_now</th>\n",
              "      <th>aggregate_rating</th>\n",
              "      <th>votes</th>\n",
              "      <th>review</th>\n",
              "      <th>word_count</th>\n",
              "    </tr>\n",
              "  </thead>\n",
              "  <tbody>\n",
              "    <tr>\n",
              "      <th>0</th>\n",
              "      <td>Yorkton</td>\n",
              "      <td>25</td>\n",
              "      <td>0</td>\n",
              "      <td>0</td>\n",
              "      <td>0</td>\n",
              "      <td>3.3</td>\n",
              "      <td>26</td>\n",
              "      <td>love arigato sushi best restaurant yorkton alw...</td>\n",
              "      <td>247</td>\n",
              "    </tr>\n",
              "    <tr>\n",
              "      <th>1</th>\n",
              "      <td>Lucknow</td>\n",
              "      <td>800</td>\n",
              "      <td>0</td>\n",
              "      <td>0</td>\n",
              "      <td>0</td>\n",
              "      <td>4.6</td>\n",
              "      <td>567</td>\n",
              "      <td>simply love placeit ideal breakfastlunchdinner...</td>\n",
              "      <td>99</td>\n",
              "    </tr>\n",
              "    <tr>\n",
              "      <th>2</th>\n",
              "      <td>Vernonia</td>\n",
              "      <td>10</td>\n",
              "      <td>0</td>\n",
              "      <td>0</td>\n",
              "      <td>0</td>\n",
              "      <td>4.3</td>\n",
              "      <td>88</td>\n",
              "      <td>delicious theres single dish ive tried blue ho...</td>\n",
              "      <td>55</td>\n",
              "    </tr>\n",
              "    <tr>\n",
              "      <th>3</th>\n",
              "      <td>Mayfield</td>\n",
              "      <td>20</td>\n",
              "      <td>0</td>\n",
              "      <td>0</td>\n",
              "      <td>0</td>\n",
              "      <td>2.9</td>\n",
              "      <td>11</td>\n",
              "      <td>lot food many varieties sushi fresh love many ...</td>\n",
              "      <td>306</td>\n",
              "    </tr>\n",
              "    <tr>\n",
              "      <th>4</th>\n",
              "      <td>Guwahati</td>\n",
              "      <td>400</td>\n",
              "      <td>0</td>\n",
              "      <td>0</td>\n",
              "      <td>0</td>\n",
              "      <td>4.1</td>\n",
              "      <td>377</td>\n",
              "      <td>th avenue cafe always favoriteloved cheesy mea...</td>\n",
              "      <td>48</td>\n",
              "    </tr>\n",
              "  </tbody>\n",
              "</table>\n",
              "</div>"
            ],
            "text/plain": [
              "       city  ...  word_count\n",
              "0   Yorkton  ...         247\n",
              "1   Lucknow  ...          99\n",
              "2  Vernonia  ...          55\n",
              "3  Mayfield  ...         306\n",
              "4  Guwahati  ...          48\n",
              "\n",
              "[5 rows x 9 columns]"
            ]
          },
          "metadata": {
            "tags": []
          },
          "execution_count": 3
        }
      ]
    },
    {
      "cell_type": "markdown",
      "metadata": {
        "id": "n4nS21v6LXcL",
        "colab_type": "text"
      },
      "source": [
        "## 2. Models"
      ]
    },
    {
      "cell_type": "markdown",
      "metadata": {
        "id": "umwhMjLJQulg",
        "colab_type": "text"
      },
      "source": [
        "### 3.1 Converting to dummy variables"
      ]
    },
    {
      "cell_type": "code",
      "metadata": {
        "id": "9ShUOFtkO0ex",
        "colab_type": "code",
        "outputId": "604789a7-0ea3-4e66-c286-230a7180efba",
        "colab": {
          "base_uri": "https://localhost:8080/",
          "height": 191
        }
      },
      "source": [
        "# pd.get_dummies ==> Convert categorical variable into dummy/indicator variables.(OneHot encoding)\n",
        "\n",
        "data['has_table_booking']= pd.get_dummies(data.has_table_booking, drop_first=True)\n",
        "data['has_table_booking']= pd.get_dummies(data.has_table_booking, drop_first=True)\n",
        "data['is_delivering_now']= pd.get_dummies(data.is_delivering_now, drop_first=True)\n",
        "\n",
        "data.head() "
      ],
      "execution_count": 4,
      "outputs": [
        {
          "output_type": "execute_result",
          "data": {
            "text/html": [
              "<div>\n",
              "<style scoped>\n",
              "    .dataframe tbody tr th:only-of-type {\n",
              "        vertical-align: middle;\n",
              "    }\n",
              "\n",
              "    .dataframe tbody tr th {\n",
              "        vertical-align: top;\n",
              "    }\n",
              "\n",
              "    .dataframe thead th {\n",
              "        text-align: right;\n",
              "    }\n",
              "</style>\n",
              "<table border=\"1\" class=\"dataframe\">\n",
              "  <thead>\n",
              "    <tr style=\"text-align: right;\">\n",
              "      <th></th>\n",
              "      <th>city</th>\n",
              "      <th>average_cost_for_two</th>\n",
              "      <th>has_table_booking</th>\n",
              "      <th>has_online_delivery</th>\n",
              "      <th>is_delivering_now</th>\n",
              "      <th>aggregate_rating</th>\n",
              "      <th>votes</th>\n",
              "      <th>review</th>\n",
              "      <th>word_count</th>\n",
              "    </tr>\n",
              "  </thead>\n",
              "  <tbody>\n",
              "    <tr>\n",
              "      <th>0</th>\n",
              "      <td>Yorkton</td>\n",
              "      <td>25</td>\n",
              "      <td>0</td>\n",
              "      <td>0</td>\n",
              "      <td>0</td>\n",
              "      <td>3.3</td>\n",
              "      <td>26</td>\n",
              "      <td>love arigato sushi best restaurant yorkton alw...</td>\n",
              "      <td>247</td>\n",
              "    </tr>\n",
              "    <tr>\n",
              "      <th>1</th>\n",
              "      <td>Lucknow</td>\n",
              "      <td>800</td>\n",
              "      <td>0</td>\n",
              "      <td>0</td>\n",
              "      <td>0</td>\n",
              "      <td>4.6</td>\n",
              "      <td>567</td>\n",
              "      <td>simply love placeit ideal breakfastlunchdinner...</td>\n",
              "      <td>99</td>\n",
              "    </tr>\n",
              "    <tr>\n",
              "      <th>2</th>\n",
              "      <td>Vernonia</td>\n",
              "      <td>10</td>\n",
              "      <td>0</td>\n",
              "      <td>0</td>\n",
              "      <td>0</td>\n",
              "      <td>4.3</td>\n",
              "      <td>88</td>\n",
              "      <td>delicious theres single dish ive tried blue ho...</td>\n",
              "      <td>55</td>\n",
              "    </tr>\n",
              "    <tr>\n",
              "      <th>3</th>\n",
              "      <td>Mayfield</td>\n",
              "      <td>20</td>\n",
              "      <td>0</td>\n",
              "      <td>0</td>\n",
              "      <td>0</td>\n",
              "      <td>2.9</td>\n",
              "      <td>11</td>\n",
              "      <td>lot food many varieties sushi fresh love many ...</td>\n",
              "      <td>306</td>\n",
              "    </tr>\n",
              "    <tr>\n",
              "      <th>4</th>\n",
              "      <td>Guwahati</td>\n",
              "      <td>400</td>\n",
              "      <td>0</td>\n",
              "      <td>0</td>\n",
              "      <td>0</td>\n",
              "      <td>4.1</td>\n",
              "      <td>377</td>\n",
              "      <td>th avenue cafe always favoriteloved cheesy mea...</td>\n",
              "      <td>48</td>\n",
              "    </tr>\n",
              "  </tbody>\n",
              "</table>\n",
              "</div>"
            ],
            "text/plain": [
              "       city  ...  word_count\n",
              "0   Yorkton  ...         247\n",
              "1   Lucknow  ...          99\n",
              "2  Vernonia  ...          55\n",
              "3  Mayfield  ...         306\n",
              "4  Guwahati  ...          48\n",
              "\n",
              "[5 rows x 9 columns]"
            ]
          },
          "metadata": {
            "tags": []
          },
          "execution_count": 4
        }
      ]
    },
    {
      "cell_type": "code",
      "metadata": {
        "id": "3pNNwjwKQ9D3",
        "colab_type": "code",
        "colab": {}
      },
      "source": [
        "# #  cuisines converted to categorical features\n",
        "# data['cuisines'] = data['cuisines'].astype(str).apply(lambda x: ' '.join(sorted(x.split())))\n",
        "# data['cuisines'].value_counts().head()"
      ],
      "execution_count": 0,
      "outputs": []
    },
    {
      "cell_type": "code",
      "metadata": {
        "id": "3m38kylnRwUI",
        "colab_type": "code",
        "colab": {}
      },
      "source": [
        "data = data.rename(columns={\n",
        "    'average_cost_for_two':'average_cost',\n",
        "    'aggregate_rating':'rate'\n",
        "    })"
      ],
      "execution_count": 0,
      "outputs": []
    },
    {
      "cell_type": "markdown",
      "metadata": {
        "id": "WPexY0_0T4I6",
        "colab_type": "text"
      },
      "source": [
        "## 3.2 Splitting data for Model Building"
      ]
    },
    {
      "cell_type": "code",
      "metadata": {
        "id": "hW04NojYRy4B",
        "colab_type": "code",
        "colab": {}
      },
      "source": [
        "# build x & y dataset\n",
        "x = data.drop(['aggregate_rating'],axis = 1)\n",
        "y = data['aggregate_rating']"
      ],
      "execution_count": 0,
      "outputs": []
    },
    {
      "cell_type": "code",
      "metadata": {
        "id": "CCvf6ebfUWBV",
        "colab_type": "code",
        "outputId": "77d57613-6786-4888-e8de-dde68cd2c94c",
        "colab": {
          "base_uri": "https://localhost:8080/",
          "height": 33
        }
      },
      "source": [
        "x.shape, y.shape"
      ],
      "execution_count": 8,
      "outputs": [
        {
          "output_type": "execute_result",
          "data": {
            "text/plain": [
              "((840, 8), (840,))"
            ]
          },
          "metadata": {
            "tags": []
          },
          "execution_count": 8
        }
      ]
    },
    {
      "cell_type": "code",
      "metadata": {
        "id": "t9peI-ZiUyEJ",
        "colab_type": "code",
        "colab": {}
      },
      "source": [
        "from sklearn.model_selection import train_test_split\n",
        "X_train,X_test,y_train,y_test = train_test_split(x,y,test_size = 0.3,random_state = 33)"
      ],
      "execution_count": 0,
      "outputs": []
    },
    {
      "cell_type": "code",
      "metadata": {
        "id": "URBmX1hlUz0J",
        "colab_type": "code",
        "outputId": "c12a11d8-9822-4ac5-a742-d07330b64f52",
        "colab": {
          "base_uri": "https://localhost:8080/",
          "height": 33
        }
      },
      "source": [
        "X_train.shape, X_test.shape, y_train.shape, y_test.shape"
      ],
      "execution_count": 10,
      "outputs": [
        {
          "output_type": "execute_result",
          "data": {
            "text/plain": [
              "((588, 8), (252, 8), (588,), (252,))"
            ]
          },
          "metadata": {
            "tags": []
          },
          "execution_count": 10
        }
      ]
    },
    {
      "cell_type": "code",
      "metadata": {
        "id": "KWf6RHVRU0-e",
        "colab_type": "code",
        "colab": {}
      },
      "source": [
        "# One hot encoder\n",
        "enc = OneHotEncoder( handle_unknown='ignore')"
      ],
      "execution_count": 0,
      "outputs": []
    },
    {
      "cell_type": "code",
      "metadata": {
        "id": "BhHiqkAjU6dT",
        "colab_type": "code",
        "colab": {}
      },
      "source": [
        "## ALWAYS AVOID DATA LEAKAGE\n",
        "\n",
        "# this method is for training data set\n",
        "def one_hot_fit_transform(df,name):\n",
        "    output_data = df[name].values.reshape(-1, 1)\n",
        "    return enc.fit_transform(output_data).toarray()\n",
        "\n",
        "# this method is for test data set\n",
        "def one_hot_transform(df,name):\n",
        "    output_data1 = df[name].values.reshape(-1, 1)\n",
        "    return enc.transform(output_data1).toarray()"
      ],
      "execution_count": 0,
      "outputs": []
    },
    {
      "cell_type": "code",
      "metadata": {
        "id": "au1_aY9UU9h8",
        "colab_type": "code",
        "colab": {}
      },
      "source": [
        "# one hot encoding apply to  features on train/test dataset\n",
        "tr_dummy_rating_text = one_hot_fit_transform(X_train,'review' )\n",
        "te_dummy_rating_text = one_hot_transform(X_test,'review' )\n",
        "\n",
        "# one hot encoding apply to 'city' features on train/test dataset\n",
        "tr_dummy_city = one_hot_fit_transform(X_train,'city' )\n",
        "te_dummy_city= one_hot_transform(X_test,'city')\n",
        "\n",
        "# one hot encoding apply to 'cuisines' features on train/test dataset\n",
        "# tr_dummy_cuisines = one_hot_fit_transform(X_train,'cuisines' )\n",
        "# te_dummy_cuisines = one_hot_transform(X_test,'cuisines')"
      ],
      "execution_count": 0,
      "outputs": []
    },
    {
      "cell_type": "code",
      "metadata": {
        "id": "gJBr1-9vVaX7",
        "colab_type": "code",
        "outputId": "e71be4fa-7eb6-42c8-88d7-b8c80a76bd09",
        "colab": {
          "base_uri": "https://localhost:8080/",
          "height": 33
        }
      },
      "source": [
        "tr_dummy_rating_text.shape, te_dummy_rating_text.shape"
      ],
      "execution_count": 15,
      "outputs": [
        {
          "output_type": "execute_result",
          "data": {
            "text/plain": [
              "((588, 588), (252, 588))"
            ]
          },
          "metadata": {
            "tags": []
          },
          "execution_count": 15
        }
      ]
    },
    {
      "cell_type": "code",
      "metadata": {
        "id": "_5gyvE9rVhwP",
        "colab_type": "code",
        "outputId": "5d7bd1a5-b62c-43b5-92ff-cb2b182e3e78",
        "colab": {
          "base_uri": "https://localhost:8080/",
          "height": 33
        }
      },
      "source": [
        "tr_dummy_city.shape, te_dummy_city.shape"
      ],
      "execution_count": 17,
      "outputs": [
        {
          "output_type": "execute_result",
          "data": {
            "text/plain": [
              "((588, 17), (252, 17))"
            ]
          },
          "metadata": {
            "tags": []
          },
          "execution_count": 17
        }
      ]
    },
    {
      "cell_type": "code",
      "metadata": {
        "id": "TpYqTZiSVjAf",
        "colab_type": "code",
        "outputId": "c86eed2c-76a0-4d6a-ad2d-1125b3b21dcd",
        "colab": {
          "base_uri": "https://localhost:8080/",
          "height": 33
        }
      },
      "source": [
        "## combine all 'one-hot' encoded features as Tr.\n",
        "tr =pd.DataFrame(pd.np.column_stack([ tr_dummy_rating_text,tr_dummy_city]))\n",
        "\n",
        "l1=X_train.values.tolist()\n",
        "l2=tr.values.tolist()\n",
        "\n",
        "for i in range(len(l1)):\n",
        "    l1[i].extend(l2[i])\n",
        "\n",
        "X_train=pd.DataFrame(l1,columns=X_train.columns.tolist()+tr.columns.tolist())\n",
        "X_train.shape"
      ],
      "execution_count": 18,
      "outputs": [
        {
          "output_type": "execute_result",
          "data": {
            "text/plain": [
              "(588, 613)"
            ]
          },
          "metadata": {
            "tags": []
          },
          "execution_count": 18
        }
      ]
    },
    {
      "cell_type": "code",
      "metadata": {
        "id": "6N8jqjIIVoVi",
        "colab_type": "code",
        "outputId": "d8c5664c-1c46-46d8-8aaf-8a5712048ddf",
        "colab": {
          "base_uri": "https://localhost:8080/",
          "height": 33
        }
      },
      "source": [
        "## combine all 'one-hot' encoded features as Te.\n",
        "te =pd.DataFrame(pd.np.column_stack([ te_dummy_rating_text,te_dummy_city]))\n",
        "\n",
        "l3=X_test.values.tolist()\n",
        "l4=te.values.tolist()\n",
        "for i in range(len(l3)):\n",
        "    l3[i].extend(l4[i])\n",
        "\n",
        "X_test=pd.DataFrame(l3,columns=X_test.columns.tolist()+te.columns.tolist())\n",
        "X_test.shape"
      ],
      "execution_count": 19,
      "outputs": [
        {
          "output_type": "execute_result",
          "data": {
            "text/plain": [
              "(252, 613)"
            ]
          },
          "metadata": {
            "tags": []
          },
          "execution_count": 19
        }
      ]
    },
    {
      "cell_type": "code",
      "metadata": {
        "id": "0O9bWvn0VsEq",
        "colab_type": "code",
        "colab": {}
      },
      "source": [
        "# after onehot encoding DONE. 'city',''review' are redundant features. REMOVE them.\n",
        "\n",
        "X_train =X_train.drop(['city','review'],axis = 1)\n",
        "X_test =X_test.drop(['city','review'],axis = 1)"
      ],
      "execution_count": 0,
      "outputs": []
    },
    {
      "cell_type": "code",
      "metadata": {
        "id": "7X-RatjNVxVF",
        "colab_type": "code",
        "outputId": "2eda2a9f-6bb4-411c-bf6e-1ee49643cdd5",
        "colab": {
          "base_uri": "https://localhost:8080/",
          "height": 152
        }
      },
      "source": [
        "X_train.head(2)"
      ],
      "execution_count": 21,
      "outputs": [
        {
          "output_type": "execute_result",
          "data": {
            "text/html": [
              "<div>\n",
              "<style scoped>\n",
              "    .dataframe tbody tr th:only-of-type {\n",
              "        vertical-align: middle;\n",
              "    }\n",
              "\n",
              "    .dataframe tbody tr th {\n",
              "        vertical-align: top;\n",
              "    }\n",
              "\n",
              "    .dataframe thead th {\n",
              "        text-align: right;\n",
              "    }\n",
              "</style>\n",
              "<table border=\"1\" class=\"dataframe\">\n",
              "  <thead>\n",
              "    <tr style=\"text-align: right;\">\n",
              "      <th></th>\n",
              "      <th>average_cost_for_two</th>\n",
              "      <th>has_table_booking</th>\n",
              "      <th>has_online_delivery</th>\n",
              "      <th>is_delivering_now</th>\n",
              "      <th>votes</th>\n",
              "      <th>word_count</th>\n",
              "      <th>0</th>\n",
              "      <th>1</th>\n",
              "      <th>2</th>\n",
              "      <th>3</th>\n",
              "      <th>4</th>\n",
              "      <th>5</th>\n",
              "      <th>6</th>\n",
              "      <th>7</th>\n",
              "      <th>8</th>\n",
              "      <th>9</th>\n",
              "      <th>10</th>\n",
              "      <th>11</th>\n",
              "      <th>12</th>\n",
              "      <th>13</th>\n",
              "      <th>14</th>\n",
              "      <th>15</th>\n",
              "      <th>16</th>\n",
              "      <th>17</th>\n",
              "      <th>18</th>\n",
              "      <th>19</th>\n",
              "      <th>20</th>\n",
              "      <th>21</th>\n",
              "      <th>22</th>\n",
              "      <th>23</th>\n",
              "      <th>24</th>\n",
              "      <th>25</th>\n",
              "      <th>26</th>\n",
              "      <th>27</th>\n",
              "      <th>28</th>\n",
              "      <th>29</th>\n",
              "      <th>30</th>\n",
              "      <th>31</th>\n",
              "      <th>32</th>\n",
              "      <th>33</th>\n",
              "      <th>...</th>\n",
              "      <th>565</th>\n",
              "      <th>566</th>\n",
              "      <th>567</th>\n",
              "      <th>568</th>\n",
              "      <th>569</th>\n",
              "      <th>570</th>\n",
              "      <th>571</th>\n",
              "      <th>572</th>\n",
              "      <th>573</th>\n",
              "      <th>574</th>\n",
              "      <th>575</th>\n",
              "      <th>576</th>\n",
              "      <th>577</th>\n",
              "      <th>578</th>\n",
              "      <th>579</th>\n",
              "      <th>580</th>\n",
              "      <th>581</th>\n",
              "      <th>582</th>\n",
              "      <th>583</th>\n",
              "      <th>584</th>\n",
              "      <th>585</th>\n",
              "      <th>586</th>\n",
              "      <th>587</th>\n",
              "      <th>588</th>\n",
              "      <th>589</th>\n",
              "      <th>590</th>\n",
              "      <th>591</th>\n",
              "      <th>592</th>\n",
              "      <th>593</th>\n",
              "      <th>594</th>\n",
              "      <th>595</th>\n",
              "      <th>596</th>\n",
              "      <th>597</th>\n",
              "      <th>598</th>\n",
              "      <th>599</th>\n",
              "      <th>600</th>\n",
              "      <th>601</th>\n",
              "      <th>602</th>\n",
              "      <th>603</th>\n",
              "      <th>604</th>\n",
              "    </tr>\n",
              "  </thead>\n",
              "  <tbody>\n",
              "    <tr>\n",
              "      <th>0</th>\n",
              "      <td>550</td>\n",
              "      <td>0</td>\n",
              "      <td>1</td>\n",
              "      <td>0</td>\n",
              "      <td>21</td>\n",
              "      <td>97</td>\n",
              "      <td>0.0</td>\n",
              "      <td>0.0</td>\n",
              "      <td>0.0</td>\n",
              "      <td>0.0</td>\n",
              "      <td>0.0</td>\n",
              "      <td>0.0</td>\n",
              "      <td>0.0</td>\n",
              "      <td>0.0</td>\n",
              "      <td>0.0</td>\n",
              "      <td>0.0</td>\n",
              "      <td>0.0</td>\n",
              "      <td>0.0</td>\n",
              "      <td>0.0</td>\n",
              "      <td>0.0</td>\n",
              "      <td>0.0</td>\n",
              "      <td>0.0</td>\n",
              "      <td>0.0</td>\n",
              "      <td>0.0</td>\n",
              "      <td>0.0</td>\n",
              "      <td>0.0</td>\n",
              "      <td>0.0</td>\n",
              "      <td>0.0</td>\n",
              "      <td>0.0</td>\n",
              "      <td>0.0</td>\n",
              "      <td>0.0</td>\n",
              "      <td>0.0</td>\n",
              "      <td>0.0</td>\n",
              "      <td>0.0</td>\n",
              "      <td>0.0</td>\n",
              "      <td>0.0</td>\n",
              "      <td>0.0</td>\n",
              "      <td>0.0</td>\n",
              "      <td>0.0</td>\n",
              "      <td>0.0</td>\n",
              "      <td>...</td>\n",
              "      <td>0.0</td>\n",
              "      <td>0.0</td>\n",
              "      <td>0.0</td>\n",
              "      <td>0.0</td>\n",
              "      <td>0.0</td>\n",
              "      <td>0.0</td>\n",
              "      <td>0.0</td>\n",
              "      <td>0.0</td>\n",
              "      <td>0.0</td>\n",
              "      <td>0.0</td>\n",
              "      <td>0.0</td>\n",
              "      <td>0.0</td>\n",
              "      <td>0.0</td>\n",
              "      <td>0.0</td>\n",
              "      <td>0.0</td>\n",
              "      <td>0.0</td>\n",
              "      <td>0.0</td>\n",
              "      <td>0.0</td>\n",
              "      <td>0.0</td>\n",
              "      <td>0.0</td>\n",
              "      <td>0.0</td>\n",
              "      <td>0.0</td>\n",
              "      <td>0.0</td>\n",
              "      <td>0.0</td>\n",
              "      <td>0.0</td>\n",
              "      <td>0.0</td>\n",
              "      <td>0.0</td>\n",
              "      <td>0.0</td>\n",
              "      <td>0.0</td>\n",
              "      <td>0.0</td>\n",
              "      <td>1.0</td>\n",
              "      <td>0.0</td>\n",
              "      <td>0.0</td>\n",
              "      <td>0.0</td>\n",
              "      <td>0.0</td>\n",
              "      <td>0.0</td>\n",
              "      <td>0.0</td>\n",
              "      <td>0.0</td>\n",
              "      <td>0.0</td>\n",
              "      <td>0.0</td>\n",
              "    </tr>\n",
              "    <tr>\n",
              "      <th>1</th>\n",
              "      <td>500</td>\n",
              "      <td>0</td>\n",
              "      <td>1</td>\n",
              "      <td>0</td>\n",
              "      <td>167</td>\n",
              "      <td>65</td>\n",
              "      <td>0.0</td>\n",
              "      <td>0.0</td>\n",
              "      <td>0.0</td>\n",
              "      <td>0.0</td>\n",
              "      <td>0.0</td>\n",
              "      <td>0.0</td>\n",
              "      <td>0.0</td>\n",
              "      <td>0.0</td>\n",
              "      <td>0.0</td>\n",
              "      <td>0.0</td>\n",
              "      <td>0.0</td>\n",
              "      <td>0.0</td>\n",
              "      <td>0.0</td>\n",
              "      <td>0.0</td>\n",
              "      <td>0.0</td>\n",
              "      <td>0.0</td>\n",
              "      <td>0.0</td>\n",
              "      <td>0.0</td>\n",
              "      <td>0.0</td>\n",
              "      <td>0.0</td>\n",
              "      <td>0.0</td>\n",
              "      <td>0.0</td>\n",
              "      <td>0.0</td>\n",
              "      <td>0.0</td>\n",
              "      <td>0.0</td>\n",
              "      <td>0.0</td>\n",
              "      <td>0.0</td>\n",
              "      <td>0.0</td>\n",
              "      <td>0.0</td>\n",
              "      <td>0.0</td>\n",
              "      <td>0.0</td>\n",
              "      <td>0.0</td>\n",
              "      <td>0.0</td>\n",
              "      <td>0.0</td>\n",
              "      <td>...</td>\n",
              "      <td>0.0</td>\n",
              "      <td>0.0</td>\n",
              "      <td>0.0</td>\n",
              "      <td>0.0</td>\n",
              "      <td>0.0</td>\n",
              "      <td>0.0</td>\n",
              "      <td>0.0</td>\n",
              "      <td>0.0</td>\n",
              "      <td>0.0</td>\n",
              "      <td>0.0</td>\n",
              "      <td>0.0</td>\n",
              "      <td>0.0</td>\n",
              "      <td>0.0</td>\n",
              "      <td>0.0</td>\n",
              "      <td>0.0</td>\n",
              "      <td>0.0</td>\n",
              "      <td>0.0</td>\n",
              "      <td>0.0</td>\n",
              "      <td>0.0</td>\n",
              "      <td>0.0</td>\n",
              "      <td>0.0</td>\n",
              "      <td>0.0</td>\n",
              "      <td>0.0</td>\n",
              "      <td>0.0</td>\n",
              "      <td>0.0</td>\n",
              "      <td>0.0</td>\n",
              "      <td>0.0</td>\n",
              "      <td>0.0</td>\n",
              "      <td>0.0</td>\n",
              "      <td>0.0</td>\n",
              "      <td>1.0</td>\n",
              "      <td>0.0</td>\n",
              "      <td>0.0</td>\n",
              "      <td>0.0</td>\n",
              "      <td>0.0</td>\n",
              "      <td>0.0</td>\n",
              "      <td>0.0</td>\n",
              "      <td>0.0</td>\n",
              "      <td>0.0</td>\n",
              "      <td>0.0</td>\n",
              "    </tr>\n",
              "  </tbody>\n",
              "</table>\n",
              "<p>2 rows × 611 columns</p>\n",
              "</div>"
            ],
            "text/plain": [
              "   average_cost_for_two  has_table_booking  has_online_delivery  ...  602  603  604\n",
              "0                   550                  0                    1  ...  0.0  0.0  0.0\n",
              "1                   500                  0                    1  ...  0.0  0.0  0.0\n",
              "\n",
              "[2 rows x 611 columns]"
            ]
          },
          "metadata": {
            "tags": []
          },
          "execution_count": 21
        }
      ]
    },
    {
      "cell_type": "code",
      "metadata": {
        "id": "CWoJZunlWrFX",
        "colab_type": "code",
        "outputId": "620a7c00-e286-4a6c-d87e-39e2e379bac7",
        "colab": {
          "base_uri": "https://localhost:8080/",
          "height": 33
        }
      },
      "source": [
        "X_train.shape, X_test.shape, y_train.shape, y_test.shape"
      ],
      "execution_count": 22,
      "outputs": [
        {
          "output_type": "execute_result",
          "data": {
            "text/plain": [
              "((588, 611), (252, 611), (588,), (252,))"
            ]
          },
          "metadata": {
            "tags": []
          },
          "execution_count": 22
        }
      ]
    },
    {
      "cell_type": "code",
      "metadata": {
        "id": "_B64Xcd9WGOI",
        "colab_type": "code",
        "colab": {}
      },
      "source": [
        "from sklearn.metrics import  make_scorer\n",
        "from sklearn.model_selection import GridSearchCV\n",
        "from sklearn import metrics\n",
        "\n",
        "\n",
        "def mse(y, y_pred):\n",
        "    return np.mean((y_pred - y)**2) \n",
        "\n",
        "mse_scorer = make_scorer(mse, greater_is_better=False)"
      ],
      "execution_count": 0,
      "outputs": []
    },
    {
      "cell_type": "markdown",
      "metadata": {
        "id": "4AUF1Kr0WGYz",
        "colab_type": "text"
      },
      "source": [
        "## Building Random Model(For Worst case MSE)"
      ]
    },
    {
      "cell_type": "code",
      "metadata": {
        "id": "ddd_9K1PV0L5",
        "colab_type": "code",
        "outputId": "620555ac-3fd9-4df4-8c04-c3b7c0ffc9e3",
        "colab": {
          "base_uri": "https://localhost:8080/",
          "height": 33
        }
      },
      "source": [
        "import random\n",
        "\n",
        "rand_pred= np.zeros(y_test.shape[0])\n",
        "for i in range(y_test.shape[0]):\n",
        "    rand_probs = round(random.uniform(1.0, 5.0),2)\n",
        "    rand_pred[i] = rand_probs\n",
        "\n",
        "mse(y_test, rand_pred)"
      ],
      "execution_count": 24,
      "outputs": [
        {
          "output_type": "execute_result",
          "data": {
            "text/plain": [
              "2.9148301587301573"
            ]
          },
          "metadata": {
            "tags": []
          },
          "execution_count": 24
        }
      ]
    },
    {
      "cell_type": "markdown",
      "metadata": {
        "id": "r2gwCT0lWaF1",
        "colab_type": "text"
      },
      "source": [
        "Here we can see that random model provide 2.53 MSE value. We can take this as a cut off. Any model which has MSE less than random model is considered as better model."
      ]
    },
    {
      "cell_type": "markdown",
      "metadata": {
        "id": "-rOs9-yEWdVG",
        "colab_type": "text"
      },
      "source": [
        "## Model -1 Linear Regression"
      ]
    },
    {
      "cell_type": "code",
      "metadata": {
        "id": "drN5Xgz7WPhZ",
        "colab_type": "code",
        "outputId": "2c4dfc01-f15b-47cd-e620-7197b7d98e7b",
        "colab": {
          "base_uri": "https://localhost:8080/",
          "height": 33
        }
      },
      "source": [
        "from sklearn.linear_model import LinearRegression\n",
        "lr = LinearRegression()\n",
        "lr.fit(X_train,y_train)\n",
        "y_pred_lr = lr.predict(X_test)\n",
        "\n",
        "mse(y_test, y_pred_lr)"
      ],
      "execution_count": 25,
      "outputs": [
        {
          "output_type": "execute_result",
          "data": {
            "text/plain": [
              "1.1258757460313247"
            ]
          },
          "metadata": {
            "tags": []
          },
          "execution_count": 25
        }
      ]
    },
    {
      "cell_type": "markdown",
      "metadata": {
        "id": "Qzra_WGOZJCT",
        "colab_type": "text"
      },
      "source": [
        "## Model -2 Random Forest Regressor"
      ]
    },
    {
      "cell_type": "code",
      "metadata": {
        "id": "RhCcZhc0WiDT",
        "colab_type": "code",
        "outputId": "2dd4efa2-c8ba-47af-cf14-9026975bb06e",
        "colab": {
          "base_uri": "https://localhost:8080/",
          "height": 33
        }
      },
      "source": [
        "from sklearn.ensemble import RandomForestRegressor\n",
        "\n",
        "rfr = RandomForestRegressor()\n",
        "rfr.fit(X_train,y_train)\n",
        "y_pred_rfr = rfr.predict(X_test)\n",
        "\n",
        "mse(y_test, y_pred_rfr)"
      ],
      "execution_count": 26,
      "outputs": [
        {
          "output_type": "execute_result",
          "data": {
            "text/plain": [
              "0.14153352777777767"
            ]
          },
          "metadata": {
            "tags": []
          },
          "execution_count": 26
        }
      ]
    },
    {
      "cell_type": "markdown",
      "metadata": {
        "id": "4vcgtPCCcW0-",
        "colab_type": "text"
      },
      "source": [
        "### Feature Importance"
      ]
    },
    {
      "cell_type": "code",
      "metadata": {
        "id": "CU9hJl9pcaPL",
        "colab_type": "code",
        "outputId": "2941bf08-c592-4024-bd8f-9a8ef4241122",
        "colab": {
          "base_uri": "https://localhost:8080/",
          "height": 265
        }
      },
      "source": [
        "import matplotlib.pyplot as plt\n",
        "\n",
        "#plot graph of feature importances for better visualization\n",
        "feat_importances = pd.Series(rfr.feature_importances_, index=X_train.columns)\n",
        "feat_importances.nlargest(10).plot(kind='barh')\n",
        "plt.show()"
      ],
      "execution_count": 27,
      "outputs": [
        {
          "output_type": "display_data",
          "data": {
            "image/png": "[encoded data removed]",
            "text/plain": [
              "<Figure size 432x288 with 1 Axes>"
            ]
          },
          "metadata": {
            "tags": [],
            "needs_background": "light"
          }
        }
      ]
    },
    {
      "cell_type": "code",
      "metadata": {
        "id": "kZuV3dLxZKtd",
        "colab_type": "code",
        "outputId": "dfbeac38-e423-4f79-9217-c3b3901a5f13",
        "colab": {
          "base_uri": "https://localhost:8080/",
          "height": 82
        }
      },
      "source": [
        "tuned_parameters = {'n_estimators': [150]}\n",
        "\n",
        "grd_regressor = GridSearchCV(RandomForestRegressor(), tuned_parameters, cv=10, \n",
        "                   n_jobs=-1, verbose=1, scoring=mse_scorer)\n",
        "grd_regressor.fit(X_train, y_train)\n",
        "\n",
        "y_pred_grd = grd_regressor.predict(X_test)\n",
        "\n",
        "mse(y_test, y_pred_grd)"
      ],
      "execution_count": 28,
      "outputs": [
        {
          "output_type": "stream",
          "text": [
            "Fitting 10 folds for each of 1 candidates, totalling 10 fits\n"
          ],
          "name": "stdout"
        },
        {
          "output_type": "stream",
          "text": [
            "[Parallel(n_jobs=-1)]: Using backend LokyBackend with 2 concurrent workers.\n",
            "[Parallel(n_jobs=-1)]: Done  10 out of  10 | elapsed:    8.9s finished\n"
          ],
          "name": "stderr"
        },
        {
          "output_type": "execute_result",
          "data": {
            "text/plain": [
              "0.14094641269841268"
            ]
          },
          "metadata": {
            "tags": []
          },
          "execution_count": 28
        }
      ]
    },
    {
      "cell_type": "markdown",
      "metadata": {
        "id": "L2GSbAtqZ2F6",
        "colab_type": "text"
      },
      "source": [
        "After above experiment we got below result\n",
        "\n",
        "- MSE:  0.04004986221340383 == 50(n_estimators)\n",
        "- MSE:  0.03807506691137555 == 100 (n_estimators)\n",
        "- MSE:  0.0377001297623944 == 150 (n_estimators)\n",
        "- MSE:  0.03828087737268492 ==200(n_estimators)\n",
        "- MSE:  0.03799677087809369 ===500 (n_estimators)\n",
        "\n",
        "Final n_estimators choose 150\n"
      ]
    },
    {
      "cell_type": "markdown",
      "metadata": {
        "id": "eXIdft5Aatwv",
        "colab_type": "text"
      },
      "source": [
        "### Best Parameter Model"
      ]
    },
    {
      "cell_type": "code",
      "metadata": {
        "id": "Q3Ow5uMNZc2C",
        "colab_type": "code",
        "outputId": "1eae241a-fa53-4598-f045-d73dea6fa2d9",
        "colab": {
          "base_uri": "https://localhost:8080/",
          "height": 33
        }
      },
      "source": [
        "\n",
        "rfr = RandomForestRegressor(max_depth=None,n_estimators=150,min_samples_split= 2)\n",
        "rfr.fit(X_train,y_train)\n",
        "y_pred_rfr = rfr.predict(X_test)\n",
        "\n",
        "mse(y_test, y_pred_rfr)"
      ],
      "execution_count": 29,
      "outputs": [
        {
          "output_type": "execute_result",
          "data": {
            "text/plain": [
              "0.1421450246913582"
            ]
          },
          "metadata": {
            "tags": []
          },
          "execution_count": 29
        }
      ]
    },
    {
      "cell_type": "code",
      "metadata": {
        "id": "KzHn0ePuayxv",
        "colab_type": "code",
        "outputId": "b9f388d9-f6f0-4bcc-e23e-9ae6e56712e7",
        "colab": {
          "base_uri": "https://localhost:8080/",
          "height": 391
        }
      },
      "source": [
        "Randpred = pd.DataFrame({ \"actual\": y_test, \"pred\": y_pred_rfr })\n",
        "Randpred"
      ],
      "execution_count": 30,
      "outputs": [
        {
          "output_type": "execute_result",
          "data": {
            "text/html": [
              "<div>\n",
              "<style scoped>\n",
              "    .dataframe tbody tr th:only-of-type {\n",
              "        vertical-align: middle;\n",
              "    }\n",
              "\n",
              "    .dataframe tbody tr th {\n",
              "        vertical-align: top;\n",
              "    }\n",
              "\n",
              "    .dataframe thead th {\n",
              "        text-align: right;\n",
              "    }\n",
              "</style>\n",
              "<table border=\"1\" class=\"dataframe\">\n",
              "  <thead>\n",
              "    <tr style=\"text-align: right;\">\n",
              "      <th></th>\n",
              "      <th>actual</th>\n",
              "      <th>pred</th>\n",
              "    </tr>\n",
              "  </thead>\n",
              "  <tbody>\n",
              "    <tr>\n",
              "      <th>660</th>\n",
              "      <td>0.0</td>\n",
              "      <td>0.000000</td>\n",
              "    </tr>\n",
              "    <tr>\n",
              "      <th>622</th>\n",
              "      <td>3.7</td>\n",
              "      <td>3.753333</td>\n",
              "    </tr>\n",
              "    <tr>\n",
              "      <th>645</th>\n",
              "      <td>0.0</td>\n",
              "      <td>0.000000</td>\n",
              "    </tr>\n",
              "    <tr>\n",
              "      <th>286</th>\n",
              "      <td>3.1</td>\n",
              "      <td>3.037333</td>\n",
              "    </tr>\n",
              "    <tr>\n",
              "      <th>457</th>\n",
              "      <td>2.8</td>\n",
              "      <td>3.636000</td>\n",
              "    </tr>\n",
              "    <tr>\n",
              "      <th>...</th>\n",
              "      <td>...</td>\n",
              "      <td>...</td>\n",
              "    </tr>\n",
              "    <tr>\n",
              "      <th>170</th>\n",
              "      <td>3.2</td>\n",
              "      <td>3.037333</td>\n",
              "    </tr>\n",
              "    <tr>\n",
              "      <th>42</th>\n",
              "      <td>4.0</td>\n",
              "      <td>3.876000</td>\n",
              "    </tr>\n",
              "    <tr>\n",
              "      <th>516</th>\n",
              "      <td>4.1</td>\n",
              "      <td>3.956000</td>\n",
              "    </tr>\n",
              "    <tr>\n",
              "      <th>184</th>\n",
              "      <td>3.2</td>\n",
              "      <td>3.368000</td>\n",
              "    </tr>\n",
              "    <tr>\n",
              "      <th>155</th>\n",
              "      <td>3.7</td>\n",
              "      <td>3.776667</td>\n",
              "    </tr>\n",
              "  </tbody>\n",
              "</table>\n",
              "<p>252 rows × 2 columns</p>\n",
              "</div>"
            ],
            "text/plain": [
              "     actual      pred\n",
              "660     0.0  0.000000\n",
              "622     3.7  3.753333\n",
              "645     0.0  0.000000\n",
              "286     3.1  3.037333\n",
              "457     2.8  3.636000\n",
              "..      ...       ...\n",
              "170     3.2  3.037333\n",
              "42      4.0  3.876000\n",
              "516     4.1  3.956000\n",
              "184     3.2  3.368000\n",
              "155     3.7  3.776667\n",
              "\n",
              "[252 rows x 2 columns]"
            ]
          },
          "metadata": {
            "tags": []
          },
          "execution_count": 30
        }
      ]
    },
    {
      "cell_type": "markdown",
      "metadata": {
        "id": "9upyTwobbvG6",
        "colab_type": "text"
      },
      "source": [
        "### MSE = 0.0377 , It is good Model still can we still improved Model?"
      ]
    },
    {
      "cell_type": "markdown",
      "metadata": {
        "id": "lWW0j9I3i4hx",
        "colab_type": "text"
      },
      "source": [
        "## Model 3: Natural Language Processing\n",
        "\n",
        "### 3.1 NLP on review data"
      ]
    },
    {
      "cell_type": "code",
      "metadata": {
        "id": "Gznv5h3ljBtx",
        "colab_type": "code",
        "colab": {}
      },
      "source": [
        "data_nlp = pd.read_csv('preprocessed_data.csv')\n"
      ],
      "execution_count": 0,
      "outputs": []
    },
    {
      "cell_type": "code",
      "metadata": {
        "id": "kPgRNG2Wny2v",
        "colab_type": "code",
        "colab": {
          "base_uri": "https://localhost:8080/",
          "height": 191
        },
        "outputId": "9fd10007-3340-4716-f281-580b88afee9e"
      },
      "source": [
        "data_nlp.head()"
      ],
      "execution_count": 33,
      "outputs": [
        {
          "output_type": "execute_result",
          "data": {
            "text/html": [
              "<div>\n",
              "<style scoped>\n",
              "    .dataframe tbody tr th:only-of-type {\n",
              "        vertical-align: middle;\n",
              "    }\n",
              "\n",
              "    .dataframe tbody tr th {\n",
              "        vertical-align: top;\n",
              "    }\n",
              "\n",
              "    .dataframe thead th {\n",
              "        text-align: right;\n",
              "    }\n",
              "</style>\n",
              "<table border=\"1\" class=\"dataframe\">\n",
              "  <thead>\n",
              "    <tr style=\"text-align: right;\">\n",
              "      <th></th>\n",
              "      <th>city</th>\n",
              "      <th>average_cost_for_two</th>\n",
              "      <th>has_table_booking</th>\n",
              "      <th>has_online_delivery</th>\n",
              "      <th>is_delivering_now</th>\n",
              "      <th>aggregate_rating</th>\n",
              "      <th>votes</th>\n",
              "      <th>review</th>\n",
              "      <th>word_count</th>\n",
              "    </tr>\n",
              "  </thead>\n",
              "  <tbody>\n",
              "    <tr>\n",
              "      <th>0</th>\n",
              "      <td>Yorkton</td>\n",
              "      <td>25</td>\n",
              "      <td>0</td>\n",
              "      <td>0</td>\n",
              "      <td>0</td>\n",
              "      <td>3.3</td>\n",
              "      <td>26</td>\n",
              "      <td>love arigato sushi best restaurant yorkton alw...</td>\n",
              "      <td>247</td>\n",
              "    </tr>\n",
              "    <tr>\n",
              "      <th>1</th>\n",
              "      <td>Lucknow</td>\n",
              "      <td>800</td>\n",
              "      <td>0</td>\n",
              "      <td>0</td>\n",
              "      <td>0</td>\n",
              "      <td>4.6</td>\n",
              "      <td>567</td>\n",
              "      <td>simply love placeit ideal breakfastlunchdinner...</td>\n",
              "      <td>99</td>\n",
              "    </tr>\n",
              "    <tr>\n",
              "      <th>2</th>\n",
              "      <td>Vernonia</td>\n",
              "      <td>10</td>\n",
              "      <td>0</td>\n",
              "      <td>0</td>\n",
              "      <td>0</td>\n",
              "      <td>4.3</td>\n",
              "      <td>88</td>\n",
              "      <td>delicious theres single dish ive tried blue ho...</td>\n",
              "      <td>55</td>\n",
              "    </tr>\n",
              "    <tr>\n",
              "      <th>3</th>\n",
              "      <td>Mayfield</td>\n",
              "      <td>20</td>\n",
              "      <td>0</td>\n",
              "      <td>0</td>\n",
              "      <td>0</td>\n",
              "      <td>2.9</td>\n",
              "      <td>11</td>\n",
              "      <td>lot food many varieties sushi fresh love many ...</td>\n",
              "      <td>306</td>\n",
              "    </tr>\n",
              "    <tr>\n",
              "      <th>4</th>\n",
              "      <td>Guwahati</td>\n",
              "      <td>400</td>\n",
              "      <td>0</td>\n",
              "      <td>0</td>\n",
              "      <td>0</td>\n",
              "      <td>4.1</td>\n",
              "      <td>377</td>\n",
              "      <td>th avenue cafe always favoriteloved cheesy mea...</td>\n",
              "      <td>48</td>\n",
              "    </tr>\n",
              "  </tbody>\n",
              "</table>\n",
              "</div>"
            ],
            "text/plain": [
              "       city  ...  word_count\n",
              "0   Yorkton  ...         247\n",
              "1   Lucknow  ...          99\n",
              "2  Vernonia  ...          55\n",
              "3  Mayfield  ...         306\n",
              "4  Guwahati  ...          48\n",
              "\n",
              "[5 rows x 9 columns]"
            ]
          },
          "metadata": {
            "tags": []
          },
          "execution_count": 33
        }
      ]
    },
    {
      "cell_type": "code",
      "metadata": {
        "id": "waIhvrxil9iG",
        "colab_type": "code",
        "outputId": "fe385e45-8bea-4b9a-e073-ab79b60e7d7a",
        "colab": {
          "base_uri": "https://localhost:8080/",
          "height": 66
        }
      },
      "source": [
        "\n",
        "y = data_nlp['aggregate_rating']\n",
        "X = data_nlp.drop(['aggregate_rating', 'city', 'average_cost_for_two', 'has_table_booking', 'has_online_delivery', 'is_delivering_now', 'votes','word_count'],axis = 1)\n",
        "\n",
        "\n",
        "# Splitting into x and y into train and test set\n",
        "X_train, x_test, y_train, y_test = train_test_split(X, y, test_size = 0.2, random_state = 42)\n",
        "# Splitting train set into tr and cv set\n",
        "x_tr, x_cv, y_tr, y_cv = train_test_split(X_train, y_train, test_size = 0.2,random_state = 42)\n",
        "\n",
        "x_tr_txt = x_tr['review']\n",
        "x_cv_txt = x_cv['review']\n",
        "x_test_txt = x_test['review']\n",
        "\n",
        "print(x_tr_txt.shape,y_tr.shape )\n",
        "print(x_cv_txt.shape,y_cv.shape )\n",
        "print(x_test_txt.shape,y_test.shape )"
      ],
      "execution_count": 34,
      "outputs": [
        {
          "output_type": "stream",
          "text": [
            "(537,) (537,)\n",
            "(135,) (135,)\n",
            "(168,) (168,)\n"
          ],
          "name": "stdout"
        }
      ]
    },
    {
      "cell_type": "code",
      "metadata": {
        "id": "Zz2noXKHmQ4S",
        "colab_type": "code",
        "outputId": "4df0019b-f40e-4225-a176-1c16aaf63314",
        "colab": {
          "base_uri": "https://localhost:8080/",
          "height": 98
        }
      },
      "source": [
        "count_vect = CountVectorizer(ngram_range=(1,1), min_df=10) #in scikit-learn\n",
        "# train data\n",
        "X_train_bow = count_vect.fit_transform(x_tr_txt)\n",
        "\n",
        "# test data\n",
        "x_cv_bow = count_vect.transform(x_cv_txt)\n",
        "x_test_bow = count_vect.transform(x_test_txt)\n",
        "\n",
        "\n",
        "print('X_train_bow',X_train_bow.shape)\n",
        "print('==='*10)\n",
        "print('x_cv_bow',x_cv_bow.shape)\n",
        "print('==='*10)\n",
        "print('x_test_bow',x_test_bow.shape)"
      ],
      "execution_count": 35,
      "outputs": [
        {
          "output_type": "stream",
          "text": [
            "X_train_bow (537, 856)\n",
            "==============================\n",
            "x_cv_bow (135, 856)\n",
            "==============================\n",
            "x_test_bow (168, 856)\n"
          ],
          "name": "stdout"
        }
      ]
    },
    {
      "cell_type": "markdown",
      "metadata": {
        "id": "Q0YFrI3SnaMy",
        "colab_type": "text"
      },
      "source": [
        "### Linear regression on review"
      ]
    },
    {
      "cell_type": "code",
      "metadata": {
        "id": "Np-NVmgYmSLA",
        "colab_type": "code",
        "outputId": "bcb965a1-7796-41d2-c4a6-b7f70b4dd7a2",
        "colab": {
          "base_uri": "https://localhost:8080/",
          "height": 33
        }
      },
      "source": [
        "from sklearn.linear_model import LinearRegression\n",
        "lr = LinearRegression()\n",
        "lr.fit(X_train_bow,y_tr)\n",
        "y_pred_lr = lr.predict(x_cv_bow)\n",
        "\n",
        "mse(y_cv, y_pred_lr)"
      ],
      "execution_count": 36,
      "outputs": [
        {
          "output_type": "execute_result",
          "data": {
            "text/plain": [
              "13.277268709073342"
            ]
          },
          "metadata": {
            "tags": []
          },
          "execution_count": 36
        }
      ]
    },
    {
      "cell_type": "markdown",
      "metadata": {
        "id": "t10ZmQkwniep",
        "colab_type": "text"
      },
      "source": [
        "### Random Forest on review"
      ]
    },
    {
      "cell_type": "code",
      "metadata": {
        "id": "UDzfElq2ngkH",
        "colab_type": "code",
        "outputId": "d968f3ec-e7da-459a-f483-6e7f15a8d49b",
        "colab": {
          "base_uri": "https://localhost:8080/",
          "height": 33
        }
      },
      "source": [
        "from sklearn.ensemble import RandomForestRegressor\n",
        "\n",
        "rfr = RandomForestRegressor()\n",
        "rfr.fit(X_train_bow,y_tr)\n",
        "y_pred_rfr = rfr.predict(x_cv_bow)\n",
        "\n",
        "mse(y_cv, y_pred_rfr)"
      ],
      "execution_count": 37,
      "outputs": [
        {
          "output_type": "execute_result",
          "data": {
            "text/plain": [
              "1.663500711111111"
            ]
          },
          "metadata": {
            "tags": []
          },
          "execution_count": 37
        }
      ]
    },
    {
      "cell_type": "markdown",
      "metadata": {
        "id": "qQA3xjYnn4-3",
        "colab_type": "text"
      },
      "source": [
        "### LSTM Model"
      ]
    },
    {
      "cell_type": "code",
      "metadata": {
        "id": "jslHm_GcnmIX",
        "colab_type": "code",
        "outputId": "d7489c3c-28f1-4bcf-ee61-8b43eb8d04c1",
        "colab": {
          "base_uri": "https://localhost:8080/",
          "height": 33
        }
      },
      "source": [
        "# \n",
        "X = data_nlp['review']\n",
        "y = data_nlp['aggregate_rating']\n",
        "\n",
        "# split the data set into train and test\n",
        "X_train, x_test, y_train, y_test = train_test_split(X, y, test_size=0.3,random_state=0, shuffle=True)\n",
        "\n",
        "print(X_train.shape, x_test.shape, y_train.shape, y_test.shape)"
      ],
      "execution_count": 38,
      "outputs": [
        {
          "output_type": "stream",
          "text": [
            "(588,) (252,) (588,) (252,)\n"
          ],
          "name": "stdout"
        }
      ]
    },
    {
      "cell_type": "code",
      "metadata": {
        "id": "WIKBW8qvn-c3",
        "colab_type": "code",
        "outputId": "8b64cccb-75c9-4dd8-ec94-da6bda825d81",
        "colab": {
          "base_uri": "https://localhost:8080/",
          "height": 50
        }
      },
      "source": [
        "\n",
        "max_review_length = 600\n",
        "top_words = 10000\n",
        "\n",
        "## pass through tokenizer\n",
        "tk = Tokenizer(lower = True, num_words= top_words)\n",
        "tk.fit_on_texts(X_train)\n",
        "X_train_seq = tk.texts_to_sequences(X_train)\n",
        "\n",
        "## add padding\n",
        "X_train_pad = pad_sequences(X_train_seq, maxlen=max_review_length)\n",
        "X_test_seq = tk.texts_to_sequences(x_test)\n",
        "X_test_pad = pad_sequences(X_test_seq, maxlen=max_review_length)\n",
        "\n",
        "print('train data shape ', X_train_pad.shape)\n",
        "print('test data shape', X_test_pad.shape)"
      ],
      "execution_count": 39,
      "outputs": [
        {
          "output_type": "stream",
          "text": [
            "train data shape  (588, 600)\n",
            "test data shape (252, 600)\n"
          ],
          "name": "stdout"
        }
      ]
    },
    {
      "cell_type": "code",
      "metadata": {
        "id": "JMYCllwBoYw2",
        "colab_type": "code",
        "outputId": "aa19c432-c5c4-4003-b331-3a857b1d9251",
        "colab": {
          "base_uri": "https://localhost:8080/",
          "height": 293
        }
      },
      "source": [
        "# create the model\n",
        "embedding_vecor_length = 256\n",
        "model = Sequential()\n",
        "model.add(Embedding(top_words+1, embedding_vecor_length, input_length=max_review_length))\n",
        "model.add(LSTM(200))  # returns a sequence of vectors of dimension 32\n",
        "model.add(Dropout(0.5))\n",
        "model.add(Dense(1, activation='linear'))\n",
        "model.compile(loss='mean_squared_error', optimizer='adam')\n",
        "print(model.summary())"
      ],
      "execution_count": 40,
      "outputs": [
        {
          "output_type": "stream",
          "text": [
            "Model: \"sequential_1\"\n",
            "_________________________________________________________________\n",
            "Layer (type)                 Output Shape              Param #   \n",
            "=================================================================\n",
            "embedding_1 (Embedding)      (None, 600, 256)          2560256   \n",
            "_________________________________________________________________\n",
            "lstm_1 (LSTM)                (None, 200)               365600    \n",
            "_________________________________________________________________\n",
            "dropout_1 (Dropout)          (None, 200)               0         \n",
            "_________________________________________________________________\n",
            "dense_1 (Dense)              (None, 1)                 201       \n",
            "=================================================================\n",
            "Total params: 2,926,057\n",
            "Trainable params: 2,926,057\n",
            "Non-trainable params: 0\n",
            "_________________________________________________________________\n",
            "None\n"
          ],
          "name": "stdout"
        }
      ]
    },
    {
      "cell_type": "code",
      "metadata": {
        "id": "6PvzLRxeqGUF",
        "colab_type": "code",
        "outputId": "5d03218f-d02e-4d37-fc70-3fcebfb18868",
        "colab": {
          "base_uri": "https://localhost:8080/",
          "height": 683
        }
      },
      "source": [
        "history = model.fit(X_train_pad, y_train, validation_data=(X_test_pad, y_test), \n",
        "                    epochs=20, \n",
        "                    verbose=1\n",
        "                    )"
      ],
      "execution_count": 41,
      "outputs": [
        {
          "output_type": "stream",
          "text": [
            "Train on 588 samples, validate on 252 samples\n",
            "Epoch 1/20\n",
            "588/588 [==============================] - 20s 34ms/step - loss: 4.5421 - val_loss: 1.6911\n",
            "Epoch 2/20\n",
            "588/588 [==============================] - 18s 30ms/step - loss: 1.7364 - val_loss: 1.6310\n",
            "Epoch 3/20\n",
            "588/588 [==============================] - 18s 30ms/step - loss: 1.1149 - val_loss: 1.7189\n",
            "Epoch 4/20\n",
            "588/588 [==============================] - 17s 29ms/step - loss: 0.4545 - val_loss: 1.7837\n",
            "Epoch 5/20\n",
            "588/588 [==============================] - 18s 30ms/step - loss: 0.2750 - val_loss: 1.7644\n",
            "Epoch 6/20\n",
            "588/588 [==============================] - 18s 30ms/step - loss: 0.1977 - val_loss: 1.7289\n",
            "Epoch 7/20\n",
            "588/588 [==============================] - 17s 30ms/step - loss: 0.1944 - val_loss: 1.7976\n",
            "Epoch 8/20\n",
            "588/588 [==============================] - 18s 30ms/step - loss: 0.1724 - val_loss: 1.7694\n",
            "Epoch 9/20\n",
            "588/588 [==============================] - 17s 29ms/step - loss: 0.1782 - val_loss: 1.8158\n",
            "Epoch 10/20\n",
            "588/588 [==============================] - 17s 30ms/step - loss: 0.1616 - val_loss: 1.8489\n",
            "Epoch 11/20\n",
            "588/588 [==============================] - 18s 30ms/step - loss: 0.1461 - val_loss: 1.8033\n",
            "Epoch 12/20\n",
            "588/588 [==============================] - 18s 30ms/step - loss: 0.1374 - val_loss: 1.7969\n",
            "Epoch 13/20\n",
            "588/588 [==============================] - 17s 30ms/step - loss: 0.1506 - val_loss: 1.8785\n",
            "Epoch 14/20\n",
            "588/588 [==============================] - 18s 30ms/step - loss: 0.1344 - val_loss: 1.7504\n",
            "Epoch 15/20\n",
            "588/588 [==============================] - 18s 30ms/step - loss: 0.1237 - val_loss: 1.7814\n",
            "Epoch 16/20\n",
            "588/588 [==============================] - 18s 30ms/step - loss: 0.1187 - val_loss: 1.8088\n",
            "Epoch 17/20\n",
            "588/588 [==============================] - 18s 30ms/step - loss: 0.1055 - val_loss: 1.8122\n",
            "Epoch 18/20\n",
            "588/588 [==============================] - 18s 30ms/step - loss: 0.1172 - val_loss: 1.8394\n",
            "Epoch 19/20\n",
            "588/588 [==============================] - 18s 30ms/step - loss: 0.1045 - val_loss: 1.7949\n",
            "Epoch 20/20\n",
            "588/588 [==============================] - 18s 30ms/step - loss: 0.1148 - val_loss: 1.8492\n"
          ],
          "name": "stdout"
        }
      ]
    },
    {
      "cell_type": "code",
      "metadata": {
        "id": "x1Yf3N8FtqkO",
        "colab_type": "code",
        "colab": {
          "base_uri": "https://localhost:8080/",
          "height": 33
        },
        "outputId": "59ad4d9e-2d60-4983-c4d2-19fbcbdab23b"
      },
      "source": [
        "# evaluate the model\n",
        "train_mse = model.evaluate(X_train_pad, y_train, verbose=0)\n",
        "test_mse = model.evaluate(X_test_pad, y_test, verbose=0)\n",
        "print('Train: %.3f, Test: %.3f' % (train_mse, test_mse))"
      ],
      "execution_count": 42,
      "outputs": [
        {
          "output_type": "stream",
          "text": [
            "Train: 0.034, Test: 1.849\n"
          ],
          "name": "stdout"
        }
      ]
    },
    {
      "cell_type": "code",
      "metadata": {
        "id": "SeX1NCuGtrCd",
        "colab_type": "code",
        "colab": {
          "base_uri": "https://localhost:8080/",
          "height": 281
        },
        "outputId": "64dd8bba-c126-4bb4-edff-59314859cd91"
      },
      "source": [
        "# # plot loss during training\n",
        "\n",
        "plt.title('Loss / Mean Squared Error')\n",
        "plt.plot(history.history['loss'], label='train')\n",
        "plt.plot(history.history['val_loss'], label='test')\n",
        "plt.legend()\n",
        "plt.show()"
      ],
      "execution_count": 43,
      "outputs": [
        {
          "output_type": "display_data",
          "data": {
            "image/png": "[encoded data removed]",
            "text/plain": [
              "<Figure size 432x288 with 1 Axes>"
            ]
          },
          "metadata": {
            "tags": [],
            "needs_background": "light"
          }
        }
      ]
    },
    {
      "cell_type": "markdown",
      "metadata": {
        "id": "W4_WUYbiz71H",
        "colab_type": "text"
      },
      "source": [
        "## Observation\n",
        "\n"
      ]
    },
    {
      "cell_type": "code",
      "metadata": {
        "id": "xpY9De_Xou9k",
        "colab_type": "code",
        "colab": {}
      },
      "source": [
        ""
      ],
      "execution_count": 0,
      "outputs": []
    },
    {
      "cell_type": "markdown",
      "metadata": {
        "id": "3khqKGWPovcQ",
        "colab_type": "text"
      },
      "source": [
        "# **Model Comparision**"
      ]
    },
    {
      "cell_type": "code",
      "metadata": {
        "id": "tTRRnDXooyBF",
        "colab_type": "code",
        "colab": {}
      },
      "source": [
        ""
      ],
      "execution_count": 0,
      "outputs": []
    }
  ]
}