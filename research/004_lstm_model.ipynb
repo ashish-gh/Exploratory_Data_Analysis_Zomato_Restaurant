{
  "nbformat": 4,
  "nbformat_minor": 0,
  "metadata": {
    "colab": {
      "name": "lstm_model.ipynb",
      "provenance": [],
      "collapsed_sections": []
    },
    "kernelspec": {
      "name": "python3",
      "display_name": "Python 3"
    },
    "accelerator": "GPU"
  },
  "cells": [
    {
      "cell_type": "markdown",
      "metadata": {
        "id": "zyxCRDw7d6ff",
        "colab_type": "text"
      },
      "source": [
        "## LSTM Model\n",
        "\n",
        "#### Plan of attack:\n",
        "\n",
        "- Step1 : Merge all numerical features and scale it.\n",
        "\n",
        "- Step2 : We will concate all the feature under one block.\n",
        "\n",
        "- Step3 : pass this blob through NN, let's the output.\n",
        "\n",
        "\n",
        "\n"
      ]
    },
    {
      "cell_type": "code",
      "metadata": {
        "id": "Or2Ruw26eUMZ",
        "colab_type": "code",
        "colab": {}
      },
      "source": [
        "import pandas as pd\n",
        "import numpy as np\n",
        "\n",
        "#%matplotlib notebook\n",
        "%matplotlib inline\n",
        "\n",
        "import warnings\n",
        "warnings.filterwarnings('ignore')\n",
        "\n",
        "from sklearn.model_selection import train_test_split\n",
        "\n",
        "# keras  \n",
        "from keras.preprocessing.text import Tokenizer\n",
        "from keras.preprocessing.sequence import pad_sequences\n",
        "from keras.layers import Input, Embedding, Flatten, LSTM, Dense, Dropout\n",
        "from keras.models import Sequential, Model\n",
        "from keras.utils import plot_model\n",
        "\n",
        "# callback and early stopping\n",
        "from keras.callbacks import EarlyStopping, ModelCheckpoint"
      ],
      "execution_count": 0,
      "outputs": []
    },
    {
      "cell_type": "markdown",
      "metadata": {
        "id": "Jmm98uXGgHY2",
        "colab_type": "text"
      },
      "source": [
        "### Loading word 2 vec model"
      ]
    },
    {
      "cell_type": "code",
      "metadata": {
        "id": "pMyeBxfsgEox",
        "colab_type": "code",
        "colab": {
          "base_uri": "https://localhost:8080/",
          "height": 232
        },
        "outputId": "f911fff7-6f4b-443a-e9f1-c9898f45fe05"
      },
      "source": [
        "\n",
        "!wget -c \"https://s3.amazonaws.com/dl4j-distribution/GoogleNews-vectors-negative300.bin.gz\"\n",
        "# \n",
        "import gensim\n",
        "from gensim import models\n",
        "\n",
        "word2vec = models.KeyedVectors.load_word2vec_format('GoogleNews-vectors-negative300.bin.gz', binary=True)\n",
        "print('Found %s word vectors of word2vec' % len(word2vec.vocab))"
      ],
      "execution_count": 17,
      "outputs": [
        {
          "output_type": "stream",
          "text": [
            "--2020-06-12 07:49:08--  https://s3.amazonaws.com/dl4j-distribution/GoogleNews-vectors-negative300.bin.gz\n",
            "Resolving s3.amazonaws.com (s3.amazonaws.com)... 52.216.241.86\n",
            "Connecting to s3.amazonaws.com (s3.amazonaws.com)|52.216.241.86|:443... connected.\n",
            "HTTP request sent, awaiting response... 200 OK\n",
            "Length: 1647046227 (1.5G) [application/x-gzip]\n",
            "Saving to: ‘GoogleNews-vectors-negative300.bin.gz’\n",
            "\n",
            "GoogleNews-vectors- 100%[===================>]   1.53G  16.2MB/s    in 99s     \n",
            "\n",
            "2020-06-12 07:50:47 (15.9 MB/s) - ‘GoogleNews-vectors-negative300.bin.gz’ saved [1647046227/1647046227]\n",
            "\n",
            "Found 3000000 word vectors of word2vec\n"
          ],
          "name": "stdout"
        }
      ]
    },
    {
      "cell_type": "markdown",
      "metadata": {
        "id": "Q-2KK215eLtI",
        "colab_type": "text"
      },
      "source": [
        "### 1.1 Loading pre-processed data"
      ]
    },
    {
      "cell_type": "code",
      "metadata": {
        "id": "b9s7IcKqehrZ",
        "colab_type": "code",
        "colab": {
          "base_uri": "https://localhost:8080/",
          "height": 357
        },
        "outputId": "25ebe384-fa85-4a2d-d452-d7b8a4781c69"
      },
      "source": [
        "#importing clean text \n",
        "data = pd.read_csv('preprocessed_data.csv')\n",
        "data.head()"
      ],
      "execution_count": 4,
      "outputs": [
        {
          "output_type": "execute_result",
          "data": {
            "text/html": [
              "<div>\n",
              "<style scoped>\n",
              "    .dataframe tbody tr th:only-of-type {\n",
              "        vertical-align: middle;\n",
              "    }\n",
              "\n",
              "    .dataframe tbody tr th {\n",
              "        vertical-align: top;\n",
              "    }\n",
              "\n",
              "    .dataframe thead th {\n",
              "        text-align: right;\n",
              "    }\n",
              "</style>\n",
              "<table border=\"1\" class=\"dataframe\">\n",
              "  <thead>\n",
              "    <tr style=\"text-align: right;\">\n",
              "      <th></th>\n",
              "      <th>city</th>\n",
              "      <th>average_cost_for_two</th>\n",
              "      <th>has_table_booking</th>\n",
              "      <th>has_online_delivery</th>\n",
              "      <th>is_delivering_now</th>\n",
              "      <th>aggregate_rating</th>\n",
              "      <th>votes</th>\n",
              "      <th>review</th>\n",
              "      <th>word_count</th>\n",
              "    </tr>\n",
              "  </thead>\n",
              "  <tbody>\n",
              "    <tr>\n",
              "      <th>0</th>\n",
              "      <td>Yorkton</td>\n",
              "      <td>25</td>\n",
              "      <td>0</td>\n",
              "      <td>0</td>\n",
              "      <td>0</td>\n",
              "      <td>3.3</td>\n",
              "      <td>26</td>\n",
              "      <td>love arigato sushi best restaurant yorkton alw...</td>\n",
              "      <td>247</td>\n",
              "    </tr>\n",
              "    <tr>\n",
              "      <th>1</th>\n",
              "      <td>Lucknow</td>\n",
              "      <td>800</td>\n",
              "      <td>0</td>\n",
              "      <td>0</td>\n",
              "      <td>0</td>\n",
              "      <td>4.6</td>\n",
              "      <td>567</td>\n",
              "      <td>simply love placeit ideal breakfastlunchdinner...</td>\n",
              "      <td>99</td>\n",
              "    </tr>\n",
              "    <tr>\n",
              "      <th>2</th>\n",
              "      <td>Vernonia</td>\n",
              "      <td>10</td>\n",
              "      <td>0</td>\n",
              "      <td>0</td>\n",
              "      <td>0</td>\n",
              "      <td>4.3</td>\n",
              "      <td>88</td>\n",
              "      <td>delicious theres single dish ive tried blue ho...</td>\n",
              "      <td>55</td>\n",
              "    </tr>\n",
              "    <tr>\n",
              "      <th>3</th>\n",
              "      <td>Mayfield</td>\n",
              "      <td>20</td>\n",
              "      <td>0</td>\n",
              "      <td>0</td>\n",
              "      <td>0</td>\n",
              "      <td>2.9</td>\n",
              "      <td>11</td>\n",
              "      <td>lot food many varieties sushi fresh love many ...</td>\n",
              "      <td>306</td>\n",
              "    </tr>\n",
              "    <tr>\n",
              "      <th>4</th>\n",
              "      <td>Guwahati</td>\n",
              "      <td>400</td>\n",
              "      <td>0</td>\n",
              "      <td>0</td>\n",
              "      <td>0</td>\n",
              "      <td>4.1</td>\n",
              "      <td>377</td>\n",
              "      <td>th avenue cafe always favoriteloved cheesy mea...</td>\n",
              "      <td>48</td>\n",
              "    </tr>\n",
              "  </tbody>\n",
              "</table>\n",
              "</div>"
            ],
            "text/plain": [
              "       city  ...  word_count\n",
              "0   Yorkton  ...         247\n",
              "1   Lucknow  ...          99\n",
              "2  Vernonia  ...          55\n",
              "3  Mayfield  ...         306\n",
              "4  Guwahati  ...          48\n",
              "\n",
              "[5 rows x 9 columns]"
            ]
          },
          "metadata": {
            "tags": []
          },
          "execution_count": 4
        }
      ]
    },
    {
      "cell_type": "markdown",
      "metadata": {
        "id": "BZ0_sFPZeujG",
        "colab_type": "text"
      },
      "source": [
        "### 1.2 Seperating target and feature column"
      ]
    },
    {
      "cell_type": "code",
      "metadata": {
        "id": "jSwX-lKaemo8",
        "colab_type": "code",
        "colab": {}
      },
      "source": [
        "# seperating feature and target column\n",
        "y = data_nlp['aggregate_rating']\n",
        "X = data_nlp.drop(['aggregate_rating','city', 'review'],axis = 1)"
      ],
      "execution_count": 0,
      "outputs": []
    },
    {
      "cell_type": "markdown",
      "metadata": {
        "id": "PyTZf_yTfNMI",
        "colab_type": "text"
      },
      "source": [
        "### 2.1 Splitting into train, test and validation set"
      ]
    },
    {
      "cell_type": "code",
      "metadata": {
        "id": "naAGIq3UfJEk",
        "colab_type": "code",
        "colab": {}
      },
      "source": [
        "# Splitting into x and y into train and test set\n",
        "X_train, x_test, y_train, y_test = train_test_split(X, y, test_size = 0.2, random_state = 42)\n",
        "\n",
        "# Splitting train set into tr and cv set\n",
        "x_tr, x_cv, y_tr, y_cv = train_test_split(X_train, y_train, test_size = 0.2,random_state = 42)"
      ],
      "execution_count": 0,
      "outputs": []
    },
    {
      "cell_type": "markdown",
      "metadata": {
        "id": "kDcPVuwte1g_",
        "colab_type": "text"
      },
      "source": [
        "### 2.2 Embedding layer for Numeraical Features"
      ]
    },
    {
      "cell_type": "code",
      "metadata": {
        "id": "Fjy-9bPQeyYe",
        "colab_type": "code",
        "colab": {}
      },
      "source": [
        "## reshape the numerical features to (-1,1)\n",
        "\n",
        "# Train data\n",
        "tr_1 = x_tr['votes'].values.reshape(-1, 1)\n",
        "tr_2 = x_tr['average_cost_for_two'].values.reshape(-1, 1)\n",
        "tr_3 = x_tr['word_count'].values.reshape(-1, 1)\n",
        "tr_4 = x_tr['has_table_booking'].values.reshape(-1, 1)\n",
        "tr_5 = x_tr['has_online_delivery'].values.reshape(-1, 1)\n",
        "tr_6 = x_tr['is_delivering_now'].values.reshape(-1, 1)\n",
        "\n",
        "# CV\n",
        "cv_1 = x_cv['votes'].values.reshape(-1, 1)\n",
        "cv_2 = x_cv['average_cost_for_two'].values.reshape(-1, 1)\n",
        "cv_3 = x_cv['word_count'].values.reshape(-1, 1)\n",
        "cv_4 = x_cv['has_table_booking'].values.reshape(-1, 1)\n",
        "cv_5 = x_cv['has_online_delivery'].values.reshape(-1, 1)\n",
        "cv_6 = x_cv['is_delivering_now'].values.reshape(-1, 1)\n",
        "\n",
        "\n",
        "# Test Data\n",
        "test_1 = x_test['votes'].values.reshape(-1, 1)\n",
        "test_2 = x_test['average_cost_for_two'].values.reshape(-1, 1)\n",
        "test_3 = x_test['word_count'].values.reshape(-1, 1)\n",
        "test_4 = x_test['has_table_booking'].values.reshape(-1, 1)\n",
        "test_5 = x_test['has_online_delivery'].values.reshape(-1, 1)\n",
        "test_6 = x_test['is_delivering_now'].values.reshape(-1, 1)"
      ],
      "execution_count": 0,
      "outputs": []
    },
    {
      "cell_type": "markdown",
      "metadata": {
        "id": "yLGcKo2tfsOt",
        "colab_type": "text"
      },
      "source": [
        "### 2.3 Concate Numerical Feature"
      ]
    },
    {
      "cell_type": "code",
      "metadata": {
        "id": "98iWVufvfk55",
        "colab_type": "code",
        "colab": {}
      },
      "source": [
        "# Train\n",
        "tr_num = np.concatenate((tr_1, tr_2, tr_3, tr_4, tr_5, tr_6), axis = 1)\n",
        "\n",
        "# CV\n",
        "cv_num = np.concatenate((cv_1, cv_2, cv_3 ,cv_4, cv_5, cv_6), axis = 1)\n",
        "\n",
        "# Test\n",
        "test_num = np.concatenate((test_1, test_2, test_3, test_4, test_5, test_6), axis = 1)"
      ],
      "execution_count": 0,
      "outputs": []
    },
    {
      "cell_type": "code",
      "metadata": {
        "id": "6pkXvL7sfxlf",
        "colab_type": "code",
        "colab": {}
      },
      "source": [
        "from sklearn.preprocessing import StandardScaler\n",
        "scaler = StandardScaler()\n",
        "\n",
        "tr_num = scaler.fit_transform(tr_num)\n",
        "\n",
        "# always avoid data leakage\n",
        "cv_num = scaler.transform(cv_num)\n",
        "test_num = scaler.transform(test_num)"
      ],
      "execution_count": 0,
      "outputs": []
    },
    {
      "cell_type": "code",
      "metadata": {
        "id": "D3iDu4NLfzZY",
        "colab_type": "code",
        "colab": {
          "base_uri": "https://localhost:8080/",
          "height": 532
        },
        "outputId": "188e6adc-c895-49e5-9dc2-f37b154e9b1c"
      },
      "source": [
        "inp_num = Input(shape=(6,), name = \"numerical_features\")\n",
        "emb_num = Dense(128, activation = \"relu\")(inp_num)\n",
        "\n",
        "# Dense Layer 1\n",
        "DL1 = Dense(896, activation = 'relu')(emb_num)\n",
        "\n",
        "# Dropout 1\n",
        "DP1 = Dropout(0.5)(DL1)\n",
        "\n",
        "# Output\n",
        "output = Dense(1, activation = 'linear', name= 'model_1_output')(DP1)\n",
        "\n",
        "model1 = Model(inputs =inp_num, outputs = output)\n",
        "\n",
        "plot_model(model1, show_shapes=True,show_layer_names=True, to_file='model1.png')"
      ],
      "execution_count": 15,
      "outputs": [
        {
          "output_type": "execute_result",
          "data": {
            "image/png": "[encoded data removed]",
            "text/plain": [
              "<IPython.core.display.Image object>"
            ]
          },
          "metadata": {
            "tags": []
          },
          "execution_count": 15
        }
      ]
    },
    {
      "cell_type": "code",
      "metadata": {
        "id": "NMK01C5Tf87S",
        "colab_type": "code",
        "colab": {
          "base_uri": "https://localhost:8080/",
          "height": 310
        },
        "outputId": "8c56ee98-6cb1-4102-887e-4ba5f63aea01"
      },
      "source": [
        "model1.summary()"
      ],
      "execution_count": 16,
      "outputs": [
        {
          "output_type": "stream",
          "text": [
            "Model: \"model_1\"\n",
            "_________________________________________________________________\n",
            "Layer (type)                 Output Shape              Param #   \n",
            "=================================================================\n",
            "numerical_features (InputLay (None, 6)                 0         \n",
            "_________________________________________________________________\n",
            "dense_1 (Dense)              (None, 128)               896       \n",
            "_________________________________________________________________\n",
            "dense_2 (Dense)              (None, 896)               115584    \n",
            "_________________________________________________________________\n",
            "dropout_1 (Dropout)          (None, 896)               0         \n",
            "_________________________________________________________________\n",
            "model_1_output (Dense)       (None, 1)                 897       \n",
            "=================================================================\n",
            "Total params: 117,377\n",
            "Trainable params: 117,377\n",
            "Non-trainable params: 0\n",
            "_________________________________________________________________\n"
          ],
          "name": "stdout"
        }
      ]
    },
    {
      "cell_type": "markdown",
      "metadata": {
        "id": "YWbGeTiSgV_Y",
        "colab_type": "text"
      },
      "source": [
        "### Neural network param calculations,\n",
        "\n",
        "\n",
        "\n",
        "at dense_1 layer = (6+1(bias)) * 128 = 896 <br>\n",
        "\n",
        "at dense_18 layer = (128 + 1 (bias) ) * 896 = 115584 <br>\n",
        "at model_1_output = (896+1) * 1 = 897 <br>\n",
        "<br>\n",
        "**Total params adding all = 896 + 115584 + 897 = 117,377**"
      ]
    },
    {
      "cell_type": "code",
      "metadata": {
        "id": "ISMWxIFUgBXD",
        "colab_type": "code",
        "colab": {
          "base_uri": "https://localhost:8080/",
          "height": 118
        },
        "outputId": "e4167fab-b3f4-4e2e-f874-776caaa0f340"
      },
      "source": [
        "\n",
        "# mounting to google drive\n",
        "from google.colab import drive\n",
        "drive.mount('/content/gdrive')\n",
        "\n",
        "# \n",
        "filepath = '/content/gdrive/My Drive/restaurant_rating/lstm_model_2.h5'\n",
        "\n",
        "# \n",
        "es = EarlyStopping(monitor='val_loss', mode='min', verbose=1, patience=5)\n",
        "checkpoint = ModelCheckpoint(filepath, monitor='val_loss', verbose=1, save_best_only=True, mode='min')"
      ],
      "execution_count": 19,
      "outputs": [
        {
          "output_type": "stream",
          "text": [
            "Go to this URL in a browser: https://accounts.google.com/o/oauth2/auth?client_id=947318989803-6bn6qk8qdgf4n4g3pfee6491hc0brc4i.apps.googleusercontent.com&redirect_uri=urn%3aietf%3awg%3aoauth%3a2.0%3aoob&response_type=code&scope=email%20https%3a%2f%2fwww.googleapis.com%2fauth%2fdocs.test%20https%3a%2f%2fwww.googleapis.com%2fauth%2fdrive%20https%3a%2f%2fwww.googleapis.com%2fauth%2fdrive.photos.readonly%20https%3a%2f%2fwww.googleapis.com%2fauth%2fpeopleapi.readonly\n",
            "\n",
            "Enter your authorization code:\n",
            "··········\n",
            "Mounted at /content/gdrive\n"
          ],
          "name": "stdout"
        }
      ]
    },
    {
      "cell_type": "code",
      "metadata": {
        "id": "WvDflMi2hSl3",
        "colab_type": "code",
        "colab": {
          "base_uri": "https://localhost:8080/",
          "height": 655
        },
        "outputId": "605d1f65-7512-471b-c65c-6f6fe6b229eb"
      },
      "source": [
        "model1.compile(optimizer = 'adam', loss = 'mean_squared_error')\n",
        "history_1 = model1.fit(tr_num, y_tr, \n",
        "                       batch_size = 512,\n",
        "                       epochs = 20, \n",
        "                       validation_data = (cv_num, y_cv), \n",
        "                       verbose = 1, \n",
        "                       callbacks = [es, checkpoint])"
      ],
      "execution_count": 20,
      "outputs": [
        {
          "output_type": "stream",
          "text": [
            "Train on 537 samples, validate on 135 samples\n",
            "Epoch 1/20\n",
            "537/537 [==============================] - 2s 3ms/step - loss: 10.8907 - val_loss: 7.5176\n",
            "\n",
            "Epoch 00001: val_loss improved from inf to 7.51757, saving model to /content/gdrive/My Drive/restaurant_rating/lstm_model_2.h5\n",
            "Epoch 2/20\n",
            "537/537 [==============================] - 0s 24us/step - loss: 7.8571 - val_loss: 5.5657\n",
            "\n",
            "Epoch 00002: val_loss improved from 7.51757 to 5.56574, saving model to /content/gdrive/My Drive/restaurant_rating/lstm_model_2.h5\n",
            "Epoch 3/20\n",
            "537/537 [==============================] - 0s 23us/step - loss: 5.8537 - val_loss: 4.5490\n",
            "\n",
            "Epoch 00003: val_loss improved from 5.56574 to 4.54903, saving model to /content/gdrive/My Drive/restaurant_rating/lstm_model_2.h5\n",
            "Epoch 4/20\n",
            "537/537 [==============================] - 0s 26us/step - loss: 4.4838 - val_loss: 4.3647\n",
            "\n",
            "Epoch 00004: val_loss improved from 4.54903 to 4.36468, saving model to /content/gdrive/My Drive/restaurant_rating/lstm_model_2.h5\n",
            "Epoch 5/20\n",
            "537/537 [==============================] - 0s 23us/step - loss: 3.5215 - val_loss: 4.8691\n",
            "\n",
            "Epoch 00005: val_loss did not improve from 4.36468\n",
            "Epoch 6/20\n",
            "537/537 [==============================] - 0s 31us/step - loss: 3.5555 - val_loss: 5.5559\n",
            "\n",
            "Epoch 00006: val_loss did not improve from 4.36468\n",
            "Epoch 7/20\n",
            "537/537 [==============================] - 0s 28us/step - loss: 3.8678 - val_loss: 5.8161\n",
            "\n",
            "Epoch 00007: val_loss did not improve from 4.36468\n",
            "Epoch 8/20\n",
            "537/537 [==============================] - 0s 31us/step - loss: 4.0326 - val_loss: 5.5016\n",
            "\n",
            "Epoch 00008: val_loss did not improve from 4.36468\n",
            "Epoch 9/20\n",
            "537/537 [==============================] - 0s 26us/step - loss: 4.0132 - val_loss: 4.8242\n",
            "\n",
            "Epoch 00009: val_loss did not improve from 4.36468\n",
            "Epoch 00009: early stopping\n"
          ],
          "name": "stdout"
        }
      ]
    },
    {
      "cell_type": "code",
      "metadata": {
        "id": "eEp3ED32hnAZ",
        "colab_type": "code",
        "colab": {
          "base_uri": "https://localhost:8080/",
          "height": 281
        },
        "outputId": "08dec9dc-466a-4319-abcc-95d69e055f18"
      },
      "source": [
        "from matplotlib import pyplot\n",
        "\n",
        "# plot loss during training\n",
        "pyplot.title('Loss / Mean Squared Error')\n",
        "pyplot.plot(history_1.history['loss'], label='train')\n",
        "pyplot.plot(history_1.history['val_loss'], label='test')\n",
        "pyplot.legend()\n",
        "pyplot.show()"
      ],
      "execution_count": 21,
      "outputs": [
        {
          "output_type": "display_data",
          "data": {
            "image/png": "[encoded data removed]",
            "text/plain": [
              "<Figure size 432x288 with 1 Axes>"
            ]
          },
          "metadata": {
            "tags": [],
            "needs_background": "light"
          }
        }
      ]
    },
    {
      "cell_type": "code",
      "metadata": {
        "id": "ST8CzYnIhrs2",
        "colab_type": "code",
        "colab": {
          "base_uri": "https://localhost:8080/",
          "height": 33
        },
        "outputId": "7ea00f0b-5e10-46cd-d228-5ae0257c7357"
      },
      "source": [
        "# evaluate the model\n",
        "train_mse = model1.evaluate(tr_num, y_tr, verbose=0)\n",
        "cv_mse = model1.evaluate(cv_num, y_cv, verbose=0)\n",
        "test_mse = model1.evaluate(test_num, y_test, verbose=0)\n",
        "print('Train: %.3f,CV: %.3f, Test: %.3f' % (train_mse, cv_mse,test_mse))"
      ],
      "execution_count": 23,
      "outputs": [
        {
          "output_type": "stream",
          "text": [
            "Train: 3.463,CV: 4.824, Test: 2.467\n"
          ],
          "name": "stdout"
        }
      ]
    },
    {
      "cell_type": "markdown",
      "metadata": {
        "id": "r0CT-jzVh1Uv",
        "colab_type": "text"
      },
      "source": [
        "## Observation"
      ]
    },
    {
      "cell_type": "code",
      "metadata": {
        "id": "bQlzmfeKhtGi",
        "colab_type": "code",
        "colab": {}
      },
      "source": [
        "y_pred_lstm = model1.predict(test_num)\n",
        "y_pred_lstm = y_pred_lstm.flatten()"
      ],
      "execution_count": 0,
      "outputs": []
    },
    {
      "cell_type": "code",
      "metadata": {
        "id": "oScLN3inh7fs",
        "colab_type": "code",
        "colab": {
          "base_uri": "https://localhost:8080/",
          "height": 391
        },
        "outputId": "240a92f1-ca3f-44b4-8419-43d379e99da3"
      },
      "source": [
        "nnpred = pd.DataFrame({ \"actual\": y_test, \"pred\": y_pred_lstm })\n",
        "nnpred"
      ],
      "execution_count": 25,
      "outputs": [
        {
          "output_type": "execute_result",
          "data": {
            "text/html": [
              "<div>\n",
              "<style scoped>\n",
              "    .dataframe tbody tr th:only-of-type {\n",
              "        vertical-align: middle;\n",
              "    }\n",
              "\n",
              "    .dataframe tbody tr th {\n",
              "        vertical-align: top;\n",
              "    }\n",
              "\n",
              "    .dataframe thead th {\n",
              "        text-align: right;\n",
              "    }\n",
              "</style>\n",
              "<table border=\"1\" class=\"dataframe\">\n",
              "  <thead>\n",
              "    <tr style=\"text-align: right;\">\n",
              "      <th></th>\n",
              "      <th>actual</th>\n",
              "      <th>pred</th>\n",
              "    </tr>\n",
              "  </thead>\n",
              "  <tbody>\n",
              "    <tr>\n",
              "      <th>695</th>\n",
              "      <td>0.0</td>\n",
              "      <td>3.846650</td>\n",
              "    </tr>\n",
              "    <tr>\n",
              "      <th>816</th>\n",
              "      <td>3.7</td>\n",
              "      <td>3.922596</td>\n",
              "    </tr>\n",
              "    <tr>\n",
              "      <th>30</th>\n",
              "      <td>4.6</td>\n",
              "      <td>2.977377</td>\n",
              "    </tr>\n",
              "    <tr>\n",
              "      <th>599</th>\n",
              "      <td>0.0</td>\n",
              "      <td>2.601082</td>\n",
              "    </tr>\n",
              "    <tr>\n",
              "      <th>96</th>\n",
              "      <td>3.5</td>\n",
              "      <td>4.436348</td>\n",
              "    </tr>\n",
              "    <tr>\n",
              "      <th>...</th>\n",
              "      <td>...</td>\n",
              "      <td>...</td>\n",
              "    </tr>\n",
              "    <tr>\n",
              "      <th>422</th>\n",
              "      <td>4.0</td>\n",
              "      <td>4.064436</td>\n",
              "    </tr>\n",
              "    <tr>\n",
              "      <th>687</th>\n",
              "      <td>3.4</td>\n",
              "      <td>2.979033</td>\n",
              "    </tr>\n",
              "    <tr>\n",
              "      <th>218</th>\n",
              "      <td>3.8</td>\n",
              "      <td>4.358667</td>\n",
              "    </tr>\n",
              "    <tr>\n",
              "      <th>706</th>\n",
              "      <td>0.0</td>\n",
              "      <td>2.715942</td>\n",
              "    </tr>\n",
              "    <tr>\n",
              "      <th>798</th>\n",
              "      <td>3.6</td>\n",
              "      <td>4.448041</td>\n",
              "    </tr>\n",
              "  </tbody>\n",
              "</table>\n",
              "<p>168 rows × 2 columns</p>\n",
              "</div>"
            ],
            "text/plain": [
              "     actual      pred\n",
              "695     0.0  3.846650\n",
              "816     3.7  3.922596\n",
              "30      4.6  2.977377\n",
              "599     0.0  2.601082\n",
              "96      3.5  4.436348\n",
              "..      ...       ...\n",
              "422     4.0  4.064436\n",
              "687     3.4  2.979033\n",
              "218     3.8  4.358667\n",
              "706     0.0  2.715942\n",
              "798     3.6  4.448041\n",
              "\n",
              "[168 rows x 2 columns]"
            ]
          },
          "metadata": {
            "tags": []
          },
          "execution_count": 25
        }
      ]
    },
    {
      "cell_type": "markdown",
      "metadata": {
        "id": "W6duqi7Jib9B",
        "colab_type": "text"
      },
      "source": [
        "# Summary\n",
        "\n",
        "\n"
      ]
    },
    {
      "cell_type": "markdown",
      "metadata": {
        "id": "B-ujXfsEiiq2",
        "colab_type": "text"
      },
      "source": [
        "# References"
      ]
    },
    {
      "cell_type": "code",
      "metadata": {
        "id": "CEaHwXH1ijLl",
        "colab_type": "code",
        "colab": {}
      },
      "source": [
        ""
      ],
      "execution_count": 0,
      "outputs": []
    }
  ]
}